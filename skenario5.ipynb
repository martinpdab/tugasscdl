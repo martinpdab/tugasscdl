{
  "nbformat": 4,
  "nbformat_minor": 0,
  "metadata": {
    "colab": {
      "name": "skenario5.ipynb",
      "provenance": [],
      "authorship_tag": "ABX9TyN/e93WboD+pA1Rzu/2SJOf",
      "include_colab_link": true
    },
    "kernelspec": {
      "name": "python3",
      "display_name": "Python 3"
    },
    "language_info": {
      "name": "python"
    }
  },
  "cells": [
    {
      "cell_type": "markdown",
      "metadata": {
        "id": "view-in-github",
        "colab_type": "text"
      },
      "source": [
        "<a href=\"https://colab.research.google.com/github/martinpdab/tugasscdl/blob/main/skenario5.ipynb\" target=\"_parent\"><img src=\"https://colab.research.google.com/assets/colab-badge.svg\" alt=\"Open In Colab\"/></a>"
      ]
    },
    {
      "cell_type": "code",
      "metadata": {
        "colab": {
          "base_uri": "https://localhost:8080/"
        },
        "id": "wYswe8t8mTQs",
        "outputId": "bbfcb6a7-e7b8-4477-b152-3f6790776265"
      },
      "source": [
        "!pip install sklearn"
      ],
      "execution_count": 1,
      "outputs": [
        {
          "output_type": "stream",
          "text": [
            "Requirement already satisfied: sklearn in /usr/local/lib/python3.7/dist-packages (0.0)\n",
            "Requirement already satisfied: scikit-learn in /usr/local/lib/python3.7/dist-packages (from sklearn) (0.22.2.post1)\n",
            "Requirement already satisfied: scipy>=0.17.0 in /usr/local/lib/python3.7/dist-packages (from scikit-learn->sklearn) (1.4.1)\n",
            "Requirement already satisfied: joblib>=0.11 in /usr/local/lib/python3.7/dist-packages (from scikit-learn->sklearn) (1.0.1)\n",
            "Requirement already satisfied: numpy>=1.11.0 in /usr/local/lib/python3.7/dist-packages (from scikit-learn->sklearn) (1.19.5)\n"
          ],
          "name": "stdout"
        }
      ]
    },
    {
      "cell_type": "code",
      "metadata": {
        "id": "ssyDt-UmnXZ3"
      },
      "source": [
        "import numpy as np\n",
        "import pandas as pd\n",
        "from sklearn.model_selection import  train_test_split\n",
        "from keras.utils.np_utils import to_categorical\n",
        "\n",
        "try:\n",
        "  %tensorflow_version 2.x\n",
        "except Exception:\n",
        "  pass\n",
        "import tensorflow as tf\n",
        "\n",
        "from tensorflow import feature_column\n",
        "from tensorflow.keras import layers\n",
        "from sklearn.utils import shuffle\n",
        "import matplotlib.pyplot as plt\n",
        "import seaborn as sns\n",
        "from sklearn.linear_model import LinearRegression\n",
        "from sklearn.model_selection import train_test_split"
      ],
      "execution_count": 20,
      "outputs": []
    },
    {
      "cell_type": "code",
      "metadata": {
        "colab": {
          "base_uri": "https://localhost:8080/",
          "height": 441
        },
        "id": "S7L-Cqplna44",
        "outputId": "0ab22cba-8edd-4c92-da4f-b45bfc849844"
      },
      "source": [
        "#memakai dataset\n",
        "URL = 'https://raw.githubusercontent.com/martinpdab/tugasscdl/main/data%20fix.csv' \n",
        "dataframe = pd.read_csv(URL)\n",
        "dataframe"
      ],
      "execution_count": 3,
      "outputs": [
        {
          "output_type": "execute_result",
          "data": {
            "text/html": [
              "<div>\n",
              "<style scoped>\n",
              "    .dataframe tbody tr th:only-of-type {\n",
              "        vertical-align: middle;\n",
              "    }\n",
              "\n",
              "    .dataframe tbody tr th {\n",
              "        vertical-align: top;\n",
              "    }\n",
              "\n",
              "    .dataframe thead th {\n",
              "        text-align: right;\n",
              "    }\n",
              "</style>\n",
              "<table border=\"1\" class=\"dataframe\">\n",
              "  <thead>\n",
              "    <tr style=\"text-align: right;\">\n",
              "      <th></th>\n",
              "      <th>Period</th>\n",
              "      <th>TE</th>\n",
              "      <th>HU</th>\n",
              "      <th>RF</th>\n",
              "      <th>WS</th>\n",
              "      <th>PD</th>\n",
              "      <th>ABJ</th>\n",
              "      <th>LAG 0</th>\n",
              "      <th>LAG 1</th>\n",
              "      <th>LAG 2</th>\n",
              "      <th>LAG 3</th>\n",
              "      <th>LAG 4</th>\n",
              "      <th>LAG 5</th>\n",
              "      <th>LAG 6</th>\n",
              "      <th>LAG 7</th>\n",
              "      <th>LAG 8</th>\n",
              "      <th>LAG 9</th>\n",
              "      <th>LAG 10</th>\n",
              "      <th>LAG 11</th>\n",
              "      <th>LAG 12</th>\n",
              "      <th>OS</th>\n",
              "    </tr>\n",
              "  </thead>\n",
              "  <tbody>\n",
              "    <tr>\n",
              "      <th>0</th>\n",
              "      <td>Jan-10</td>\n",
              "      <td>26.02</td>\n",
              "      <td>84.74</td>\n",
              "      <td>10.52</td>\n",
              "      <td>0.84</td>\n",
              "      <td>792.86</td>\n",
              "      <td>86.96</td>\n",
              "      <td>1</td>\n",
              "      <td>4</td>\n",
              "      <td>6</td>\n",
              "      <td>4</td>\n",
              "      <td>4</td>\n",
              "      <td>1</td>\n",
              "      <td>4</td>\n",
              "      <td>3</td>\n",
              "      <td>3</td>\n",
              "      <td>5</td>\n",
              "      <td>2</td>\n",
              "      <td>1</td>\n",
              "      <td>4</td>\n",
              "      <td>0</td>\n",
              "    </tr>\n",
              "    <tr>\n",
              "      <th>1</th>\n",
              "      <td>Feb-10</td>\n",
              "      <td>26.32</td>\n",
              "      <td>84.64</td>\n",
              "      <td>12.04</td>\n",
              "      <td>0.86</td>\n",
              "      <td>793.45</td>\n",
              "      <td>86.72</td>\n",
              "      <td>3</td>\n",
              "      <td>1</td>\n",
              "      <td>4</td>\n",
              "      <td>6</td>\n",
              "      <td>4</td>\n",
              "      <td>4</td>\n",
              "      <td>1</td>\n",
              "      <td>4</td>\n",
              "      <td>3</td>\n",
              "      <td>3</td>\n",
              "      <td>5</td>\n",
              "      <td>2</td>\n",
              "      <td>1</td>\n",
              "      <td>1</td>\n",
              "    </tr>\n",
              "    <tr>\n",
              "      <th>2</th>\n",
              "      <td>Mar-10</td>\n",
              "      <td>26.39</td>\n",
              "      <td>85.00</td>\n",
              "      <td>8.65</td>\n",
              "      <td>0.55</td>\n",
              "      <td>794.04</td>\n",
              "      <td>86.50</td>\n",
              "      <td>0</td>\n",
              "      <td>3</td>\n",
              "      <td>1</td>\n",
              "      <td>4</td>\n",
              "      <td>6</td>\n",
              "      <td>4</td>\n",
              "      <td>4</td>\n",
              "      <td>1</td>\n",
              "      <td>4</td>\n",
              "      <td>3</td>\n",
              "      <td>3</td>\n",
              "      <td>5</td>\n",
              "      <td>2</td>\n",
              "      <td>0</td>\n",
              "    </tr>\n",
              "    <tr>\n",
              "      <th>3</th>\n",
              "      <td>Apr-10</td>\n",
              "      <td>26.29</td>\n",
              "      <td>86.17</td>\n",
              "      <td>10.37</td>\n",
              "      <td>0.30</td>\n",
              "      <td>794.63</td>\n",
              "      <td>86.28</td>\n",
              "      <td>1</td>\n",
              "      <td>0</td>\n",
              "      <td>3</td>\n",
              "      <td>1</td>\n",
              "      <td>4</td>\n",
              "      <td>6</td>\n",
              "      <td>4</td>\n",
              "      <td>4</td>\n",
              "      <td>1</td>\n",
              "      <td>4</td>\n",
              "      <td>3</td>\n",
              "      <td>3</td>\n",
              "      <td>5</td>\n",
              "      <td>0</td>\n",
              "    </tr>\n",
              "    <tr>\n",
              "      <th>4</th>\n",
              "      <td>May-10</td>\n",
              "      <td>26.57</td>\n",
              "      <td>85.61</td>\n",
              "      <td>7.35</td>\n",
              "      <td>0.58</td>\n",
              "      <td>795.22</td>\n",
              "      <td>86.08</td>\n",
              "      <td>0</td>\n",
              "      <td>1</td>\n",
              "      <td>0</td>\n",
              "      <td>3</td>\n",
              "      <td>1</td>\n",
              "      <td>4</td>\n",
              "      <td>6</td>\n",
              "      <td>4</td>\n",
              "      <td>4</td>\n",
              "      <td>1</td>\n",
              "      <td>4</td>\n",
              "      <td>3</td>\n",
              "      <td>3</td>\n",
              "      <td>0</td>\n",
              "    </tr>\n",
              "    <tr>\n",
              "      <th>...</th>\n",
              "      <td>...</td>\n",
              "      <td>...</td>\n",
              "      <td>...</td>\n",
              "      <td>...</td>\n",
              "      <td>...</td>\n",
              "      <td>...</td>\n",
              "      <td>...</td>\n",
              "      <td>...</td>\n",
              "      <td>...</td>\n",
              "      <td>...</td>\n",
              "      <td>...</td>\n",
              "      <td>...</td>\n",
              "      <td>...</td>\n",
              "      <td>...</td>\n",
              "      <td>...</td>\n",
              "      <td>...</td>\n",
              "      <td>...</td>\n",
              "      <td>...</td>\n",
              "      <td>...</td>\n",
              "      <td>...</td>\n",
              "      <td>...</td>\n",
              "    </tr>\n",
              "    <tr>\n",
              "      <th>103</th>\n",
              "      <td>Aug-18</td>\n",
              "      <td>24.27</td>\n",
              "      <td>76.87</td>\n",
              "      <td>0.00</td>\n",
              "      <td>1.39</td>\n",
              "      <td>846.18</td>\n",
              "      <td>96.29</td>\n",
              "      <td>1</td>\n",
              "      <td>4</td>\n",
              "      <td>3</td>\n",
              "      <td>3</td>\n",
              "      <td>5</td>\n",
              "      <td>2</td>\n",
              "      <td>1</td>\n",
              "      <td>4</td>\n",
              "      <td>1</td>\n",
              "      <td>1</td>\n",
              "      <td>1</td>\n",
              "      <td>2</td>\n",
              "      <td>3</td>\n",
              "      <td>0</td>\n",
              "    </tr>\n",
              "    <tr>\n",
              "      <th>104</th>\n",
              "      <td>Sep-18</td>\n",
              "      <td>25.50</td>\n",
              "      <td>75.73</td>\n",
              "      <td>0.59</td>\n",
              "      <td>1.03</td>\n",
              "      <td>846.59</td>\n",
              "      <td>93.34</td>\n",
              "      <td>4</td>\n",
              "      <td>1</td>\n",
              "      <td>4</td>\n",
              "      <td>3</td>\n",
              "      <td>3</td>\n",
              "      <td>5</td>\n",
              "      <td>2</td>\n",
              "      <td>1</td>\n",
              "      <td>4</td>\n",
              "      <td>1</td>\n",
              "      <td>1</td>\n",
              "      <td>1</td>\n",
              "      <td>2</td>\n",
              "      <td>1</td>\n",
              "    </tr>\n",
              "    <tr>\n",
              "      <th>105</th>\n",
              "      <td>Oct-18</td>\n",
              "      <td>26.58</td>\n",
              "      <td>74.94</td>\n",
              "      <td>0.04</td>\n",
              "      <td>1.39</td>\n",
              "      <td>847.01</td>\n",
              "      <td>96.10</td>\n",
              "      <td>4</td>\n",
              "      <td>4</td>\n",
              "      <td>1</td>\n",
              "      <td>4</td>\n",
              "      <td>3</td>\n",
              "      <td>3</td>\n",
              "      <td>5</td>\n",
              "      <td>2</td>\n",
              "      <td>1</td>\n",
              "      <td>4</td>\n",
              "      <td>1</td>\n",
              "      <td>1</td>\n",
              "      <td>1</td>\n",
              "      <td>1</td>\n",
              "    </tr>\n",
              "    <tr>\n",
              "      <th>106</th>\n",
              "      <td>Nov-18</td>\n",
              "      <td>26.49</td>\n",
              "      <td>82.28</td>\n",
              "      <td>10.53</td>\n",
              "      <td>1.00</td>\n",
              "      <td>847.42</td>\n",
              "      <td>96.38</td>\n",
              "      <td>6</td>\n",
              "      <td>4</td>\n",
              "      <td>4</td>\n",
              "      <td>1</td>\n",
              "      <td>4</td>\n",
              "      <td>3</td>\n",
              "      <td>3</td>\n",
              "      <td>5</td>\n",
              "      <td>2</td>\n",
              "      <td>1</td>\n",
              "      <td>4</td>\n",
              "      <td>1</td>\n",
              "      <td>1</td>\n",
              "      <td>1</td>\n",
              "    </tr>\n",
              "    <tr>\n",
              "      <th>107</th>\n",
              "      <td>Dec-18</td>\n",
              "      <td>26.14</td>\n",
              "      <td>85.45</td>\n",
              "      <td>10.41</td>\n",
              "      <td>0.87</td>\n",
              "      <td>847.84</td>\n",
              "      <td>95.35</td>\n",
              "      <td>4</td>\n",
              "      <td>6</td>\n",
              "      <td>4</td>\n",
              "      <td>4</td>\n",
              "      <td>1</td>\n",
              "      <td>4</td>\n",
              "      <td>3</td>\n",
              "      <td>3</td>\n",
              "      <td>5</td>\n",
              "      <td>2</td>\n",
              "      <td>1</td>\n",
              "      <td>4</td>\n",
              "      <td>1</td>\n",
              "      <td>1</td>\n",
              "    </tr>\n",
              "  </tbody>\n",
              "</table>\n",
              "<p>108 rows × 21 columns</p>\n",
              "</div>"
            ],
            "text/plain": [
              "     Period     TE     HU     RF    WS  ...  LAG 9  LAG 10  LAG 11  LAG 12  OS\n",
              "0    Jan-10  26.02  84.74  10.52  0.84  ...      5       2       1       4   0\n",
              "1    Feb-10  26.32  84.64  12.04  0.86  ...      3       5       2       1   1\n",
              "2    Mar-10  26.39  85.00   8.65  0.55  ...      3       3       5       2   0\n",
              "3    Apr-10  26.29  86.17  10.37  0.30  ...      4       3       3       5   0\n",
              "4    May-10  26.57  85.61   7.35  0.58  ...      1       4       3       3   0\n",
              "..      ...    ...    ...    ...   ...  ...    ...     ...     ...     ...  ..\n",
              "103  Aug-18  24.27  76.87   0.00  1.39  ...      1       1       2       3   0\n",
              "104  Sep-18  25.50  75.73   0.59  1.03  ...      1       1       1       2   1\n",
              "105  Oct-18  26.58  74.94   0.04  1.39  ...      4       1       1       1   1\n",
              "106  Nov-18  26.49  82.28  10.53  1.00  ...      1       4       1       1   1\n",
              "107  Dec-18  26.14  85.45  10.41  0.87  ...      2       1       4       1   1\n",
              "\n",
              "[108 rows x 21 columns]"
            ]
          },
          "metadata": {
            "tags": []
          },
          "execution_count": 3
        }
      ]
    },
    {
      "cell_type": "code",
      "metadata": {
        "colab": {
          "base_uri": "https://localhost:8080/",
          "height": 206
        },
        "id": "4brS07ETG9Jm",
        "outputId": "b03f86f8-79de-4ed6-db75-3b7a928b7759"
      },
      "source": [
        "#mengambil kolom period, rf, dan os serta mengacak dataset\n",
        "data = dataframe[['Period', 'RF', 'OS']]\n",
        "data = shuffle(data)\n",
        "data.head()"
      ],
      "execution_count": 11,
      "outputs": [
        {
          "output_type": "execute_result",
          "data": {
            "text/html": [
              "<div>\n",
              "<style scoped>\n",
              "    .dataframe tbody tr th:only-of-type {\n",
              "        vertical-align: middle;\n",
              "    }\n",
              "\n",
              "    .dataframe tbody tr th {\n",
              "        vertical-align: top;\n",
              "    }\n",
              "\n",
              "    .dataframe thead th {\n",
              "        text-align: right;\n",
              "    }\n",
              "</style>\n",
              "<table border=\"1\" class=\"dataframe\">\n",
              "  <thead>\n",
              "    <tr style=\"text-align: right;\">\n",
              "      <th></th>\n",
              "      <th>Period</th>\n",
              "      <th>RF</th>\n",
              "      <th>OS</th>\n",
              "    </tr>\n",
              "  </thead>\n",
              "  <tbody>\n",
              "    <tr>\n",
              "      <th>96</th>\n",
              "      <td>Jan-18</td>\n",
              "      <td>9.83</td>\n",
              "      <td>1</td>\n",
              "    </tr>\n",
              "    <tr>\n",
              "      <th>97</th>\n",
              "      <td>Feb-18</td>\n",
              "      <td>13.44</td>\n",
              "      <td>0</td>\n",
              "    </tr>\n",
              "    <tr>\n",
              "      <th>46</th>\n",
              "      <td>Nov-13</td>\n",
              "      <td>9.20</td>\n",
              "      <td>0</td>\n",
              "    </tr>\n",
              "    <tr>\n",
              "      <th>36</th>\n",
              "      <td>Jan-13</td>\n",
              "      <td>15.03</td>\n",
              "      <td>0</td>\n",
              "    </tr>\n",
              "    <tr>\n",
              "      <th>91</th>\n",
              "      <td>Aug-17</td>\n",
              "      <td>0.40</td>\n",
              "      <td>0</td>\n",
              "    </tr>\n",
              "  </tbody>\n",
              "</table>\n",
              "</div>"
            ],
            "text/plain": [
              "    Period     RF  OS\n",
              "96  Jan-18   9.83   1\n",
              "97  Feb-18  13.44   0\n",
              "46  Nov-13   9.20   0\n",
              "36  Jan-13  15.03   0\n",
              "91  Aug-17   0.40   0"
            ]
          },
          "metadata": {
            "tags": []
          },
          "execution_count": 11
        }
      ]
    },
    {
      "cell_type": "code",
      "metadata": {
        "colab": {
          "base_uri": "https://localhost:8080/"
        },
        "id": "B8ZB5NduI9sN",
        "outputId": "f8970805-dee7-4034-992d-e2f311ab83de"
      },
      "source": [
        "#train-test split 80-20\n",
        "train, test = train_test_split(data, test_size=0.2)\n",
        "print(len(train), 'banyak data train')\n",
        "print(len(test), 'banyak data test')\n",
        "\n",
        "#train-test split 70-30\n",
        "#train, test = train_test_split(data, test_size=0.3)\n",
        "#print(len(train), 'banyak data train')\n",
        "#print(len(test), 'banyak data test')"
      ],
      "execution_count": 13,
      "outputs": [
        {
          "output_type": "stream",
          "text": [
            "86 banyak data train\n",
            "22 banyak data test\n"
          ],
          "name": "stdout"
        }
      ]
    },
    {
      "cell_type": "code",
      "metadata": {
        "colab": {
          "base_uri": "https://localhost:8080/",
          "height": 300
        },
        "id": "M9iGMY6SIkg_",
        "outputId": "ee8caf3d-22e4-4295-ae67-4db68c499a47"
      },
      "source": [
        "data.describe()"
      ],
      "execution_count": 16,
      "outputs": [
        {
          "output_type": "execute_result",
          "data": {
            "text/html": [
              "<div>\n",
              "<style scoped>\n",
              "    .dataframe tbody tr th:only-of-type {\n",
              "        vertical-align: middle;\n",
              "    }\n",
              "\n",
              "    .dataframe tbody tr th {\n",
              "        vertical-align: top;\n",
              "    }\n",
              "\n",
              "    .dataframe thead th {\n",
              "        text-align: right;\n",
              "    }\n",
              "</style>\n",
              "<table border=\"1\" class=\"dataframe\">\n",
              "  <thead>\n",
              "    <tr style=\"text-align: right;\">\n",
              "      <th></th>\n",
              "      <th>RF</th>\n",
              "      <th>OS</th>\n",
              "    </tr>\n",
              "  </thead>\n",
              "  <tbody>\n",
              "    <tr>\n",
              "      <th>count</th>\n",
              "      <td>108.000000</td>\n",
              "      <td>108.000000</td>\n",
              "    </tr>\n",
              "    <tr>\n",
              "      <th>mean</th>\n",
              "      <td>8.011878</td>\n",
              "      <td>0.268519</td>\n",
              "    </tr>\n",
              "    <tr>\n",
              "      <th>std</th>\n",
              "      <td>5.812471</td>\n",
              "      <td>0.445255</td>\n",
              "    </tr>\n",
              "    <tr>\n",
              "      <th>min</th>\n",
              "      <td>0.000000</td>\n",
              "      <td>0.000000</td>\n",
              "    </tr>\n",
              "    <tr>\n",
              "      <th>25%</th>\n",
              "      <td>2.830000</td>\n",
              "      <td>0.000000</td>\n",
              "    </tr>\n",
              "    <tr>\n",
              "      <th>50%</th>\n",
              "      <td>8.410000</td>\n",
              "      <td>0.000000</td>\n",
              "    </tr>\n",
              "    <tr>\n",
              "      <th>75%</th>\n",
              "      <td>11.920000</td>\n",
              "      <td>1.000000</td>\n",
              "    </tr>\n",
              "    <tr>\n",
              "      <th>max</th>\n",
              "      <td>26.540000</td>\n",
              "      <td>1.000000</td>\n",
              "    </tr>\n",
              "  </tbody>\n",
              "</table>\n",
              "</div>"
            ],
            "text/plain": [
              "               RF          OS\n",
              "count  108.000000  108.000000\n",
              "mean     8.011878    0.268519\n",
              "std      5.812471    0.445255\n",
              "min      0.000000    0.000000\n",
              "25%      2.830000    0.000000\n",
              "50%      8.410000    0.000000\n",
              "75%     11.920000    1.000000\n",
              "max     26.540000    1.000000"
            ]
          },
          "metadata": {
            "tags": []
          },
          "execution_count": 16
        }
      ]
    },
    {
      "cell_type": "code",
      "metadata": {
        "id": "nAk1yZ4zM6AA"
      },
      "source": [
        ""
      ],
      "execution_count": null,
      "outputs": []
    },
    {
      "cell_type": "code",
      "metadata": {
        "colab": {
          "base_uri": "https://localhost:8080/"
        },
        "id": "LdlmboXiKC36",
        "outputId": "1248e088-0aa8-42e4-e840-21e17e03e652"
      },
      "source": [
        "data.isnull().sum()"
      ],
      "execution_count": 17,
      "outputs": [
        {
          "output_type": "execute_result",
          "data": {
            "text/plain": [
              "Period    0\n",
              "RF        0\n",
              "OS        0\n",
              "dtype: int64"
            ]
          },
          "metadata": {
            "tags": []
          },
          "execution_count": 17
        }
      ]
    },
    {
      "cell_type": "code",
      "metadata": {
        "colab": {
          "base_uri": "https://localhost:8080/",
          "height": 334
        },
        "id": "IYnAFQsIKECO",
        "outputId": "6f5578e4-2479-4d3b-b6d6-df862e0972ca"
      },
      "source": [
        "f = plt.figure(figsize=(12,4))\n",
        "f.add_subplot(1,2,1)\n",
        "sns.countplot(data['RF'])\n",
        "f.add_subplot(1,2,2)\n",
        "plt.boxplot(data['RF'])\n",
        "plt.show()"
      ],
      "execution_count": 23,
      "outputs": [
        {
          "output_type": "stream",
          "text": [
            "/usr/local/lib/python3.7/dist-packages/seaborn/_decorators.py:43: FutureWarning: Pass the following variable as a keyword arg: x. From version 0.12, the only valid positional argument will be `data`, and passing other arguments without an explicit keyword will result in an error or misinterpretation.\n",
            "  FutureWarning\n"
          ],
          "name": "stderr"
        },
        {
          "output_type": "display_data",
          "data": {
            "image/png": "[encoded data removed]",
            "text/plain": [
              "<Figure size 864x288 with 2 Axes>"
            ]
          },
          "metadata": {
            "tags": [],
            "needs_background": "light"
          }
        }
      ]
    },
    {
      "cell_type": "code",
      "metadata": {
        "colab": {
          "base_uri": "https://localhost:8080/",
          "height": 265
        },
        "id": "MlC89IB1M7Jj",
        "outputId": "f9933fd3-14c5-4fc4-e56f-d0c541c2f403"
      },
      "source": [
        "plt.scatter(data['RF'], data['OS'])\n",
        "plt.show()"
      ],
      "execution_count": 26,
      "outputs": [
        {
          "output_type": "display_data",
          "data": {
            "image/png": "[encoded data removed]",
            "text/plain": [
              "<Figure size 432x288 with 1 Axes>"
            ]
          },
          "metadata": {
            "tags": [],
            "needs_background": "light"
          }
        }
      ]
    },
    {
      "cell_type": "code",
      "metadata": {
        "id": "g355mS9UNf2k"
      },
      "source": [
        ""
      ],
      "execution_count": null,
      "outputs": []
    }
  ]
}