{
  "nbformat": 4,
  "nbformat_minor": 0,
  "metadata": {
    "colab": {
      "name": "Skenario3.ipynb",
      "provenance": [],
      "authorship_tag": "ABX9TyO1EFSxE4mtXry5rWj6YKF7",
      "include_colab_link": true
    },
    "kernelspec": {
      "name": "python3",
      "display_name": "Python 3"
    },
    "language_info": {
      "name": "python"
    }
  },
  "cells": [
    {
      "cell_type": "markdown",
      "metadata": {
        "id": "view-in-github",
        "colab_type": "text"
      },
      "source": [
        "<a href=\"https://colab.research.google.com/github/martinpdab/tugasscdl/blob/main/Skenario3.ipynb\" target=\"_parent\"><img src=\"https://colab.research.google.com/assets/colab-badge.svg\" alt=\"Open In Colab\"/></a>"
      ]
    },
    {
      "cell_type": "code",
      "metadata": {
        "colab": {
          "base_uri": "https://localhost:8080/"
        },
        "id": "mWwT-vta-n5b",
        "outputId": "69dca636-319a-4451-f6fc-41c33905c273"
      },
      "source": [
        "!pip install sklearn"
      ],
      "execution_count": 1,
      "outputs": [
        {
          "output_type": "stream",
          "text": [
            "Requirement already satisfied: sklearn in /usr/local/lib/python3.7/dist-packages (0.0)\n",
            "Requirement already satisfied: scikit-learn in /usr/local/lib/python3.7/dist-packages (from sklearn) (0.22.2.post1)\n",
            "Requirement already satisfied: joblib>=0.11 in /usr/local/lib/python3.7/dist-packages (from scikit-learn->sklearn) (1.0.1)\n",
            "Requirement already satisfied: numpy>=1.11.0 in /usr/local/lib/python3.7/dist-packages (from scikit-learn->sklearn) (1.19.5)\n",
            "Requirement already satisfied: scipy>=0.17.0 in /usr/local/lib/python3.7/dist-packages (from scikit-learn->sklearn) (1.4.1)\n"
          ],
          "name": "stdout"
        }
      ]
    },
    {
      "cell_type": "code",
      "metadata": {
        "id": "OBrE7Ssp-65C"
      },
      "source": [
        "import numpy as np\n",
        "import pandas as pd\n",
        "\n",
        "try:\n",
        "  # %tensorflow_version only exists in Colab.\n",
        "  %tensorflow_version 2.x\n",
        "except Exception:\n",
        "  pass\n",
        "import tensorflow as tf\n",
        "\n",
        "from tensorflow import feature_column\n",
        "from tensorflow.keras import layers\n",
        "from sklearn.model_selection import train_test_split\n",
        "from sklearn.utils import shuffle"
      ],
      "execution_count": 2,
      "outputs": []
    },
    {
      "cell_type": "code",
      "metadata": {
        "colab": {
          "base_uri": "https://localhost:8080/",
          "height": 424
        },
        "id": "kXW55mHW-8hX",
        "outputId": "d6355e29-beb5-458c-ab34-2d0b09092632"
      },
      "source": [
        "#memakai dataset\n",
        "URL = 'https://raw.githubusercontent.com/martinpdab/tugasscdl/main/data%20fix.csv' \n",
        "dataframe = pd.read_csv(URL)\n",
        "dataframe"
      ],
      "execution_count": 3,
      "outputs": [
        {
          "output_type": "execute_result",
          "data": {
            "text/html": [
              "<div>\n",
              "<style scoped>\n",
              "    .dataframe tbody tr th:only-of-type {\n",
              "        vertical-align: middle;\n",
              "    }\n",
              "\n",
              "    .dataframe tbody tr th {\n",
              "        vertical-align: top;\n",
              "    }\n",
              "\n",
              "    .dataframe thead th {\n",
              "        text-align: right;\n",
              "    }\n",
              "</style>\n",
              "<table border=\"1\" class=\"dataframe\">\n",
              "  <thead>\n",
              "    <tr style=\"text-align: right;\">\n",
              "      <th></th>\n",
              "      <th>Period</th>\n",
              "      <th>TE</th>\n",
              "      <th>HU</th>\n",
              "      <th>RF</th>\n",
              "      <th>WS</th>\n",
              "      <th>PD</th>\n",
              "      <th>ABJ</th>\n",
              "      <th>LAG0</th>\n",
              "      <th>LAG1</th>\n",
              "      <th>LAG2</th>\n",
              "      <th>LAG3</th>\n",
              "      <th>LAG4</th>\n",
              "      <th>LAG5</th>\n",
              "      <th>LAG6</th>\n",
              "      <th>LAG7</th>\n",
              "      <th>LAG8</th>\n",
              "      <th>LAG9</th>\n",
              "      <th>LAG10</th>\n",
              "      <th>LAG11</th>\n",
              "      <th>LAG12</th>\n",
              "      <th>OS</th>\n",
              "    </tr>\n",
              "  </thead>\n",
              "  <tbody>\n",
              "    <tr>\n",
              "      <th>0</th>\n",
              "      <td>Jan-10</td>\n",
              "      <td>26.02</td>\n",
              "      <td>84.74</td>\n",
              "      <td>10.52</td>\n",
              "      <td>0.84</td>\n",
              "      <td>792.86</td>\n",
              "      <td>86.96</td>\n",
              "      <td>1</td>\n",
              "      <td>4</td>\n",
              "      <td>6</td>\n",
              "      <td>4</td>\n",
              "      <td>4</td>\n",
              "      <td>1</td>\n",
              "      <td>4</td>\n",
              "      <td>3</td>\n",
              "      <td>3</td>\n",
              "      <td>5</td>\n",
              "      <td>2</td>\n",
              "      <td>1</td>\n",
              "      <td>4</td>\n",
              "      <td>0</td>\n",
              "    </tr>\n",
              "    <tr>\n",
              "      <th>1</th>\n",
              "      <td>Feb-10</td>\n",
              "      <td>26.32</td>\n",
              "      <td>84.64</td>\n",
              "      <td>12.04</td>\n",
              "      <td>0.86</td>\n",
              "      <td>793.45</td>\n",
              "      <td>86.72</td>\n",
              "      <td>3</td>\n",
              "      <td>1</td>\n",
              "      <td>4</td>\n",
              "      <td>6</td>\n",
              "      <td>4</td>\n",
              "      <td>4</td>\n",
              "      <td>1</td>\n",
              "      <td>4</td>\n",
              "      <td>3</td>\n",
              "      <td>3</td>\n",
              "      <td>5</td>\n",
              "      <td>2</td>\n",
              "      <td>1</td>\n",
              "      <td>1</td>\n",
              "    </tr>\n",
              "    <tr>\n",
              "      <th>2</th>\n",
              "      <td>Mar-10</td>\n",
              "      <td>26.39</td>\n",
              "      <td>85.00</td>\n",
              "      <td>8.65</td>\n",
              "      <td>0.55</td>\n",
              "      <td>794.04</td>\n",
              "      <td>86.50</td>\n",
              "      <td>0</td>\n",
              "      <td>3</td>\n",
              "      <td>1</td>\n",
              "      <td>4</td>\n",
              "      <td>6</td>\n",
              "      <td>4</td>\n",
              "      <td>4</td>\n",
              "      <td>1</td>\n",
              "      <td>4</td>\n",
              "      <td>3</td>\n",
              "      <td>3</td>\n",
              "      <td>5</td>\n",
              "      <td>2</td>\n",
              "      <td>0</td>\n",
              "    </tr>\n",
              "    <tr>\n",
              "      <th>3</th>\n",
              "      <td>Apr-10</td>\n",
              "      <td>26.29</td>\n",
              "      <td>86.17</td>\n",
              "      <td>10.37</td>\n",
              "      <td>0.30</td>\n",
              "      <td>794.63</td>\n",
              "      <td>86.28</td>\n",
              "      <td>1</td>\n",
              "      <td>0</td>\n",
              "      <td>3</td>\n",
              "      <td>1</td>\n",
              "      <td>4</td>\n",
              "      <td>6</td>\n",
              "      <td>4</td>\n",
              "      <td>4</td>\n",
              "      <td>1</td>\n",
              "      <td>4</td>\n",
              "      <td>3</td>\n",
              "      <td>3</td>\n",
              "      <td>5</td>\n",
              "      <td>0</td>\n",
              "    </tr>\n",
              "    <tr>\n",
              "      <th>4</th>\n",
              "      <td>May-10</td>\n",
              "      <td>26.57</td>\n",
              "      <td>85.61</td>\n",
              "      <td>7.35</td>\n",
              "      <td>0.58</td>\n",
              "      <td>795.22</td>\n",
              "      <td>86.08</td>\n",
              "      <td>0</td>\n",
              "      <td>1</td>\n",
              "      <td>0</td>\n",
              "      <td>3</td>\n",
              "      <td>1</td>\n",
              "      <td>4</td>\n",
              "      <td>6</td>\n",
              "      <td>4</td>\n",
              "      <td>4</td>\n",
              "      <td>1</td>\n",
              "      <td>4</td>\n",
              "      <td>3</td>\n",
              "      <td>3</td>\n",
              "      <td>0</td>\n",
              "    </tr>\n",
              "    <tr>\n",
              "      <th>...</th>\n",
              "      <td>...</td>\n",
              "      <td>...</td>\n",
              "      <td>...</td>\n",
              "      <td>...</td>\n",
              "      <td>...</td>\n",
              "      <td>...</td>\n",
              "      <td>...</td>\n",
              "      <td>...</td>\n",
              "      <td>...</td>\n",
              "      <td>...</td>\n",
              "      <td>...</td>\n",
              "      <td>...</td>\n",
              "      <td>...</td>\n",
              "      <td>...</td>\n",
              "      <td>...</td>\n",
              "      <td>...</td>\n",
              "      <td>...</td>\n",
              "      <td>...</td>\n",
              "      <td>...</td>\n",
              "      <td>...</td>\n",
              "      <td>...</td>\n",
              "    </tr>\n",
              "    <tr>\n",
              "      <th>103</th>\n",
              "      <td>Aug-18</td>\n",
              "      <td>24.27</td>\n",
              "      <td>76.87</td>\n",
              "      <td>0.00</td>\n",
              "      <td>1.39</td>\n",
              "      <td>846.18</td>\n",
              "      <td>96.29</td>\n",
              "      <td>1</td>\n",
              "      <td>4</td>\n",
              "      <td>3</td>\n",
              "      <td>3</td>\n",
              "      <td>5</td>\n",
              "      <td>2</td>\n",
              "      <td>1</td>\n",
              "      <td>4</td>\n",
              "      <td>1</td>\n",
              "      <td>1</td>\n",
              "      <td>1</td>\n",
              "      <td>2</td>\n",
              "      <td>3</td>\n",
              "      <td>0</td>\n",
              "    </tr>\n",
              "    <tr>\n",
              "      <th>104</th>\n",
              "      <td>Sep-18</td>\n",
              "      <td>25.50</td>\n",
              "      <td>75.73</td>\n",
              "      <td>0.59</td>\n",
              "      <td>1.03</td>\n",
              "      <td>846.59</td>\n",
              "      <td>93.34</td>\n",
              "      <td>4</td>\n",
              "      <td>1</td>\n",
              "      <td>4</td>\n",
              "      <td>3</td>\n",
              "      <td>3</td>\n",
              "      <td>5</td>\n",
              "      <td>2</td>\n",
              "      <td>1</td>\n",
              "      <td>4</td>\n",
              "      <td>1</td>\n",
              "      <td>1</td>\n",
              "      <td>1</td>\n",
              "      <td>2</td>\n",
              "      <td>1</td>\n",
              "    </tr>\n",
              "    <tr>\n",
              "      <th>105</th>\n",
              "      <td>Oct-18</td>\n",
              "      <td>26.58</td>\n",
              "      <td>74.94</td>\n",
              "      <td>0.04</td>\n",
              "      <td>1.39</td>\n",
              "      <td>847.01</td>\n",
              "      <td>96.10</td>\n",
              "      <td>4</td>\n",
              "      <td>4</td>\n",
              "      <td>1</td>\n",
              "      <td>4</td>\n",
              "      <td>3</td>\n",
              "      <td>3</td>\n",
              "      <td>5</td>\n",
              "      <td>2</td>\n",
              "      <td>1</td>\n",
              "      <td>4</td>\n",
              "      <td>1</td>\n",
              "      <td>1</td>\n",
              "      <td>1</td>\n",
              "      <td>1</td>\n",
              "    </tr>\n",
              "    <tr>\n",
              "      <th>106</th>\n",
              "      <td>Nov-18</td>\n",
              "      <td>26.49</td>\n",
              "      <td>82.28</td>\n",
              "      <td>10.53</td>\n",
              "      <td>1.00</td>\n",
              "      <td>847.42</td>\n",
              "      <td>96.38</td>\n",
              "      <td>6</td>\n",
              "      <td>4</td>\n",
              "      <td>4</td>\n",
              "      <td>1</td>\n",
              "      <td>4</td>\n",
              "      <td>3</td>\n",
              "      <td>3</td>\n",
              "      <td>5</td>\n",
              "      <td>2</td>\n",
              "      <td>1</td>\n",
              "      <td>4</td>\n",
              "      <td>1</td>\n",
              "      <td>1</td>\n",
              "      <td>1</td>\n",
              "    </tr>\n",
              "    <tr>\n",
              "      <th>107</th>\n",
              "      <td>Dec-18</td>\n",
              "      <td>26.14</td>\n",
              "      <td>85.45</td>\n",
              "      <td>10.41</td>\n",
              "      <td>0.87</td>\n",
              "      <td>847.84</td>\n",
              "      <td>95.35</td>\n",
              "      <td>4</td>\n",
              "      <td>6</td>\n",
              "      <td>4</td>\n",
              "      <td>4</td>\n",
              "      <td>1</td>\n",
              "      <td>4</td>\n",
              "      <td>3</td>\n",
              "      <td>3</td>\n",
              "      <td>5</td>\n",
              "      <td>2</td>\n",
              "      <td>1</td>\n",
              "      <td>4</td>\n",
              "      <td>1</td>\n",
              "      <td>1</td>\n",
              "    </tr>\n",
              "  </tbody>\n",
              "</table>\n",
              "<p>108 rows × 21 columns</p>\n",
              "</div>"
            ],
            "text/plain": [
              "     Period     TE     HU     RF    WS  ...  LAG9  LAG10  LAG11  LAG12  OS\n",
              "0    Jan-10  26.02  84.74  10.52  0.84  ...     5      2      1      4   0\n",
              "1    Feb-10  26.32  84.64  12.04  0.86  ...     3      5      2      1   1\n",
              "2    Mar-10  26.39  85.00   8.65  0.55  ...     3      3      5      2   0\n",
              "3    Apr-10  26.29  86.17  10.37  0.30  ...     4      3      3      5   0\n",
              "4    May-10  26.57  85.61   7.35  0.58  ...     1      4      3      3   0\n",
              "..      ...    ...    ...    ...   ...  ...   ...    ...    ...    ...  ..\n",
              "103  Aug-18  24.27  76.87   0.00  1.39  ...     1      1      2      3   0\n",
              "104  Sep-18  25.50  75.73   0.59  1.03  ...     1      1      1      2   1\n",
              "105  Oct-18  26.58  74.94   0.04  1.39  ...     4      1      1      1   1\n",
              "106  Nov-18  26.49  82.28  10.53  1.00  ...     1      4      1      1   1\n",
              "107  Dec-18  26.14  85.45  10.41  0.87  ...     2      1      4      1   1\n",
              "\n",
              "[108 rows x 21 columns]"
            ]
          },
          "metadata": {
            "tags": []
          },
          "execution_count": 3
        }
      ]
    },
    {
      "cell_type": "code",
      "metadata": {
        "colab": {
          "base_uri": "https://localhost:8080/",
          "height": 206
        },
        "id": "1G8Mqj5x_AkE",
        "outputId": "06f726a8-46bd-4dcc-c2dd-89cea37b6249"
      },
      "source": [
        "# mengambil kolom RF, WS, PD, OS dan mengacak dataset\n",
        "data = dataframe[['RF', 'WS', 'PD', 'OS']]\n",
        "data = shuffle(data)\n",
        "data.head()"
      ],
      "execution_count": 4,
      "outputs": [
        {
          "output_type": "execute_result",
          "data": {
            "text/html": [
              "<div>\n",
              "<style scoped>\n",
              "    .dataframe tbody tr th:only-of-type {\n",
              "        vertical-align: middle;\n",
              "    }\n",
              "\n",
              "    .dataframe tbody tr th {\n",
              "        vertical-align: top;\n",
              "    }\n",
              "\n",
              "    .dataframe thead th {\n",
              "        text-align: right;\n",
              "    }\n",
              "</style>\n",
              "<table border=\"1\" class=\"dataframe\">\n",
              "  <thead>\n",
              "    <tr style=\"text-align: right;\">\n",
              "      <th></th>\n",
              "      <th>RF</th>\n",
              "      <th>WS</th>\n",
              "      <th>PD</th>\n",
              "      <th>OS</th>\n",
              "    </tr>\n",
              "  </thead>\n",
              "  <tbody>\n",
              "    <tr>\n",
              "      <th>75</th>\n",
              "      <td>18.42</td>\n",
              "      <td>0.37</td>\n",
              "      <td>834.09</td>\n",
              "      <td>1</td>\n",
              "    </tr>\n",
              "    <tr>\n",
              "      <th>7</th>\n",
              "      <td>3.94</td>\n",
              "      <td>1.68</td>\n",
              "      <td>797.00</td>\n",
              "      <td>0</td>\n",
              "    </tr>\n",
              "    <tr>\n",
              "      <th>38</th>\n",
              "      <td>9.80</td>\n",
              "      <td>0.73</td>\n",
              "      <td>815.16</td>\n",
              "      <td>1</td>\n",
              "    </tr>\n",
              "    <tr>\n",
              "      <th>3</th>\n",
              "      <td>10.37</td>\n",
              "      <td>0.30</td>\n",
              "      <td>794.63</td>\n",
              "      <td>0</td>\n",
              "    </tr>\n",
              "    <tr>\n",
              "      <th>17</th>\n",
              "      <td>0.73</td>\n",
              "      <td>1.87</td>\n",
              "      <td>802.93</td>\n",
              "      <td>0</td>\n",
              "    </tr>\n",
              "  </tbody>\n",
              "</table>\n",
              "</div>"
            ],
            "text/plain": [
              "       RF    WS      PD  OS\n",
              "75  18.42  0.37  834.09   1\n",
              "7    3.94  1.68  797.00   0\n",
              "38   9.80  0.73  815.16   1\n",
              "3   10.37  0.30  794.63   0\n",
              "17   0.73  1.87  802.93   0"
            ]
          },
          "metadata": {
            "tags": []
          },
          "execution_count": 4
        }
      ]
    },
    {
      "cell_type": "code",
      "metadata": {
        "colab": {
          "base_uri": "https://localhost:8080/"
        },
        "id": "1ZxSzeUe_ZGk",
        "outputId": "4a941d44-d7dd-4379-e45d-1a181d4caccd"
      },
      "source": [
        "#train-test split 80-20\n",
        "train, test = train_test_split(data, test_size=0.2)\n",
        "print(len(train), 'banyak data train')\n",
        "print(len(test), 'banyak data test')\n",
        "\n",
        "#train-test split 70-30\n",
        "#train, test = train_test_split(data, test_size=0.3)\n",
        "#print(len(train), 'banyak data train')\n",
        "#print(len(test), 'banyak data test')"
      ],
      "execution_count": 5,
      "outputs": [
        {
          "output_type": "stream",
          "text": [
            "86 banyak data train\n",
            "22 banyak data test\n"
          ],
          "name": "stdout"
        }
      ]
    },
    {
      "cell_type": "code",
      "metadata": {
        "id": "LeCd_LtA_h04"
      },
      "source": [
        "# A utility method to create a tf.data dataset from a Pandas Dataframe\n",
        "def df_to_dataset(data, batch_size=32):\n",
        "  data = data.copy()\n",
        "  labels = data.pop('OS')\n",
        "  ds = tf.data.Dataset.from_tensor_slices((dict(data), labels))\n",
        "  ds = ds.batch(batch_size)\n",
        "  return ds"
      ],
      "execution_count": 6,
      "outputs": []
    },
    {
      "cell_type": "code",
      "metadata": {
        "id": "d_KgvhS__mLy"
      },
      "source": [
        "batch_size = 5 # A small batch sized is used for demonstration purposes\n",
        "train_ds = df_to_dataset(train, batch_size=batch_size)\n",
        "test_ds = df_to_dataset(test, batch_size=batch_size)"
      ],
      "execution_count": 7,
      "outputs": []
    },
    {
      "cell_type": "code",
      "metadata": {
        "colab": {
          "base_uri": "https://localhost:8080/"
        },
        "id": "oLftvdr1_pMu",
        "outputId": "add0f3e1-8f43-4f49-b1a1-e84504191508"
      },
      "source": [
        "for feature_batch, label_batch in train_ds.take(1):\n",
        "  print('Every feature:', list(feature_batch.keys()))\n",
        "  print('RF:', feature_batch['RF'])\n",
        "  print('WS:', feature_batch['WS'])\n",
        "  print('OS:', label_batch)"
      ],
      "execution_count": 8,
      "outputs": [
        {
          "output_type": "stream",
          "text": [
            "Every feature: ['RF', 'WS', 'PD']\n",
            "RF: tf.Tensor([ 2.8  10.37  0.73  1.1  13.45], shape=(5,), dtype=float64)\n",
            "WS: tf.Tensor([0.84 0.3  1.87 1.2  1.42], shape=(5,), dtype=float64)\n",
            "OS: tf.Tensor([1 0 0 0 0], shape=(5,), dtype=int64)\n"
          ],
          "name": "stdout"
        }
      ]
    },
    {
      "cell_type": "code",
      "metadata": {
        "id": "kTYns6qP_2Pt"
      },
      "source": [
        "feature_columns = []\n",
        "\n",
        "for header in ['RF', 'WS', 'PD']:\n",
        "  feature_columns.append(feature_column.numeric_column(header))"
      ],
      "execution_count": 9,
      "outputs": []
    },
    {
      "cell_type": "code",
      "metadata": {
        "colab": {
          "base_uri": "https://localhost:8080/"
        },
        "id": "dSyN_n6hAj6F",
        "outputId": "9e1c7eb9-002a-4cbe-c744-b665b5084962"
      },
      "source": [
        "feature_layer = tf.keras.layers.DenseFeatures(feature_columns)\n",
        "feature_layer"
      ],
      "execution_count": 10,
      "outputs": [
        {
          "output_type": "execute_result",
          "data": {
            "text/plain": [
              "<tensorflow.python.keras.feature_column.dense_features_v2.DenseFeatures at 0x7f959d63b550>"
            ]
          },
          "metadata": {
            "tags": []
          },
          "execution_count": 10
        }
      ]
    },
    {
      "cell_type": "code",
      "metadata": {
        "id": "bnriFrWZA7fK"
      },
      "source": [
        "batch_size = 64\n",
        "train_ds = df_to_dataset(train, batch_size=batch_size)\n",
        "test_ds = df_to_dataset(test, batch_size=batch_size)"
      ],
      "execution_count": 21,
      "outputs": []
    },
    {
      "cell_type": "code",
      "metadata": {
        "colab": {
          "base_uri": "https://localhost:8080/"
        },
        "id": "GPRmYToPA_PS",
        "outputId": "56e14b7c-b65c-4428-ac88-68e3a0a05758"
      },
      "source": [
        "model = tf.keras.Sequential([\n",
        "  feature_layer,\n",
        "  layers.Dense(128, activation='relu'),\n",
        "  layers.Dense(64, activation='relu'),\n",
        "  #layers.Dense(32, activation='relu'),\n",
        "  layers.Dense(1, activation='sigmoid')\n",
        "])\n",
        "\n",
        "model.compile(optimizer='adam',\n",
        "              loss='binary_crossentropy',\n",
        "              metrics=['accuracy'])\n",
        "\n",
        "history = model.fit(train_ds,\n",
        "                validation_data=test_ds,\n",
        "                epochs=75)"
      ],
      "execution_count": 27,
      "outputs": [
        {
          "output_type": "stream",
          "text": [
            "Epoch 1/75\n",
            "WARNING:tensorflow:Layers in a Sequential model should only have a single input tensor, but we receive a <class 'dict'> input: {'RF': <tf.Tensor 'ExpandDims_1:0' shape=(None, 1) dtype=float64>, 'WS': <tf.Tensor 'ExpandDims_2:0' shape=(None, 1) dtype=float64>, 'PD': <tf.Tensor 'ExpandDims:0' shape=(None, 1) dtype=float64>}\n",
            "Consider rewriting this model with the Functional API.\n",
            "WARNING:tensorflow:Layers in a Sequential model should only have a single input tensor, but we receive a <class 'dict'> input: {'RF': <tf.Tensor 'ExpandDims_1:0' shape=(None, 1) dtype=float64>, 'WS': <tf.Tensor 'ExpandDims_2:0' shape=(None, 1) dtype=float64>, 'PD': <tf.Tensor 'ExpandDims:0' shape=(None, 1) dtype=float64>}\n",
            "Consider rewriting this model with the Functional API.\n",
            "1/2 [==============>...............] - ETA: 0s - loss: 28.7778 - accuracy: 0.7500WARNING:tensorflow:Layers in a Sequential model should only have a single input tensor, but we receive a <class 'dict'> input: {'RF': <tf.Tensor 'ExpandDims_1:0' shape=(None, 1) dtype=float64>, 'WS': <tf.Tensor 'ExpandDims_2:0' shape=(None, 1) dtype=float64>, 'PD': <tf.Tensor 'ExpandDims:0' shape=(None, 1) dtype=float64>}\n",
            "Consider rewriting this model with the Functional API.\n",
            "2/2 [==============================] - 1s 127ms/step - loss: 28.4655 - accuracy: 0.7326 - val_loss: 16.3403 - val_accuracy: 0.7273\n",
            "Epoch 2/75\n",
            "2/2 [==============================] - 0s 16ms/step - loss: 14.0048 - accuracy: 0.7326 - val_loss: 2.2506 - val_accuracy: 0.7273\n",
            "Epoch 3/75\n",
            "2/2 [==============================] - 0s 25ms/step - loss: 4.5926 - accuracy: 0.6395 - val_loss: 16.0876 - val_accuracy: 0.2727\n",
            "Epoch 4/75\n",
            "2/2 [==============================] - 0s 16ms/step - loss: 15.2842 - accuracy: 0.2674 - val_loss: 5.0672 - val_accuracy: 0.2727\n",
            "Epoch 5/75\n",
            "2/2 [==============================] - 0s 18ms/step - loss: 4.3962 - accuracy: 0.3605 - val_loss: 4.4949 - val_accuracy: 0.7273\n",
            "Epoch 6/75\n",
            "2/2 [==============================] - 0s 17ms/step - loss: 4.9276 - accuracy: 0.7326 - val_loss: 7.0784 - val_accuracy: 0.7273\n",
            "Epoch 7/75\n",
            "2/2 [==============================] - 0s 16ms/step - loss: 7.0432 - accuracy: 0.7326 - val_loss: 6.8938 - val_accuracy: 0.7273\n",
            "Epoch 8/75\n",
            "2/2 [==============================] - 0s 15ms/step - loss: 6.5429 - accuracy: 0.7326 - val_loss: 4.7312 - val_accuracy: 0.7273\n",
            "Epoch 9/75\n",
            "2/2 [==============================] - 0s 17ms/step - loss: 4.1564 - accuracy: 0.7326 - val_loss: 1.0612 - val_accuracy: 0.7273\n",
            "Epoch 10/75\n",
            "2/2 [==============================] - 0s 24ms/step - loss: 1.5278 - accuracy: 0.6395 - val_loss: 5.2652 - val_accuracy: 0.2727\n",
            "Epoch 11/75\n",
            "2/2 [==============================] - 0s 23ms/step - loss: 4.9679 - accuracy: 0.2674 - val_loss: 0.6565 - val_accuracy: 0.5909\n",
            "Epoch 12/75\n",
            "2/2 [==============================] - 0s 20ms/step - loss: 0.9706 - accuracy: 0.6744 - val_loss: 2.7173 - val_accuracy: 0.7273\n",
            "Epoch 13/75\n",
            "2/2 [==============================] - 0s 17ms/step - loss: 2.8092 - accuracy: 0.7326 - val_loss: 3.2077 - val_accuracy: 0.7273\n",
            "Epoch 14/75\n",
            "2/2 [==============================] - 0s 16ms/step - loss: 3.0135 - accuracy: 0.7326 - val_loss: 1.9174 - val_accuracy: 0.7273\n",
            "Epoch 15/75\n",
            "2/2 [==============================] - 0s 19ms/step - loss: 1.5283 - accuracy: 0.7326 - val_loss: 1.9309 - val_accuracy: 0.2727\n",
            "Epoch 16/75\n",
            "2/2 [==============================] - 0s 16ms/step - loss: 2.1163 - accuracy: 0.2674 - val_loss: 0.8922 - val_accuracy: 0.2727\n",
            "Epoch 17/75\n",
            "2/2 [==============================] - 0s 18ms/step - loss: 0.9807 - accuracy: 0.3605 - val_loss: 1.8100 - val_accuracy: 0.7273\n",
            "Epoch 18/75\n",
            "2/2 [==============================] - 0s 17ms/step - loss: 1.8329 - accuracy: 0.7326 - val_loss: 1.8417 - val_accuracy: 0.7273\n",
            "Epoch 19/75\n",
            "2/2 [==============================] - 0s 19ms/step - loss: 1.6081 - accuracy: 0.7326 - val_loss: 0.5938 - val_accuracy: 0.7273\n",
            "Epoch 20/75\n",
            "2/2 [==============================] - 0s 18ms/step - loss: 0.8619 - accuracy: 0.6279 - val_loss: 1.3666 - val_accuracy: 0.2727\n",
            "Epoch 21/75\n",
            "2/2 [==============================] - 0s 17ms/step - loss: 1.2217 - accuracy: 0.3605 - val_loss: 1.2125 - val_accuracy: 0.7273\n",
            "Epoch 22/75\n",
            "2/2 [==============================] - 0s 16ms/step - loss: 1.2278 - accuracy: 0.7326 - val_loss: 1.1851 - val_accuracy: 0.7273\n",
            "Epoch 23/75\n",
            "2/2 [==============================] - 0s 16ms/step - loss: 0.9882 - accuracy: 0.7326 - val_loss: 0.9889 - val_accuracy: 0.2727\n",
            "Epoch 24/75\n",
            "2/2 [==============================] - 0s 17ms/step - loss: 1.0335 - accuracy: 0.2674 - val_loss: 0.6083 - val_accuracy: 0.7273\n",
            "Epoch 25/75\n",
            "2/2 [==============================] - 0s 18ms/step - loss: 0.6785 - accuracy: 0.7326 - val_loss: 0.9999 - val_accuracy: 0.7273\n",
            "Epoch 26/75\n",
            "2/2 [==============================] - 0s 15ms/step - loss: 0.8805 - accuracy: 0.7326 - val_loss: 0.6479 - val_accuracy: 0.6364\n",
            "Epoch 27/75\n",
            "2/2 [==============================] - 0s 16ms/step - loss: 0.7178 - accuracy: 0.6047 - val_loss: 0.6019 - val_accuracy: 0.6818\n",
            "Epoch 28/75\n",
            "2/2 [==============================] - 0s 19ms/step - loss: 0.6305 - accuracy: 0.7093 - val_loss: 0.8232 - val_accuracy: 0.7273\n",
            "Epoch 29/75\n",
            "2/2 [==============================] - 0s 15ms/step - loss: 0.7351 - accuracy: 0.7326 - val_loss: 0.6480 - val_accuracy: 0.6364\n",
            "Epoch 30/75\n",
            "2/2 [==============================] - 0s 17ms/step - loss: 0.6732 - accuracy: 0.6163 - val_loss: 0.5970 - val_accuracy: 0.7273\n",
            "Epoch 31/75\n",
            "2/2 [==============================] - 0s 17ms/step - loss: 0.6102 - accuracy: 0.7326 - val_loss: 0.7036 - val_accuracy: 0.7273\n",
            "Epoch 32/75\n",
            "2/2 [==============================] - 0s 17ms/step - loss: 0.6372 - accuracy: 0.7442 - val_loss: 0.6749 - val_accuracy: 0.5000\n",
            "Epoch 33/75\n",
            "2/2 [==============================] - 0s 19ms/step - loss: 0.6610 - accuracy: 0.6279 - val_loss: 0.6313 - val_accuracy: 0.7273\n",
            "Epoch 34/75\n",
            "2/2 [==============================] - 0s 19ms/step - loss: 0.6181 - accuracy: 0.7326 - val_loss: 0.6138 - val_accuracy: 0.7273\n",
            "Epoch 35/75\n",
            "2/2 [==============================] - 0s 18ms/step - loss: 0.5914 - accuracy: 0.7209 - val_loss: 0.6264 - val_accuracy: 0.6818\n",
            "Epoch 36/75\n",
            "2/2 [==============================] - 0s 17ms/step - loss: 0.6126 - accuracy: 0.6977 - val_loss: 0.6472 - val_accuracy: 0.7273\n",
            "Epoch 37/75\n",
            "2/2 [==============================] - 0s 17ms/step - loss: 0.6071 - accuracy: 0.7326 - val_loss: 0.6026 - val_accuracy: 0.6818\n",
            "Epoch 38/75\n",
            "2/2 [==============================] - 0s 19ms/step - loss: 0.5958 - accuracy: 0.6860 - val_loss: 0.5971 - val_accuracy: 0.7273\n",
            "Epoch 39/75\n",
            "2/2 [==============================] - 0s 16ms/step - loss: 0.5854 - accuracy: 0.7326 - val_loss: 0.6098 - val_accuracy: 0.7273\n",
            "Epoch 40/75\n",
            "2/2 [==============================] - 0s 17ms/step - loss: 0.5817 - accuracy: 0.7326 - val_loss: 0.6070 - val_accuracy: 0.6364\n",
            "Epoch 41/75\n",
            "2/2 [==============================] - 0s 18ms/step - loss: 0.5927 - accuracy: 0.7209 - val_loss: 0.6154 - val_accuracy: 0.7273\n",
            "Epoch 42/75\n",
            "2/2 [==============================] - 0s 18ms/step - loss: 0.5854 - accuracy: 0.7442 - val_loss: 0.5971 - val_accuracy: 0.6818\n",
            "Epoch 43/75\n",
            "2/2 [==============================] - 0s 18ms/step - loss: 0.5838 - accuracy: 0.7209 - val_loss: 0.5966 - val_accuracy: 0.7273\n",
            "Epoch 44/75\n",
            "2/2 [==============================] - 0s 16ms/step - loss: 0.5796 - accuracy: 0.7326 - val_loss: 0.5975 - val_accuracy: 0.7273\n",
            "Epoch 45/75\n",
            "2/2 [==============================] - 0s 19ms/step - loss: 0.5763 - accuracy: 0.7442 - val_loss: 0.5958 - val_accuracy: 0.6818\n",
            "Epoch 46/75\n",
            "2/2 [==============================] - 0s 18ms/step - loss: 0.5810 - accuracy: 0.7209 - val_loss: 0.6027 - val_accuracy: 0.7273\n",
            "Epoch 47/75\n",
            "2/2 [==============================] - 0s 17ms/step - loss: 0.5770 - accuracy: 0.7442 - val_loss: 0.5960 - val_accuracy: 0.6818\n",
            "Epoch 48/75\n",
            "2/2 [==============================] - 0s 17ms/step - loss: 0.5806 - accuracy: 0.7209 - val_loss: 0.5982 - val_accuracy: 0.7273\n",
            "Epoch 49/75\n",
            "2/2 [==============================] - 0s 19ms/step - loss: 0.5767 - accuracy: 0.7442 - val_loss: 0.5934 - val_accuracy: 0.7273\n",
            "Epoch 50/75\n",
            "2/2 [==============================] - 0s 18ms/step - loss: 0.5764 - accuracy: 0.7326 - val_loss: 0.5937 - val_accuracy: 0.7273\n",
            "Epoch 51/75\n",
            "2/2 [==============================] - 0s 18ms/step - loss: 0.5763 - accuracy: 0.7442 - val_loss: 0.5944 - val_accuracy: 0.7273\n",
            "Epoch 52/75\n",
            "2/2 [==============================] - 0s 20ms/step - loss: 0.5745 - accuracy: 0.7442 - val_loss: 0.5931 - val_accuracy: 0.7273\n",
            "Epoch 53/75\n",
            "2/2 [==============================] - 0s 16ms/step - loss: 0.5769 - accuracy: 0.7326 - val_loss: 0.5953 - val_accuracy: 0.7273\n",
            "Epoch 54/75\n",
            "2/2 [==============================] - 0s 21ms/step - loss: 0.5743 - accuracy: 0.7442 - val_loss: 0.5930 - val_accuracy: 0.7273\n",
            "Epoch 55/75\n",
            "2/2 [==============================] - 0s 19ms/step - loss: 0.5768 - accuracy: 0.7326 - val_loss: 0.5946 - val_accuracy: 0.7273\n",
            "Epoch 56/75\n",
            "2/2 [==============================] - 0s 17ms/step - loss: 0.5744 - accuracy: 0.7442 - val_loss: 0.5925 - val_accuracy: 0.7273\n",
            "Epoch 57/75\n",
            "2/2 [==============================] - 0s 17ms/step - loss: 0.5758 - accuracy: 0.7442 - val_loss: 0.5933 - val_accuracy: 0.7273\n",
            "Epoch 58/75\n",
            "2/2 [==============================] - 0s 19ms/step - loss: 0.5746 - accuracy: 0.7442 - val_loss: 0.5922 - val_accuracy: 0.7273\n",
            "Epoch 59/75\n",
            "2/2 [==============================] - 0s 21ms/step - loss: 0.5748 - accuracy: 0.7442 - val_loss: 0.5924 - val_accuracy: 0.7273\n",
            "Epoch 60/75\n",
            "2/2 [==============================] - 0s 20ms/step - loss: 0.5748 - accuracy: 0.7442 - val_loss: 0.5921 - val_accuracy: 0.7273\n",
            "Epoch 61/75\n",
            "2/2 [==============================] - 0s 19ms/step - loss: 0.5743 - accuracy: 0.7442 - val_loss: 0.5919 - val_accuracy: 0.7273\n",
            "Epoch 62/75\n",
            "2/2 [==============================] - 0s 21ms/step - loss: 0.5749 - accuracy: 0.7442 - val_loss: 0.5920 - val_accuracy: 0.7273\n",
            "Epoch 63/75\n",
            "2/2 [==============================] - 0s 18ms/step - loss: 0.5740 - accuracy: 0.7442 - val_loss: 0.5916 - val_accuracy: 0.7273\n",
            "Epoch 64/75\n",
            "2/2 [==============================] - 0s 18ms/step - loss: 0.5749 - accuracy: 0.7442 - val_loss: 0.5918 - val_accuracy: 0.7273\n",
            "Epoch 65/75\n",
            "2/2 [==============================] - 0s 17ms/step - loss: 0.5739 - accuracy: 0.7442 - val_loss: 0.5913 - val_accuracy: 0.7273\n",
            "Epoch 66/75\n",
            "2/2 [==============================] - 0s 18ms/step - loss: 0.5748 - accuracy: 0.7442 - val_loss: 0.5915 - val_accuracy: 0.7273\n",
            "Epoch 67/75\n",
            "2/2 [==============================] - 0s 24ms/step - loss: 0.5738 - accuracy: 0.7442 - val_loss: 0.5911 - val_accuracy: 0.7273\n",
            "Epoch 68/75\n",
            "2/2 [==============================] - 0s 17ms/step - loss: 0.5747 - accuracy: 0.7442 - val_loss: 0.5913 - val_accuracy: 0.7273\n",
            "Epoch 69/75\n",
            "2/2 [==============================] - 0s 20ms/step - loss: 0.5739 - accuracy: 0.7442 - val_loss: 0.5910 - val_accuracy: 0.7273\n",
            "Epoch 70/75\n",
            "2/2 [==============================] - 0s 19ms/step - loss: 0.5745 - accuracy: 0.7442 - val_loss: 0.5910 - val_accuracy: 0.7273\n",
            "Epoch 71/75\n",
            "2/2 [==============================] - 0s 17ms/step - loss: 0.5739 - accuracy: 0.7442 - val_loss: 0.5908 - val_accuracy: 0.7273\n",
            "Epoch 72/75\n",
            "2/2 [==============================] - 0s 20ms/step - loss: 0.5744 - accuracy: 0.7442 - val_loss: 0.5908 - val_accuracy: 0.7273\n",
            "Epoch 73/75\n",
            "2/2 [==============================] - 0s 18ms/step - loss: 0.5739 - accuracy: 0.7442 - val_loss: 0.5906 - val_accuracy: 0.7273\n",
            "Epoch 74/75\n",
            "2/2 [==============================] - 0s 22ms/step - loss: 0.5743 - accuracy: 0.7442 - val_loss: 0.5906 - val_accuracy: 0.7273\n",
            "Epoch 75/75\n",
            "2/2 [==============================] - 0s 19ms/step - loss: 0.5739 - accuracy: 0.7442 - val_loss: 0.5905 - val_accuracy: 0.7273\n"
          ],
          "name": "stdout"
        }
      ]
    },
    {
      "cell_type": "code",
      "metadata": {
        "colab": {
          "base_uri": "https://localhost:8080/",
          "height": 591
        },
        "id": "kM89z7YQBMri",
        "outputId": "13d9799b-38a4-434f-b0a3-38cf672fb69d"
      },
      "source": [
        "import matplotlib.pyplot as plt\n",
        "\n",
        "print(history.history.keys())\n",
        "# summarize history for accuracy\n",
        "plt.plot(history.history['accuracy'])\n",
        "plt.plot(history.history['val_accuracy'])\n",
        "plt.title('model accuracy')\n",
        "plt.ylabel('accuracy')\n",
        "plt.xlabel('epoch')\n",
        "plt.legend(['train', 'test'], loc='upper left')\n",
        "plt.show()\n",
        "# summarize history for loss\n",
        "plt.plot(history.history['loss'])\n",
        "plt.plot(history.history['val_loss'])\n",
        "plt.title('model loss')\n",
        "plt.ylabel('loss')\n",
        "plt.xlabel('epoch')\n",
        "plt.legend(['train', 'test'], loc='upper left')\n",
        "plt.show()"
      ],
      "execution_count": 28,
      "outputs": [
        {
          "output_type": "stream",
          "text": [
            "dict_keys(['loss', 'accuracy', 'val_loss', 'val_accuracy'])\n"
          ],
          "name": "stdout"
        },
        {
          "output_type": "display_data",
          "data": {
            "image/png": "[encoded data removed]",
            "text/plain": [
              "<Figure size 432x288 with 1 Axes>"
            ]
          },
          "metadata": {
            "tags": [],
            "needs_background": "light"
          }
        },
        {
          "output_type": "display_data",
          "data": {
            "image/png": "[encoded data removed]",
            "text/plain": [
              "<Figure size 432x288 with 1 Axes>"
            ]
          },
          "metadata": {
            "tags": [],
            "needs_background": "light"
          }
        }
      ]
    }
  ]
}