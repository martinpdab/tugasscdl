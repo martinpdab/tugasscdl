{
  "nbformat": 4,
  "nbformat_minor": 0,
  "metadata": {
    "colab": {
      "name": "Skenario4.ipynb",
      "provenance": [],
      "include_colab_link": true
    },
    "kernelspec": {
      "name": "python3",
      "display_name": "Python 3"
    },
    "language_info": {
      "name": "python"
    }
  },
  "cells": [
    {
      "cell_type": "markdown",
      "metadata": {
        "id": "view-in-github",
        "colab_type": "text"
      },
      "source": [
        "<a href=\"https://colab.research.google.com/github/martinpdab/tugasscdl/blob/main/Skenario4.ipynb\" target=\"_parent\"><img src=\"https://colab.research.google.com/assets/colab-badge.svg\" alt=\"Open In Colab\"/></a>"
      ]
    },
    {
      "cell_type": "code",
      "metadata": {
        "colab": {
          "base_uri": "https://localhost:8080/"
        },
        "id": "rDXlmcCcIXQc",
        "outputId": "27726255-f241-49b5-ed4b-e57870729269"
      },
      "source": [
        "!pip install sklearn"
      ],
      "execution_count": 1,
      "outputs": [
        {
          "output_type": "stream",
          "text": [
            "Requirement already satisfied: sklearn in /usr/local/lib/python3.7/dist-packages (0.0)\n",
            "Requirement already satisfied: scikit-learn in /usr/local/lib/python3.7/dist-packages (from sklearn) (0.22.2.post1)\n",
            "Requirement already satisfied: scipy>=0.17.0 in /usr/local/lib/python3.7/dist-packages (from scikit-learn->sklearn) (1.4.1)\n",
            "Requirement already satisfied: numpy>=1.11.0 in /usr/local/lib/python3.7/dist-packages (from scikit-learn->sklearn) (1.19.5)\n",
            "Requirement already satisfied: joblib>=0.11 in /usr/local/lib/python3.7/dist-packages (from scikit-learn->sklearn) (1.0.1)\n"
          ],
          "name": "stdout"
        }
      ]
    },
    {
      "cell_type": "code",
      "metadata": {
        "id": "Pl1ofmJWInct"
      },
      "source": [
        "import numpy as np\n",
        "import pandas as pd\n",
        "\n",
        "try:\n",
        "  # %tensorflow_version only exists in Colab.\n",
        "  %tensorflow_version 2.x\n",
        "except Exception:\n",
        "  pass\n",
        "import tensorflow as tf\n",
        "\n",
        "from tensorflow import feature_column\n",
        "from tensorflow.keras import layers\n",
        "from sklearn.model_selection import train_test_split\n",
        "from sklearn.utils import shuffle"
      ],
      "execution_count": 2,
      "outputs": []
    },
    {
      "cell_type": "code",
      "metadata": {
        "colab": {
          "base_uri": "https://localhost:8080/",
          "height": 424
        },
        "id": "4EgCwabWIsbL",
        "outputId": "f04d50bb-6020-4504-cac3-d06b91dbad4e"
      },
      "source": [
        "#memakai dataset\n",
        "URL = 'https://raw.githubusercontent.com/martinpdab/tugasscdl/main/dataset_fixed(1).csv' \n",
        "dataframe = pd.read_csv(URL)\n",
        "dataframe"
      ],
      "execution_count": 3,
      "outputs": [
        {
          "output_type": "execute_result",
          "data": {
            "text/html": [
              "<div>\n",
              "<style scoped>\n",
              "    .dataframe tbody tr th:only-of-type {\n",
              "        vertical-align: middle;\n",
              "    }\n",
              "\n",
              "    .dataframe tbody tr th {\n",
              "        vertical-align: top;\n",
              "    }\n",
              "\n",
              "    .dataframe thead th {\n",
              "        text-align: right;\n",
              "    }\n",
              "</style>\n",
              "<table border=\"1\" class=\"dataframe\">\n",
              "  <thead>\n",
              "    <tr style=\"text-align: right;\">\n",
              "      <th></th>\n",
              "      <th>TE</th>\n",
              "      <th>HU</th>\n",
              "      <th>RF</th>\n",
              "      <th>WS</th>\n",
              "      <th>PD</th>\n",
              "      <th>ABJ</th>\n",
              "      <th>LAG0</th>\n",
              "      <th>LAG1</th>\n",
              "      <th>LAG2</th>\n",
              "      <th>LAG3</th>\n",
              "      <th>LAG4</th>\n",
              "      <th>LAG5</th>\n",
              "      <th>LAG6</th>\n",
              "      <th>LAG7</th>\n",
              "      <th>LAG8</th>\n",
              "      <th>LAG9</th>\n",
              "      <th>LAG10</th>\n",
              "      <th>LAG11</th>\n",
              "      <th>LAG12</th>\n",
              "      <th>OS</th>\n",
              "    </tr>\n",
              "  </thead>\n",
              "  <tbody>\n",
              "    <tr>\n",
              "      <th>0</th>\n",
              "      <td>26.02</td>\n",
              "      <td>84.74</td>\n",
              "      <td>10.52</td>\n",
              "      <td>0.84</td>\n",
              "      <td>792.86</td>\n",
              "      <td>86.96</td>\n",
              "      <td>1</td>\n",
              "      <td>4</td>\n",
              "      <td>6</td>\n",
              "      <td>4</td>\n",
              "      <td>4</td>\n",
              "      <td>1</td>\n",
              "      <td>4</td>\n",
              "      <td>3</td>\n",
              "      <td>3</td>\n",
              "      <td>5</td>\n",
              "      <td>2</td>\n",
              "      <td>1</td>\n",
              "      <td>4</td>\n",
              "      <td>0</td>\n",
              "    </tr>\n",
              "    <tr>\n",
              "      <th>1</th>\n",
              "      <td>26.32</td>\n",
              "      <td>84.64</td>\n",
              "      <td>12.04</td>\n",
              "      <td>0.86</td>\n",
              "      <td>793.45</td>\n",
              "      <td>86.72</td>\n",
              "      <td>3</td>\n",
              "      <td>1</td>\n",
              "      <td>4</td>\n",
              "      <td>6</td>\n",
              "      <td>4</td>\n",
              "      <td>4</td>\n",
              "      <td>1</td>\n",
              "      <td>4</td>\n",
              "      <td>3</td>\n",
              "      <td>3</td>\n",
              "      <td>5</td>\n",
              "      <td>2</td>\n",
              "      <td>1</td>\n",
              "      <td>1</td>\n",
              "    </tr>\n",
              "    <tr>\n",
              "      <th>2</th>\n",
              "      <td>26.39</td>\n",
              "      <td>85.00</td>\n",
              "      <td>8.65</td>\n",
              "      <td>0.55</td>\n",
              "      <td>794.04</td>\n",
              "      <td>86.50</td>\n",
              "      <td>0</td>\n",
              "      <td>3</td>\n",
              "      <td>1</td>\n",
              "      <td>4</td>\n",
              "      <td>6</td>\n",
              "      <td>4</td>\n",
              "      <td>4</td>\n",
              "      <td>1</td>\n",
              "      <td>4</td>\n",
              "      <td>3</td>\n",
              "      <td>3</td>\n",
              "      <td>5</td>\n",
              "      <td>2</td>\n",
              "      <td>0</td>\n",
              "    </tr>\n",
              "    <tr>\n",
              "      <th>3</th>\n",
              "      <td>26.29</td>\n",
              "      <td>86.17</td>\n",
              "      <td>10.37</td>\n",
              "      <td>0.30</td>\n",
              "      <td>794.63</td>\n",
              "      <td>86.28</td>\n",
              "      <td>1</td>\n",
              "      <td>0</td>\n",
              "      <td>3</td>\n",
              "      <td>1</td>\n",
              "      <td>4</td>\n",
              "      <td>6</td>\n",
              "      <td>4</td>\n",
              "      <td>4</td>\n",
              "      <td>1</td>\n",
              "      <td>4</td>\n",
              "      <td>3</td>\n",
              "      <td>3</td>\n",
              "      <td>5</td>\n",
              "      <td>0</td>\n",
              "    </tr>\n",
              "    <tr>\n",
              "      <th>4</th>\n",
              "      <td>26.57</td>\n",
              "      <td>85.61</td>\n",
              "      <td>7.35</td>\n",
              "      <td>0.58</td>\n",
              "      <td>795.22</td>\n",
              "      <td>86.08</td>\n",
              "      <td>0</td>\n",
              "      <td>1</td>\n",
              "      <td>0</td>\n",
              "      <td>3</td>\n",
              "      <td>1</td>\n",
              "      <td>4</td>\n",
              "      <td>6</td>\n",
              "      <td>4</td>\n",
              "      <td>4</td>\n",
              "      <td>1</td>\n",
              "      <td>4</td>\n",
              "      <td>3</td>\n",
              "      <td>3</td>\n",
              "      <td>0</td>\n",
              "    </tr>\n",
              "    <tr>\n",
              "      <th>...</th>\n",
              "      <td>...</td>\n",
              "      <td>...</td>\n",
              "      <td>...</td>\n",
              "      <td>...</td>\n",
              "      <td>...</td>\n",
              "      <td>...</td>\n",
              "      <td>...</td>\n",
              "      <td>...</td>\n",
              "      <td>...</td>\n",
              "      <td>...</td>\n",
              "      <td>...</td>\n",
              "      <td>...</td>\n",
              "      <td>...</td>\n",
              "      <td>...</td>\n",
              "      <td>...</td>\n",
              "      <td>...</td>\n",
              "      <td>...</td>\n",
              "      <td>...</td>\n",
              "      <td>...</td>\n",
              "      <td>...</td>\n",
              "    </tr>\n",
              "    <tr>\n",
              "      <th>84</th>\n",
              "      <td>24.27</td>\n",
              "      <td>76.87</td>\n",
              "      <td>0.00</td>\n",
              "      <td>1.39</td>\n",
              "      <td>846.18</td>\n",
              "      <td>96.29</td>\n",
              "      <td>1</td>\n",
              "      <td>4</td>\n",
              "      <td>3</td>\n",
              "      <td>3</td>\n",
              "      <td>5</td>\n",
              "      <td>2</td>\n",
              "      <td>1</td>\n",
              "      <td>4</td>\n",
              "      <td>1</td>\n",
              "      <td>1</td>\n",
              "      <td>1</td>\n",
              "      <td>2</td>\n",
              "      <td>3</td>\n",
              "      <td>0</td>\n",
              "    </tr>\n",
              "    <tr>\n",
              "      <th>85</th>\n",
              "      <td>25.50</td>\n",
              "      <td>75.73</td>\n",
              "      <td>0.59</td>\n",
              "      <td>1.03</td>\n",
              "      <td>846.59</td>\n",
              "      <td>93.34</td>\n",
              "      <td>4</td>\n",
              "      <td>1</td>\n",
              "      <td>4</td>\n",
              "      <td>3</td>\n",
              "      <td>3</td>\n",
              "      <td>5</td>\n",
              "      <td>2</td>\n",
              "      <td>1</td>\n",
              "      <td>4</td>\n",
              "      <td>1</td>\n",
              "      <td>1</td>\n",
              "      <td>1</td>\n",
              "      <td>2</td>\n",
              "      <td>1</td>\n",
              "    </tr>\n",
              "    <tr>\n",
              "      <th>86</th>\n",
              "      <td>26.58</td>\n",
              "      <td>74.94</td>\n",
              "      <td>0.04</td>\n",
              "      <td>1.39</td>\n",
              "      <td>847.01</td>\n",
              "      <td>96.10</td>\n",
              "      <td>4</td>\n",
              "      <td>4</td>\n",
              "      <td>1</td>\n",
              "      <td>4</td>\n",
              "      <td>3</td>\n",
              "      <td>3</td>\n",
              "      <td>5</td>\n",
              "      <td>2</td>\n",
              "      <td>1</td>\n",
              "      <td>4</td>\n",
              "      <td>1</td>\n",
              "      <td>1</td>\n",
              "      <td>1</td>\n",
              "      <td>1</td>\n",
              "    </tr>\n",
              "    <tr>\n",
              "      <th>87</th>\n",
              "      <td>26.49</td>\n",
              "      <td>82.28</td>\n",
              "      <td>10.53</td>\n",
              "      <td>1.00</td>\n",
              "      <td>847.42</td>\n",
              "      <td>96.38</td>\n",
              "      <td>6</td>\n",
              "      <td>4</td>\n",
              "      <td>4</td>\n",
              "      <td>1</td>\n",
              "      <td>4</td>\n",
              "      <td>3</td>\n",
              "      <td>3</td>\n",
              "      <td>5</td>\n",
              "      <td>2</td>\n",
              "      <td>1</td>\n",
              "      <td>4</td>\n",
              "      <td>1</td>\n",
              "      <td>1</td>\n",
              "      <td>1</td>\n",
              "    </tr>\n",
              "    <tr>\n",
              "      <th>88</th>\n",
              "      <td>26.14</td>\n",
              "      <td>85.45</td>\n",
              "      <td>10.41</td>\n",
              "      <td>0.87</td>\n",
              "      <td>847.84</td>\n",
              "      <td>95.35</td>\n",
              "      <td>4</td>\n",
              "      <td>6</td>\n",
              "      <td>4</td>\n",
              "      <td>4</td>\n",
              "      <td>1</td>\n",
              "      <td>4</td>\n",
              "      <td>3</td>\n",
              "      <td>3</td>\n",
              "      <td>5</td>\n",
              "      <td>2</td>\n",
              "      <td>1</td>\n",
              "      <td>4</td>\n",
              "      <td>1</td>\n",
              "      <td>1</td>\n",
              "    </tr>\n",
              "  </tbody>\n",
              "</table>\n",
              "<p>89 rows × 20 columns</p>\n",
              "</div>"
            ],
            "text/plain": [
              "       TE     HU     RF    WS      PD  ...  LAG9  LAG10  LAG11  LAG12  OS\n",
              "0   26.02  84.74  10.52  0.84  792.86  ...     5      2      1      4   0\n",
              "1   26.32  84.64  12.04  0.86  793.45  ...     3      5      2      1   1\n",
              "2   26.39  85.00   8.65  0.55  794.04  ...     3      3      5      2   0\n",
              "3   26.29  86.17  10.37  0.30  794.63  ...     4      3      3      5   0\n",
              "4   26.57  85.61   7.35  0.58  795.22  ...     1      4      3      3   0\n",
              "..    ...    ...    ...   ...     ...  ...   ...    ...    ...    ...  ..\n",
              "84  24.27  76.87   0.00  1.39  846.18  ...     1      1      2      3   0\n",
              "85  25.50  75.73   0.59  1.03  846.59  ...     1      1      1      2   1\n",
              "86  26.58  74.94   0.04  1.39  847.01  ...     4      1      1      1   1\n",
              "87  26.49  82.28  10.53  1.00  847.42  ...     1      4      1      1   1\n",
              "88  26.14  85.45  10.41  0.87  847.84  ...     2      1      4      1   1\n",
              "\n",
              "[89 rows x 20 columns]"
            ]
          },
          "metadata": {
            "tags": []
          },
          "execution_count": 3
        }
      ]
    },
    {
      "cell_type": "code",
      "metadata": {
        "colab": {
          "base_uri": "https://localhost:8080/",
          "height": 206
        },
        "id": "8g0rHlb7IuUK",
        "outputId": "f662f7f4-3961-47b9-e020-fef42d1884a2"
      },
      "source": [
        "# mengambil kolom RF, PD, OS dan mengacak dataset\n",
        "data = dataframe[['RF', 'PD', 'OS']]\n",
        "data = shuffle(data)\n",
        "data.head()"
      ],
      "execution_count": 4,
      "outputs": [
        {
          "output_type": "execute_result",
          "data": {
            "text/html": [
              "<div>\n",
              "<style scoped>\n",
              "    .dataframe tbody tr th:only-of-type {\n",
              "        vertical-align: middle;\n",
              "    }\n",
              "\n",
              "    .dataframe tbody tr th {\n",
              "        vertical-align: top;\n",
              "    }\n",
              "\n",
              "    .dataframe thead th {\n",
              "        text-align: right;\n",
              "    }\n",
              "</style>\n",
              "<table border=\"1\" class=\"dataframe\">\n",
              "  <thead>\n",
              "    <tr style=\"text-align: right;\">\n",
              "      <th></th>\n",
              "      <th>RF</th>\n",
              "      <th>PD</th>\n",
              "      <th>OS</th>\n",
              "    </tr>\n",
              "  </thead>\n",
              "  <tbody>\n",
              "    <tr>\n",
              "      <th>8</th>\n",
              "      <td>9.40</td>\n",
              "      <td>797.60</td>\n",
              "      <td>0</td>\n",
              "    </tr>\n",
              "    <tr>\n",
              "      <th>34</th>\n",
              "      <td>16.90</td>\n",
              "      <td>813.61</td>\n",
              "      <td>0</td>\n",
              "    </tr>\n",
              "    <tr>\n",
              "      <th>10</th>\n",
              "      <td>17.53</td>\n",
              "      <td>798.79</td>\n",
              "      <td>0</td>\n",
              "    </tr>\n",
              "    <tr>\n",
              "      <th>30</th>\n",
              "      <td>0.00</td>\n",
              "      <td>811.23</td>\n",
              "      <td>0</td>\n",
              "    </tr>\n",
              "    <tr>\n",
              "      <th>32</th>\n",
              "      <td>2.55</td>\n",
              "      <td>812.42</td>\n",
              "      <td>0</td>\n",
              "    </tr>\n",
              "  </tbody>\n",
              "</table>\n",
              "</div>"
            ],
            "text/plain": [
              "       RF      PD  OS\n",
              "8    9.40  797.60   0\n",
              "34  16.90  813.61   0\n",
              "10  17.53  798.79   0\n",
              "30   0.00  811.23   0\n",
              "32   2.55  812.42   0"
            ]
          },
          "metadata": {
            "tags": []
          },
          "execution_count": 4
        }
      ]
    },
    {
      "cell_type": "code",
      "metadata": {
        "id": "_PfW-dk3MDWG",
        "colab": {
          "base_uri": "https://localhost:8080/",
          "height": 296
        },
        "outputId": "354cd329-12f9-4744-ff8c-d90cb41350f7"
      },
      "source": [
        "import seaborn as sns\n",
        "\n",
        "#melihat outlier\n",
        "sns.boxplot(x=data['RF'])\n",
        "sns.boxplot(x=data['PD'])\n",
        "\n",
        "#RF tidak begitu jauh outliernya"
      ],
      "execution_count": 5,
      "outputs": [
        {
          "output_type": "execute_result",
          "data": {
            "text/plain": [
              "<matplotlib.axes._subplots.AxesSubplot at 0x7fc1d2b7ac90>"
            ]
          },
          "metadata": {
            "tags": []
          },
          "execution_count": 5
        },
        {
          "output_type": "display_data",
          "data": {
            "image/png": "[encoded data removed]",
            "text/plain": [
              "<Figure size 432x288 with 1 Axes>"
            ]
          },
          "metadata": {
            "tags": [],
            "needs_background": "light"
          }
        }
      ]
    },
    {
      "cell_type": "code",
      "metadata": {
        "colab": {
          "base_uri": "https://localhost:8080/"
        },
        "id": "Ejv8i3bnKAEd",
        "outputId": "68746032-f7c8-43e1-a5bf-6d30842720fd"
      },
      "source": [
        "#train-test split 80-20\n",
        "train, test = train_test_split(data, test_size=0.2)\n",
        "print(len(train), 'banyak data train')\n",
        "print(len(test), 'banyak data test')\n",
        "\n",
        "#train-test split 70-30\n",
        "train1, test1 = train_test_split(data, test_size=0.3)\n",
        "print(len(train1), 'banyak data train')\n",
        "print(len(test1), 'banyak data test')"
      ],
      "execution_count": 6,
      "outputs": [
        {
          "output_type": "stream",
          "text": [
            "71 banyak data train\n",
            "18 banyak data test\n",
            "62 banyak data train\n",
            "27 banyak data test\n"
          ],
          "name": "stdout"
        }
      ]
    },
    {
      "cell_type": "code",
      "metadata": {
        "id": "vXq05qGnKEnl"
      },
      "source": [
        "#pisahkan label\n",
        "def df_to_dataset(data, batch_size=32):\n",
        "  data = data.copy()\n",
        "  labels = data.pop('OS')\n",
        "  ds = tf.data.Dataset.from_tensor_slices((dict(data), labels))\n",
        "  ds = ds.batch(batch_size)\n",
        "  return ds"
      ],
      "execution_count": 7,
      "outputs": []
    },
    {
      "cell_type": "code",
      "metadata": {
        "id": "jpWQEOXYKFsx"
      },
      "source": [
        "batch_size = 20 # A small batch sized is used for demonstration purposes\n",
        "#80-20 split\n",
        "train_ds = df_to_dataset(train, batch_size=batch_size)\n",
        "test_ds = df_to_dataset(test, batch_size=batch_size)\n",
        "\n",
        "#70-30 split\n",
        "train_ds1 = df_to_dataset(train1, batch_size=batch_size)\n",
        "test_ds1 = df_to_dataset(test1, batch_size=batch_size)"
      ],
      "execution_count": 8,
      "outputs": []
    },
    {
      "cell_type": "code",
      "metadata": {
        "colab": {
          "base_uri": "https://localhost:8080/"
        },
        "id": "wyYF8XnyKMum",
        "outputId": "b8a4db0e-0bb1-4131-abaa-b3dc4aa3ccfa"
      },
      "source": [
        "for feature_batch, label_batch in train_ds.take(1):\n",
        "  print('Every feature:', list(feature_batch.keys()))\n",
        "  print('RF:', feature_batch['RF'])\n",
        "  print('PD:', feature_batch['PD'])\n",
        "  print('OS:', label_batch)"
      ],
      "execution_count": 9,
      "outputs": [
        {
          "output_type": "stream",
          "text": [
            "Every feature: ['RF', 'PD']\n",
            "RF: tf.Tensor(\n",
            "[21.44  9.    0.   15.03  2.55  3.53  8.45 17.53  3.02 10.41 12.04  9.2\n",
            "  0.48  9.83  9.63  6.5   9.4   9.77  4.13  5.9 ], shape=(20,), dtype=float64)\n",
            "PD: tf.Tensor(\n",
            "[841.56 842.87 846.18 814.13 812.42 828.6  799.38 798.79 839.83 847.84\n",
            " 793.45 819.3  810.64 843.28 842.43 800.56 797.6  844.52 802.34 805.31], shape=(20,), dtype=float64)\n",
            "OS: tf.Tensor([0 0 0 0 0 0 0 0 0 1 1 0 1 1 0 1 0 1 1 0], shape=(20,), dtype=int64)\n"
          ],
          "name": "stdout"
        }
      ]
    },
    {
      "cell_type": "code",
      "metadata": {
        "id": "r0LmfRHLKWTN"
      },
      "source": [
        "feature_columns = []\n",
        "\n",
        "for header in ['RF', 'PD']:\n",
        "  feature_columns.append(feature_column.numeric_column(header))"
      ],
      "execution_count": 10,
      "outputs": []
    },
    {
      "cell_type": "code",
      "metadata": {
        "colab": {
          "base_uri": "https://localhost:8080/"
        },
        "id": "qLLv0_BxKax0",
        "outputId": "d809dc48-c328-412a-de69-ee86b76f95db"
      },
      "source": [
        "feature_layer = tf.keras.layers.DenseFeatures(feature_columns)\n",
        "feature_layer"
      ],
      "execution_count": 11,
      "outputs": [
        {
          "output_type": "execute_result",
          "data": {
            "text/plain": [
              "<tensorflow.python.keras.feature_column.dense_features_v2.DenseFeatures at 0x7fc1cee5c650>"
            ]
          },
          "metadata": {
            "tags": []
          },
          "execution_count": 11
        }
      ]
    },
    {
      "cell_type": "code",
      "metadata": {
        "colab": {
          "base_uri": "https://localhost:8080/"
        },
        "id": "9ZJ3ATJ6KiZE",
        "outputId": "fded51ff-57b1-4b11-a8c3-b3b782c42018"
      },
      "source": [
        "model = tf.keras.Sequential([\n",
        "  feature_layer,\n",
        "  #layers.Dense(128, activation='relu'),\n",
        "  layers.Dense(64, activation='relu'),\n",
        "  #layers.Dense(32, activation='relu'),\n",
        "  layers.Dense(1, activation='sigmoid')\n",
        "])\n",
        "\n",
        "model.compile(optimizer='adam',\n",
        "              loss='binary_crossentropy',\n",
        "              metrics=['accuracy'])\n",
        "\n",
        "history = model.fit(train_ds,\n",
        "                validation_data=test_ds,\n",
        "                epochs=75)"
      ],
      "execution_count": 12,
      "outputs": [
        {
          "output_type": "stream",
          "text": [
            "Epoch 1/75\n",
            "WARNING:tensorflow:Layers in a Sequential model should only have a single input tensor, but we receive a <class 'dict'> input: {'RF': <tf.Tensor 'ExpandDims_1:0' shape=(None, 1) dtype=float64>, 'PD': <tf.Tensor 'ExpandDims:0' shape=(None, 1) dtype=float64>}\n",
            "Consider rewriting this model with the Functional API.\n",
            "WARNING:tensorflow:Layers in a Sequential model should only have a single input tensor, but we receive a <class 'dict'> input: {'RF': <tf.Tensor 'ExpandDims_1:0' shape=(None, 1) dtype=float64>, 'PD': <tf.Tensor 'ExpandDims:0' shape=(None, 1) dtype=float64>}\n",
            "Consider rewriting this model with the Functional API.\n",
            "1/4 [======>.......................] - ETA: 2s - loss: 112.0768 - accuracy: 0.3500WARNING:tensorflow:Layers in a Sequential model should only have a single input tensor, but we receive a <class 'dict'> input: {'RF': <tf.Tensor 'ExpandDims_1:0' shape=(None, 1) dtype=float64>, 'PD': <tf.Tensor 'ExpandDims:0' shape=(None, 1) dtype=float64>}\n",
            "Consider rewriting this model with the Functional API.\n",
            "4/4 [==============================] - 1s 58ms/step - loss: 129.3883 - accuracy: 0.1972 - val_loss: 109.7069 - val_accuracy: 0.2222\n",
            "Epoch 2/75\n",
            "4/4 [==============================] - 0s 7ms/step - loss: 104.2961 - accuracy: 0.1972 - val_loss: 85.4311 - val_accuracy: 0.2222\n",
            "Epoch 3/75\n",
            "4/4 [==============================] - 0s 7ms/step - loss: 79.3481 - accuracy: 0.1972 - val_loss: 61.2694 - val_accuracy: 0.2222\n",
            "Epoch 4/75\n",
            "4/4 [==============================] - 0s 6ms/step - loss: 54.5156 - accuracy: 0.1972 - val_loss: 37.2117 - val_accuracy: 0.2222\n",
            "Epoch 5/75\n",
            "4/4 [==============================] - 0s 7ms/step - loss: 29.7877 - accuracy: 0.1972 - val_loss: 13.3259 - val_accuracy: 0.2222\n",
            "Epoch 6/75\n",
            "4/4 [==============================] - 0s 6ms/step - loss: 6.1702 - accuracy: 0.3239 - val_loss: 2.7371 - val_accuracy: 0.7778\n",
            "Epoch 7/75\n",
            "4/4 [==============================] - 0s 7ms/step - loss: 3.3087 - accuracy: 0.8028 - val_loss: 6.9607 - val_accuracy: 0.7778\n",
            "Epoch 8/75\n",
            "4/4 [==============================] - 0s 7ms/step - loss: 6.6226 - accuracy: 0.8028 - val_loss: 9.1625 - val_accuracy: 0.7778\n",
            "Epoch 9/75\n",
            "4/4 [==============================] - 0s 8ms/step - loss: 8.2695 - accuracy: 0.8028 - val_loss: 9.9503 - val_accuracy: 0.7778\n",
            "Epoch 10/75\n",
            "4/4 [==============================] - 0s 7ms/step - loss: 8.7491 - accuracy: 0.8028 - val_loss: 9.7431 - val_accuracy: 0.7778\n",
            "Epoch 11/75\n",
            "4/4 [==============================] - 0s 6ms/step - loss: 8.4061 - accuracy: 0.8028 - val_loss: 8.8311 - val_accuracy: 0.7778\n",
            "Epoch 12/75\n",
            "4/4 [==============================] - 0s 6ms/step - loss: 7.4797 - accuracy: 0.8028 - val_loss: 7.4162 - val_accuracy: 0.7778\n",
            "Epoch 13/75\n",
            "4/4 [==============================] - 0s 7ms/step - loss: 6.1360 - accuracy: 0.8028 - val_loss: 5.6383 - val_accuracy: 0.7778\n",
            "Epoch 14/75\n",
            "4/4 [==============================] - 0s 7ms/step - loss: 4.4903 - accuracy: 0.8028 - val_loss: 3.5945 - val_accuracy: 0.7778\n",
            "Epoch 15/75\n",
            "4/4 [==============================] - 0s 6ms/step - loss: 2.6226 - accuracy: 0.8028 - val_loss: 1.3581 - val_accuracy: 0.7778\n",
            "Epoch 16/75\n",
            "4/4 [==============================] - 0s 7ms/step - loss: 1.1926 - accuracy: 0.6620 - val_loss: 1.8200 - val_accuracy: 0.2222\n",
            "Epoch 17/75\n",
            "4/4 [==============================] - 0s 6ms/step - loss: 1.6298 - accuracy: 0.3380 - val_loss: 0.7430 - val_accuracy: 0.7778\n",
            "Epoch 18/75\n",
            "4/4 [==============================] - 0s 9ms/step - loss: 0.7220 - accuracy: 0.8028 - val_loss: 1.5603 - val_accuracy: 0.7778\n",
            "Epoch 19/75\n",
            "4/4 [==============================] - 0s 6ms/step - loss: 1.2647 - accuracy: 0.8028 - val_loss: 1.3265 - val_accuracy: 0.7778\n",
            "Epoch 20/75\n",
            "4/4 [==============================] - 0s 6ms/step - loss: 0.9366 - accuracy: 0.8028 - val_loss: 0.6953 - val_accuracy: 0.6667\n",
            "Epoch 21/75\n",
            "4/4 [==============================] - 0s 6ms/step - loss: 0.8628 - accuracy: 0.5493 - val_loss: 0.7159 - val_accuracy: 0.6111\n",
            "Epoch 22/75\n",
            "4/4 [==============================] - 0s 6ms/step - loss: 0.5435 - accuracy: 0.7465 - val_loss: 0.9189 - val_accuracy: 0.7778\n",
            "Epoch 23/75\n",
            "4/4 [==============================] - 0s 8ms/step - loss: 0.7235 - accuracy: 0.8028 - val_loss: 0.8160 - val_accuracy: 0.7778\n",
            "Epoch 24/75\n",
            "4/4 [==============================] - 0s 6ms/step - loss: 0.6847 - accuracy: 0.7042 - val_loss: 0.6872 - val_accuracy: 0.6667\n",
            "Epoch 25/75\n",
            "4/4 [==============================] - 0s 7ms/step - loss: 0.6148 - accuracy: 0.6761 - val_loss: 0.7225 - val_accuracy: 0.7778\n",
            "Epoch 26/75\n",
            "4/4 [==============================] - 0s 8ms/step - loss: 0.5855 - accuracy: 0.8028 - val_loss: 0.7819 - val_accuracy: 0.7778\n",
            "Epoch 27/75\n",
            "4/4 [==============================] - 0s 7ms/step - loss: 0.6352 - accuracy: 0.8028 - val_loss: 0.6773 - val_accuracy: 0.7778\n",
            "Epoch 28/75\n",
            "4/4 [==============================] - 0s 6ms/step - loss: 0.6062 - accuracy: 0.6901 - val_loss: 0.6864 - val_accuracy: 0.7778\n",
            "Epoch 29/75\n",
            "4/4 [==============================] - 0s 7ms/step - loss: 0.5661 - accuracy: 0.8028 - val_loss: 0.7308 - val_accuracy: 0.7778\n",
            "Epoch 30/75\n",
            "4/4 [==============================] - 0s 6ms/step - loss: 0.6025 - accuracy: 0.8028 - val_loss: 0.6772 - val_accuracy: 0.7778\n",
            "Epoch 31/75\n",
            "4/4 [==============================] - 0s 7ms/step - loss: 0.5908 - accuracy: 0.7042 - val_loss: 0.6748 - val_accuracy: 0.7778\n",
            "Epoch 32/75\n",
            "4/4 [==============================] - 0s 7ms/step - loss: 0.5657 - accuracy: 0.8028 - val_loss: 0.6981 - val_accuracy: 0.7778\n",
            "Epoch 33/75\n",
            "4/4 [==============================] - 0s 6ms/step - loss: 0.5843 - accuracy: 0.8028 - val_loss: 0.6697 - val_accuracy: 0.7778\n",
            "Epoch 34/75\n",
            "4/4 [==============================] - 0s 10ms/step - loss: 0.5781 - accuracy: 0.7746 - val_loss: 0.6662 - val_accuracy: 0.7778\n",
            "Epoch 35/75\n",
            "4/4 [==============================] - 0s 8ms/step - loss: 0.5638 - accuracy: 0.8028 - val_loss: 0.6763 - val_accuracy: 0.7778\n",
            "Epoch 36/75\n",
            "4/4 [==============================] - 0s 7ms/step - loss: 0.5730 - accuracy: 0.8028 - val_loss: 0.6590 - val_accuracy: 0.7778\n",
            "Epoch 37/75\n",
            "4/4 [==============================] - 0s 6ms/step - loss: 0.5676 - accuracy: 0.8028 - val_loss: 0.6572 - val_accuracy: 0.7778\n",
            "Epoch 38/75\n",
            "4/4 [==============================] - 0s 7ms/step - loss: 0.5600 - accuracy: 0.8028 - val_loss: 0.6594 - val_accuracy: 0.7778\n",
            "Epoch 39/75\n",
            "4/4 [==============================] - 0s 8ms/step - loss: 0.5643 - accuracy: 0.8028 - val_loss: 0.6480 - val_accuracy: 0.7778\n",
            "Epoch 40/75\n",
            "4/4 [==============================] - 0s 9ms/step - loss: 0.5590 - accuracy: 0.8028 - val_loss: 0.6473 - val_accuracy: 0.7778\n",
            "Epoch 41/75\n",
            "4/4 [==============================] - 0s 6ms/step - loss: 0.5554 - accuracy: 0.8028 - val_loss: 0.6452 - val_accuracy: 0.7778\n",
            "Epoch 42/75\n",
            "4/4 [==============================] - 0s 8ms/step - loss: 0.5566 - accuracy: 0.8028 - val_loss: 0.6378 - val_accuracy: 0.7778\n",
            "Epoch 43/75\n",
            "4/4 [==============================] - 0s 8ms/step - loss: 0.5520 - accuracy: 0.8028 - val_loss: 0.6370 - val_accuracy: 0.7778\n",
            "Epoch 44/75\n",
            "4/4 [==============================] - 0s 7ms/step - loss: 0.5504 - accuracy: 0.8028 - val_loss: 0.6328 - val_accuracy: 0.7778\n",
            "Epoch 45/75\n",
            "4/4 [==============================] - 0s 6ms/step - loss: 0.5497 - accuracy: 0.8028 - val_loss: 0.6283 - val_accuracy: 0.7778\n",
            "Epoch 46/75\n",
            "4/4 [==============================] - 0s 6ms/step - loss: 0.5462 - accuracy: 0.8028 - val_loss: 0.6266 - val_accuracy: 0.7778\n",
            "Epoch 47/75\n",
            "4/4 [==============================] - 0s 7ms/step - loss: 0.5454 - accuracy: 0.8028 - val_loss: 0.6222 - val_accuracy: 0.7778\n",
            "Epoch 48/75\n",
            "4/4 [==============================] - 0s 6ms/step - loss: 0.5435 - accuracy: 0.8028 - val_loss: 0.6193 - val_accuracy: 0.7778\n",
            "Epoch 49/75\n",
            "4/4 [==============================] - 0s 7ms/step - loss: 0.5413 - accuracy: 0.8028 - val_loss: 0.6168 - val_accuracy: 0.7778\n",
            "Epoch 50/75\n",
            "4/4 [==============================] - 0s 7ms/step - loss: 0.5404 - accuracy: 0.8028 - val_loss: 0.6131 - val_accuracy: 0.7778\n",
            "Epoch 51/75\n",
            "4/4 [==============================] - 0s 7ms/step - loss: 0.5384 - accuracy: 0.8028 - val_loss: 0.6108 - val_accuracy: 0.7778\n",
            "Epoch 52/75\n",
            "4/4 [==============================] - 0s 7ms/step - loss: 0.5371 - accuracy: 0.8028 - val_loss: 0.6079 - val_accuracy: 0.7778\n",
            "Epoch 53/75\n",
            "4/4 [==============================] - 0s 6ms/step - loss: 0.5358 - accuracy: 0.8028 - val_loss: 0.6051 - val_accuracy: 0.7778\n",
            "Epoch 54/75\n",
            "4/4 [==============================] - 0s 7ms/step - loss: 0.5342 - accuracy: 0.8028 - val_loss: 0.6028 - val_accuracy: 0.7778\n",
            "Epoch 55/75\n",
            "4/4 [==============================] - 0s 7ms/step - loss: 0.5332 - accuracy: 0.8028 - val_loss: 0.6001 - val_accuracy: 0.7778\n",
            "Epoch 56/75\n",
            "4/4 [==============================] - 0s 7ms/step - loss: 0.5319 - accuracy: 0.8028 - val_loss: 0.5980 - val_accuracy: 0.7778\n",
            "Epoch 57/75\n",
            "4/4 [==============================] - 0s 7ms/step - loss: 0.5308 - accuracy: 0.8028 - val_loss: 0.5957 - val_accuracy: 0.7778\n",
            "Epoch 58/75\n",
            "4/4 [==============================] - 0s 7ms/step - loss: 0.5298 - accuracy: 0.8028 - val_loss: 0.5935 - val_accuracy: 0.7778\n",
            "Epoch 59/75\n",
            "4/4 [==============================] - 0s 7ms/step - loss: 0.5288 - accuracy: 0.8028 - val_loss: 0.5915 - val_accuracy: 0.7778\n",
            "Epoch 60/75\n",
            "4/4 [==============================] - 0s 6ms/step - loss: 0.5279 - accuracy: 0.8028 - val_loss: 0.5894 - val_accuracy: 0.7778\n",
            "Epoch 61/75\n",
            "4/4 [==============================] - 0s 7ms/step - loss: 0.5270 - accuracy: 0.8028 - val_loss: 0.5876 - val_accuracy: 0.7778\n",
            "Epoch 62/75\n",
            "4/4 [==============================] - 0s 7ms/step - loss: 0.5262 - accuracy: 0.8028 - val_loss: 0.5858 - val_accuracy: 0.7778\n",
            "Epoch 63/75\n",
            "4/4 [==============================] - 0s 8ms/step - loss: 0.5255 - accuracy: 0.8028 - val_loss: 0.5841 - val_accuracy: 0.7778\n",
            "Epoch 64/75\n",
            "4/4 [==============================] - 0s 7ms/step - loss: 0.5248 - accuracy: 0.8028 - val_loss: 0.5825 - val_accuracy: 0.7778\n",
            "Epoch 65/75\n",
            "4/4 [==============================] - 0s 7ms/step - loss: 0.5242 - accuracy: 0.8028 - val_loss: 0.5809 - val_accuracy: 0.7778\n",
            "Epoch 66/75\n",
            "4/4 [==============================] - 0s 6ms/step - loss: 0.5236 - accuracy: 0.8028 - val_loss: 0.5794 - val_accuracy: 0.7778\n",
            "Epoch 67/75\n",
            "4/4 [==============================] - 0s 8ms/step - loss: 0.5230 - accuracy: 0.8028 - val_loss: 0.5780 - val_accuracy: 0.7778\n",
            "Epoch 68/75\n",
            "4/4 [==============================] - 0s 6ms/step - loss: 0.5225 - accuracy: 0.8028 - val_loss: 0.5767 - val_accuracy: 0.7778\n",
            "Epoch 69/75\n",
            "4/4 [==============================] - 0s 6ms/step - loss: 0.5221 - accuracy: 0.8028 - val_loss: 0.5755 - val_accuracy: 0.7778\n",
            "Epoch 70/75\n",
            "4/4 [==============================] - 0s 8ms/step - loss: 0.5217 - accuracy: 0.8028 - val_loss: 0.5743 - val_accuracy: 0.7778\n",
            "Epoch 71/75\n",
            "4/4 [==============================] - 0s 6ms/step - loss: 0.5213 - accuracy: 0.8028 - val_loss: 0.5732 - val_accuracy: 0.7778\n",
            "Epoch 72/75\n",
            "4/4 [==============================] - 0s 7ms/step - loss: 0.5210 - accuracy: 0.8028 - val_loss: 0.5722 - val_accuracy: 0.7778\n",
            "Epoch 73/75\n",
            "4/4 [==============================] - 0s 7ms/step - loss: 0.5207 - accuracy: 0.8028 - val_loss: 0.5712 - val_accuracy: 0.7778\n",
            "Epoch 74/75\n",
            "4/4 [==============================] - 0s 8ms/step - loss: 0.5205 - accuracy: 0.8028 - val_loss: 0.5702 - val_accuracy: 0.7778\n",
            "Epoch 75/75\n",
            "4/4 [==============================] - 0s 7ms/step - loss: 0.5202 - accuracy: 0.8028 - val_loss: 0.5694 - val_accuracy: 0.7778\n"
          ],
          "name": "stdout"
        }
      ]
    },
    {
      "cell_type": "code",
      "metadata": {
        "colab": {
          "base_uri": "https://localhost:8080/"
        },
        "id": "F06nnY-wKool",
        "outputId": "7f710b4a-c39a-4b6e-ba4a-9a02dba56e00"
      },
      "source": [
        "history2 = model.fit(train_ds1,\n",
        "                validation_data=test_ds1,\n",
        "                epochs=75)"
      ],
      "execution_count": 13,
      "outputs": [
        {
          "output_type": "stream",
          "text": [
            "Epoch 1/75\n",
            "4/4 [==============================] - 0s 6ms/step - loss: 0.5097 - accuracy: 0.8065 - val_loss: 0.5559 - val_accuracy: 0.7778\n",
            "Epoch 2/75\n",
            "4/4 [==============================] - 0s 6ms/step - loss: 0.5077 - accuracy: 0.8065 - val_loss: 0.5487 - val_accuracy: 0.7778\n",
            "Epoch 3/75\n",
            "4/4 [==============================] - 0s 7ms/step - loss: 0.5061 - accuracy: 0.8065 - val_loss: 0.5542 - val_accuracy: 0.7778\n",
            "Epoch 4/75\n",
            "4/4 [==============================] - 0s 6ms/step - loss: 0.5088 - accuracy: 0.8065 - val_loss: 0.5504 - val_accuracy: 0.7778\n",
            "Epoch 5/75\n",
            "4/4 [==============================] - 0s 6ms/step - loss: 0.5056 - accuracy: 0.8065 - val_loss: 0.5508 - val_accuracy: 0.7778\n",
            "Epoch 6/75\n",
            "4/4 [==============================] - 0s 7ms/step - loss: 0.5075 - accuracy: 0.8065 - val_loss: 0.5519 - val_accuracy: 0.7778\n",
            "Epoch 7/75\n",
            "4/4 [==============================] - 0s 7ms/step - loss: 0.5066 - accuracy: 0.8065 - val_loss: 0.5495 - val_accuracy: 0.7778\n",
            "Epoch 8/75\n",
            "4/4 [==============================] - 0s 9ms/step - loss: 0.5062 - accuracy: 0.8065 - val_loss: 0.5514 - val_accuracy: 0.7778\n",
            "Epoch 9/75\n",
            "4/4 [==============================] - 0s 7ms/step - loss: 0.5070 - accuracy: 0.8065 - val_loss: 0.5497 - val_accuracy: 0.7778\n",
            "Epoch 10/75\n",
            "4/4 [==============================] - 0s 8ms/step - loss: 0.5059 - accuracy: 0.8065 - val_loss: 0.5501 - val_accuracy: 0.7778\n",
            "Epoch 11/75\n",
            "4/4 [==============================] - 0s 7ms/step - loss: 0.5066 - accuracy: 0.8065 - val_loss: 0.5501 - val_accuracy: 0.7778\n",
            "Epoch 12/75\n",
            "4/4 [==============================] - 0s 7ms/step - loss: 0.5060 - accuracy: 0.8065 - val_loss: 0.5493 - val_accuracy: 0.7778\n",
            "Epoch 13/75\n",
            "4/4 [==============================] - 0s 6ms/step - loss: 0.5061 - accuracy: 0.8065 - val_loss: 0.5499 - val_accuracy: 0.7778\n",
            "Epoch 14/75\n",
            "4/4 [==============================] - 0s 7ms/step - loss: 0.5062 - accuracy: 0.8065 - val_loss: 0.5491 - val_accuracy: 0.7778\n",
            "Epoch 15/75\n",
            "4/4 [==============================] - 0s 6ms/step - loss: 0.5058 - accuracy: 0.8065 - val_loss: 0.5494 - val_accuracy: 0.7778\n",
            "Epoch 16/75\n",
            "4/4 [==============================] - 0s 8ms/step - loss: 0.5061 - accuracy: 0.8065 - val_loss: 0.5491 - val_accuracy: 0.7778\n",
            "Epoch 17/75\n",
            "4/4 [==============================] - 0s 6ms/step - loss: 0.5058 - accuracy: 0.8065 - val_loss: 0.5490 - val_accuracy: 0.7778\n",
            "Epoch 18/75\n",
            "4/4 [==============================] - 0s 7ms/step - loss: 0.5059 - accuracy: 0.8065 - val_loss: 0.5490 - val_accuracy: 0.7778\n",
            "Epoch 19/75\n",
            "4/4 [==============================] - 0s 6ms/step - loss: 0.5058 - accuracy: 0.8065 - val_loss: 0.5487 - val_accuracy: 0.7778\n",
            "Epoch 20/75\n",
            "4/4 [==============================] - 0s 7ms/step - loss: 0.5057 - accuracy: 0.8065 - val_loss: 0.5488 - val_accuracy: 0.7778\n",
            "Epoch 21/75\n",
            "4/4 [==============================] - 0s 9ms/step - loss: 0.5058 - accuracy: 0.8065 - val_loss: 0.5485 - val_accuracy: 0.7778\n",
            "Epoch 22/75\n",
            "4/4 [==============================] - 0s 7ms/step - loss: 0.5057 - accuracy: 0.8065 - val_loss: 0.5485 - val_accuracy: 0.7778\n",
            "Epoch 23/75\n",
            "4/4 [==============================] - 0s 7ms/step - loss: 0.5057 - accuracy: 0.8065 - val_loss: 0.5484 - val_accuracy: 0.7778\n",
            "Epoch 24/75\n",
            "4/4 [==============================] - 0s 7ms/step - loss: 0.5057 - accuracy: 0.8065 - val_loss: 0.5483 - val_accuracy: 0.7778\n",
            "Epoch 25/75\n",
            "4/4 [==============================] - 0s 7ms/step - loss: 0.5057 - accuracy: 0.8065 - val_loss: 0.5483 - val_accuracy: 0.7778\n",
            "Epoch 26/75\n",
            "4/4 [==============================] - 0s 7ms/step - loss: 0.5057 - accuracy: 0.8065 - val_loss: 0.5482 - val_accuracy: 0.7778\n",
            "Epoch 27/75\n",
            "4/4 [==============================] - 0s 7ms/step - loss: 0.5056 - accuracy: 0.8065 - val_loss: 0.5482 - val_accuracy: 0.7778\n",
            "Epoch 28/75\n",
            "4/4 [==============================] - 0s 8ms/step - loss: 0.5057 - accuracy: 0.8065 - val_loss: 0.5481 - val_accuracy: 0.7778\n",
            "Epoch 29/75\n",
            "4/4 [==============================] - 0s 7ms/step - loss: 0.5056 - accuracy: 0.8065 - val_loss: 0.5480 - val_accuracy: 0.7778\n",
            "Epoch 30/75\n",
            "4/4 [==============================] - 0s 7ms/step - loss: 0.5057 - accuracy: 0.8065 - val_loss: 0.5480 - val_accuracy: 0.7778\n",
            "Epoch 31/75\n",
            "4/4 [==============================] - 0s 6ms/step - loss: 0.5056 - accuracy: 0.8065 - val_loss: 0.5479 - val_accuracy: 0.7778\n",
            "Epoch 32/75\n",
            "4/4 [==============================] - 0s 7ms/step - loss: 0.5057 - accuracy: 0.8065 - val_loss: 0.5479 - val_accuracy: 0.7778\n",
            "Epoch 33/75\n",
            "4/4 [==============================] - 0s 6ms/step - loss: 0.5057 - accuracy: 0.8065 - val_loss: 0.5478 - val_accuracy: 0.7778\n",
            "Epoch 34/75\n",
            "4/4 [==============================] - 0s 9ms/step - loss: 0.5057 - accuracy: 0.8065 - val_loss: 0.5478 - val_accuracy: 0.7778\n",
            "Epoch 35/75\n",
            "4/4 [==============================] - 0s 6ms/step - loss: 0.5057 - accuracy: 0.8065 - val_loss: 0.5478 - val_accuracy: 0.7778\n",
            "Epoch 36/75\n",
            "4/4 [==============================] - 0s 7ms/step - loss: 0.5057 - accuracy: 0.8065 - val_loss: 0.5478 - val_accuracy: 0.7778\n",
            "Epoch 37/75\n",
            "4/4 [==============================] - 0s 8ms/step - loss: 0.5057 - accuracy: 0.8065 - val_loss: 0.5477 - val_accuracy: 0.7778\n",
            "Epoch 38/75\n",
            "4/4 [==============================] - 0s 7ms/step - loss: 0.5057 - accuracy: 0.8065 - val_loss: 0.5477 - val_accuracy: 0.7778\n",
            "Epoch 39/75\n",
            "4/4 [==============================] - 0s 7ms/step - loss: 0.5058 - accuracy: 0.8065 - val_loss: 0.5477 - val_accuracy: 0.7778\n",
            "Epoch 40/75\n",
            "4/4 [==============================] - 0s 6ms/step - loss: 0.5058 - accuracy: 0.8065 - val_loss: 0.5477 - val_accuracy: 0.7778\n",
            "Epoch 41/75\n",
            "4/4 [==============================] - 0s 8ms/step - loss: 0.5058 - accuracy: 0.8065 - val_loss: 0.5476 - val_accuracy: 0.7778\n",
            "Epoch 42/75\n",
            "4/4 [==============================] - 0s 7ms/step - loss: 0.5058 - accuracy: 0.8065 - val_loss: 0.5476 - val_accuracy: 0.7778\n",
            "Epoch 43/75\n",
            "4/4 [==============================] - 0s 7ms/step - loss: 0.5059 - accuracy: 0.8065 - val_loss: 0.5476 - val_accuracy: 0.7778\n",
            "Epoch 44/75\n",
            "4/4 [==============================] - 0s 7ms/step - loss: 0.5059 - accuracy: 0.8065 - val_loss: 0.5476 - val_accuracy: 0.7778\n",
            "Epoch 45/75\n",
            "4/4 [==============================] - 0s 7ms/step - loss: 0.5059 - accuracy: 0.8065 - val_loss: 0.5476 - val_accuracy: 0.7778\n",
            "Epoch 46/75\n",
            "4/4 [==============================] - 0s 7ms/step - loss: 0.5059 - accuracy: 0.8065 - val_loss: 0.5476 - val_accuracy: 0.7778\n",
            "Epoch 47/75\n",
            "4/4 [==============================] - 0s 7ms/step - loss: 0.5060 - accuracy: 0.8065 - val_loss: 0.5476 - val_accuracy: 0.7778\n",
            "Epoch 48/75\n",
            "4/4 [==============================] - 0s 7ms/step - loss: 0.5060 - accuracy: 0.8065 - val_loss: 0.5476 - val_accuracy: 0.7778\n",
            "Epoch 49/75\n",
            "4/4 [==============================] - 0s 7ms/step - loss: 0.5060 - accuracy: 0.8065 - val_loss: 0.5476 - val_accuracy: 0.7778\n",
            "Epoch 50/75\n",
            "4/4 [==============================] - 0s 10ms/step - loss: 0.5061 - accuracy: 0.8065 - val_loss: 0.5476 - val_accuracy: 0.7778\n",
            "Epoch 51/75\n",
            "4/4 [==============================] - 0s 8ms/step - loss: 0.5061 - accuracy: 0.8065 - val_loss: 0.5476 - val_accuracy: 0.7778\n",
            "Epoch 52/75\n",
            "4/4 [==============================] - 0s 8ms/step - loss: 0.5061 - accuracy: 0.8065 - val_loss: 0.5476 - val_accuracy: 0.7778\n",
            "Epoch 53/75\n",
            "4/4 [==============================] - 0s 7ms/step - loss: 0.5062 - accuracy: 0.8065 - val_loss: 0.5476 - val_accuracy: 0.7778\n",
            "Epoch 54/75\n",
            "4/4 [==============================] - 0s 8ms/step - loss: 0.5062 - accuracy: 0.8065 - val_loss: 0.5476 - val_accuracy: 0.7778\n",
            "Epoch 55/75\n",
            "4/4 [==============================] - 0s 7ms/step - loss: 0.5062 - accuracy: 0.8065 - val_loss: 0.5476 - val_accuracy: 0.7778\n",
            "Epoch 56/75\n",
            "4/4 [==============================] - 0s 7ms/step - loss: 0.5063 - accuracy: 0.8065 - val_loss: 0.5476 - val_accuracy: 0.7778\n",
            "Epoch 57/75\n",
            "4/4 [==============================] - 0s 8ms/step - loss: 0.5063 - accuracy: 0.8065 - val_loss: 0.5476 - val_accuracy: 0.7778\n",
            "Epoch 58/75\n",
            "4/4 [==============================] - 0s 7ms/step - loss: 0.5063 - accuracy: 0.8065 - val_loss: 0.5476 - val_accuracy: 0.7778\n",
            "Epoch 59/75\n",
            "4/4 [==============================] - 0s 7ms/step - loss: 0.5064 - accuracy: 0.8065 - val_loss: 0.5476 - val_accuracy: 0.7778\n",
            "Epoch 60/75\n",
            "4/4 [==============================] - 0s 6ms/step - loss: 0.5064 - accuracy: 0.8065 - val_loss: 0.5476 - val_accuracy: 0.7778\n",
            "Epoch 61/75\n",
            "4/4 [==============================] - 0s 6ms/step - loss: 0.5064 - accuracy: 0.8065 - val_loss: 0.5476 - val_accuracy: 0.7778\n",
            "Epoch 62/75\n",
            "4/4 [==============================] - 0s 6ms/step - loss: 0.5065 - accuracy: 0.8065 - val_loss: 0.5477 - val_accuracy: 0.7778\n",
            "Epoch 63/75\n",
            "4/4 [==============================] - 0s 7ms/step - loss: 0.5065 - accuracy: 0.8065 - val_loss: 0.5477 - val_accuracy: 0.7778\n",
            "Epoch 64/75\n",
            "4/4 [==============================] - 0s 8ms/step - loss: 0.5066 - accuracy: 0.8065 - val_loss: 0.5477 - val_accuracy: 0.7778\n",
            "Epoch 65/75\n",
            "4/4 [==============================] - 0s 10ms/step - loss: 0.5066 - accuracy: 0.8065 - val_loss: 0.5477 - val_accuracy: 0.7778\n",
            "Epoch 66/75\n",
            "4/4 [==============================] - 0s 8ms/step - loss: 0.5066 - accuracy: 0.8065 - val_loss: 0.5477 - val_accuracy: 0.7778\n",
            "Epoch 67/75\n",
            "4/4 [==============================] - 0s 7ms/step - loss: 0.5067 - accuracy: 0.8065 - val_loss: 0.5477 - val_accuracy: 0.7778\n",
            "Epoch 68/75\n",
            "4/4 [==============================] - 0s 7ms/step - loss: 0.5067 - accuracy: 0.8065 - val_loss: 0.5477 - val_accuracy: 0.7778\n",
            "Epoch 69/75\n",
            "4/4 [==============================] - 0s 7ms/step - loss: 0.5067 - accuracy: 0.8065 - val_loss: 0.5477 - val_accuracy: 0.7778\n",
            "Epoch 70/75\n",
            "4/4 [==============================] - 0s 6ms/step - loss: 0.5068 - accuracy: 0.8065 - val_loss: 0.5478 - val_accuracy: 0.7778\n",
            "Epoch 71/75\n",
            "4/4 [==============================] - 0s 6ms/step - loss: 0.5068 - accuracy: 0.8065 - val_loss: 0.5478 - val_accuracy: 0.7778\n",
            "Epoch 72/75\n",
            "4/4 [==============================] - 0s 7ms/step - loss: 0.5069 - accuracy: 0.8065 - val_loss: 0.5478 - val_accuracy: 0.7778\n",
            "Epoch 73/75\n",
            "4/4 [==============================] - 0s 8ms/step - loss: 0.5069 - accuracy: 0.8065 - val_loss: 0.5478 - val_accuracy: 0.7778\n",
            "Epoch 74/75\n",
            "4/4 [==============================] - 0s 7ms/step - loss: 0.5069 - accuracy: 0.8065 - val_loss: 0.5478 - val_accuracy: 0.7778\n",
            "Epoch 75/75\n",
            "4/4 [==============================] - 0s 7ms/step - loss: 0.5070 - accuracy: 0.8065 - val_loss: 0.5478 - val_accuracy: 0.7778\n"
          ],
          "name": "stdout"
        }
      ]
    },
    {
      "cell_type": "code",
      "metadata": {
        "colab": {
          "base_uri": "https://localhost:8080/",
          "height": 590
        },
        "id": "qQyHw_maKmQK",
        "outputId": "141b6968-ac26-4ff2-9f57-3605001c7f06"
      },
      "source": [
        "import matplotlib.pyplot as plt\n",
        "\n",
        "print(history.history.keys())\n",
        "#history 80-20\n",
        "plt.plot(history.history['accuracy'])\n",
        "plt.plot(history.history['val_accuracy'])\n",
        "plt.title('akurasi 80-20')\n",
        "plt.ylabel('accuracy')\n",
        "plt.xlabel('epoch')\n",
        "plt.legend(['train', 'test'], loc='upper left')\n",
        "plt.show()\n",
        "#loss\n",
        "plt.plot(history.history['loss'])\n",
        "plt.plot(history.history['val_loss'])\n",
        "plt.title('loss 70-30')\n",
        "plt.ylabel('loss')\n",
        "plt.xlabel('epoch')\n",
        "plt.legend(['train', 'test'], loc='upper left')\n",
        "plt.show()"
      ],
      "execution_count": 14,
      "outputs": [
        {
          "output_type": "stream",
          "text": [
            "dict_keys(['loss', 'accuracy', 'val_loss', 'val_accuracy'])\n"
          ],
          "name": "stdout"
        },
        {
          "output_type": "display_data",
          "data": {
            "image/png": "[encoded data removed]",
            "text/plain": [
              "<Figure size 432x288 with 1 Axes>"
            ]
          },
          "metadata": {
            "tags": [],
            "needs_background": "light"
          }
        },
        {
          "output_type": "display_data",
          "data": {
            "image/png": "[encoded data removed]",
            "text/plain": [
              "<Figure size 432x288 with 1 Axes>"
            ]
          },
          "metadata": {
            "tags": [],
            "needs_background": "light"
          }
        }
      ]
    },
    {
      "cell_type": "code",
      "metadata": {
        "colab": {
          "base_uri": "https://localhost:8080/",
          "height": 573
        },
        "id": "dR5YFFi2LDpL",
        "outputId": "8b8fe9ed-0069-4164-c782-791fac00cb54"
      },
      "source": [
        "plt.plot(history2.history['accuracy'])\n",
        "plt.plot(history2.history['val_accuracy'])\n",
        "plt.title('akurasi 70-30')\n",
        "plt.ylabel('accuracy')\n",
        "plt.xlabel('epoch')\n",
        "plt.legend(['train1', 'test1'], loc='upper left')\n",
        "plt.show()\n",
        "#loss\n",
        "plt.plot(history2.history['loss'])\n",
        "plt.plot(history2.history['val_loss'])\n",
        "plt.title('loss 70-30')\n",
        "plt.ylabel('loss')\n",
        "plt.xlabel('epoch')\n",
        "plt.legend(['train1', 'test1'], loc='upper left')\n",
        "plt.show()"
      ],
      "execution_count": 15,
      "outputs": [
        {
          "output_type": "display_data",
          "data": {
            "image/png": "[encoded data removed]",
            "text/plain": [
              "<Figure size 432x288 with 1 Axes>"
            ]
          },
          "metadata": {
            "tags": [],
            "needs_background": "light"
          }
        },
        {
          "output_type": "display_data",
          "data": {
            "image/png": "[encoded data removed]",
            "text/plain": [
              "<Figure size 432x288 with 1 Axes>"
            ]
          },
          "metadata": {
            "tags": [],
            "needs_background": "light"
          }
        }
      ]
    }
  ]
}