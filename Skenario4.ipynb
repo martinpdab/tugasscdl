{
  "nbformat": 4,
  "nbformat_minor": 0,
  "metadata": {
    "colab": {
      "name": "Skenario4.ipynb",
      "provenance": [],
      "authorship_tag": "ABX9TyMA2vTkxE7lKbRH23eFO2LV",
      "include_colab_link": true
    },
    "kernelspec": {
      "name": "python3",
      "display_name": "Python 3"
    },
    "language_info": {
      "name": "python"
    }
  },
  "cells": [
    {
      "cell_type": "markdown",
      "metadata": {
        "id": "view-in-github",
        "colab_type": "text"
      },
      "source": [
        "<a href=\"https://colab.research.google.com/github/martinpdab/tugasscdl/blob/main/Skenario4.ipynb\" target=\"_parent\"><img src=\"https://colab.research.google.com/assets/colab-badge.svg\" alt=\"Open In Colab\"/></a>"
      ]
    },
    {
      "cell_type": "code",
      "metadata": {
        "colab": {
          "base_uri": "https://localhost:8080/"
        },
        "id": "rDXlmcCcIXQc",
        "outputId": "dd4b1c8e-656c-4fa5-c098-65952995acd0"
      },
      "source": [
        "!pip install sklearn"
      ],
      "execution_count": 1,
      "outputs": [
        {
          "output_type": "stream",
          "text": [
            "Requirement already satisfied: sklearn in /usr/local/lib/python3.7/dist-packages (0.0)\n",
            "Requirement already satisfied: scikit-learn in /usr/local/lib/python3.7/dist-packages (from sklearn) (0.22.2.post1)\n",
            "Requirement already satisfied: scipy>=0.17.0 in /usr/local/lib/python3.7/dist-packages (from scikit-learn->sklearn) (1.4.1)\n",
            "Requirement already satisfied: numpy>=1.11.0 in /usr/local/lib/python3.7/dist-packages (from scikit-learn->sklearn) (1.19.5)\n",
            "Requirement already satisfied: joblib>=0.11 in /usr/local/lib/python3.7/dist-packages (from scikit-learn->sklearn) (1.0.1)\n"
          ],
          "name": "stdout"
        }
      ]
    },
    {
      "cell_type": "code",
      "metadata": {
        "id": "Pl1ofmJWInct"
      },
      "source": [
        "import numpy as np\n",
        "import pandas as pd\n",
        "\n",
        "try:\n",
        "  # %tensorflow_version only exists in Colab.\n",
        "  %tensorflow_version 2.x\n",
        "except Exception:\n",
        "  pass\n",
        "import tensorflow as tf\n",
        "\n",
        "from tensorflow import feature_column\n",
        "from tensorflow.keras import layers\n",
        "from sklearn.model_selection import train_test_split\n",
        "from sklearn.utils import shuffle"
      ],
      "execution_count": 2,
      "outputs": []
    },
    {
      "cell_type": "code",
      "metadata": {
        "colab": {
          "base_uri": "https://localhost:8080/",
          "height": 424
        },
        "id": "4EgCwabWIsbL",
        "outputId": "602110d3-3e71-4b91-e4da-1010ebcf18eb"
      },
      "source": [
        "#memakai dataset\n",
        "URL = 'https://raw.githubusercontent.com/martinpdab/tugasscdl/main/data%20fix.csv' \n",
        "dataframe = pd.read_csv(URL)\n",
        "dataframe"
      ],
      "execution_count": 3,
      "outputs": [
        {
          "output_type": "execute_result",
          "data": {
            "text/html": [
              "<div>\n",
              "<style scoped>\n",
              "    .dataframe tbody tr th:only-of-type {\n",
              "        vertical-align: middle;\n",
              "    }\n",
              "\n",
              "    .dataframe tbody tr th {\n",
              "        vertical-align: top;\n",
              "    }\n",
              "\n",
              "    .dataframe thead th {\n",
              "        text-align: right;\n",
              "    }\n",
              "</style>\n",
              "<table border=\"1\" class=\"dataframe\">\n",
              "  <thead>\n",
              "    <tr style=\"text-align: right;\">\n",
              "      <th></th>\n",
              "      <th>Period</th>\n",
              "      <th>TE</th>\n",
              "      <th>HU</th>\n",
              "      <th>RF</th>\n",
              "      <th>WS</th>\n",
              "      <th>PD</th>\n",
              "      <th>ABJ</th>\n",
              "      <th>LAG0</th>\n",
              "      <th>LAG1</th>\n",
              "      <th>LAG2</th>\n",
              "      <th>LAG3</th>\n",
              "      <th>LAG4</th>\n",
              "      <th>LAG5</th>\n",
              "      <th>LAG6</th>\n",
              "      <th>LAG7</th>\n",
              "      <th>LAG8</th>\n",
              "      <th>LAG9</th>\n",
              "      <th>LAG10</th>\n",
              "      <th>LAG11</th>\n",
              "      <th>LAG12</th>\n",
              "      <th>OS</th>\n",
              "    </tr>\n",
              "  </thead>\n",
              "  <tbody>\n",
              "    <tr>\n",
              "      <th>0</th>\n",
              "      <td>Jan-10</td>\n",
              "      <td>26.02</td>\n",
              "      <td>84.74</td>\n",
              "      <td>10.52</td>\n",
              "      <td>0.84</td>\n",
              "      <td>792.86</td>\n",
              "      <td>86.96</td>\n",
              "      <td>1</td>\n",
              "      <td>4</td>\n",
              "      <td>6</td>\n",
              "      <td>4</td>\n",
              "      <td>4</td>\n",
              "      <td>1</td>\n",
              "      <td>4</td>\n",
              "      <td>3</td>\n",
              "      <td>3</td>\n",
              "      <td>5</td>\n",
              "      <td>2</td>\n",
              "      <td>1</td>\n",
              "      <td>4</td>\n",
              "      <td>0</td>\n",
              "    </tr>\n",
              "    <tr>\n",
              "      <th>1</th>\n",
              "      <td>Feb-10</td>\n",
              "      <td>26.32</td>\n",
              "      <td>84.64</td>\n",
              "      <td>12.04</td>\n",
              "      <td>0.86</td>\n",
              "      <td>793.45</td>\n",
              "      <td>86.72</td>\n",
              "      <td>3</td>\n",
              "      <td>1</td>\n",
              "      <td>4</td>\n",
              "      <td>6</td>\n",
              "      <td>4</td>\n",
              "      <td>4</td>\n",
              "      <td>1</td>\n",
              "      <td>4</td>\n",
              "      <td>3</td>\n",
              "      <td>3</td>\n",
              "      <td>5</td>\n",
              "      <td>2</td>\n",
              "      <td>1</td>\n",
              "      <td>1</td>\n",
              "    </tr>\n",
              "    <tr>\n",
              "      <th>2</th>\n",
              "      <td>Mar-10</td>\n",
              "      <td>26.39</td>\n",
              "      <td>85.00</td>\n",
              "      <td>8.65</td>\n",
              "      <td>0.55</td>\n",
              "      <td>794.04</td>\n",
              "      <td>86.50</td>\n",
              "      <td>0</td>\n",
              "      <td>3</td>\n",
              "      <td>1</td>\n",
              "      <td>4</td>\n",
              "      <td>6</td>\n",
              "      <td>4</td>\n",
              "      <td>4</td>\n",
              "      <td>1</td>\n",
              "      <td>4</td>\n",
              "      <td>3</td>\n",
              "      <td>3</td>\n",
              "      <td>5</td>\n",
              "      <td>2</td>\n",
              "      <td>0</td>\n",
              "    </tr>\n",
              "    <tr>\n",
              "      <th>3</th>\n",
              "      <td>Apr-10</td>\n",
              "      <td>26.29</td>\n",
              "      <td>86.17</td>\n",
              "      <td>10.37</td>\n",
              "      <td>0.30</td>\n",
              "      <td>794.63</td>\n",
              "      <td>86.28</td>\n",
              "      <td>1</td>\n",
              "      <td>0</td>\n",
              "      <td>3</td>\n",
              "      <td>1</td>\n",
              "      <td>4</td>\n",
              "      <td>6</td>\n",
              "      <td>4</td>\n",
              "      <td>4</td>\n",
              "      <td>1</td>\n",
              "      <td>4</td>\n",
              "      <td>3</td>\n",
              "      <td>3</td>\n",
              "      <td>5</td>\n",
              "      <td>0</td>\n",
              "    </tr>\n",
              "    <tr>\n",
              "      <th>4</th>\n",
              "      <td>May-10</td>\n",
              "      <td>26.57</td>\n",
              "      <td>85.61</td>\n",
              "      <td>7.35</td>\n",
              "      <td>0.58</td>\n",
              "      <td>795.22</td>\n",
              "      <td>86.08</td>\n",
              "      <td>0</td>\n",
              "      <td>1</td>\n",
              "      <td>0</td>\n",
              "      <td>3</td>\n",
              "      <td>1</td>\n",
              "      <td>4</td>\n",
              "      <td>6</td>\n",
              "      <td>4</td>\n",
              "      <td>4</td>\n",
              "      <td>1</td>\n",
              "      <td>4</td>\n",
              "      <td>3</td>\n",
              "      <td>3</td>\n",
              "      <td>0</td>\n",
              "    </tr>\n",
              "    <tr>\n",
              "      <th>...</th>\n",
              "      <td>...</td>\n",
              "      <td>...</td>\n",
              "      <td>...</td>\n",
              "      <td>...</td>\n",
              "      <td>...</td>\n",
              "      <td>...</td>\n",
              "      <td>...</td>\n",
              "      <td>...</td>\n",
              "      <td>...</td>\n",
              "      <td>...</td>\n",
              "      <td>...</td>\n",
              "      <td>...</td>\n",
              "      <td>...</td>\n",
              "      <td>...</td>\n",
              "      <td>...</td>\n",
              "      <td>...</td>\n",
              "      <td>...</td>\n",
              "      <td>...</td>\n",
              "      <td>...</td>\n",
              "      <td>...</td>\n",
              "      <td>...</td>\n",
              "    </tr>\n",
              "    <tr>\n",
              "      <th>103</th>\n",
              "      <td>Aug-18</td>\n",
              "      <td>24.27</td>\n",
              "      <td>76.87</td>\n",
              "      <td>0.00</td>\n",
              "      <td>1.39</td>\n",
              "      <td>846.18</td>\n",
              "      <td>96.29</td>\n",
              "      <td>1</td>\n",
              "      <td>4</td>\n",
              "      <td>3</td>\n",
              "      <td>3</td>\n",
              "      <td>5</td>\n",
              "      <td>2</td>\n",
              "      <td>1</td>\n",
              "      <td>4</td>\n",
              "      <td>1</td>\n",
              "      <td>1</td>\n",
              "      <td>1</td>\n",
              "      <td>2</td>\n",
              "      <td>3</td>\n",
              "      <td>0</td>\n",
              "    </tr>\n",
              "    <tr>\n",
              "      <th>104</th>\n",
              "      <td>Sep-18</td>\n",
              "      <td>25.50</td>\n",
              "      <td>75.73</td>\n",
              "      <td>0.59</td>\n",
              "      <td>1.03</td>\n",
              "      <td>846.59</td>\n",
              "      <td>93.34</td>\n",
              "      <td>4</td>\n",
              "      <td>1</td>\n",
              "      <td>4</td>\n",
              "      <td>3</td>\n",
              "      <td>3</td>\n",
              "      <td>5</td>\n",
              "      <td>2</td>\n",
              "      <td>1</td>\n",
              "      <td>4</td>\n",
              "      <td>1</td>\n",
              "      <td>1</td>\n",
              "      <td>1</td>\n",
              "      <td>2</td>\n",
              "      <td>1</td>\n",
              "    </tr>\n",
              "    <tr>\n",
              "      <th>105</th>\n",
              "      <td>Oct-18</td>\n",
              "      <td>26.58</td>\n",
              "      <td>74.94</td>\n",
              "      <td>0.04</td>\n",
              "      <td>1.39</td>\n",
              "      <td>847.01</td>\n",
              "      <td>96.10</td>\n",
              "      <td>4</td>\n",
              "      <td>4</td>\n",
              "      <td>1</td>\n",
              "      <td>4</td>\n",
              "      <td>3</td>\n",
              "      <td>3</td>\n",
              "      <td>5</td>\n",
              "      <td>2</td>\n",
              "      <td>1</td>\n",
              "      <td>4</td>\n",
              "      <td>1</td>\n",
              "      <td>1</td>\n",
              "      <td>1</td>\n",
              "      <td>1</td>\n",
              "    </tr>\n",
              "    <tr>\n",
              "      <th>106</th>\n",
              "      <td>Nov-18</td>\n",
              "      <td>26.49</td>\n",
              "      <td>82.28</td>\n",
              "      <td>10.53</td>\n",
              "      <td>1.00</td>\n",
              "      <td>847.42</td>\n",
              "      <td>96.38</td>\n",
              "      <td>6</td>\n",
              "      <td>4</td>\n",
              "      <td>4</td>\n",
              "      <td>1</td>\n",
              "      <td>4</td>\n",
              "      <td>3</td>\n",
              "      <td>3</td>\n",
              "      <td>5</td>\n",
              "      <td>2</td>\n",
              "      <td>1</td>\n",
              "      <td>4</td>\n",
              "      <td>1</td>\n",
              "      <td>1</td>\n",
              "      <td>1</td>\n",
              "    </tr>\n",
              "    <tr>\n",
              "      <th>107</th>\n",
              "      <td>Dec-18</td>\n",
              "      <td>26.14</td>\n",
              "      <td>85.45</td>\n",
              "      <td>10.41</td>\n",
              "      <td>0.87</td>\n",
              "      <td>847.84</td>\n",
              "      <td>95.35</td>\n",
              "      <td>4</td>\n",
              "      <td>6</td>\n",
              "      <td>4</td>\n",
              "      <td>4</td>\n",
              "      <td>1</td>\n",
              "      <td>4</td>\n",
              "      <td>3</td>\n",
              "      <td>3</td>\n",
              "      <td>5</td>\n",
              "      <td>2</td>\n",
              "      <td>1</td>\n",
              "      <td>4</td>\n",
              "      <td>1</td>\n",
              "      <td>1</td>\n",
              "    </tr>\n",
              "  </tbody>\n",
              "</table>\n",
              "<p>108 rows × 21 columns</p>\n",
              "</div>"
            ],
            "text/plain": [
              "     Period     TE     HU     RF    WS  ...  LAG9  LAG10  LAG11  LAG12  OS\n",
              "0    Jan-10  26.02  84.74  10.52  0.84  ...     5      2      1      4   0\n",
              "1    Feb-10  26.32  84.64  12.04  0.86  ...     3      5      2      1   1\n",
              "2    Mar-10  26.39  85.00   8.65  0.55  ...     3      3      5      2   0\n",
              "3    Apr-10  26.29  86.17  10.37  0.30  ...     4      3      3      5   0\n",
              "4    May-10  26.57  85.61   7.35  0.58  ...     1      4      3      3   0\n",
              "..      ...    ...    ...    ...   ...  ...   ...    ...    ...    ...  ..\n",
              "103  Aug-18  24.27  76.87   0.00  1.39  ...     1      1      2      3   0\n",
              "104  Sep-18  25.50  75.73   0.59  1.03  ...     1      1      1      2   1\n",
              "105  Oct-18  26.58  74.94   0.04  1.39  ...     4      1      1      1   1\n",
              "106  Nov-18  26.49  82.28  10.53  1.00  ...     1      4      1      1   1\n",
              "107  Dec-18  26.14  85.45  10.41  0.87  ...     2      1      4      1   1\n",
              "\n",
              "[108 rows x 21 columns]"
            ]
          },
          "metadata": {
            "tags": []
          },
          "execution_count": 3
        }
      ]
    },
    {
      "cell_type": "code",
      "metadata": {
        "colab": {
          "base_uri": "https://localhost:8080/",
          "height": 206
        },
        "id": "8g0rHlb7IuUK",
        "outputId": "eccfbf43-3ffe-4e21-b6bd-9f90fcd93f7b"
      },
      "source": [
        "# mengambil kolom RF, PD, OS dan mengacak dataset\n",
        "data = dataframe[['RF', 'PD', 'OS']]\n",
        "data = shuffle(data)\n",
        "data.head()"
      ],
      "execution_count": 4,
      "outputs": [
        {
          "output_type": "execute_result",
          "data": {
            "text/html": [
              "<div>\n",
              "<style scoped>\n",
              "    .dataframe tbody tr th:only-of-type {\n",
              "        vertical-align: middle;\n",
              "    }\n",
              "\n",
              "    .dataframe tbody tr th {\n",
              "        vertical-align: top;\n",
              "    }\n",
              "\n",
              "    .dataframe thead th {\n",
              "        text-align: right;\n",
              "    }\n",
              "</style>\n",
              "<table border=\"1\" class=\"dataframe\">\n",
              "  <thead>\n",
              "    <tr style=\"text-align: right;\">\n",
              "      <th></th>\n",
              "      <th>RF</th>\n",
              "      <th>PD</th>\n",
              "      <th>OS</th>\n",
              "    </tr>\n",
              "  </thead>\n",
              "  <tbody>\n",
              "    <tr>\n",
              "      <th>50</th>\n",
              "      <td>9.802857</td>\n",
              "      <td>821.35</td>\n",
              "      <td>0</td>\n",
              "    </tr>\n",
              "    <tr>\n",
              "      <th>78</th>\n",
              "      <td>8.540000</td>\n",
              "      <td>835.43</td>\n",
              "      <td>1</td>\n",
              "    </tr>\n",
              "    <tr>\n",
              "      <th>6</th>\n",
              "      <td>2.160000</td>\n",
              "      <td>796.41</td>\n",
              "      <td>0</td>\n",
              "    </tr>\n",
              "    <tr>\n",
              "      <th>29</th>\n",
              "      <td>1.100000</td>\n",
              "      <td>810.05</td>\n",
              "      <td>0</td>\n",
              "    </tr>\n",
              "    <tr>\n",
              "      <th>99</th>\n",
              "      <td>9.770000</td>\n",
              "      <td>844.52</td>\n",
              "      <td>1</td>\n",
              "    </tr>\n",
              "  </tbody>\n",
              "</table>\n",
              "</div>"
            ],
            "text/plain": [
              "          RF      PD  OS\n",
              "50  9.802857  821.35   0\n",
              "78  8.540000  835.43   1\n",
              "6   2.160000  796.41   0\n",
              "29  1.100000  810.05   0\n",
              "99  9.770000  844.52   1"
            ]
          },
          "metadata": {
            "tags": []
          },
          "execution_count": 4
        }
      ]
    },
    {
      "cell_type": "code",
      "metadata": {
        "colab": {
          "base_uri": "https://localhost:8080/"
        },
        "id": "Ejv8i3bnKAEd",
        "outputId": "eab4cdf7-502c-4a99-8410-1c95f7e43e85"
      },
      "source": [
        "#train-test split 80-20\n",
        "train, test = train_test_split(data, test_size=0.2)\n",
        "print(len(train), 'banyak data train')\n",
        "print(len(test), 'banyak data test')\n",
        "\n",
        "#train-test split 70-30\n",
        "#train, test = train_test_split(data, test_size=0.3)\n",
        "#print(len(train), 'banyak data train')\n",
        "#print(len(test), 'banyak data test')"
      ],
      "execution_count": 5,
      "outputs": [
        {
          "output_type": "stream",
          "text": [
            "86 banyak data train\n",
            "22 banyak data test\n"
          ],
          "name": "stdout"
        }
      ]
    },
    {
      "cell_type": "code",
      "metadata": {
        "id": "vXq05qGnKEnl"
      },
      "source": [
        "# A utility method to create a tf.data dataset from a Pandas Dataframe\n",
        "def df_to_dataset(data, batch_size=32):\n",
        "  data = data.copy()\n",
        "  labels = data.pop('OS')\n",
        "  ds = tf.data.Dataset.from_tensor_slices((dict(data), labels))\n",
        "  ds = ds.batch(batch_size)\n",
        "  return ds"
      ],
      "execution_count": 6,
      "outputs": []
    },
    {
      "cell_type": "code",
      "metadata": {
        "id": "jpWQEOXYKFsx"
      },
      "source": [
        "batch_size = 5 # A small batch sized is used for demonstration purposes\n",
        "train_ds = df_to_dataset(train, batch_size=batch_size)\n",
        "test_ds = df_to_dataset(test, batch_size=batch_size)"
      ],
      "execution_count": 7,
      "outputs": []
    },
    {
      "cell_type": "code",
      "metadata": {
        "colab": {
          "base_uri": "https://localhost:8080/"
        },
        "id": "wyYF8XnyKMum",
        "outputId": "33cb5885-57c2-4272-e9e3-0d0cd0d16b2c"
      },
      "source": [
        "for feature_batch, label_batch in train_ds.take(1):\n",
        "  print('Every feature:', list(feature_batch.keys()))\n",
        "  print('RF:', feature_batch['RF'])\n",
        "  print('PD:', feature_batch['PD'])\n",
        "  print('OS:', label_batch)"
      ],
      "execution_count": 8,
      "outputs": [
        {
          "output_type": "stream",
          "text": [
            "Every feature: ['RF', 'PD']\n",
            "RF: tf.Tensor([15.73  0.73  9.23 10.89  3.53], shape=(5,), dtype=float64)\n",
            "PD: tf.Tensor([838.53 802.93 795.82 844.11 828.6 ], shape=(5,), dtype=float64)\n",
            "OS: tf.Tensor([0 0 0 0 0], shape=(5,), dtype=int64)\n"
          ],
          "name": "stdout"
        }
      ]
    },
    {
      "cell_type": "code",
      "metadata": {
        "id": "r0LmfRHLKWTN"
      },
      "source": [
        "feature_columns = []\n",
        "\n",
        "for header in ['RF', 'PD']:\n",
        "  feature_columns.append(feature_column.numeric_column(header))"
      ],
      "execution_count": 9,
      "outputs": []
    },
    {
      "cell_type": "code",
      "metadata": {
        "colab": {
          "base_uri": "https://localhost:8080/"
        },
        "id": "qLLv0_BxKax0",
        "outputId": "cad6dd1f-a118-4241-89ef-8b63518fec73"
      },
      "source": [
        "feature_layer = tf.keras.layers.DenseFeatures(feature_columns)\n",
        "feature_layer"
      ],
      "execution_count": 10,
      "outputs": [
        {
          "output_type": "execute_result",
          "data": {
            "text/plain": [
              "<tensorflow.python.keras.feature_column.dense_features_v2.DenseFeatures at 0x7fca16c17f50>"
            ]
          },
          "metadata": {
            "tags": []
          },
          "execution_count": 10
        }
      ]
    },
    {
      "cell_type": "code",
      "metadata": {
        "id": "FZGts6caKesE"
      },
      "source": [
        "batch_size = 32\n",
        "train_ds = df_to_dataset(train, batch_size=batch_size)\n",
        "test_ds = df_to_dataset(test, batch_size=batch_size)"
      ],
      "execution_count": 14,
      "outputs": []
    },
    {
      "cell_type": "code",
      "metadata": {
        "colab": {
          "base_uri": "https://localhost:8080/"
        },
        "id": "9ZJ3ATJ6KiZE",
        "outputId": "1e34d59b-9432-4e05-9197-f06097008f9c"
      },
      "source": [
        "model = tf.keras.Sequential([\n",
        "  feature_layer,\n",
        "  #layers.Dense(128, activation='relu'),\n",
        "  layers.Dense(64, activation='relu'),\n",
        "  #layers.Dense(32, activation='relu'),\n",
        "  layers.Dense(1, activation='sigmoid')\n",
        "])\n",
        "\n",
        "model.compile(optimizer='adam',\n",
        "              loss='binary_crossentropy',\n",
        "              metrics=['accuracy'])\n",
        "\n",
        "history = model.fit(train_ds,\n",
        "                validation_data=test_ds,\n",
        "                epochs=75)"
      ],
      "execution_count": 19,
      "outputs": [
        {
          "output_type": "stream",
          "text": [
            "Epoch 1/75\n",
            "WARNING:tensorflow:Layers in a Sequential model should only have a single input tensor, but we receive a <class 'dict'> input: {'RF': <tf.Tensor 'ExpandDims_1:0' shape=(None, 1) dtype=float64>, 'PD': <tf.Tensor 'ExpandDims:0' shape=(None, 1) dtype=float64>}\n",
            "Consider rewriting this model with the Functional API.\n",
            "WARNING:tensorflow:Layers in a Sequential model should only have a single input tensor, but we receive a <class 'dict'> input: {'RF': <tf.Tensor 'ExpandDims_1:0' shape=(None, 1) dtype=float64>, 'PD': <tf.Tensor 'ExpandDims:0' shape=(None, 1) dtype=float64>}\n",
            "Consider rewriting this model with the Functional API.\n",
            "1/3 [=========>....................] - ETA: 0s - loss: 104.2227 - accuracy: 0.3438WARNING:tensorflow:Layers in a Sequential model should only have a single input tensor, but we receive a <class 'dict'> input: {'RF': <tf.Tensor 'ExpandDims_1:0' shape=(None, 1) dtype=float64>, 'PD': <tf.Tensor 'ExpandDims:0' shape=(None, 1) dtype=float64>}\n",
            "Consider rewriting this model with the Functional API.\n",
            "3/3 [==============================] - 1s 78ms/step - loss: 118.0344 - accuracy: 0.2093 - val_loss: 65.4521 - val_accuracy: 0.5000\n",
            "Epoch 2/75\n",
            "3/3 [==============================] - 0s 11ms/step - loss: 95.8524 - accuracy: 0.2093 - val_loss: 51.3933 - val_accuracy: 0.5000\n",
            "Epoch 3/75\n",
            "3/3 [==============================] - 0s 11ms/step - loss: 73.6375 - accuracy: 0.2093 - val_loss: 37.3851 - val_accuracy: 0.5000\n",
            "Epoch 4/75\n",
            "3/3 [==============================] - 0s 12ms/step - loss: 51.6208 - accuracy: 0.2093 - val_loss: 23.7133 - val_accuracy: 0.5000\n",
            "Epoch 5/75\n",
            "3/3 [==============================] - 0s 10ms/step - loss: 30.1503 - accuracy: 0.2093 - val_loss: 10.3191 - val_accuracy: 0.5000\n",
            "Epoch 6/75\n",
            "3/3 [==============================] - 0s 10ms/step - loss: 9.0422 - accuracy: 0.2093 - val_loss: 3.1686 - val_accuracy: 0.5000\n",
            "Epoch 7/75\n",
            "3/3 [==============================] - 0s 9ms/step - loss: 2.2019 - accuracy: 0.7907 - val_loss: 13.4462 - val_accuracy: 0.5000\n",
            "Epoch 8/75\n",
            "3/3 [==============================] - 0s 10ms/step - loss: 6.1662 - accuracy: 0.7907 - val_loss: 19.9744 - val_accuracy: 0.5000\n",
            "Epoch 9/75\n",
            "3/3 [==============================] - 0s 13ms/step - loss: 8.6458 - accuracy: 0.7907 - val_loss: 23.6314 - val_accuracy: 0.5000\n",
            "Epoch 10/75\n",
            "3/3 [==============================] - 0s 10ms/step - loss: 9.9962 - accuracy: 0.7907 - val_loss: 25.1258 - val_accuracy: 0.5000\n",
            "Epoch 11/75\n",
            "3/3 [==============================] - 0s 11ms/step - loss: 10.4862 - accuracy: 0.7907 - val_loss: 24.9721 - val_accuracy: 0.5000\n",
            "Epoch 12/75\n",
            "3/3 [==============================] - 0s 10ms/step - loss: 10.3176 - accuracy: 0.7907 - val_loss: 23.5485 - val_accuracy: 0.5000\n",
            "Epoch 13/75\n",
            "3/3 [==============================] - 0s 13ms/step - loss: 9.6414 - accuracy: 0.7907 - val_loss: 21.1411 - val_accuracy: 0.5000\n",
            "Epoch 14/75\n",
            "3/3 [==============================] - 0s 11ms/step - loss: 8.5709 - accuracy: 0.7907 - val_loss: 17.9624 - val_accuracy: 0.5000\n",
            "Epoch 15/75\n",
            "3/3 [==============================] - 0s 10ms/step - loss: 7.1925 - accuracy: 0.7907 - val_loss: 14.1606 - val_accuracy: 0.5000\n",
            "Epoch 16/75\n",
            "3/3 [==============================] - 0s 11ms/step - loss: 5.5722 - accuracy: 0.7907 - val_loss: 9.8808 - val_accuracy: 0.5000\n",
            "Epoch 17/75\n",
            "3/3 [==============================] - 0s 14ms/step - loss: 3.7614 - accuracy: 0.7907 - val_loss: 5.2228 - val_accuracy: 0.5000\n",
            "Epoch 18/75\n",
            "3/3 [==============================] - 0s 12ms/step - loss: 1.8066 - accuracy: 0.7907 - val_loss: 0.9958 - val_accuracy: 0.5455\n",
            "Epoch 19/75\n",
            "3/3 [==============================] - 0s 10ms/step - loss: 1.6635 - accuracy: 0.2907 - val_loss: 1.8921 - val_accuracy: 0.5000\n",
            "Epoch 20/75\n",
            "3/3 [==============================] - 0s 12ms/step - loss: 1.5248 - accuracy: 0.3488 - val_loss: 1.5206 - val_accuracy: 0.5455\n",
            "Epoch 21/75\n",
            "3/3 [==============================] - 0s 11ms/step - loss: 0.8253 - accuracy: 0.7907 - val_loss: 3.6071 - val_accuracy: 0.5000\n",
            "Epoch 22/75\n",
            "3/3 [==============================] - 0s 15ms/step - loss: 1.5530 - accuracy: 0.7907 - val_loss: 3.7641 - val_accuracy: 0.5000\n",
            "Epoch 23/75\n",
            "3/3 [==============================] - 0s 10ms/step - loss: 1.4880 - accuracy: 0.7907 - val_loss: 2.3647 - val_accuracy: 0.5000\n",
            "Epoch 24/75\n",
            "3/3 [==============================] - 0s 14ms/step - loss: 0.8820 - accuracy: 0.7791 - val_loss: 0.9819 - val_accuracy: 0.5455\n",
            "Epoch 25/75\n",
            "3/3 [==============================] - 0s 10ms/step - loss: 0.9226 - accuracy: 0.4535 - val_loss: 0.9857 - val_accuracy: 0.5000\n",
            "Epoch 26/75\n",
            "3/3 [==============================] - 0s 9ms/step - loss: 0.5370 - accuracy: 0.6977 - val_loss: 1.7114 - val_accuracy: 0.5455\n",
            "Epoch 27/75\n",
            "3/3 [==============================] - 0s 12ms/step - loss: 0.7570 - accuracy: 0.7907 - val_loss: 1.8690 - val_accuracy: 0.5000\n",
            "Epoch 28/75\n",
            "3/3 [==============================] - 0s 10ms/step - loss: 0.7453 - accuracy: 0.7907 - val_loss: 1.1034 - val_accuracy: 0.5455\n",
            "Epoch 29/75\n",
            "3/3 [==============================] - 0s 9ms/step - loss: 0.6522 - accuracy: 0.6744 - val_loss: 0.9749 - val_accuracy: 0.5000\n",
            "Epoch 30/75\n",
            "3/3 [==============================] - 0s 9ms/step - loss: 0.5503 - accuracy: 0.7093 - val_loss: 1.2814 - val_accuracy: 0.5000\n",
            "Epoch 31/75\n",
            "3/3 [==============================] - 0s 10ms/step - loss: 0.5804 - accuracy: 0.7907 - val_loss: 1.4241 - val_accuracy: 0.5455\n",
            "Epoch 32/75\n",
            "3/3 [==============================] - 0s 10ms/step - loss: 0.6133 - accuracy: 0.7907 - val_loss: 1.0564 - val_accuracy: 0.5000\n",
            "Epoch 33/75\n",
            "3/3 [==============================] - 0s 13ms/step - loss: 0.5858 - accuracy: 0.7093 - val_loss: 1.0074 - val_accuracy: 0.5000\n",
            "Epoch 34/75\n",
            "3/3 [==============================] - 0s 10ms/step - loss: 0.5218 - accuracy: 0.7326 - val_loss: 1.2321 - val_accuracy: 0.5000\n",
            "Epoch 35/75\n",
            "3/3 [==============================] - 0s 12ms/step - loss: 0.5597 - accuracy: 0.7791 - val_loss: 1.2050 - val_accuracy: 0.5000\n",
            "Epoch 36/75\n",
            "3/3 [==============================] - 0s 13ms/step - loss: 0.5678 - accuracy: 0.7558 - val_loss: 1.0246 - val_accuracy: 0.5000\n",
            "Epoch 37/75\n",
            "3/3 [==============================] - 0s 10ms/step - loss: 0.5470 - accuracy: 0.7093 - val_loss: 1.0711 - val_accuracy: 0.5000\n",
            "Epoch 38/75\n",
            "3/3 [==============================] - 0s 10ms/step - loss: 0.5250 - accuracy: 0.7558 - val_loss: 1.1840 - val_accuracy: 0.5000\n",
            "Epoch 39/75\n",
            "3/3 [==============================] - 0s 15ms/step - loss: 0.5518 - accuracy: 0.7674 - val_loss: 1.0874 - val_accuracy: 0.5455\n",
            "Epoch 40/75\n",
            "3/3 [==============================] - 0s 15ms/step - loss: 0.5482 - accuracy: 0.7326 - val_loss: 1.0346 - val_accuracy: 0.5000\n",
            "Epoch 41/75\n",
            "3/3 [==============================] - 0s 13ms/step - loss: 0.5280 - accuracy: 0.7326 - val_loss: 1.1120 - val_accuracy: 0.5000\n",
            "Epoch 42/75\n",
            "3/3 [==============================] - 0s 12ms/step - loss: 0.5350 - accuracy: 0.7558 - val_loss: 1.1101 - val_accuracy: 0.5000\n",
            "Epoch 43/75\n",
            "3/3 [==============================] - 0s 13ms/step - loss: 0.5433 - accuracy: 0.7442 - val_loss: 1.0429 - val_accuracy: 0.5000\n",
            "Epoch 44/75\n",
            "3/3 [==============================] - 0s 11ms/step - loss: 0.5330 - accuracy: 0.7442 - val_loss: 1.0663 - val_accuracy: 0.5455\n",
            "Epoch 45/75\n",
            "3/3 [==============================] - 0s 10ms/step - loss: 0.5281 - accuracy: 0.7558 - val_loss: 1.0967 - val_accuracy: 0.5000\n",
            "Epoch 46/75\n",
            "3/3 [==============================] - 0s 10ms/step - loss: 0.5369 - accuracy: 0.7558 - val_loss: 1.0540 - val_accuracy: 0.5455\n",
            "Epoch 47/75\n",
            "3/3 [==============================] - 0s 11ms/step - loss: 0.5337 - accuracy: 0.7442 - val_loss: 1.0468 - val_accuracy: 0.5455\n",
            "Epoch 48/75\n",
            "3/3 [==============================] - 0s 12ms/step - loss: 0.5270 - accuracy: 0.7558 - val_loss: 1.0745 - val_accuracy: 0.5000\n",
            "Epoch 49/75\n",
            "3/3 [==============================] - 0s 11ms/step - loss: 0.5317 - accuracy: 0.7558 - val_loss: 1.0558 - val_accuracy: 0.5000\n",
            "Epoch 50/75\n",
            "3/3 [==============================] - 0s 11ms/step - loss: 0.5321 - accuracy: 0.7558 - val_loss: 1.0391 - val_accuracy: 0.5000\n",
            "Epoch 51/75\n",
            "3/3 [==============================] - 0s 10ms/step - loss: 0.5269 - accuracy: 0.7558 - val_loss: 1.0560 - val_accuracy: 0.5000\n",
            "Epoch 52/75\n",
            "3/3 [==============================] - 0s 16ms/step - loss: 0.5284 - accuracy: 0.7558 - val_loss: 1.0504 - val_accuracy: 0.5000\n",
            "Epoch 53/75\n",
            "3/3 [==============================] - 0s 10ms/step - loss: 0.5299 - accuracy: 0.7674 - val_loss: 1.0347 - val_accuracy: 0.5000\n",
            "Epoch 54/75\n",
            "3/3 [==============================] - 0s 11ms/step - loss: 0.5265 - accuracy: 0.7558 - val_loss: 1.0428 - val_accuracy: 0.5000\n",
            "Epoch 55/75\n",
            "3/3 [==============================] - 0s 12ms/step - loss: 0.5264 - accuracy: 0.7674 - val_loss: 1.0423 - val_accuracy: 0.5000\n",
            "Epoch 56/75\n",
            "3/3 [==============================] - 0s 11ms/step - loss: 0.5278 - accuracy: 0.7674 - val_loss: 1.0303 - val_accuracy: 0.5000\n",
            "Epoch 57/75\n",
            "3/3 [==============================] - 0s 15ms/step - loss: 0.5258 - accuracy: 0.7674 - val_loss: 1.0335 - val_accuracy: 0.5000\n",
            "Epoch 58/75\n",
            "3/3 [==============================] - 0s 21ms/step - loss: 0.5252 - accuracy: 0.7907 - val_loss: 1.0341 - val_accuracy: 0.5000\n",
            "Epoch 59/75\n",
            "3/3 [==============================] - 0s 12ms/step - loss: 0.5261 - accuracy: 0.7907 - val_loss: 1.0256 - val_accuracy: 0.5000\n",
            "Epoch 60/75\n",
            "3/3 [==============================] - 0s 13ms/step - loss: 0.5249 - accuracy: 0.7907 - val_loss: 1.0263 - val_accuracy: 0.5000\n",
            "Epoch 61/75\n",
            "3/3 [==============================] - 0s 11ms/step - loss: 0.5242 - accuracy: 0.7907 - val_loss: 1.0267 - val_accuracy: 0.5000\n",
            "Epoch 62/75\n",
            "3/3 [==============================] - 0s 11ms/step - loss: 0.5248 - accuracy: 0.7907 - val_loss: 1.0208 - val_accuracy: 0.5000\n",
            "Epoch 63/75\n",
            "3/3 [==============================] - 0s 10ms/step - loss: 0.5240 - accuracy: 0.7907 - val_loss: 1.0206 - val_accuracy: 0.5000\n",
            "Epoch 64/75\n",
            "3/3 [==============================] - 0s 11ms/step - loss: 0.5235 - accuracy: 0.7907 - val_loss: 1.0204 - val_accuracy: 0.5000\n",
            "Epoch 65/75\n",
            "3/3 [==============================] - 0s 12ms/step - loss: 0.5238 - accuracy: 0.7907 - val_loss: 1.0162 - val_accuracy: 0.5000\n",
            "Epoch 66/75\n",
            "3/3 [==============================] - 0s 12ms/step - loss: 0.5232 - accuracy: 0.7907 - val_loss: 1.0157 - val_accuracy: 0.5455\n",
            "Epoch 67/75\n",
            "3/3 [==============================] - 0s 12ms/step - loss: 0.5229 - accuracy: 0.7907 - val_loss: 1.0152 - val_accuracy: 0.5455\n",
            "Epoch 68/75\n",
            "3/3 [==============================] - 0s 12ms/step - loss: 0.5231 - accuracy: 0.7907 - val_loss: 1.0121 - val_accuracy: 0.5455\n",
            "Epoch 69/75\n",
            "3/3 [==============================] - 0s 10ms/step - loss: 0.5226 - accuracy: 0.7907 - val_loss: 1.0116 - val_accuracy: 0.5455\n",
            "Epoch 70/75\n",
            "3/3 [==============================] - 0s 12ms/step - loss: 0.5224 - accuracy: 0.7907 - val_loss: 1.0108 - val_accuracy: 0.5455\n",
            "Epoch 71/75\n",
            "3/3 [==============================] - 0s 11ms/step - loss: 0.5225 - accuracy: 0.7907 - val_loss: 1.0086 - val_accuracy: 0.5455\n",
            "Epoch 72/75\n",
            "3/3 [==============================] - 0s 11ms/step - loss: 0.5222 - accuracy: 0.7907 - val_loss: 1.0081 - val_accuracy: 0.5455\n",
            "Epoch 73/75\n",
            "3/3 [==============================] - 0s 14ms/step - loss: 0.5221 - accuracy: 0.7907 - val_loss: 1.0071 - val_accuracy: 0.5455\n",
            "Epoch 74/75\n",
            "3/3 [==============================] - 0s 11ms/step - loss: 0.5221 - accuracy: 0.7907 - val_loss: 1.0056 - val_accuracy: 0.5455\n",
            "Epoch 75/75\n",
            "3/3 [==============================] - 0s 11ms/step - loss: 0.5219 - accuracy: 0.7907 - val_loss: 1.0051 - val_accuracy: 0.5455\n"
          ],
          "name": "stdout"
        }
      ]
    },
    {
      "cell_type": "code",
      "metadata": {
        "colab": {
          "base_uri": "https://localhost:8080/",
          "height": 591
        },
        "id": "qQyHw_maKmQK",
        "outputId": "b038bdce-8adb-4718-9d40-9a1e5f1c4e25"
      },
      "source": [
        "import matplotlib.pyplot as plt\n",
        "\n",
        "print(history.history.keys())\n",
        "# summarize history for accuracy\n",
        "plt.plot(history.history['accuracy'])\n",
        "plt.plot(history.history['val_accuracy'])\n",
        "plt.title('model accuracy')\n",
        "plt.ylabel('accuracy')\n",
        "plt.xlabel('epoch')\n",
        "plt.legend(['train', 'test'], loc='upper left')\n",
        "plt.show()\n",
        "# summarize history for loss\n",
        "plt.plot(history.history['loss'])\n",
        "plt.plot(history.history['val_loss'])\n",
        "plt.title('model loss')\n",
        "plt.ylabel('loss')\n",
        "plt.xlabel('epoch')\n",
        "plt.legend(['train', 'test'], loc='upper left')\n",
        "plt.show()"
      ],
      "execution_count": 20,
      "outputs": [
        {
          "output_type": "stream",
          "text": [
            "dict_keys(['loss', 'accuracy', 'val_loss', 'val_accuracy'])\n"
          ],
          "name": "stdout"
        },
        {
          "output_type": "display_data",
          "data": {
            "image/png": "[encoded data removed]",
            "text/plain": [
              "<Figure size 432x288 with 1 Axes>"
            ]
          },
          "metadata": {
            "tags": [],
            "needs_background": "light"
          }
        },
        {
          "output_type": "display_data",
          "data": {
            "image/png": "[encoded data removed]",
            "text/plain": [
              "<Figure size 432x288 with 1 Axes>"
            ]
          },
          "metadata": {
            "tags": [],
            "needs_background": "light"
          }
        }
      ]
    }
  ]
}