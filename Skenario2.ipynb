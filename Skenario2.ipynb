{
  "nbformat": 4,
  "nbformat_minor": 0,
  "metadata": {
    "colab": {
      "name": "Skenario2.ipynb",
      "provenance": [],
      "include_colab_link": true
    },
    "kernelspec": {
      "name": "python3",
      "display_name": "Python 3"
    },
    "language_info": {
      "name": "python"
    }
  },
  "cells": [
    {
      "cell_type": "markdown",
      "metadata": {
        "id": "view-in-github",
        "colab_type": "text"
      },
      "source": [
        "<a href=\"https://colab.research.google.com/github/martinpdab/tugasscdl/blob/main/Skenario2.ipynb\" target=\"_parent\"><img src=\"https://colab.research.google.com/assets/colab-badge.svg\" alt=\"Open In Colab\"/></a>"
      ]
    },
    {
      "cell_type": "code",
      "metadata": {
        "colab": {
          "base_uri": "https://localhost:8080/"
        },
        "id": "bw-vGlf27awm",
        "outputId": "7d51238c-2b15-471a-df28-2f411098854b"
      },
      "source": [
        "!pip install sklearn"
      ],
      "execution_count": 1,
      "outputs": [
        {
          "output_type": "stream",
          "text": [
            "Requirement already satisfied: sklearn in /usr/local/lib/python3.7/dist-packages (0.0)\n",
            "Requirement already satisfied: scikit-learn in /usr/local/lib/python3.7/dist-packages (from sklearn) (0.22.2.post1)\n",
            "Requirement already satisfied: scipy>=0.17.0 in /usr/local/lib/python3.7/dist-packages (from scikit-learn->sklearn) (1.4.1)\n",
            "Requirement already satisfied: joblib>=0.11 in /usr/local/lib/python3.7/dist-packages (from scikit-learn->sklearn) (1.0.1)\n",
            "Requirement already satisfied: numpy>=1.11.0 in /usr/local/lib/python3.7/dist-packages (from scikit-learn->sklearn) (1.19.5)\n"
          ],
          "name": "stdout"
        }
      ]
    },
    {
      "cell_type": "code",
      "metadata": {
        "id": "zH5nkVBE8MQ9"
      },
      "source": [
        "import numpy as np\n",
        "import pandas as pd\n",
        "\n",
        "try:\n",
        "  # %tensorflow_version only exists in Colab.\n",
        "  %tensorflow_version 2.x\n",
        "except Exception:\n",
        "  pass\n",
        "import tensorflow as tf\n",
        "\n",
        "from tensorflow import feature_column\n",
        "from tensorflow.keras import layers\n",
        "from sklearn.model_selection import train_test_split\n",
        "from sklearn.utils import shuffle"
      ],
      "execution_count": 2,
      "outputs": []
    },
    {
      "cell_type": "code",
      "metadata": {
        "colab": {
          "base_uri": "https://localhost:8080/",
          "height": 424
        },
        "id": "G9fDchOD8UKh",
        "outputId": "6e75284f-f6b2-481e-ffec-4f545306a160"
      },
      "source": [
        "#memakai dataset\n",
        "URL = 'https://raw.githubusercontent.com/martinpdab/tugasscdl/main/dataset_fixed(1).csv' \n",
        "dataframe = pd.read_csv(URL)\n",
        "dataframe"
      ],
      "execution_count": 3,
      "outputs": [
        {
          "output_type": "execute_result",
          "data": {
            "text/html": [
              "<div>\n",
              "<style scoped>\n",
              "    .dataframe tbody tr th:only-of-type {\n",
              "        vertical-align: middle;\n",
              "    }\n",
              "\n",
              "    .dataframe tbody tr th {\n",
              "        vertical-align: top;\n",
              "    }\n",
              "\n",
              "    .dataframe thead th {\n",
              "        text-align: right;\n",
              "    }\n",
              "</style>\n",
              "<table border=\"1\" class=\"dataframe\">\n",
              "  <thead>\n",
              "    <tr style=\"text-align: right;\">\n",
              "      <th></th>\n",
              "      <th>TE</th>\n",
              "      <th>HU</th>\n",
              "      <th>RF</th>\n",
              "      <th>WS</th>\n",
              "      <th>PD</th>\n",
              "      <th>ABJ</th>\n",
              "      <th>LAG0</th>\n",
              "      <th>LAG1</th>\n",
              "      <th>LAG2</th>\n",
              "      <th>LAG3</th>\n",
              "      <th>LAG4</th>\n",
              "      <th>LAG5</th>\n",
              "      <th>LAG6</th>\n",
              "      <th>LAG7</th>\n",
              "      <th>LAG8</th>\n",
              "      <th>LAG9</th>\n",
              "      <th>LAG10</th>\n",
              "      <th>LAG11</th>\n",
              "      <th>LAG12</th>\n",
              "      <th>OS</th>\n",
              "    </tr>\n",
              "  </thead>\n",
              "  <tbody>\n",
              "    <tr>\n",
              "      <th>0</th>\n",
              "      <td>26.02</td>\n",
              "      <td>84.74</td>\n",
              "      <td>10.52</td>\n",
              "      <td>0.84</td>\n",
              "      <td>792.86</td>\n",
              "      <td>86.96</td>\n",
              "      <td>1</td>\n",
              "      <td>4</td>\n",
              "      <td>6</td>\n",
              "      <td>4</td>\n",
              "      <td>4</td>\n",
              "      <td>1</td>\n",
              "      <td>4</td>\n",
              "      <td>3</td>\n",
              "      <td>3</td>\n",
              "      <td>5</td>\n",
              "      <td>2</td>\n",
              "      <td>1</td>\n",
              "      <td>4</td>\n",
              "      <td>0</td>\n",
              "    </tr>\n",
              "    <tr>\n",
              "      <th>1</th>\n",
              "      <td>26.32</td>\n",
              "      <td>84.64</td>\n",
              "      <td>12.04</td>\n",
              "      <td>0.86</td>\n",
              "      <td>793.45</td>\n",
              "      <td>86.72</td>\n",
              "      <td>3</td>\n",
              "      <td>1</td>\n",
              "      <td>4</td>\n",
              "      <td>6</td>\n",
              "      <td>4</td>\n",
              "      <td>4</td>\n",
              "      <td>1</td>\n",
              "      <td>4</td>\n",
              "      <td>3</td>\n",
              "      <td>3</td>\n",
              "      <td>5</td>\n",
              "      <td>2</td>\n",
              "      <td>1</td>\n",
              "      <td>1</td>\n",
              "    </tr>\n",
              "    <tr>\n",
              "      <th>2</th>\n",
              "      <td>26.39</td>\n",
              "      <td>85.00</td>\n",
              "      <td>8.65</td>\n",
              "      <td>0.55</td>\n",
              "      <td>794.04</td>\n",
              "      <td>86.50</td>\n",
              "      <td>0</td>\n",
              "      <td>3</td>\n",
              "      <td>1</td>\n",
              "      <td>4</td>\n",
              "      <td>6</td>\n",
              "      <td>4</td>\n",
              "      <td>4</td>\n",
              "      <td>1</td>\n",
              "      <td>4</td>\n",
              "      <td>3</td>\n",
              "      <td>3</td>\n",
              "      <td>5</td>\n",
              "      <td>2</td>\n",
              "      <td>0</td>\n",
              "    </tr>\n",
              "    <tr>\n",
              "      <th>3</th>\n",
              "      <td>26.29</td>\n",
              "      <td>86.17</td>\n",
              "      <td>10.37</td>\n",
              "      <td>0.30</td>\n",
              "      <td>794.63</td>\n",
              "      <td>86.28</td>\n",
              "      <td>1</td>\n",
              "      <td>0</td>\n",
              "      <td>3</td>\n",
              "      <td>1</td>\n",
              "      <td>4</td>\n",
              "      <td>6</td>\n",
              "      <td>4</td>\n",
              "      <td>4</td>\n",
              "      <td>1</td>\n",
              "      <td>4</td>\n",
              "      <td>3</td>\n",
              "      <td>3</td>\n",
              "      <td>5</td>\n",
              "      <td>0</td>\n",
              "    </tr>\n",
              "    <tr>\n",
              "      <th>4</th>\n",
              "      <td>26.57</td>\n",
              "      <td>85.61</td>\n",
              "      <td>7.35</td>\n",
              "      <td>0.58</td>\n",
              "      <td>795.22</td>\n",
              "      <td>86.08</td>\n",
              "      <td>0</td>\n",
              "      <td>1</td>\n",
              "      <td>0</td>\n",
              "      <td>3</td>\n",
              "      <td>1</td>\n",
              "      <td>4</td>\n",
              "      <td>6</td>\n",
              "      <td>4</td>\n",
              "      <td>4</td>\n",
              "      <td>1</td>\n",
              "      <td>4</td>\n",
              "      <td>3</td>\n",
              "      <td>3</td>\n",
              "      <td>0</td>\n",
              "    </tr>\n",
              "    <tr>\n",
              "      <th>...</th>\n",
              "      <td>...</td>\n",
              "      <td>...</td>\n",
              "      <td>...</td>\n",
              "      <td>...</td>\n",
              "      <td>...</td>\n",
              "      <td>...</td>\n",
              "      <td>...</td>\n",
              "      <td>...</td>\n",
              "      <td>...</td>\n",
              "      <td>...</td>\n",
              "      <td>...</td>\n",
              "      <td>...</td>\n",
              "      <td>...</td>\n",
              "      <td>...</td>\n",
              "      <td>...</td>\n",
              "      <td>...</td>\n",
              "      <td>...</td>\n",
              "      <td>...</td>\n",
              "      <td>...</td>\n",
              "      <td>...</td>\n",
              "    </tr>\n",
              "    <tr>\n",
              "      <th>84</th>\n",
              "      <td>24.27</td>\n",
              "      <td>76.87</td>\n",
              "      <td>0.00</td>\n",
              "      <td>1.39</td>\n",
              "      <td>846.18</td>\n",
              "      <td>96.29</td>\n",
              "      <td>1</td>\n",
              "      <td>4</td>\n",
              "      <td>3</td>\n",
              "      <td>3</td>\n",
              "      <td>5</td>\n",
              "      <td>2</td>\n",
              "      <td>1</td>\n",
              "      <td>4</td>\n",
              "      <td>1</td>\n",
              "      <td>1</td>\n",
              "      <td>1</td>\n",
              "      <td>2</td>\n",
              "      <td>3</td>\n",
              "      <td>0</td>\n",
              "    </tr>\n",
              "    <tr>\n",
              "      <th>85</th>\n",
              "      <td>25.50</td>\n",
              "      <td>75.73</td>\n",
              "      <td>0.59</td>\n",
              "      <td>1.03</td>\n",
              "      <td>846.59</td>\n",
              "      <td>93.34</td>\n",
              "      <td>4</td>\n",
              "      <td>1</td>\n",
              "      <td>4</td>\n",
              "      <td>3</td>\n",
              "      <td>3</td>\n",
              "      <td>5</td>\n",
              "      <td>2</td>\n",
              "      <td>1</td>\n",
              "      <td>4</td>\n",
              "      <td>1</td>\n",
              "      <td>1</td>\n",
              "      <td>1</td>\n",
              "      <td>2</td>\n",
              "      <td>1</td>\n",
              "    </tr>\n",
              "    <tr>\n",
              "      <th>86</th>\n",
              "      <td>26.58</td>\n",
              "      <td>74.94</td>\n",
              "      <td>0.04</td>\n",
              "      <td>1.39</td>\n",
              "      <td>847.01</td>\n",
              "      <td>96.10</td>\n",
              "      <td>4</td>\n",
              "      <td>4</td>\n",
              "      <td>1</td>\n",
              "      <td>4</td>\n",
              "      <td>3</td>\n",
              "      <td>3</td>\n",
              "      <td>5</td>\n",
              "      <td>2</td>\n",
              "      <td>1</td>\n",
              "      <td>4</td>\n",
              "      <td>1</td>\n",
              "      <td>1</td>\n",
              "      <td>1</td>\n",
              "      <td>1</td>\n",
              "    </tr>\n",
              "    <tr>\n",
              "      <th>87</th>\n",
              "      <td>26.49</td>\n",
              "      <td>82.28</td>\n",
              "      <td>10.53</td>\n",
              "      <td>1.00</td>\n",
              "      <td>847.42</td>\n",
              "      <td>96.38</td>\n",
              "      <td>6</td>\n",
              "      <td>4</td>\n",
              "      <td>4</td>\n",
              "      <td>1</td>\n",
              "      <td>4</td>\n",
              "      <td>3</td>\n",
              "      <td>3</td>\n",
              "      <td>5</td>\n",
              "      <td>2</td>\n",
              "      <td>1</td>\n",
              "      <td>4</td>\n",
              "      <td>1</td>\n",
              "      <td>1</td>\n",
              "      <td>1</td>\n",
              "    </tr>\n",
              "    <tr>\n",
              "      <th>88</th>\n",
              "      <td>26.14</td>\n",
              "      <td>85.45</td>\n",
              "      <td>10.41</td>\n",
              "      <td>0.87</td>\n",
              "      <td>847.84</td>\n",
              "      <td>95.35</td>\n",
              "      <td>4</td>\n",
              "      <td>6</td>\n",
              "      <td>4</td>\n",
              "      <td>4</td>\n",
              "      <td>1</td>\n",
              "      <td>4</td>\n",
              "      <td>3</td>\n",
              "      <td>3</td>\n",
              "      <td>5</td>\n",
              "      <td>2</td>\n",
              "      <td>1</td>\n",
              "      <td>4</td>\n",
              "      <td>1</td>\n",
              "      <td>1</td>\n",
              "    </tr>\n",
              "  </tbody>\n",
              "</table>\n",
              "<p>89 rows × 20 columns</p>\n",
              "</div>"
            ],
            "text/plain": [
              "       TE     HU     RF    WS      PD  ...  LAG9  LAG10  LAG11  LAG12  OS\n",
              "0   26.02  84.74  10.52  0.84  792.86  ...     5      2      1      4   0\n",
              "1   26.32  84.64  12.04  0.86  793.45  ...     3      5      2      1   1\n",
              "2   26.39  85.00   8.65  0.55  794.04  ...     3      3      5      2   0\n",
              "3   26.29  86.17  10.37  0.30  794.63  ...     4      3      3      5   0\n",
              "4   26.57  85.61   7.35  0.58  795.22  ...     1      4      3      3   0\n",
              "..    ...    ...    ...   ...     ...  ...   ...    ...    ...    ...  ..\n",
              "84  24.27  76.87   0.00  1.39  846.18  ...     1      1      2      3   0\n",
              "85  25.50  75.73   0.59  1.03  846.59  ...     1      1      1      2   1\n",
              "86  26.58  74.94   0.04  1.39  847.01  ...     4      1      1      1   1\n",
              "87  26.49  82.28  10.53  1.00  847.42  ...     1      4      1      1   1\n",
              "88  26.14  85.45  10.41  0.87  847.84  ...     2      1      4      1   1\n",
              "\n",
              "[89 rows x 20 columns]"
            ]
          },
          "metadata": {
            "tags": []
          },
          "execution_count": 3
        }
      ]
    },
    {
      "cell_type": "code",
      "metadata": {
        "colab": {
          "base_uri": "https://localhost:8080/",
          "height": 206
        },
        "id": "7-hWdVo-8ZRK",
        "outputId": "3f0b6e5e-5355-403b-c99f-645a992635d5"
      },
      "source": [
        "#mengambil kolom LAG0 sampai LAG12 dan OS dan mengacak dataset\n",
        "data = dataframe[[ 'LAG0', 'LAG1', 'LAG2', 'LAG3', 'LAG4', 'LAG5', 'LAG6', 'LAG7', 'LAG8', 'LAG9', 'LAG10', 'LAG11', 'LAG12', 'OS' ]]\n",
        "data = shuffle(data)\n",
        "data.head()"
      ],
      "execution_count": 4,
      "outputs": [
        {
          "output_type": "execute_result",
          "data": {
            "text/html": [
              "<div>\n",
              "<style scoped>\n",
              "    .dataframe tbody tr th:only-of-type {\n",
              "        vertical-align: middle;\n",
              "    }\n",
              "\n",
              "    .dataframe tbody tr th {\n",
              "        vertical-align: top;\n",
              "    }\n",
              "\n",
              "    .dataframe thead th {\n",
              "        text-align: right;\n",
              "    }\n",
              "</style>\n",
              "<table border=\"1\" class=\"dataframe\">\n",
              "  <thead>\n",
              "    <tr style=\"text-align: right;\">\n",
              "      <th></th>\n",
              "      <th>LAG0</th>\n",
              "      <th>LAG1</th>\n",
              "      <th>LAG2</th>\n",
              "      <th>LAG3</th>\n",
              "      <th>LAG4</th>\n",
              "      <th>LAG5</th>\n",
              "      <th>LAG6</th>\n",
              "      <th>LAG7</th>\n",
              "      <th>LAG8</th>\n",
              "      <th>LAG9</th>\n",
              "      <th>LAG10</th>\n",
              "      <th>LAG11</th>\n",
              "      <th>LAG12</th>\n",
              "      <th>OS</th>\n",
              "    </tr>\n",
              "  </thead>\n",
              "  <tbody>\n",
              "    <tr>\n",
              "      <th>60</th>\n",
              "      <td>5</td>\n",
              "      <td>0</td>\n",
              "      <td>0</td>\n",
              "      <td>0</td>\n",
              "      <td>0</td>\n",
              "      <td>0</td>\n",
              "      <td>0</td>\n",
              "      <td>0</td>\n",
              "      <td>0</td>\n",
              "      <td>0</td>\n",
              "      <td>0</td>\n",
              "      <td>0</td>\n",
              "      <td>5</td>\n",
              "      <td>1</td>\n",
              "    </tr>\n",
              "    <tr>\n",
              "      <th>15</th>\n",
              "      <td>2</td>\n",
              "      <td>1</td>\n",
              "      <td>1</td>\n",
              "      <td>3</td>\n",
              "      <td>1</td>\n",
              "      <td>0</td>\n",
              "      <td>0</td>\n",
              "      <td>0</td>\n",
              "      <td>0</td>\n",
              "      <td>0</td>\n",
              "      <td>0</td>\n",
              "      <td>0</td>\n",
              "      <td>0</td>\n",
              "      <td>1</td>\n",
              "    </tr>\n",
              "    <tr>\n",
              "      <th>85</th>\n",
              "      <td>4</td>\n",
              "      <td>1</td>\n",
              "      <td>4</td>\n",
              "      <td>3</td>\n",
              "      <td>3</td>\n",
              "      <td>5</td>\n",
              "      <td>2</td>\n",
              "      <td>1</td>\n",
              "      <td>4</td>\n",
              "      <td>1</td>\n",
              "      <td>1</td>\n",
              "      <td>1</td>\n",
              "      <td>2</td>\n",
              "      <td>1</td>\n",
              "    </tr>\n",
              "    <tr>\n",
              "      <th>3</th>\n",
              "      <td>1</td>\n",
              "      <td>0</td>\n",
              "      <td>3</td>\n",
              "      <td>1</td>\n",
              "      <td>4</td>\n",
              "      <td>6</td>\n",
              "      <td>4</td>\n",
              "      <td>4</td>\n",
              "      <td>1</td>\n",
              "      <td>4</td>\n",
              "      <td>3</td>\n",
              "      <td>3</td>\n",
              "      <td>5</td>\n",
              "      <td>0</td>\n",
              "    </tr>\n",
              "    <tr>\n",
              "      <th>66</th>\n",
              "      <td>1</td>\n",
              "      <td>5</td>\n",
              "      <td>3</td>\n",
              "      <td>3</td>\n",
              "      <td>2</td>\n",
              "      <td>1</td>\n",
              "      <td>1</td>\n",
              "      <td>2</td>\n",
              "      <td>2</td>\n",
              "      <td>6</td>\n",
              "      <td>2</td>\n",
              "      <td>2</td>\n",
              "      <td>2</td>\n",
              "      <td>0</td>\n",
              "    </tr>\n",
              "  </tbody>\n",
              "</table>\n",
              "</div>"
            ],
            "text/plain": [
              "    LAG0  LAG1  LAG2  LAG3  LAG4  LAG5  ...  LAG8  LAG9  LAG10  LAG11  LAG12  OS\n",
              "60     5     0     0     0     0     0  ...     0     0      0      0      5   1\n",
              "15     2     1     1     3     1     0  ...     0     0      0      0      0   1\n",
              "85     4     1     4     3     3     5  ...     4     1      1      1      2   1\n",
              "3      1     0     3     1     4     6  ...     1     4      3      3      5   0\n",
              "66     1     5     3     3     2     1  ...     2     6      2      2      2   0\n",
              "\n",
              "[5 rows x 14 columns]"
            ]
          },
          "metadata": {
            "tags": []
          },
          "execution_count": 4
        }
      ]
    },
    {
      "cell_type": "code",
      "metadata": {
        "colab": {
          "base_uri": "https://localhost:8080/"
        },
        "id": "oOguaLHz9rX3",
        "outputId": "88936a12-75e9-4997-9a1d-eb7e6e95ed0f"
      },
      "source": [
        "#train-test split 80-20\n",
        "train, test = train_test_split(data, test_size=0.2)\n",
        "print(len(train), 'banyak data train')\n",
        "print(len(test), 'banyak data test')\n",
        "\n",
        "#train-test split 70-30\n",
        "train1, test1 = train_test_split(data, test_size=0.3)\n",
        "print(len(train1), 'banyak data train')\n",
        "print(len(test1), 'banyak data test')"
      ],
      "execution_count": 12,
      "outputs": [
        {
          "output_type": "stream",
          "text": [
            "71 banyak data train\n",
            "18 banyak data test\n",
            "62 banyak data train\n",
            "27 banyak data test\n"
          ],
          "name": "stdout"
        }
      ]
    },
    {
      "cell_type": "code",
      "metadata": {
        "id": "hy8nz511-KGo"
      },
      "source": [
        "#memisahkan label\n",
        "def df_to_dataset(data, batch_size=32):\n",
        "  data = data.copy()\n",
        "  labels = data.pop('OS')\n",
        "  ds = tf.data.Dataset.from_tensor_slices((dict(data), labels))\n",
        "  ds = ds.batch(batch_size)\n",
        "  return ds"
      ],
      "execution_count": 6,
      "outputs": []
    },
    {
      "cell_type": "code",
      "metadata": {
        "id": "tO3uJ9QG-wym"
      },
      "source": [
        "batch_size = 10 #menggunakan df_to_dataset\n",
        "train_ds = df_to_dataset(train, batch_size=batch_size)\n",
        "test_ds = df_to_dataset(test, batch_size=batch_size)\n",
        "\n",
        "train_ds1 = df_to_dataset(train1, batch_size=batch_size)\n",
        "test_ds1 = df_to_dataset(test1, batch_size=batch_size)"
      ],
      "execution_count": 13,
      "outputs": []
    },
    {
      "cell_type": "code",
      "metadata": {
        "colab": {
          "base_uri": "https://localhost:8080/"
        },
        "id": "Jebs-hAK_ZQI",
        "outputId": "468093c2-e146-4582-9904-f3b2fc98ff55"
      },
      "source": [
        "for feature_batch, label_batch in train_ds.take(1):\n",
        "  print('Every feature:', list(feature_batch.keys()))\n",
        "  print('LAG0:', feature_batch['LAG0'])\n",
        "  print('LAG1:', feature_batch['LAG1'])\n",
        "  print('OS:', label_batch)"
      ],
      "execution_count": 8,
      "outputs": [
        {
          "output_type": "stream",
          "text": [
            "Every feature: ['LAG0', 'LAG1', 'LAG2', 'LAG3', 'LAG4', 'LAG5', 'LAG6', 'LAG7', 'LAG8', 'LAG9', 'LAG10', 'LAG11', 'LAG12']\n",
            "LAG0: tf.Tensor([0 0 1 1 1], shape=(5,), dtype=int64)\n",
            "LAG1: tf.Tensor([0 3 0 2 1], shape=(5,), dtype=int64)\n",
            "OS: tf.Tensor([0 0 0 0 0], shape=(5,), dtype=int64)\n"
          ],
          "name": "stdout"
        }
      ]
    },
    {
      "cell_type": "code",
      "metadata": {
        "id": "qwjrSVkwEeD0"
      },
      "source": [
        "feature_columns = []\n",
        "\n",
        "for header in ['LAG0', 'LAG1', 'LAG2', 'LAG3', 'LAG4', 'LAG5', 'LAG6', 'LAG7', 'LAG8', 'LAG9', 'LAG10', 'LAG11', 'LAG12']:\n",
        "  feature_columns.append(feature_column.numeric_column(header))"
      ],
      "execution_count": 9,
      "outputs": []
    },
    {
      "cell_type": "code",
      "metadata": {
        "colab": {
          "base_uri": "https://localhost:8080/"
        },
        "id": "ZxNwKqjIFfEQ",
        "outputId": "8c09fa13-94fc-4350-9c3d-24bb1d2a07b2"
      },
      "source": [
        "feature_layer = tf.keras.layers.DenseFeatures(feature_columns)\n",
        "feature_layer"
      ],
      "execution_count": 10,
      "outputs": [
        {
          "output_type": "execute_result",
          "data": {
            "text/plain": [
              "<tensorflow.python.keras.feature_column.dense_features_v2.DenseFeatures at 0x7ffb8928fa10>"
            ]
          },
          "metadata": {
            "tags": []
          },
          "execution_count": 10
        }
      ]
    },
    {
      "cell_type": "code",
      "metadata": {
        "colab": {
          "base_uri": "https://localhost:8080/"
        },
        "id": "lk3oY8ViFlDo",
        "outputId": "e1c17090-1974-46a9-acb1-cbcafc1f6188"
      },
      "source": [
        "model = tf.keras.Sequential([\n",
        "  feature_layer,\n",
        "  #layers.Dense(128, activation='relu'),\n",
        "  layers.Dense(128, activation='relu'),\n",
        "  layers.Dense(1, activation='sigmoid')\n",
        "])\n",
        "\n",
        "model.compile(optimizer='adam',\n",
        "              loss='binary_crossentropy',\n",
        "              metrics=['accuracy'])\n",
        "\n",
        "#80-20\n",
        "history = model.fit(train_ds,\n",
        "          validation_data=test_ds,\n",
        "          epochs=25)"
      ],
      "execution_count": 21,
      "outputs": [
        {
          "output_type": "stream",
          "text": [
            "Epoch 1/25\n",
            "WARNING:tensorflow:Layers in a Sequential model should only have a single input tensor, but we receive a <class 'dict'> input: {'LAG0': <tf.Tensor 'ExpandDims:0' shape=(None, 1) dtype=int64>, 'LAG1': <tf.Tensor 'ExpandDims_1:0' shape=(None, 1) dtype=int64>, 'LAG2': <tf.Tensor 'ExpandDims_5:0' shape=(None, 1) dtype=int64>, 'LAG3': <tf.Tensor 'ExpandDims_6:0' shape=(None, 1) dtype=int64>, 'LAG4': <tf.Tensor 'ExpandDims_7:0' shape=(None, 1) dtype=int64>, 'LAG5': <tf.Tensor 'ExpandDims_8:0' shape=(None, 1) dtype=int64>, 'LAG6': <tf.Tensor 'ExpandDims_9:0' shape=(None, 1) dtype=int64>, 'LAG7': <tf.Tensor 'ExpandDims_10:0' shape=(None, 1) dtype=int64>, 'LAG8': <tf.Tensor 'ExpandDims_11:0' shape=(None, 1) dtype=int64>, 'LAG9': <tf.Tensor 'ExpandDims_12:0' shape=(None, 1) dtype=int64>, 'LAG10': <tf.Tensor 'ExpandDims_2:0' shape=(None, 1) dtype=int64>, 'LAG11': <tf.Tensor 'ExpandDims_3:0' shape=(None, 1) dtype=int64>, 'LAG12': <tf.Tensor 'ExpandDims_4:0' shape=(None, 1) dtype=int64>}\n",
            "Consider rewriting this model with the Functional API.\n",
            "WARNING:tensorflow:Layers in a Sequential model should only have a single input tensor, but we receive a <class 'dict'> input: {'LAG0': <tf.Tensor 'ExpandDims:0' shape=(None, 1) dtype=int64>, 'LAG1': <tf.Tensor 'ExpandDims_1:0' shape=(None, 1) dtype=int64>, 'LAG2': <tf.Tensor 'ExpandDims_5:0' shape=(None, 1) dtype=int64>, 'LAG3': <tf.Tensor 'ExpandDims_6:0' shape=(None, 1) dtype=int64>, 'LAG4': <tf.Tensor 'ExpandDims_7:0' shape=(None, 1) dtype=int64>, 'LAG5': <tf.Tensor 'ExpandDims_8:0' shape=(None, 1) dtype=int64>, 'LAG6': <tf.Tensor 'ExpandDims_9:0' shape=(None, 1) dtype=int64>, 'LAG7': <tf.Tensor 'ExpandDims_10:0' shape=(None, 1) dtype=int64>, 'LAG8': <tf.Tensor 'ExpandDims_11:0' shape=(None, 1) dtype=int64>, 'LAG9': <tf.Tensor 'ExpandDims_12:0' shape=(None, 1) dtype=int64>, 'LAG10': <tf.Tensor 'ExpandDims_2:0' shape=(None, 1) dtype=int64>, 'LAG11': <tf.Tensor 'ExpandDims_3:0' shape=(None, 1) dtype=int64>, 'LAG12': <tf.Tensor 'ExpandDims_4:0' shape=(None, 1) dtype=int64>}\n",
            "Consider rewriting this model with the Functional API.\n",
            "1/8 [==>...........................] - ETA: 3s - loss: 0.9454 - accuracy: 0.2000WARNING:tensorflow:Layers in a Sequential model should only have a single input tensor, but we receive a <class 'dict'> input: {'LAG0': <tf.Tensor 'ExpandDims:0' shape=(None, 1) dtype=int64>, 'LAG1': <tf.Tensor 'ExpandDims_1:0' shape=(None, 1) dtype=int64>, 'LAG2': <tf.Tensor 'ExpandDims_5:0' shape=(None, 1) dtype=int64>, 'LAG3': <tf.Tensor 'ExpandDims_6:0' shape=(None, 1) dtype=int64>, 'LAG4': <tf.Tensor 'ExpandDims_7:0' shape=(None, 1) dtype=int64>, 'LAG5': <tf.Tensor 'ExpandDims_8:0' shape=(None, 1) dtype=int64>, 'LAG6': <tf.Tensor 'ExpandDims_9:0' shape=(None, 1) dtype=int64>, 'LAG7': <tf.Tensor 'ExpandDims_10:0' shape=(None, 1) dtype=int64>, 'LAG8': <tf.Tensor 'ExpandDims_11:0' shape=(None, 1) dtype=int64>, 'LAG9': <tf.Tensor 'ExpandDims_12:0' shape=(None, 1) dtype=int64>, 'LAG10': <tf.Tensor 'ExpandDims_2:0' shape=(None, 1) dtype=int64>, 'LAG11': <tf.Tensor 'ExpandDims_3:0' shape=(None, 1) dtype=int64>, 'LAG12': <tf.Tensor 'ExpandDims_4:0' shape=(None, 1) dtype=int64>}\n",
            "Consider rewriting this model with the Functional API.\n",
            "8/8 [==============================] - 1s 31ms/step - loss: 0.6789 - accuracy: 0.6056 - val_loss: 0.6637 - val_accuracy: 0.5556\n",
            "Epoch 2/25\n",
            "8/8 [==============================] - 0s 4ms/step - loss: 0.5225 - accuracy: 0.7746 - val_loss: 0.6102 - val_accuracy: 0.6667\n",
            "Epoch 3/25\n",
            "8/8 [==============================] - 0s 4ms/step - loss: 0.4612 - accuracy: 0.8169 - val_loss: 0.5702 - val_accuracy: 0.7222\n",
            "Epoch 4/25\n",
            "8/8 [==============================] - 0s 4ms/step - loss: 0.4181 - accuracy: 0.8310 - val_loss: 0.5373 - val_accuracy: 0.7778\n",
            "Epoch 5/25\n",
            "8/8 [==============================] - 0s 5ms/step - loss: 0.3835 - accuracy: 0.8732 - val_loss: 0.5105 - val_accuracy: 0.7778\n",
            "Epoch 6/25\n",
            "8/8 [==============================] - 0s 4ms/step - loss: 0.3526 - accuracy: 0.8873 - val_loss: 0.4910 - val_accuracy: 0.8333\n",
            "Epoch 7/25\n",
            "8/8 [==============================] - 0s 4ms/step - loss: 0.3242 - accuracy: 0.8873 - val_loss: 0.4754 - val_accuracy: 0.9444\n",
            "Epoch 8/25\n",
            "8/8 [==============================] - 0s 4ms/step - loss: 0.3000 - accuracy: 0.9014 - val_loss: 0.4623 - val_accuracy: 0.9444\n",
            "Epoch 9/25\n",
            "8/8 [==============================] - 0s 4ms/step - loss: 0.2795 - accuracy: 0.9014 - val_loss: 0.4507 - val_accuracy: 0.9444\n",
            "Epoch 10/25\n",
            "8/8 [==============================] - 0s 5ms/step - loss: 0.2614 - accuracy: 0.9296 - val_loss: 0.4408 - val_accuracy: 0.9444\n",
            "Epoch 11/25\n",
            "8/8 [==============================] - 0s 4ms/step - loss: 0.2456 - accuracy: 0.9437 - val_loss: 0.4323 - val_accuracy: 0.9444\n",
            "Epoch 12/25\n",
            "8/8 [==============================] - 0s 4ms/step - loss: 0.2317 - accuracy: 0.9437 - val_loss: 0.4243 - val_accuracy: 0.9444\n",
            "Epoch 13/25\n",
            "8/8 [==============================] - 0s 4ms/step - loss: 0.2191 - accuracy: 0.9437 - val_loss: 0.4174 - val_accuracy: 0.9444\n",
            "Epoch 14/25\n",
            "8/8 [==============================] - 0s 4ms/step - loss: 0.2076 - accuracy: 0.9437 - val_loss: 0.4121 - val_accuracy: 0.9444\n",
            "Epoch 15/25\n",
            "8/8 [==============================] - 0s 4ms/step - loss: 0.1970 - accuracy: 0.9437 - val_loss: 0.4082 - val_accuracy: 0.9444\n",
            "Epoch 16/25\n",
            "8/8 [==============================] - 0s 4ms/step - loss: 0.1876 - accuracy: 0.9577 - val_loss: 0.4037 - val_accuracy: 0.9444\n",
            "Epoch 17/25\n",
            "8/8 [==============================] - 0s 4ms/step - loss: 0.1787 - accuracy: 0.9718 - val_loss: 0.4014 - val_accuracy: 0.9444\n",
            "Epoch 18/25\n",
            "8/8 [==============================] - 0s 4ms/step - loss: 0.1705 - accuracy: 0.9718 - val_loss: 0.4004 - val_accuracy: 0.9444\n",
            "Epoch 19/25\n",
            "8/8 [==============================] - 0s 4ms/step - loss: 0.1628 - accuracy: 0.9859 - val_loss: 0.3997 - val_accuracy: 0.9444\n",
            "Epoch 20/25\n",
            "8/8 [==============================] - 0s 5ms/step - loss: 0.1554 - accuracy: 0.9859 - val_loss: 0.3991 - val_accuracy: 0.9444\n",
            "Epoch 21/25\n",
            "8/8 [==============================] - 0s 4ms/step - loss: 0.1486 - accuracy: 0.9859 - val_loss: 0.3972 - val_accuracy: 0.9444\n",
            "Epoch 22/25\n",
            "8/8 [==============================] - 0s 5ms/step - loss: 0.1420 - accuracy: 0.9859 - val_loss: 0.3966 - val_accuracy: 0.9444\n",
            "Epoch 23/25\n",
            "8/8 [==============================] - 0s 5ms/step - loss: 0.1359 - accuracy: 0.9859 - val_loss: 0.3981 - val_accuracy: 0.9444\n",
            "Epoch 24/25\n",
            "8/8 [==============================] - 0s 5ms/step - loss: 0.1303 - accuracy: 0.9859 - val_loss: 0.3996 - val_accuracy: 0.9444\n",
            "Epoch 25/25\n",
            "8/8 [==============================] - 0s 5ms/step - loss: 0.1251 - accuracy: 0.9859 - val_loss: 0.4011 - val_accuracy: 0.9444\n"
          ],
          "name": "stdout"
        }
      ]
    },
    {
      "cell_type": "code",
      "metadata": {
        "id": "JzhV1nMxXZP2",
        "outputId": "d9ccde6e-76c7-422b-a2d5-e7853182ca35",
        "colab": {
          "base_uri": "https://localhost:8080/"
        }
      },
      "source": [
        "history2 = model.fit(train_ds1,\n",
        "          validation_data=test_ds1,\n",
        "          epochs=25)"
      ],
      "execution_count": 17,
      "outputs": [
        {
          "output_type": "stream",
          "text": [
            "Epoch 1/25\n",
            "7/7 [==============================] - 0s 5ms/step - loss: 0.0685 - accuracy: 1.0000 - val_loss: 0.3682 - val_accuracy: 0.9630\n",
            "Epoch 2/25\n",
            "7/7 [==============================] - 0s 5ms/step - loss: 0.0663 - accuracy: 1.0000 - val_loss: 0.3767 - val_accuracy: 0.9630\n",
            "Epoch 3/25\n",
            "7/7 [==============================] - 0s 5ms/step - loss: 0.0643 - accuracy: 1.0000 - val_loss: 0.3830 - val_accuracy: 0.9630\n",
            "Epoch 4/25\n",
            "7/7 [==============================] - 0s 5ms/step - loss: 0.0624 - accuracy: 1.0000 - val_loss: 0.3862 - val_accuracy: 0.9630\n",
            "Epoch 5/25\n",
            "7/7 [==============================] - 0s 5ms/step - loss: 0.0606 - accuracy: 1.0000 - val_loss: 0.3880 - val_accuracy: 0.9630\n",
            "Epoch 6/25\n",
            "7/7 [==============================] - 0s 4ms/step - loss: 0.0589 - accuracy: 1.0000 - val_loss: 0.3896 - val_accuracy: 0.9630\n",
            "Epoch 7/25\n",
            "7/7 [==============================] - 0s 5ms/step - loss: 0.0572 - accuracy: 1.0000 - val_loss: 0.3921 - val_accuracy: 0.9630\n",
            "Epoch 8/25\n",
            "7/7 [==============================] - 0s 5ms/step - loss: 0.0557 - accuracy: 1.0000 - val_loss: 0.3941 - val_accuracy: 0.9630\n",
            "Epoch 9/25\n",
            "7/7 [==============================] - 0s 6ms/step - loss: 0.0542 - accuracy: 1.0000 - val_loss: 0.3960 - val_accuracy: 0.9630\n",
            "Epoch 10/25\n",
            "7/7 [==============================] - 0s 5ms/step - loss: 0.0528 - accuracy: 1.0000 - val_loss: 0.3982 - val_accuracy: 0.9630\n",
            "Epoch 11/25\n",
            "7/7 [==============================] - 0s 5ms/step - loss: 0.0515 - accuracy: 1.0000 - val_loss: 0.4006 - val_accuracy: 0.9630\n",
            "Epoch 12/25\n",
            "7/7 [==============================] - 0s 5ms/step - loss: 0.0503 - accuracy: 1.0000 - val_loss: 0.4028 - val_accuracy: 0.9630\n",
            "Epoch 13/25\n",
            "7/7 [==============================] - 0s 5ms/step - loss: 0.0491 - accuracy: 1.0000 - val_loss: 0.4052 - val_accuracy: 0.9630\n",
            "Epoch 14/25\n",
            "7/7 [==============================] - 0s 5ms/step - loss: 0.0479 - accuracy: 1.0000 - val_loss: 0.4076 - val_accuracy: 0.9630\n",
            "Epoch 15/25\n",
            "7/7 [==============================] - 0s 5ms/step - loss: 0.0468 - accuracy: 1.0000 - val_loss: 0.4105 - val_accuracy: 0.9630\n",
            "Epoch 16/25\n",
            "7/7 [==============================] - 0s 5ms/step - loss: 0.0457 - accuracy: 1.0000 - val_loss: 0.4130 - val_accuracy: 0.9630\n",
            "Epoch 17/25\n",
            "7/7 [==============================] - 0s 5ms/step - loss: 0.0446 - accuracy: 1.0000 - val_loss: 0.4149 - val_accuracy: 0.9630\n",
            "Epoch 18/25\n",
            "7/7 [==============================] - 0s 5ms/step - loss: 0.0436 - accuracy: 1.0000 - val_loss: 0.4174 - val_accuracy: 0.9630\n",
            "Epoch 19/25\n",
            "7/7 [==============================] - 0s 5ms/step - loss: 0.0426 - accuracy: 1.0000 - val_loss: 0.4204 - val_accuracy: 0.9630\n",
            "Epoch 20/25\n",
            "7/7 [==============================] - 0s 5ms/step - loss: 0.0417 - accuracy: 1.0000 - val_loss: 0.4225 - val_accuracy: 0.9630\n",
            "Epoch 21/25\n",
            "7/7 [==============================] - 0s 5ms/step - loss: 0.0407 - accuracy: 1.0000 - val_loss: 0.4248 - val_accuracy: 0.9630\n",
            "Epoch 22/25\n",
            "7/7 [==============================] - 0s 5ms/step - loss: 0.0398 - accuracy: 1.0000 - val_loss: 0.4275 - val_accuracy: 0.9630\n",
            "Epoch 23/25\n",
            "7/7 [==============================] - 0s 5ms/step - loss: 0.0389 - accuracy: 1.0000 - val_loss: 0.4298 - val_accuracy: 0.9630\n",
            "Epoch 24/25\n",
            "7/7 [==============================] - 0s 5ms/step - loss: 0.0380 - accuracy: 1.0000 - val_loss: 0.4324 - val_accuracy: 0.9630\n",
            "Epoch 25/25\n",
            "7/7 [==============================] - 0s 6ms/step - loss: 0.0372 - accuracy: 1.0000 - val_loss: 0.4350 - val_accuracy: 0.9630\n"
          ],
          "name": "stdout"
        }
      ]
    },
    {
      "cell_type": "code",
      "metadata": {
        "id": "uY5zse0NXuOO",
        "outputId": "ada9beda-231b-447d-b7c4-0855f43588ed",
        "colab": {
          "base_uri": "https://localhost:8080/",
          "height": 573
        }
      },
      "source": [
        "import matplotlib.pyplot as plt\n",
        "\n",
        "#history 80-20\n",
        "plt.plot(history.history['accuracy'])\n",
        "plt.plot(history.history['val_accuracy'])\n",
        "plt.title('akurasi 80-20')\n",
        "plt.ylabel('accuracy')\n",
        "plt.xlabel('epoch')\n",
        "plt.legend(['train', 'test'], loc='upper left')\n",
        "plt.show()\n",
        "#loss\n",
        "plt.plot(history.history['loss'])\n",
        "plt.plot(history.history['val_loss'])\n",
        "plt.title('loss 80-20')\n",
        "plt.ylabel('loss')\n",
        "plt.xlabel('epoch')\n",
        "plt.legend(['train', 'test'], loc='upper left')\n",
        "plt.show()"
      ],
      "execution_count": 22,
      "outputs": [
        {
          "output_type": "display_data",
          "data": {
            "image/png": "[encoded data removed]",
            "text/plain": [
              "<Figure size 432x288 with 1 Axes>"
            ]
          },
          "metadata": {
            "tags": [],
            "needs_background": "light"
          }
        },
        {
          "output_type": "display_data",
          "data": {
            "image/png": "[encoded data removed]",
            "text/plain": [
              "<Figure size 432x288 with 1 Axes>"
            ]
          },
          "metadata": {
            "tags": [],
            "needs_background": "light"
          }
        }
      ]
    },
    {
      "cell_type": "code",
      "metadata": {
        "id": "xFb0QX4oX9SE",
        "outputId": "658fd004-6b50-4ff6-c2bb-a7cbbb5f0d42",
        "colab": {
          "base_uri": "https://localhost:8080/",
          "height": 573
        }
      },
      "source": [
        "#history 70-30\n",
        "plt.plot(history2.history['accuracy'])\n",
        "plt.plot(history2.history['val_accuracy'])\n",
        "plt.title('akurasi 80-20')\n",
        "plt.ylabel('accuracy')\n",
        "plt.xlabel('epoch')\n",
        "plt.legend(['train', 'test'], loc='upper left')\n",
        "plt.show()\n",
        "#loss\n",
        "plt.plot(history2.history['loss'])\n",
        "plt.plot(history2.history['val_loss'])\n",
        "plt.title('loss 80-20')\n",
        "plt.ylabel('loss')\n",
        "plt.xlabel('epoch')\n",
        "plt.legend(['train', 'test'], loc='upper left')\n",
        "plt.show()"
      ],
      "execution_count": 23,
      "outputs": [
        {
          "output_type": "display_data",
          "data": {
            "image/png": "[encoded data removed]",
            "text/plain": [
              "<Figure size 432x288 with 1 Axes>"
            ]
          },
          "metadata": {
            "tags": [],
            "needs_background": "light"
          }
        },
        {
          "output_type": "display_data",
          "data": {
            "image/png": "[encoded data removed]",
            "text/plain": [
              "<Figure size 432x288 with 1 Axes>"
            ]
          },
          "metadata": {
            "tags": [],
            "needs_background": "light"
          }
        }
      ]
    }
  ]
}