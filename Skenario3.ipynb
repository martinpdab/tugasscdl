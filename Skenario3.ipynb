{
  "nbformat": 4,
  "nbformat_minor": 0,
  "metadata": {
    "colab": {
      "name": "Skenario3.ipynb",
      "provenance": [],
      "authorship_tag": "ABX9TyNwMMuMBHkdv2TkF5Y4Buvo",
      "include_colab_link": true
    },
    "kernelspec": {
      "name": "python3",
      "display_name": "Python 3"
    },
    "language_info": {
      "name": "python"
    }
  },
  "cells": [
    {
      "cell_type": "markdown",
      "metadata": {
        "id": "view-in-github",
        "colab_type": "text"
      },
      "source": [
        "<a href=\"https://colab.research.google.com/github/martinpdab/tugasscdl/blob/main/Skenario3.ipynb\" target=\"_parent\"><img src=\"https://colab.research.google.com/assets/colab-badge.svg\" alt=\"Open In Colab\"/></a>"
      ]
    },
    {
      "cell_type": "code",
      "metadata": {
        "colab": {
          "base_uri": "https://localhost:8080/"
        },
        "id": "mWwT-vta-n5b",
        "outputId": "69dca636-319a-4451-f6fc-41c33905c273"
      },
      "source": [
        "!pip install sklearn"
      ],
      "execution_count": 1,
      "outputs": [
        {
          "output_type": "stream",
          "text": [
            "Requirement already satisfied: sklearn in /usr/local/lib/python3.7/dist-packages (0.0)\n",
            "Requirement already satisfied: scikit-learn in /usr/local/lib/python3.7/dist-packages (from sklearn) (0.22.2.post1)\n",
            "Requirement already satisfied: joblib>=0.11 in /usr/local/lib/python3.7/dist-packages (from scikit-learn->sklearn) (1.0.1)\n",
            "Requirement already satisfied: numpy>=1.11.0 in /usr/local/lib/python3.7/dist-packages (from scikit-learn->sklearn) (1.19.5)\n",
            "Requirement already satisfied: scipy>=0.17.0 in /usr/local/lib/python3.7/dist-packages (from scikit-learn->sklearn) (1.4.1)\n"
          ],
          "name": "stdout"
        }
      ]
    },
    {
      "cell_type": "code",
      "metadata": {
        "id": "OBrE7Ssp-65C"
      },
      "source": [
        "import numpy as np\n",
        "import pandas as pd\n",
        "\n",
        "try:\n",
        "  # %tensorflow_version only exists in Colab.\n",
        "  %tensorflow_version 2.x\n",
        "except Exception:\n",
        "  pass\n",
        "import tensorflow as tf\n",
        "\n",
        "from tensorflow import feature_column\n",
        "from tensorflow.keras import layers\n",
        "from sklearn.model_selection import train_test_split\n",
        "from sklearn.utils import shuffle"
      ],
      "execution_count": 2,
      "outputs": []
    },
    {
      "cell_type": "code",
      "metadata": {
        "colab": {
          "base_uri": "https://localhost:8080/",
          "height": 424
        },
        "id": "kXW55mHW-8hX",
        "outputId": "d6355e29-beb5-458c-ab34-2d0b09092632"
      },
      "source": [
        "#memakai dataset\n",
        "URL = 'https://raw.githubusercontent.com/martinpdab/tugasscdl/main/data%20fix.csv' \n",
        "dataframe = pd.read_csv(URL)\n",
        "dataframe"
      ],
      "execution_count": 3,
      "outputs": [
        {
          "output_type": "execute_result",
          "data": {
            "text/html": [
              "<div>\n",
              "<style scoped>\n",
              "    .dataframe tbody tr th:only-of-type {\n",
              "        vertical-align: middle;\n",
              "    }\n",
              "\n",
              "    .dataframe tbody tr th {\n",
              "        vertical-align: top;\n",
              "    }\n",
              "\n",
              "    .dataframe thead th {\n",
              "        text-align: right;\n",
              "    }\n",
              "</style>\n",
              "<table border=\"1\" class=\"dataframe\">\n",
              "  <thead>\n",
              "    <tr style=\"text-align: right;\">\n",
              "      <th></th>\n",
              "      <th>Period</th>\n",
              "      <th>TE</th>\n",
              "      <th>HU</th>\n",
              "      <th>RF</th>\n",
              "      <th>WS</th>\n",
              "      <th>PD</th>\n",
              "      <th>ABJ</th>\n",
              "      <th>LAG0</th>\n",
              "      <th>LAG1</th>\n",
              "      <th>LAG2</th>\n",
              "      <th>LAG3</th>\n",
              "      <th>LAG4</th>\n",
              "      <th>LAG5</th>\n",
              "      <th>LAG6</th>\n",
              "      <th>LAG7</th>\n",
              "      <th>LAG8</th>\n",
              "      <th>LAG9</th>\n",
              "      <th>LAG10</th>\n",
              "      <th>LAG11</th>\n",
              "      <th>LAG12</th>\n",
              "      <th>OS</th>\n",
              "    </tr>\n",
              "  </thead>\n",
              "  <tbody>\n",
              "    <tr>\n",
              "      <th>0</th>\n",
              "      <td>Jan-10</td>\n",
              "      <td>26.02</td>\n",
              "      <td>84.74</td>\n",
              "      <td>10.52</td>\n",
              "      <td>0.84</td>\n",
              "      <td>792.86</td>\n",
              "      <td>86.96</td>\n",
              "      <td>1</td>\n",
              "      <td>4</td>\n",
              "      <td>6</td>\n",
              "      <td>4</td>\n",
              "      <td>4</td>\n",
              "      <td>1</td>\n",
              "      <td>4</td>\n",
              "      <td>3</td>\n",
              "      <td>3</td>\n",
              "      <td>5</td>\n",
              "      <td>2</td>\n",
              "      <td>1</td>\n",
              "      <td>4</td>\n",
              "      <td>0</td>\n",
              "    </tr>\n",
              "    <tr>\n",
              "      <th>1</th>\n",
              "      <td>Feb-10</td>\n",
              "      <td>26.32</td>\n",
              "      <td>84.64</td>\n",
              "      <td>12.04</td>\n",
              "      <td>0.86</td>\n",
              "      <td>793.45</td>\n",
              "      <td>86.72</td>\n",
              "      <td>3</td>\n",
              "      <td>1</td>\n",
              "      <td>4</td>\n",
              "      <td>6</td>\n",
              "      <td>4</td>\n",
              "      <td>4</td>\n",
              "      <td>1</td>\n",
              "      <td>4</td>\n",
              "      <td>3</td>\n",
              "      <td>3</td>\n",
              "      <td>5</td>\n",
              "      <td>2</td>\n",
              "      <td>1</td>\n",
              "      <td>1</td>\n",
              "    </tr>\n",
              "    <tr>\n",
              "      <th>2</th>\n",
              "      <td>Mar-10</td>\n",
              "      <td>26.39</td>\n",
              "      <td>85.00</td>\n",
              "      <td>8.65</td>\n",
              "      <td>0.55</td>\n",
              "      <td>794.04</td>\n",
              "      <td>86.50</td>\n",
              "      <td>0</td>\n",
              "      <td>3</td>\n",
              "      <td>1</td>\n",
              "      <td>4</td>\n",
              "      <td>6</td>\n",
              "      <td>4</td>\n",
              "      <td>4</td>\n",
              "      <td>1</td>\n",
              "      <td>4</td>\n",
              "      <td>3</td>\n",
              "      <td>3</td>\n",
              "      <td>5</td>\n",
              "      <td>2</td>\n",
              "      <td>0</td>\n",
              "    </tr>\n",
              "    <tr>\n",
              "      <th>3</th>\n",
              "      <td>Apr-10</td>\n",
              "      <td>26.29</td>\n",
              "      <td>86.17</td>\n",
              "      <td>10.37</td>\n",
              "      <td>0.30</td>\n",
              "      <td>794.63</td>\n",
              "      <td>86.28</td>\n",
              "      <td>1</td>\n",
              "      <td>0</td>\n",
              "      <td>3</td>\n",
              "      <td>1</td>\n",
              "      <td>4</td>\n",
              "      <td>6</td>\n",
              "      <td>4</td>\n",
              "      <td>4</td>\n",
              "      <td>1</td>\n",
              "      <td>4</td>\n",
              "      <td>3</td>\n",
              "      <td>3</td>\n",
              "      <td>5</td>\n",
              "      <td>0</td>\n",
              "    </tr>\n",
              "    <tr>\n",
              "      <th>4</th>\n",
              "      <td>May-10</td>\n",
              "      <td>26.57</td>\n",
              "      <td>85.61</td>\n",
              "      <td>7.35</td>\n",
              "      <td>0.58</td>\n",
              "      <td>795.22</td>\n",
              "      <td>86.08</td>\n",
              "      <td>0</td>\n",
              "      <td>1</td>\n",
              "      <td>0</td>\n",
              "      <td>3</td>\n",
              "      <td>1</td>\n",
              "      <td>4</td>\n",
              "      <td>6</td>\n",
              "      <td>4</td>\n",
              "      <td>4</td>\n",
              "      <td>1</td>\n",
              "      <td>4</td>\n",
              "      <td>3</td>\n",
              "      <td>3</td>\n",
              "      <td>0</td>\n",
              "    </tr>\n",
              "    <tr>\n",
              "      <th>...</th>\n",
              "      <td>...</td>\n",
              "      <td>...</td>\n",
              "      <td>...</td>\n",
              "      <td>...</td>\n",
              "      <td>...</td>\n",
              "      <td>...</td>\n",
              "      <td>...</td>\n",
              "      <td>...</td>\n",
              "      <td>...</td>\n",
              "      <td>...</td>\n",
              "      <td>...</td>\n",
              "      <td>...</td>\n",
              "      <td>...</td>\n",
              "      <td>...</td>\n",
              "      <td>...</td>\n",
              "      <td>...</td>\n",
              "      <td>...</td>\n",
              "      <td>...</td>\n",
              "      <td>...</td>\n",
              "      <td>...</td>\n",
              "      <td>...</td>\n",
              "    </tr>\n",
              "    <tr>\n",
              "      <th>103</th>\n",
              "      <td>Aug-18</td>\n",
              "      <td>24.27</td>\n",
              "      <td>76.87</td>\n",
              "      <td>0.00</td>\n",
              "      <td>1.39</td>\n",
              "      <td>846.18</td>\n",
              "      <td>96.29</td>\n",
              "      <td>1</td>\n",
              "      <td>4</td>\n",
              "      <td>3</td>\n",
              "      <td>3</td>\n",
              "      <td>5</td>\n",
              "      <td>2</td>\n",
              "      <td>1</td>\n",
              "      <td>4</td>\n",
              "      <td>1</td>\n",
              "      <td>1</td>\n",
              "      <td>1</td>\n",
              "      <td>2</td>\n",
              "      <td>3</td>\n",
              "      <td>0</td>\n",
              "    </tr>\n",
              "    <tr>\n",
              "      <th>104</th>\n",
              "      <td>Sep-18</td>\n",
              "      <td>25.50</td>\n",
              "      <td>75.73</td>\n",
              "      <td>0.59</td>\n",
              "      <td>1.03</td>\n",
              "      <td>846.59</td>\n",
              "      <td>93.34</td>\n",
              "      <td>4</td>\n",
              "      <td>1</td>\n",
              "      <td>4</td>\n",
              "      <td>3</td>\n",
              "      <td>3</td>\n",
              "      <td>5</td>\n",
              "      <td>2</td>\n",
              "      <td>1</td>\n",
              "      <td>4</td>\n",
              "      <td>1</td>\n",
              "      <td>1</td>\n",
              "      <td>1</td>\n",
              "      <td>2</td>\n",
              "      <td>1</td>\n",
              "    </tr>\n",
              "    <tr>\n",
              "      <th>105</th>\n",
              "      <td>Oct-18</td>\n",
              "      <td>26.58</td>\n",
              "      <td>74.94</td>\n",
              "      <td>0.04</td>\n",
              "      <td>1.39</td>\n",
              "      <td>847.01</td>\n",
              "      <td>96.10</td>\n",
              "      <td>4</td>\n",
              "      <td>4</td>\n",
              "      <td>1</td>\n",
              "      <td>4</td>\n",
              "      <td>3</td>\n",
              "      <td>3</td>\n",
              "      <td>5</td>\n",
              "      <td>2</td>\n",
              "      <td>1</td>\n",
              "      <td>4</td>\n",
              "      <td>1</td>\n",
              "      <td>1</td>\n",
              "      <td>1</td>\n",
              "      <td>1</td>\n",
              "    </tr>\n",
              "    <tr>\n",
              "      <th>106</th>\n",
              "      <td>Nov-18</td>\n",
              "      <td>26.49</td>\n",
              "      <td>82.28</td>\n",
              "      <td>10.53</td>\n",
              "      <td>1.00</td>\n",
              "      <td>847.42</td>\n",
              "      <td>96.38</td>\n",
              "      <td>6</td>\n",
              "      <td>4</td>\n",
              "      <td>4</td>\n",
              "      <td>1</td>\n",
              "      <td>4</td>\n",
              "      <td>3</td>\n",
              "      <td>3</td>\n",
              "      <td>5</td>\n",
              "      <td>2</td>\n",
              "      <td>1</td>\n",
              "      <td>4</td>\n",
              "      <td>1</td>\n",
              "      <td>1</td>\n",
              "      <td>1</td>\n",
              "    </tr>\n",
              "    <tr>\n",
              "      <th>107</th>\n",
              "      <td>Dec-18</td>\n",
              "      <td>26.14</td>\n",
              "      <td>85.45</td>\n",
              "      <td>10.41</td>\n",
              "      <td>0.87</td>\n",
              "      <td>847.84</td>\n",
              "      <td>95.35</td>\n",
              "      <td>4</td>\n",
              "      <td>6</td>\n",
              "      <td>4</td>\n",
              "      <td>4</td>\n",
              "      <td>1</td>\n",
              "      <td>4</td>\n",
              "      <td>3</td>\n",
              "      <td>3</td>\n",
              "      <td>5</td>\n",
              "      <td>2</td>\n",
              "      <td>1</td>\n",
              "      <td>4</td>\n",
              "      <td>1</td>\n",
              "      <td>1</td>\n",
              "    </tr>\n",
              "  </tbody>\n",
              "</table>\n",
              "<p>108 rows × 21 columns</p>\n",
              "</div>"
            ],
            "text/plain": [
              "     Period     TE     HU     RF    WS  ...  LAG9  LAG10  LAG11  LAG12  OS\n",
              "0    Jan-10  26.02  84.74  10.52  0.84  ...     5      2      1      4   0\n",
              "1    Feb-10  26.32  84.64  12.04  0.86  ...     3      5      2      1   1\n",
              "2    Mar-10  26.39  85.00   8.65  0.55  ...     3      3      5      2   0\n",
              "3    Apr-10  26.29  86.17  10.37  0.30  ...     4      3      3      5   0\n",
              "4    May-10  26.57  85.61   7.35  0.58  ...     1      4      3      3   0\n",
              "..      ...    ...    ...    ...   ...  ...   ...    ...    ...    ...  ..\n",
              "103  Aug-18  24.27  76.87   0.00  1.39  ...     1      1      2      3   0\n",
              "104  Sep-18  25.50  75.73   0.59  1.03  ...     1      1      1      2   1\n",
              "105  Oct-18  26.58  74.94   0.04  1.39  ...     4      1      1      1   1\n",
              "106  Nov-18  26.49  82.28  10.53  1.00  ...     1      4      1      1   1\n",
              "107  Dec-18  26.14  85.45  10.41  0.87  ...     2      1      4      1   1\n",
              "\n",
              "[108 rows x 21 columns]"
            ]
          },
          "metadata": {
            "tags": []
          },
          "execution_count": 3
        }
      ]
    },
    {
      "cell_type": "code",
      "metadata": {
        "colab": {
          "base_uri": "https://localhost:8080/",
          "height": 206
        },
        "id": "1G8Mqj5x_AkE",
        "outputId": "06f726a8-46bd-4dcc-c2dd-89cea37b6249"
      },
      "source": [
        "# mengambil kolom RF, WS, PD, OS dan mengacak dataset\n",
        "data = dataframe[['RF', 'WS', 'PD', 'OS']]\n",
        "data = shuffle(data)\n",
        "data.head()"
      ],
      "execution_count": 4,
      "outputs": [
        {
          "output_type": "execute_result",
          "data": {
            "text/html": [
              "<div>\n",
              "<style scoped>\n",
              "    .dataframe tbody tr th:only-of-type {\n",
              "        vertical-align: middle;\n",
              "    }\n",
              "\n",
              "    .dataframe tbody tr th {\n",
              "        vertical-align: top;\n",
              "    }\n",
              "\n",
              "    .dataframe thead th {\n",
              "        text-align: right;\n",
              "    }\n",
              "</style>\n",
              "<table border=\"1\" class=\"dataframe\">\n",
              "  <thead>\n",
              "    <tr style=\"text-align: right;\">\n",
              "      <th></th>\n",
              "      <th>RF</th>\n",
              "      <th>WS</th>\n",
              "      <th>PD</th>\n",
              "      <th>OS</th>\n",
              "    </tr>\n",
              "  </thead>\n",
              "  <tbody>\n",
              "    <tr>\n",
              "      <th>75</th>\n",
              "      <td>18.42</td>\n",
              "      <td>0.37</td>\n",
              "      <td>834.09</td>\n",
              "      <td>1</td>\n",
              "    </tr>\n",
              "    <tr>\n",
              "      <th>7</th>\n",
              "      <td>3.94</td>\n",
              "      <td>1.68</td>\n",
              "      <td>797.00</td>\n",
              "      <td>0</td>\n",
              "    </tr>\n",
              "    <tr>\n",
              "      <th>38</th>\n",
              "      <td>9.80</td>\n",
              "      <td>0.73</td>\n",
              "      <td>815.16</td>\n",
              "      <td>1</td>\n",
              "    </tr>\n",
              "    <tr>\n",
              "      <th>3</th>\n",
              "      <td>10.37</td>\n",
              "      <td>0.30</td>\n",
              "      <td>794.63</td>\n",
              "      <td>0</td>\n",
              "    </tr>\n",
              "    <tr>\n",
              "      <th>17</th>\n",
              "      <td>0.73</td>\n",
              "      <td>1.87</td>\n",
              "      <td>802.93</td>\n",
              "      <td>0</td>\n",
              "    </tr>\n",
              "  </tbody>\n",
              "</table>\n",
              "</div>"
            ],
            "text/plain": [
              "       RF    WS      PD  OS\n",
              "75  18.42  0.37  834.09   1\n",
              "7    3.94  1.68  797.00   0\n",
              "38   9.80  0.73  815.16   1\n",
              "3   10.37  0.30  794.63   0\n",
              "17   0.73  1.87  802.93   0"
            ]
          },
          "metadata": {
            "tags": []
          },
          "execution_count": 4
        }
      ]
    },
    {
      "cell_type": "code",
      "metadata": {
        "colab": {
          "base_uri": "https://localhost:8080/"
        },
        "id": "1ZxSzeUe_ZGk",
        "outputId": "4a941d44-d7dd-4379-e45d-1a181d4caccd"
      },
      "source": [
        "#train-test split 80-20\n",
        "train, test = train_test_split(data, test_size=0.2)\n",
        "print(len(train), 'banyak data train')\n",
        "print(len(test), 'banyak data test')\n",
        "\n",
        "#train-test split 70-30\n",
        "#train, test = train_test_split(data, test_size=0.3)\n",
        "#print(len(train), 'banyak data train')\n",
        "#print(len(test), 'banyak data test')"
      ],
      "execution_count": 5,
      "outputs": [
        {
          "output_type": "stream",
          "text": [
            "86 banyak data train\n",
            "22 banyak data test\n"
          ],
          "name": "stdout"
        }
      ]
    },
    {
      "cell_type": "code",
      "metadata": {
        "id": "LeCd_LtA_h04"
      },
      "source": [
        "# A utility method to create a tf.data dataset from a Pandas Dataframe\n",
        "def df_to_dataset(data, batch_size=32):\n",
        "  data = data.copy()\n",
        "  labels = data.pop('OS')\n",
        "  ds = tf.data.Dataset.from_tensor_slices((dict(data), labels))\n",
        "  ds = ds.batch(batch_size)\n",
        "  return ds"
      ],
      "execution_count": 6,
      "outputs": []
    },
    {
      "cell_type": "code",
      "metadata": {
        "id": "d_KgvhS__mLy"
      },
      "source": [
        "batch_size = 5 # A small batch sized is used for demonstration purposes\n",
        "train_ds = df_to_dataset(train, batch_size=batch_size)\n",
        "test_ds = df_to_dataset(test, batch_size=batch_size)"
      ],
      "execution_count": 7,
      "outputs": []
    },
    {
      "cell_type": "code",
      "metadata": {
        "colab": {
          "base_uri": "https://localhost:8080/"
        },
        "id": "oLftvdr1_pMu",
        "outputId": "add0f3e1-8f43-4f49-b1a1-e84504191508"
      },
      "source": [
        "for feature_batch, label_batch in train_ds.take(1):\n",
        "  print('Every feature:', list(feature_batch.keys()))\n",
        "  print('RF:', feature_batch['RF'])\n",
        "  print('WS:', feature_batch['WS'])\n",
        "  print('OS:', label_batch)"
      ],
      "execution_count": 8,
      "outputs": [
        {
          "output_type": "stream",
          "text": [
            "Every feature: ['RF', 'WS', 'PD']\n",
            "RF: tf.Tensor([ 2.8  10.37  0.73  1.1  13.45], shape=(5,), dtype=float64)\n",
            "WS: tf.Tensor([0.84 0.3  1.87 1.2  1.42], shape=(5,), dtype=float64)\n",
            "OS: tf.Tensor([1 0 0 0 0], shape=(5,), dtype=int64)\n"
          ],
          "name": "stdout"
        }
      ]
    },
    {
      "cell_type": "code",
      "metadata": {
        "id": "kTYns6qP_2Pt"
      },
      "source": [
        "feature_columns = []\n",
        "\n",
        "for header in ['RF', 'WS', 'PD']:\n",
        "  feature_columns.append(feature_column.numeric_column(header))"
      ],
      "execution_count": 9,
      "outputs": []
    },
    {
      "cell_type": "code",
      "metadata": {
        "colab": {
          "base_uri": "https://localhost:8080/"
        },
        "id": "dSyN_n6hAj6F",
        "outputId": "9e1c7eb9-002a-4cbe-c744-b665b5084962"
      },
      "source": [
        "feature_layer = tf.keras.layers.DenseFeatures(feature_columns)\n",
        "feature_layer"
      ],
      "execution_count": 10,
      "outputs": [
        {
          "output_type": "execute_result",
          "data": {
            "text/plain": [
              "<tensorflow.python.keras.feature_column.dense_features_v2.DenseFeatures at 0x7f959d63b550>"
            ]
          },
          "metadata": {
            "tags": []
          },
          "execution_count": 10
        }
      ]
    },
    {
      "cell_type": "code",
      "metadata": {
        "id": "bnriFrWZA7fK"
      },
      "source": [
        "batch_size = 64\n",
        "train_ds = df_to_dataset(train, batch_size=batch_size)\n",
        "test_ds = df_to_dataset(test, batch_size=batch_size)"
      ],
      "execution_count": 15,
      "outputs": []
    },
    {
      "cell_type": "code",
      "metadata": {
        "colab": {
          "base_uri": "https://localhost:8080/"
        },
        "id": "GPRmYToPA_PS",
        "outputId": "ad746ee7-dcb4-4f4e-f3ac-3b9ff4b10a5b"
      },
      "source": [
        "model = tf.keras.Sequential([\n",
        "  feature_layer,\n",
        "  layers.Dense(128, activation='relu'),\n",
        "  layers.Dense(64, activation='relu'),\n",
        "  layers.Dense(32, activation='relu'),\n",
        "  layers.Dense(1, activation='sigmoid')\n",
        "])\n",
        "\n",
        "model.compile(optimizer='adam',\n",
        "              loss='binary_crossentropy',\n",
        "              metrics=['accuracy'])\n",
        "\n",
        "history = model.fit(train_ds,\n",
        "                validation_data=test_ds,\n",
        "                epochs=75)"
      ],
      "execution_count": 16,
      "outputs": [
        {
          "output_type": "stream",
          "text": [
            "Epoch 1/75\n",
            "WARNING:tensorflow:Layers in a Sequential model should only have a single input tensor, but we receive a <class 'dict'> input: {'RF': <tf.Tensor 'ExpandDims_1:0' shape=(None, 1) dtype=float64>, 'WS': <tf.Tensor 'ExpandDims_2:0' shape=(None, 1) dtype=float64>, 'PD': <tf.Tensor 'ExpandDims:0' shape=(None, 1) dtype=float64>}\n",
            "Consider rewriting this model with the Functional API.\n",
            "WARNING:tensorflow:Layers in a Sequential model should only have a single input tensor, but we receive a <class 'dict'> input: {'RF': <tf.Tensor 'ExpandDims_1:0' shape=(None, 1) dtype=float64>, 'WS': <tf.Tensor 'ExpandDims_2:0' shape=(None, 1) dtype=float64>, 'PD': <tf.Tensor 'ExpandDims:0' shape=(None, 1) dtype=float64>}\n",
            "Consider rewriting this model with the Functional API.\n",
            "1/2 [==============>...............] - ETA: 0s - loss: 14.3471 - accuracy: 0.7500WARNING:tensorflow:Layers in a Sequential model should only have a single input tensor, but we receive a <class 'dict'> input: {'RF': <tf.Tensor 'ExpandDims_1:0' shape=(None, 1) dtype=float64>, 'WS': <tf.Tensor 'ExpandDims_2:0' shape=(None, 1) dtype=float64>, 'PD': <tf.Tensor 'ExpandDims:0' shape=(None, 1) dtype=float64>}\n",
            "Consider rewriting this model with the Functional API.\n",
            "2/2 [==============================] - 1s 146ms/step - loss: 13.3706 - accuracy: 0.7326 - val_loss: 2.0729 - val_accuracy: 0.7273\n",
            "Epoch 2/75\n",
            "2/2 [==============================] - 0s 18ms/step - loss: 3.8097 - accuracy: 0.6395 - val_loss: 8.4697 - val_accuracy: 0.2727\n",
            "Epoch 3/75\n",
            "2/2 [==============================] - 0s 18ms/step - loss: 7.0827 - accuracy: 0.2674 - val_loss: 1.7664 - val_accuracy: 0.7273\n",
            "Epoch 4/75\n",
            "2/2 [==============================] - 0s 16ms/step - loss: 2.3152 - accuracy: 0.7326 - val_loss: 4.6794 - val_accuracy: 0.7273\n",
            "Epoch 5/75\n",
            "2/2 [==============================] - 0s 16ms/step - loss: 4.7710 - accuracy: 0.7326 - val_loss: 5.0015 - val_accuracy: 0.7273\n",
            "Epoch 6/75\n",
            "2/2 [==============================] - 0s 16ms/step - loss: 4.7996 - accuracy: 0.7326 - val_loss: 3.5671 - val_accuracy: 0.7273\n",
            "Epoch 7/75\n",
            "2/2 [==============================] - 0s 16ms/step - loss: 3.1754 - accuracy: 0.7326 - val_loss: 0.9063 - val_accuracy: 0.7273\n",
            "Epoch 8/75\n",
            "2/2 [==============================] - 0s 17ms/step - loss: 1.1424 - accuracy: 0.6395 - val_loss: 3.5297 - val_accuracy: 0.2727\n",
            "Epoch 9/75\n",
            "2/2 [==============================] - 0s 18ms/step - loss: 3.2396 - accuracy: 0.2674 - val_loss: 0.5864 - val_accuracy: 0.7273\n",
            "Epoch 10/75\n",
            "2/2 [==============================] - 0s 20ms/step - loss: 0.8161 - accuracy: 0.7326 - val_loss: 1.8679 - val_accuracy: 0.7273\n",
            "Epoch 11/75\n",
            "2/2 [==============================] - 0s 18ms/step - loss: 1.9094 - accuracy: 0.7326 - val_loss: 1.8988 - val_accuracy: 0.7273\n",
            "Epoch 12/75\n",
            "2/2 [==============================] - 0s 20ms/step - loss: 1.7445 - accuracy: 0.7326 - val_loss: 0.7669 - val_accuracy: 0.7273\n",
            "Epoch 13/75\n",
            "2/2 [==============================] - 0s 19ms/step - loss: 0.7623 - accuracy: 0.6395 - val_loss: 1.6664 - val_accuracy: 0.2727\n",
            "Epoch 14/75\n",
            "2/2 [==============================] - 0s 17ms/step - loss: 1.5124 - accuracy: 0.2674 - val_loss: 0.6427 - val_accuracy: 0.7273\n",
            "Epoch 15/75\n",
            "2/2 [==============================] - 0s 17ms/step - loss: 0.7605 - accuracy: 0.7326 - val_loss: 1.2167 - val_accuracy: 0.7273\n",
            "Epoch 16/75\n",
            "2/2 [==============================] - 0s 18ms/step - loss: 1.1691 - accuracy: 0.7326 - val_loss: 0.7726 - val_accuracy: 0.7273\n",
            "Epoch 17/75\n",
            "2/2 [==============================] - 0s 19ms/step - loss: 0.6971 - accuracy: 0.7326 - val_loss: 1.0851 - val_accuracy: 0.2727\n",
            "Epoch 18/75\n",
            "2/2 [==============================] - 0s 17ms/step - loss: 1.0411 - accuracy: 0.2674 - val_loss: 0.5875 - val_accuracy: 0.7273\n",
            "Epoch 19/75\n",
            "2/2 [==============================] - 0s 21ms/step - loss: 0.6528 - accuracy: 0.7326 - val_loss: 0.8879 - val_accuracy: 0.7273\n",
            "Epoch 20/75\n",
            "2/2 [==============================] - 0s 24ms/step - loss: 0.8396 - accuracy: 0.7326 - val_loss: 0.5872 - val_accuracy: 0.7273\n",
            "Epoch 21/75\n",
            "2/2 [==============================] - 0s 18ms/step - loss: 0.6082 - accuracy: 0.6395 - val_loss: 0.8174 - val_accuracy: 0.2727\n",
            "Epoch 22/75\n",
            "2/2 [==============================] - 0s 17ms/step - loss: 0.7739 - accuracy: 0.3605 - val_loss: 0.6586 - val_accuracy: 0.7273\n",
            "Epoch 23/75\n",
            "2/2 [==============================] - 0s 19ms/step - loss: 0.6764 - accuracy: 0.7326 - val_loss: 0.6617 - val_accuracy: 0.7273\n",
            "Epoch 24/75\n",
            "2/2 [==============================] - 0s 17ms/step - loss: 0.6215 - accuracy: 0.7326 - val_loss: 0.7062 - val_accuracy: 0.5000\n",
            "Epoch 25/75\n",
            "2/2 [==============================] - 0s 16ms/step - loss: 0.6991 - accuracy: 0.4535 - val_loss: 0.5835 - val_accuracy: 0.7273\n",
            "Epoch 26/75\n",
            "2/2 [==============================] - 0s 17ms/step - loss: 0.6034 - accuracy: 0.7326 - val_loss: 0.6522 - val_accuracy: 0.7273\n",
            "Epoch 27/75\n",
            "2/2 [==============================] - 0s 17ms/step - loss: 0.6219 - accuracy: 0.7326 - val_loss: 0.6154 - val_accuracy: 0.7273\n",
            "Epoch 28/75\n",
            "2/2 [==============================] - 0s 16ms/step - loss: 0.6203 - accuracy: 0.7442 - val_loss: 0.5941 - val_accuracy: 0.7273\n",
            "Epoch 29/75\n",
            "2/2 [==============================] - 0s 17ms/step - loss: 0.6000 - accuracy: 0.7326 - val_loss: 0.6230 - val_accuracy: 0.7273\n",
            "Epoch 30/75\n",
            "2/2 [==============================] - 0s 16ms/step - loss: 0.6036 - accuracy: 0.7326 - val_loss: 0.5938 - val_accuracy: 0.7273\n",
            "Epoch 31/75\n",
            "2/2 [==============================] - 0s 18ms/step - loss: 0.5941 - accuracy: 0.7326 - val_loss: 0.5961 - val_accuracy: 0.7273\n",
            "Epoch 32/75\n",
            "2/2 [==============================] - 0s 17ms/step - loss: 0.5965 - accuracy: 0.7326 - val_loss: 0.6039 - val_accuracy: 0.7273\n",
            "Epoch 33/75\n",
            "2/2 [==============================] - 0s 18ms/step - loss: 0.5897 - accuracy: 0.7326 - val_loss: 0.5902 - val_accuracy: 0.7273\n",
            "Epoch 34/75\n",
            "2/2 [==============================] - 0s 18ms/step - loss: 0.5873 - accuracy: 0.7326 - val_loss: 0.5909 - val_accuracy: 0.7273\n",
            "Epoch 35/75\n",
            "2/2 [==============================] - 0s 16ms/step - loss: 0.5899 - accuracy: 0.7326 - val_loss: 0.5939 - val_accuracy: 0.7273\n",
            "Epoch 36/75\n",
            "2/2 [==============================] - 0s 18ms/step - loss: 0.5817 - accuracy: 0.7326 - val_loss: 0.5905 - val_accuracy: 0.7273\n",
            "Epoch 37/75\n",
            "2/2 [==============================] - 0s 17ms/step - loss: 0.5860 - accuracy: 0.7326 - val_loss: 0.5862 - val_accuracy: 0.7273\n",
            "Epoch 38/75\n",
            "2/2 [==============================] - 0s 21ms/step - loss: 0.5842 - accuracy: 0.7326 - val_loss: 0.5881 - val_accuracy: 0.7273\n",
            "Epoch 39/75\n",
            "2/2 [==============================] - 0s 25ms/step - loss: 0.5771 - accuracy: 0.7326 - val_loss: 0.5912 - val_accuracy: 0.7273\n",
            "Epoch 40/75\n",
            "2/2 [==============================] - 0s 21ms/step - loss: 0.5859 - accuracy: 0.7326 - val_loss: 0.5841 - val_accuracy: 0.7273\n",
            "Epoch 41/75\n",
            "2/2 [==============================] - 0s 20ms/step - loss: 0.5804 - accuracy: 0.7326 - val_loss: 0.5848 - val_accuracy: 0.7273\n",
            "Epoch 42/75\n",
            "2/2 [==============================] - 0s 15ms/step - loss: 0.5753 - accuracy: 0.7326 - val_loss: 0.5903 - val_accuracy: 0.7273\n",
            "Epoch 43/75\n",
            "2/2 [==============================] - 0s 18ms/step - loss: 0.5847 - accuracy: 0.7326 - val_loss: 0.5840 - val_accuracy: 0.7273\n",
            "Epoch 44/75\n",
            "2/2 [==============================] - 0s 19ms/step - loss: 0.5781 - accuracy: 0.7326 - val_loss: 0.5840 - val_accuracy: 0.7273\n",
            "Epoch 45/75\n",
            "2/2 [==============================] - 0s 16ms/step - loss: 0.5760 - accuracy: 0.7326 - val_loss: 0.5875 - val_accuracy: 0.7273\n",
            "Epoch 46/75\n",
            "2/2 [==============================] - 0s 15ms/step - loss: 0.5820 - accuracy: 0.7326 - val_loss: 0.5843 - val_accuracy: 0.7273\n",
            "Epoch 47/75\n",
            "2/2 [==============================] - 0s 16ms/step - loss: 0.5764 - accuracy: 0.7326 - val_loss: 0.5851 - val_accuracy: 0.7273\n",
            "Epoch 48/75\n",
            "2/2 [==============================] - 0s 18ms/step - loss: 0.5781 - accuracy: 0.7326 - val_loss: 0.5849 - val_accuracy: 0.7273\n",
            "Epoch 49/75\n",
            "2/2 [==============================] - 0s 21ms/step - loss: 0.5791 - accuracy: 0.7326 - val_loss: 0.5841 - val_accuracy: 0.7273\n",
            "Epoch 50/75\n",
            "2/2 [==============================] - 0s 18ms/step - loss: 0.5756 - accuracy: 0.7326 - val_loss: 0.5860 - val_accuracy: 0.7273\n",
            "Epoch 51/75\n",
            "2/2 [==============================] - 0s 19ms/step - loss: 0.5793 - accuracy: 0.7326 - val_loss: 0.5841 - val_accuracy: 0.7273\n",
            "Epoch 52/75\n",
            "2/2 [==============================] - 0s 17ms/step - loss: 0.5770 - accuracy: 0.7326 - val_loss: 0.5843 - val_accuracy: 0.7273\n",
            "Epoch 53/75\n",
            "2/2 [==============================] - 0s 18ms/step - loss: 0.5762 - accuracy: 0.7326 - val_loss: 0.5853 - val_accuracy: 0.7273\n",
            "Epoch 54/75\n",
            "2/2 [==============================] - 0s 19ms/step - loss: 0.5785 - accuracy: 0.7326 - val_loss: 0.5842 - val_accuracy: 0.7273\n",
            "Epoch 55/75\n",
            "2/2 [==============================] - 0s 21ms/step - loss: 0.5759 - accuracy: 0.7326 - val_loss: 0.5851 - val_accuracy: 0.7273\n",
            "Epoch 56/75\n",
            "2/2 [==============================] - 0s 20ms/step - loss: 0.5775 - accuracy: 0.7326 - val_loss: 0.5845 - val_accuracy: 0.7273\n",
            "Epoch 57/75\n",
            "2/2 [==============================] - 0s 22ms/step - loss: 0.5769 - accuracy: 0.7326 - val_loss: 0.5844 - val_accuracy: 0.7273\n",
            "Epoch 58/75\n",
            "2/2 [==============================] - 0s 19ms/step - loss: 0.5759 - accuracy: 0.7326 - val_loss: 0.5851 - val_accuracy: 0.7273\n",
            "Epoch 59/75\n",
            "2/2 [==============================] - 0s 20ms/step - loss: 0.5775 - accuracy: 0.7326 - val_loss: 0.5844 - val_accuracy: 0.7273\n",
            "Epoch 60/75\n",
            "2/2 [==============================] - 0s 16ms/step - loss: 0.5759 - accuracy: 0.7326 - val_loss: 0.5849 - val_accuracy: 0.7273\n",
            "Epoch 61/75\n",
            "2/2 [==============================] - 0s 17ms/step - loss: 0.5767 - accuracy: 0.7326 - val_loss: 0.5847 - val_accuracy: 0.7273\n",
            "Epoch 62/75\n",
            "2/2 [==============================] - 0s 16ms/step - loss: 0.5765 - accuracy: 0.7326 - val_loss: 0.5846 - val_accuracy: 0.7273\n",
            "Epoch 63/75\n",
            "2/2 [==============================] - 0s 21ms/step - loss: 0.5759 - accuracy: 0.7326 - val_loss: 0.5850 - val_accuracy: 0.7273\n",
            "Epoch 64/75\n",
            "2/2 [==============================] - 0s 20ms/step - loss: 0.5768 - accuracy: 0.7326 - val_loss: 0.5846 - val_accuracy: 0.7273\n",
            "Epoch 65/75\n",
            "2/2 [==============================] - 0s 22ms/step - loss: 0.5757 - accuracy: 0.7326 - val_loss: 0.5850 - val_accuracy: 0.7273\n",
            "Epoch 66/75\n",
            "2/2 [==============================] - 0s 18ms/step - loss: 0.5763 - accuracy: 0.7326 - val_loss: 0.5848 - val_accuracy: 0.7273\n",
            "Epoch 67/75\n",
            "2/2 [==============================] - 0s 17ms/step - loss: 0.5760 - accuracy: 0.7326 - val_loss: 0.5849 - val_accuracy: 0.7273\n",
            "Epoch 68/75\n",
            "2/2 [==============================] - 0s 17ms/step - loss: 0.5758 - accuracy: 0.7326 - val_loss: 0.5850 - val_accuracy: 0.7273\n",
            "Epoch 69/75\n",
            "2/2 [==============================] - 0s 20ms/step - loss: 0.5762 - accuracy: 0.7326 - val_loss: 0.5849 - val_accuracy: 0.7273\n",
            "Epoch 70/75\n",
            "2/2 [==============================] - 0s 25ms/step - loss: 0.5755 - accuracy: 0.7326 - val_loss: 0.5851 - val_accuracy: 0.7273\n",
            "Epoch 71/75\n",
            "2/2 [==============================] - 0s 19ms/step - loss: 0.5760 - accuracy: 0.7326 - val_loss: 0.5850 - val_accuracy: 0.7273\n",
            "Epoch 72/75\n",
            "2/2 [==============================] - 0s 18ms/step - loss: 0.5756 - accuracy: 0.7326 - val_loss: 0.5851 - val_accuracy: 0.7273\n",
            "Epoch 73/75\n",
            "2/2 [==============================] - 0s 20ms/step - loss: 0.5757 - accuracy: 0.7326 - val_loss: 0.5851 - val_accuracy: 0.7273\n",
            "Epoch 74/75\n",
            "2/2 [==============================] - 0s 20ms/step - loss: 0.5756 - accuracy: 0.7326 - val_loss: 0.5851 - val_accuracy: 0.7273\n",
            "Epoch 75/75\n",
            "2/2 [==============================] - 0s 21ms/step - loss: 0.5754 - accuracy: 0.7326 - val_loss: 0.5853 - val_accuracy: 0.7273\n"
          ],
          "name": "stdout"
        }
      ]
    },
    {
      "cell_type": "code",
      "metadata": {
        "colab": {
          "base_uri": "https://localhost:8080/",
          "height": 591
        },
        "id": "kM89z7YQBMri",
        "outputId": "2b77eafc-43a6-4cd5-90bb-312dda63cce5"
      },
      "source": [
        "import matplotlib.pyplot as plt\n",
        "\n",
        "print(history.history.keys())\n",
        "# summarize history for accuracy\n",
        "plt.plot(history.history['accuracy'])\n",
        "plt.plot(history.history['val_accuracy'])\n",
        "plt.title('model accuracy')\n",
        "plt.ylabel('accuracy')\n",
        "plt.xlabel('epoch')\n",
        "plt.legend(['train', 'test'], loc='upper left')\n",
        "plt.show()\n",
        "# summarize history for loss\n",
        "plt.plot(history.history['loss'])\n",
        "plt.plot(history.history['val_loss'])\n",
        "plt.title('model loss')\n",
        "plt.ylabel('loss')\n",
        "plt.xlabel('epoch')\n",
        "plt.legend(['train', 'test'], loc='upper left')\n",
        "plt.show()"
      ],
      "execution_count": 17,
      "outputs": [
        {
          "output_type": "stream",
          "text": [
            "dict_keys(['loss', 'accuracy', 'val_loss', 'val_accuracy'])\n"
          ],
          "name": "stdout"
        },
        {
          "output_type": "display_data",
          "data": {
            "image/png": "[encoded data removed]",
            "text/plain": [
              "<Figure size 432x288 with 1 Axes>"
            ]
          },
          "metadata": {
            "tags": [],
            "needs_background": "light"
          }
        },
        {
          "output_type": "display_data",
          "data": {
            "image/png": "[encoded data removed]",
            "text/plain": [
              "<Figure size 432x288 with 1 Axes>"
            ]
          },
          "metadata": {
            "tags": [],
            "needs_background": "light"
          }
        }
      ]
    }
  ]
}