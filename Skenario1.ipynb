{
  "nbformat": 4,
  "nbformat_minor": 0,
  "metadata": {
    "colab": {
      "name": "Skenario1.ipynb",
      "provenance": [],
      "include_colab_link": true
    },
    "kernelspec": {
      "name": "python3",
      "display_name": "Python 3"
    },
    "language_info": {
      "name": "python"
    }
  },
  "cells": [
    {
      "cell_type": "markdown",
      "metadata": {
        "id": "view-in-github",
        "colab_type": "text"
      },
      "source": [
        "<a href=\"https://colab.research.google.com/github/martinpdab/tugasscdl/blob/main/Skenario1.ipynb\" target=\"_parent\"><img src=\"https://colab.research.google.com/assets/colab-badge.svg\" alt=\"Open In Colab\"/></a>"
      ]
    },
    {
      "cell_type": "code",
      "metadata": {
        "colab": {
          "base_uri": "https://localhost:8080/"
        },
        "id": "fpwDKH1bog0h",
        "outputId": "e6ab9edf-33c1-4771-aa8d-654d041cf828"
      },
      "source": [
        "!pip install sklearn"
      ],
      "execution_count": 5,
      "outputs": [
        {
          "output_type": "stream",
          "text": [
            "Requirement already satisfied: sklearn in /usr/local/lib/python3.7/dist-packages (0.0)\n",
            "Requirement already satisfied: scikit-learn in /usr/local/lib/python3.7/dist-packages (from sklearn) (0.22.2.post1)\n",
            "Requirement already satisfied: scipy>=0.17.0 in /usr/local/lib/python3.7/dist-packages (from scikit-learn->sklearn) (1.4.1)\n",
            "Requirement already satisfied: numpy>=1.11.0 in /usr/local/lib/python3.7/dist-packages (from scikit-learn->sklearn) (1.19.5)\n",
            "Requirement already satisfied: joblib>=0.11 in /usr/local/lib/python3.7/dist-packages (from scikit-learn->sklearn) (1.0.1)\n"
          ],
          "name": "stdout"
        }
      ]
    },
    {
      "cell_type": "code",
      "metadata": {
        "id": "9SobBrH1ou5R"
      },
      "source": [
        "import numpy as np\n",
        "import pandas as pd\n",
        "\n",
        "try:\n",
        "  # %tensorflow_version only exists in Colab.\n",
        "  %tensorflow_version 2.x\n",
        "except Exception:\n",
        "  pass\n",
        "import tensorflow as tf\n",
        "\n",
        "from tensorflow import feature_column\n",
        "from tensorflow.keras import layers\n",
        "from sklearn.model_selection import train_test_split\n",
        "from sklearn.utils import shuffle"
      ],
      "execution_count": 6,
      "outputs": []
    },
    {
      "cell_type": "code",
      "metadata": {
        "colab": {
          "base_uri": "https://localhost:8080/",
          "height": 424
        },
        "id": "G6IpZ3tTo1XZ",
        "outputId": "cc9195d1-01a1-44df-99e2-406444dda80e"
      },
      "source": [
        "#memakai dataset\n",
        "URL = 'https://raw.githubusercontent.com/martinpdab/tugasscdl/main/dataset_fixed(1).csv' \n",
        "dataframe = pd.read_csv(URL)\n",
        "dataframe"
      ],
      "execution_count": 7,
      "outputs": [
        {
          "output_type": "execute_result",
          "data": {
            "text/html": [
              "<div>\n",
              "<style scoped>\n",
              "    .dataframe tbody tr th:only-of-type {\n",
              "        vertical-align: middle;\n",
              "    }\n",
              "\n",
              "    .dataframe tbody tr th {\n",
              "        vertical-align: top;\n",
              "    }\n",
              "\n",
              "    .dataframe thead th {\n",
              "        text-align: right;\n",
              "    }\n",
              "</style>\n",
              "<table border=\"1\" class=\"dataframe\">\n",
              "  <thead>\n",
              "    <tr style=\"text-align: right;\">\n",
              "      <th></th>\n",
              "      <th>TE</th>\n",
              "      <th>HU</th>\n",
              "      <th>RF</th>\n",
              "      <th>WS</th>\n",
              "      <th>PD</th>\n",
              "      <th>ABJ</th>\n",
              "      <th>LAG0</th>\n",
              "      <th>LAG1</th>\n",
              "      <th>LAG2</th>\n",
              "      <th>LAG3</th>\n",
              "      <th>LAG4</th>\n",
              "      <th>LAG5</th>\n",
              "      <th>LAG6</th>\n",
              "      <th>LAG7</th>\n",
              "      <th>LAG8</th>\n",
              "      <th>LAG9</th>\n",
              "      <th>LAG10</th>\n",
              "      <th>LAG11</th>\n",
              "      <th>LAG12</th>\n",
              "      <th>OS</th>\n",
              "    </tr>\n",
              "  </thead>\n",
              "  <tbody>\n",
              "    <tr>\n",
              "      <th>0</th>\n",
              "      <td>26.02</td>\n",
              "      <td>84.74</td>\n",
              "      <td>10.52</td>\n",
              "      <td>0.84</td>\n",
              "      <td>792.86</td>\n",
              "      <td>86.96</td>\n",
              "      <td>1</td>\n",
              "      <td>4</td>\n",
              "      <td>6</td>\n",
              "      <td>4</td>\n",
              "      <td>4</td>\n",
              "      <td>1</td>\n",
              "      <td>4</td>\n",
              "      <td>3</td>\n",
              "      <td>3</td>\n",
              "      <td>5</td>\n",
              "      <td>2</td>\n",
              "      <td>1</td>\n",
              "      <td>4</td>\n",
              "      <td>0</td>\n",
              "    </tr>\n",
              "    <tr>\n",
              "      <th>1</th>\n",
              "      <td>26.32</td>\n",
              "      <td>84.64</td>\n",
              "      <td>12.04</td>\n",
              "      <td>0.86</td>\n",
              "      <td>793.45</td>\n",
              "      <td>86.72</td>\n",
              "      <td>3</td>\n",
              "      <td>1</td>\n",
              "      <td>4</td>\n",
              "      <td>6</td>\n",
              "      <td>4</td>\n",
              "      <td>4</td>\n",
              "      <td>1</td>\n",
              "      <td>4</td>\n",
              "      <td>3</td>\n",
              "      <td>3</td>\n",
              "      <td>5</td>\n",
              "      <td>2</td>\n",
              "      <td>1</td>\n",
              "      <td>1</td>\n",
              "    </tr>\n",
              "    <tr>\n",
              "      <th>2</th>\n",
              "      <td>26.39</td>\n",
              "      <td>85.00</td>\n",
              "      <td>8.65</td>\n",
              "      <td>0.55</td>\n",
              "      <td>794.04</td>\n",
              "      <td>86.50</td>\n",
              "      <td>0</td>\n",
              "      <td>3</td>\n",
              "      <td>1</td>\n",
              "      <td>4</td>\n",
              "      <td>6</td>\n",
              "      <td>4</td>\n",
              "      <td>4</td>\n",
              "      <td>1</td>\n",
              "      <td>4</td>\n",
              "      <td>3</td>\n",
              "      <td>3</td>\n",
              "      <td>5</td>\n",
              "      <td>2</td>\n",
              "      <td>0</td>\n",
              "    </tr>\n",
              "    <tr>\n",
              "      <th>3</th>\n",
              "      <td>26.29</td>\n",
              "      <td>86.17</td>\n",
              "      <td>10.37</td>\n",
              "      <td>0.30</td>\n",
              "      <td>794.63</td>\n",
              "      <td>86.28</td>\n",
              "      <td>1</td>\n",
              "      <td>0</td>\n",
              "      <td>3</td>\n",
              "      <td>1</td>\n",
              "      <td>4</td>\n",
              "      <td>6</td>\n",
              "      <td>4</td>\n",
              "      <td>4</td>\n",
              "      <td>1</td>\n",
              "      <td>4</td>\n",
              "      <td>3</td>\n",
              "      <td>3</td>\n",
              "      <td>5</td>\n",
              "      <td>0</td>\n",
              "    </tr>\n",
              "    <tr>\n",
              "      <th>4</th>\n",
              "      <td>26.57</td>\n",
              "      <td>85.61</td>\n",
              "      <td>7.35</td>\n",
              "      <td>0.58</td>\n",
              "      <td>795.22</td>\n",
              "      <td>86.08</td>\n",
              "      <td>0</td>\n",
              "      <td>1</td>\n",
              "      <td>0</td>\n",
              "      <td>3</td>\n",
              "      <td>1</td>\n",
              "      <td>4</td>\n",
              "      <td>6</td>\n",
              "      <td>4</td>\n",
              "      <td>4</td>\n",
              "      <td>1</td>\n",
              "      <td>4</td>\n",
              "      <td>3</td>\n",
              "      <td>3</td>\n",
              "      <td>0</td>\n",
              "    </tr>\n",
              "    <tr>\n",
              "      <th>...</th>\n",
              "      <td>...</td>\n",
              "      <td>...</td>\n",
              "      <td>...</td>\n",
              "      <td>...</td>\n",
              "      <td>...</td>\n",
              "      <td>...</td>\n",
              "      <td>...</td>\n",
              "      <td>...</td>\n",
              "      <td>...</td>\n",
              "      <td>...</td>\n",
              "      <td>...</td>\n",
              "      <td>...</td>\n",
              "      <td>...</td>\n",
              "      <td>...</td>\n",
              "      <td>...</td>\n",
              "      <td>...</td>\n",
              "      <td>...</td>\n",
              "      <td>...</td>\n",
              "      <td>...</td>\n",
              "      <td>...</td>\n",
              "    </tr>\n",
              "    <tr>\n",
              "      <th>84</th>\n",
              "      <td>24.27</td>\n",
              "      <td>76.87</td>\n",
              "      <td>0.00</td>\n",
              "      <td>1.39</td>\n",
              "      <td>846.18</td>\n",
              "      <td>96.29</td>\n",
              "      <td>1</td>\n",
              "      <td>4</td>\n",
              "      <td>3</td>\n",
              "      <td>3</td>\n",
              "      <td>5</td>\n",
              "      <td>2</td>\n",
              "      <td>1</td>\n",
              "      <td>4</td>\n",
              "      <td>1</td>\n",
              "      <td>1</td>\n",
              "      <td>1</td>\n",
              "      <td>2</td>\n",
              "      <td>3</td>\n",
              "      <td>0</td>\n",
              "    </tr>\n",
              "    <tr>\n",
              "      <th>85</th>\n",
              "      <td>25.50</td>\n",
              "      <td>75.73</td>\n",
              "      <td>0.59</td>\n",
              "      <td>1.03</td>\n",
              "      <td>846.59</td>\n",
              "      <td>93.34</td>\n",
              "      <td>4</td>\n",
              "      <td>1</td>\n",
              "      <td>4</td>\n",
              "      <td>3</td>\n",
              "      <td>3</td>\n",
              "      <td>5</td>\n",
              "      <td>2</td>\n",
              "      <td>1</td>\n",
              "      <td>4</td>\n",
              "      <td>1</td>\n",
              "      <td>1</td>\n",
              "      <td>1</td>\n",
              "      <td>2</td>\n",
              "      <td>1</td>\n",
              "    </tr>\n",
              "    <tr>\n",
              "      <th>86</th>\n",
              "      <td>26.58</td>\n",
              "      <td>74.94</td>\n",
              "      <td>0.04</td>\n",
              "      <td>1.39</td>\n",
              "      <td>847.01</td>\n",
              "      <td>96.10</td>\n",
              "      <td>4</td>\n",
              "      <td>4</td>\n",
              "      <td>1</td>\n",
              "      <td>4</td>\n",
              "      <td>3</td>\n",
              "      <td>3</td>\n",
              "      <td>5</td>\n",
              "      <td>2</td>\n",
              "      <td>1</td>\n",
              "      <td>4</td>\n",
              "      <td>1</td>\n",
              "      <td>1</td>\n",
              "      <td>1</td>\n",
              "      <td>1</td>\n",
              "    </tr>\n",
              "    <tr>\n",
              "      <th>87</th>\n",
              "      <td>26.49</td>\n",
              "      <td>82.28</td>\n",
              "      <td>10.53</td>\n",
              "      <td>1.00</td>\n",
              "      <td>847.42</td>\n",
              "      <td>96.38</td>\n",
              "      <td>6</td>\n",
              "      <td>4</td>\n",
              "      <td>4</td>\n",
              "      <td>1</td>\n",
              "      <td>4</td>\n",
              "      <td>3</td>\n",
              "      <td>3</td>\n",
              "      <td>5</td>\n",
              "      <td>2</td>\n",
              "      <td>1</td>\n",
              "      <td>4</td>\n",
              "      <td>1</td>\n",
              "      <td>1</td>\n",
              "      <td>1</td>\n",
              "    </tr>\n",
              "    <tr>\n",
              "      <th>88</th>\n",
              "      <td>26.14</td>\n",
              "      <td>85.45</td>\n",
              "      <td>10.41</td>\n",
              "      <td>0.87</td>\n",
              "      <td>847.84</td>\n",
              "      <td>95.35</td>\n",
              "      <td>4</td>\n",
              "      <td>6</td>\n",
              "      <td>4</td>\n",
              "      <td>4</td>\n",
              "      <td>1</td>\n",
              "      <td>4</td>\n",
              "      <td>3</td>\n",
              "      <td>3</td>\n",
              "      <td>5</td>\n",
              "      <td>2</td>\n",
              "      <td>1</td>\n",
              "      <td>4</td>\n",
              "      <td>1</td>\n",
              "      <td>1</td>\n",
              "    </tr>\n",
              "  </tbody>\n",
              "</table>\n",
              "<p>89 rows × 20 columns</p>\n",
              "</div>"
            ],
            "text/plain": [
              "       TE     HU     RF    WS      PD  ...  LAG9  LAG10  LAG11  LAG12  OS\n",
              "0   26.02  84.74  10.52  0.84  792.86  ...     5      2      1      4   0\n",
              "1   26.32  84.64  12.04  0.86  793.45  ...     3      5      2      1   1\n",
              "2   26.39  85.00   8.65  0.55  794.04  ...     3      3      5      2   0\n",
              "3   26.29  86.17  10.37  0.30  794.63  ...     4      3      3      5   0\n",
              "4   26.57  85.61   7.35  0.58  795.22  ...     1      4      3      3   0\n",
              "..    ...    ...    ...   ...     ...  ...   ...    ...    ...    ...  ..\n",
              "84  24.27  76.87   0.00  1.39  846.18  ...     1      1      2      3   0\n",
              "85  25.50  75.73   0.59  1.03  846.59  ...     1      1      1      2   1\n",
              "86  26.58  74.94   0.04  1.39  847.01  ...     4      1      1      1   1\n",
              "87  26.49  82.28  10.53  1.00  847.42  ...     1      4      1      1   1\n",
              "88  26.14  85.45  10.41  0.87  847.84  ...     2      1      4      1   1\n",
              "\n",
              "[89 rows x 20 columns]"
            ]
          },
          "metadata": {
            "tags": []
          },
          "execution_count": 7
        }
      ]
    },
    {
      "cell_type": "code",
      "metadata": {
        "colab": {
          "base_uri": "https://localhost:8080/",
          "height": 206
        },
        "id": "BpdzXN0Ao6jd",
        "outputId": "7380b02d-6bdf-4b82-8fb4-d8a219468820"
      },
      "source": [
        "# mengambil kolom TE, HU, RF, WS, PD, ABJ, OS dan mengacak dataset\n",
        "data = dataframe[['TE', 'HU', 'RF', 'WS', 'PD', 'ABJ', 'OS']]\n",
        "data = shuffle(data)\n",
        "data.head()"
      ],
      "execution_count": 8,
      "outputs": [
        {
          "output_type": "execute_result",
          "data": {
            "text/html": [
              "<div>\n",
              "<style scoped>\n",
              "    .dataframe tbody tr th:only-of-type {\n",
              "        vertical-align: middle;\n",
              "    }\n",
              "\n",
              "    .dataframe tbody tr th {\n",
              "        vertical-align: top;\n",
              "    }\n",
              "\n",
              "    .dataframe thead th {\n",
              "        text-align: right;\n",
              "    }\n",
              "</style>\n",
              "<table border=\"1\" class=\"dataframe\">\n",
              "  <thead>\n",
              "    <tr style=\"text-align: right;\">\n",
              "      <th></th>\n",
              "      <th>TE</th>\n",
              "      <th>HU</th>\n",
              "      <th>RF</th>\n",
              "      <th>WS</th>\n",
              "      <th>PD</th>\n",
              "      <th>ABJ</th>\n",
              "      <th>OS</th>\n",
              "    </tr>\n",
              "  </thead>\n",
              "  <tbody>\n",
              "    <tr>\n",
              "      <th>54</th>\n",
              "      <td>26.06</td>\n",
              "      <td>85.65</td>\n",
              "      <td>12.59</td>\n",
              "      <td>0.42</td>\n",
              "      <td>826.48</td>\n",
              "      <td>92.12</td>\n",
              "      <td>0</td>\n",
              "    </tr>\n",
              "    <tr>\n",
              "      <th>84</th>\n",
              "      <td>24.27</td>\n",
              "      <td>76.87</td>\n",
              "      <td>0.00</td>\n",
              "      <td>1.39</td>\n",
              "      <td>846.18</td>\n",
              "      <td>96.29</td>\n",
              "      <td>0</td>\n",
              "    </tr>\n",
              "    <tr>\n",
              "      <th>46</th>\n",
              "      <td>25.91</td>\n",
              "      <td>85.26</td>\n",
              "      <td>10.47</td>\n",
              "      <td>0.61</td>\n",
              "      <td>820.33</td>\n",
              "      <td>94.70</td>\n",
              "      <td>0</td>\n",
              "    </tr>\n",
              "    <tr>\n",
              "      <th>74</th>\n",
              "      <td>26.43</td>\n",
              "      <td>81.10</td>\n",
              "      <td>4.81</td>\n",
              "      <td>1.06</td>\n",
              "      <td>842.00</td>\n",
              "      <td>84.00</td>\n",
              "      <td>0</td>\n",
              "    </tr>\n",
              "    <tr>\n",
              "      <th>78</th>\n",
              "      <td>25.39</td>\n",
              "      <td>86.00</td>\n",
              "      <td>13.44</td>\n",
              "      <td>0.71</td>\n",
              "      <td>843.70</td>\n",
              "      <td>92.87</td>\n",
              "      <td>0</td>\n",
              "    </tr>\n",
              "  </tbody>\n",
              "</table>\n",
              "</div>"
            ],
            "text/plain": [
              "       TE     HU     RF    WS      PD    ABJ  OS\n",
              "54  26.06  85.65  12.59  0.42  826.48  92.12   0\n",
              "84  24.27  76.87   0.00  1.39  846.18  96.29   0\n",
              "46  25.91  85.26  10.47  0.61  820.33  94.70   0\n",
              "74  26.43  81.10   4.81  1.06  842.00  84.00   0\n",
              "78  25.39  86.00  13.44  0.71  843.70  92.87   0"
            ]
          },
          "metadata": {
            "tags": []
          },
          "execution_count": 8
        }
      ]
    },
    {
      "cell_type": "code",
      "metadata": {
        "colab": {
          "base_uri": "https://localhost:8080/"
        },
        "id": "LMvImCxQrDs4",
        "outputId": "e867cf1f-62c9-4cde-9108-ddb5e94197d5"
      },
      "source": [
        "#train-test split 80-20\n",
        "train, test = train_test_split(data, test_size=0.2)\n",
        "print(len(train), 'banyak data train')\n",
        "print(len(test), 'banyak data test')\n",
        "\n",
        "#train-test split 70-30\n",
        "train1, test1 = train_test_split(data, test_size=0.3)\n",
        "print(len(train1), 'banyak data train')\n",
        "print(len(test1), 'banyak data test')"
      ],
      "execution_count": 9,
      "outputs": [
        {
          "output_type": "stream",
          "text": [
            "71 banyak data train\n",
            "18 banyak data test\n",
            "62 banyak data train\n",
            "27 banyak data test\n"
          ],
          "name": "stdout"
        }
      ]
    },
    {
      "cell_type": "code",
      "metadata": {
        "id": "PRXLkt1nrPkA"
      },
      "source": [
        "#misahin label\n",
        "def df_to_dataset(data, batch_size=32):\n",
        "  data = data.copy()\n",
        "  labels = data.pop('OS')\n",
        "  ds = tf.data.Dataset.from_tensor_slices((dict(data), labels))\n",
        "  ds = ds.batch(batch_size)\n",
        "  return ds"
      ],
      "execution_count": 10,
      "outputs": []
    },
    {
      "cell_type": "code",
      "metadata": {
        "id": "zNN7JeG8raFE"
      },
      "source": [
        "batch_size = 64 # A small batch sized is used for demonstration purposes\n",
        "#80-20 split\n",
        "train_ds = df_to_dataset(train, batch_size=batch_size)\n",
        "test_ds = df_to_dataset(test, batch_size=batch_size)\n",
        "\n",
        "#70-30 split\n",
        "train_ds1 = df_to_dataset(train1, batch_size=batch_size)\n",
        "test_ds1 = df_to_dataset(test1, batch_size=batch_size)"
      ],
      "execution_count": 11,
      "outputs": []
    },
    {
      "cell_type": "code",
      "metadata": {
        "colab": {
          "base_uri": "https://localhost:8080/"
        },
        "id": "x-2se8Jxrh4W",
        "outputId": "c574cbea-804b-42dd-fdb0-4be27a5751bc"
      },
      "source": [
        "for feature_batch, label_batch in train_ds.take(1):\n",
        "  print('Every feature:', list(feature_batch.keys()))\n",
        "  print('TE:', feature_batch['TE'])\n",
        "  print('HU:', feature_batch['HU'])\n",
        "  print('OS:', label_batch)"
      ],
      "execution_count": 12,
      "outputs": [
        {
          "output_type": "stream",
          "text": [
            "Every feature: ['TE', 'HU', 'RF', 'WS', 'PD', 'ABJ']\n",
            "TE: tf.Tensor(\n",
            "[26.04 25.88 26.   24.13 25.9  24.45 26.   27.4  24.79 26.64 24.64 25.91\n",
            " 26.13 26.09 24.46 25.63 23.85 26.58 26.   26.08 23.67 25.73 25.96 25.82\n",
            " 26.49 25.83 24.86 26.22 25.6  26.11 24.27 25.51 24.55 26.06 26.57 23.94\n",
            " 26.43 25.69 24.25 26.76 25.8  26.32 25.28 26.73 26.78 25.39 25.35 25.7\n",
            " 25.91 25.79 25.03 26.14 26.35 25.15 26.39 26.3  26.09 24.83 25.7  25.62\n",
            " 23.86 26.73 26.28 25.76], shape=(64,), dtype=float64)\n",
            "HU: tf.Tensor(\n",
            "[84.81 85.14 84.53 79.73 85.2  79.42 84.52 76.61 84.39 76.52 78.81 85.2\n",
            " 85.14 84.42 82.06 85.4  76.84 74.94 84.13 85.48 80.61 83.93 78.94 82.9\n",
            " 82.28 83.39 78.61 84.03 77.8  81.93 76.87 81.5  78.78 85.65 85.61 78.45\n",
            " 81.1  86.86 78.65 81.06 86.77 84.64 87.29 81.17 85.45 86.   83.52 82.68\n",
            " 80.77 84.83 77.53 85.45 85.3  76.7  85.   74.55 86.6  81.   82.71 84.1\n",
            " 75.13 82.17 83.53 81.57], shape=(64,), dtype=float64)\n",
            "OS: tf.Tensor(\n",
            "[0 0 0 0 0 1 0 0 1 0 0 0 0 0 0 0 0 1 0 0 1 0 0 0 1 0 0 0 0 1 0 0 0 0 0 0 0\n",
            " 0 1 0 0 1 1 1 0 0 0 0 0 1 0 1 0 0 0 0 0 1 1 0 0 0 0 0], shape=(64,), dtype=int64)\n"
          ],
          "name": "stdout"
        }
      ]
    },
    {
      "cell_type": "code",
      "metadata": {
        "id": "XAqgDmFnr4R_"
      },
      "source": [
        "feature_columns = []\n",
        "\n",
        "for header in ['TE', 'HU', 'RF', 'WS', 'PD', 'ABJ']:\n",
        "  feature_columns.append(feature_column.numeric_column(header))"
      ],
      "execution_count": 13,
      "outputs": []
    },
    {
      "cell_type": "code",
      "metadata": {
        "colab": {
          "base_uri": "https://localhost:8080/"
        },
        "id": "_6fY8onLsCO3",
        "outputId": "d3b20a40-dc59-4fbe-afaa-3e3f9400764f"
      },
      "source": [
        "feature_layer = tf.keras.layers.DenseFeatures(feature_columns)\n",
        "feature_layer"
      ],
      "execution_count": 14,
      "outputs": [
        {
          "output_type": "execute_result",
          "data": {
            "text/plain": [
              "<tensorflow.python.keras.feature_column.dense_features_v2.DenseFeatures at 0x7fe8d8fef210>"
            ]
          },
          "metadata": {
            "tags": []
          },
          "execution_count": 14
        }
      ]
    },
    {
      "cell_type": "code",
      "metadata": {
        "colab": {
          "base_uri": "https://localhost:8080/"
        },
        "id": "XU3mm4n0sP4J",
        "outputId": "886738f7-5c02-46a3-e2d9-02c58cac67b9"
      },
      "source": [
        "#train 80-20\n",
        "model = tf.keras.Sequential([\n",
        "  feature_layer,\n",
        "  layers.Dense(128, activation='relu'),\n",
        "  layers.Dense(64, activation='relu'),\n",
        "  layers.Dense(32, activation='relu'),\n",
        "  layers.Dense(1, activation='sigmoid')\n",
        "])\n",
        "\n",
        "model.compile(optimizer='adam',\n",
        "              loss='binary_crossentropy',\n",
        "              metrics=['accuracy'])\n",
        "\n",
        "history= model.fit(train_ds,\n",
        "          validation_data=test_ds,\n",
        "          epochs=75)"
      ],
      "execution_count": 15,
      "outputs": [
        {
          "output_type": "stream",
          "text": [
            "Epoch 1/75\n",
            "WARNING:tensorflow:Layers in a Sequential model should only have a single input tensor, but we receive a <class 'dict'> input: {'TE': <tf.Tensor 'ExpandDims_4:0' shape=(None, 1) dtype=float64>, 'HU': <tf.Tensor 'ExpandDims_1:0' shape=(None, 1) dtype=float64>, 'RF': <tf.Tensor 'ExpandDims_3:0' shape=(None, 1) dtype=float64>, 'WS': <tf.Tensor 'ExpandDims_5:0' shape=(None, 1) dtype=float64>, 'PD': <tf.Tensor 'ExpandDims_2:0' shape=(None, 1) dtype=float64>, 'ABJ': <tf.Tensor 'ExpandDims:0' shape=(None, 1) dtype=float64>}\n",
            "Consider rewriting this model with the Functional API.\n",
            "WARNING:tensorflow:Layers in a Sequential model should only have a single input tensor, but we receive a <class 'dict'> input: {'TE': <tf.Tensor 'ExpandDims_4:0' shape=(None, 1) dtype=float64>, 'HU': <tf.Tensor 'ExpandDims_1:0' shape=(None, 1) dtype=float64>, 'RF': <tf.Tensor 'ExpandDims_3:0' shape=(None, 1) dtype=float64>, 'WS': <tf.Tensor 'ExpandDims_5:0' shape=(None, 1) dtype=float64>, 'PD': <tf.Tensor 'ExpandDims_2:0' shape=(None, 1) dtype=float64>, 'ABJ': <tf.Tensor 'ExpandDims:0' shape=(None, 1) dtype=float64>}\n",
            "Consider rewriting this model with the Functional API.\n",
            "1/2 [==============>...............] - ETA: 0s - loss: 7.3655 - accuracy: 0.7812WARNING:tensorflow:Layers in a Sequential model should only have a single input tensor, but we receive a <class 'dict'> input: {'TE': <tf.Tensor 'ExpandDims_4:0' shape=(None, 1) dtype=float64>, 'HU': <tf.Tensor 'ExpandDims_1:0' shape=(None, 1) dtype=float64>, 'RF': <tf.Tensor 'ExpandDims_3:0' shape=(None, 1) dtype=float64>, 'WS': <tf.Tensor 'ExpandDims_5:0' shape=(None, 1) dtype=float64>, 'PD': <tf.Tensor 'ExpandDims_2:0' shape=(None, 1) dtype=float64>, 'ABJ': <tf.Tensor 'ExpandDims:0' shape=(None, 1) dtype=float64>}\n",
            "Consider rewriting this model with the Functional API.\n",
            "2/2 [==============================] - 1s 188ms/step - loss: 6.7643 - accuracy: 0.7887 - val_loss: 8.4231 - val_accuracy: 0.1667\n",
            "Epoch 2/75\n",
            "2/2 [==============================] - 0s 27ms/step - loss: 7.4172 - accuracy: 0.2113 - val_loss: 1.7269 - val_accuracy: 0.8333\n",
            "Epoch 3/75\n",
            "2/2 [==============================] - 0s 17ms/step - loss: 2.3298 - accuracy: 0.7887 - val_loss: 4.1051 - val_accuracy: 0.8333\n",
            "Epoch 4/75\n",
            "2/2 [==============================] - 0s 17ms/step - loss: 5.2867 - accuracy: 0.7887 - val_loss: 4.8238 - val_accuracy: 0.8333\n",
            "Epoch 5/75\n",
            "2/2 [==============================] - 0s 16ms/step - loss: 6.1511 - accuracy: 0.7887 - val_loss: 4.4132 - val_accuracy: 0.8333\n",
            "Epoch 6/75\n",
            "2/2 [==============================] - 0s 16ms/step - loss: 5.5907 - accuracy: 0.7887 - val_loss: 3.1965 - val_accuracy: 0.8333\n",
            "Epoch 7/75\n",
            "2/2 [==============================] - 0s 17ms/step - loss: 4.0129 - accuracy: 0.7887 - val_loss: 1.3856 - val_accuracy: 0.8333\n",
            "Epoch 8/75\n",
            "2/2 [==============================] - 0s 16ms/step - loss: 1.7046 - accuracy: 0.7887 - val_loss: 3.2091 - val_accuracy: 0.1667\n",
            "Epoch 9/75\n",
            "2/2 [==============================] - 0s 16ms/step - loss: 3.0767 - accuracy: 0.2113 - val_loss: 0.4909 - val_accuracy: 0.7778\n",
            "Epoch 10/75\n",
            "2/2 [==============================] - 0s 19ms/step - loss: 0.6015 - accuracy: 0.7465 - val_loss: 1.5068 - val_accuracy: 0.8333\n",
            "Epoch 11/75\n",
            "2/2 [==============================] - 0s 18ms/step - loss: 1.9536 - accuracy: 0.7887 - val_loss: 1.9024 - val_accuracy: 0.8333\n",
            "Epoch 12/75\n",
            "2/2 [==============================] - 0s 17ms/step - loss: 2.4256 - accuracy: 0.7887 - val_loss: 1.5762 - val_accuracy: 0.8333\n",
            "Epoch 13/75\n",
            "2/2 [==============================] - 0s 14ms/step - loss: 1.9837 - accuracy: 0.7887 - val_loss: 0.6881 - val_accuracy: 0.8333\n",
            "Epoch 14/75\n",
            "2/2 [==============================] - 0s 17ms/step - loss: 0.8923 - accuracy: 0.7606 - val_loss: 1.3664 - val_accuracy: 0.1667\n",
            "Epoch 15/75\n",
            "2/2 [==============================] - 0s 15ms/step - loss: 1.2895 - accuracy: 0.2817 - val_loss: 0.6092 - val_accuracy: 0.8333\n",
            "Epoch 16/75\n",
            "2/2 [==============================] - 0s 17ms/step - loss: 0.7954 - accuracy: 0.7887 - val_loss: 1.0445 - val_accuracy: 0.8333\n",
            "Epoch 17/75\n",
            "2/2 [==============================] - 0s 17ms/step - loss: 1.3302 - accuracy: 0.7887 - val_loss: 0.7429 - val_accuracy: 0.8333\n",
            "Epoch 18/75\n",
            "2/2 [==============================] - 0s 17ms/step - loss: 0.9395 - accuracy: 0.7887 - val_loss: 0.8353 - val_accuracy: 0.3889\n",
            "Epoch 19/75\n",
            "2/2 [==============================] - 0s 15ms/step - loss: 0.8435 - accuracy: 0.4789 - val_loss: 0.5407 - val_accuracy: 0.8333\n",
            "Epoch 20/75\n",
            "2/2 [==============================] - 0s 16ms/step - loss: 0.6911 - accuracy: 0.7887 - val_loss: 0.7709 - val_accuracy: 0.8333\n",
            "Epoch 21/75\n",
            "2/2 [==============================] - 0s 19ms/step - loss: 0.9751 - accuracy: 0.7887 - val_loss: 0.4995 - val_accuracy: 0.8333\n",
            "Epoch 22/75\n",
            "2/2 [==============================] - 0s 17ms/step - loss: 0.6315 - accuracy: 0.7606 - val_loss: 0.6081 - val_accuracy: 0.6667\n",
            "Epoch 23/75\n",
            "2/2 [==============================] - 0s 18ms/step - loss: 0.6347 - accuracy: 0.6620 - val_loss: 0.5898 - val_accuracy: 0.8333\n",
            "Epoch 24/75\n",
            "2/2 [==============================] - 0s 20ms/step - loss: 0.7442 - accuracy: 0.7887 - val_loss: 0.5625 - val_accuracy: 0.8333\n",
            "Epoch 25/75\n",
            "2/2 [==============================] - 0s 19ms/step - loss: 0.7041 - accuracy: 0.7887 - val_loss: 0.5575 - val_accuracy: 0.7222\n",
            "Epoch 26/75\n",
            "2/2 [==============================] - 0s 16ms/step - loss: 0.6131 - accuracy: 0.7042 - val_loss: 0.4945 - val_accuracy: 0.8333\n",
            "Epoch 27/75\n",
            "2/2 [==============================] - 0s 15ms/step - loss: 0.6054 - accuracy: 0.7887 - val_loss: 0.5568 - val_accuracy: 0.8333\n",
            "Epoch 28/75\n",
            "2/2 [==============================] - 0s 17ms/step - loss: 0.7008 - accuracy: 0.7887 - val_loss: 0.4915 - val_accuracy: 0.8333\n",
            "Epoch 29/75\n",
            "2/2 [==============================] - 0s 17ms/step - loss: 0.5808 - accuracy: 0.7465 - val_loss: 0.4782 - val_accuracy: 0.7778\n",
            "Epoch 30/75\n",
            "2/2 [==============================] - 0s 17ms/step - loss: 0.5721 - accuracy: 0.7746 - val_loss: 0.5291 - val_accuracy: 0.8333\n",
            "Epoch 31/75\n",
            "2/2 [==============================] - 0s 15ms/step - loss: 0.6667 - accuracy: 0.7887 - val_loss: 0.4792 - val_accuracy: 0.7778\n",
            "Epoch 32/75\n",
            "2/2 [==============================] - 0s 18ms/step - loss: 0.5776 - accuracy: 0.7746 - val_loss: 0.4775 - val_accuracy: 0.7778\n",
            "Epoch 33/75\n",
            "2/2 [==============================] - 0s 18ms/step - loss: 0.5684 - accuracy: 0.7746 - val_loss: 0.5087 - val_accuracy: 0.8333\n",
            "Epoch 34/75\n",
            "2/2 [==============================] - 0s 16ms/step - loss: 0.6375 - accuracy: 0.7887 - val_loss: 0.4769 - val_accuracy: 0.7778\n",
            "Epoch 35/75\n",
            "2/2 [==============================] - 0s 17ms/step - loss: 0.5759 - accuracy: 0.7887 - val_loss: 0.4765 - val_accuracy: 0.7778\n",
            "Epoch 36/75\n",
            "2/2 [==============================] - 0s 21ms/step - loss: 0.5702 - accuracy: 0.7746 - val_loss: 0.4970 - val_accuracy: 0.8333\n",
            "Epoch 37/75\n",
            "2/2 [==============================] - 0s 20ms/step - loss: 0.6177 - accuracy: 0.7887 - val_loss: 0.4771 - val_accuracy: 0.7778\n",
            "Epoch 38/75\n",
            "2/2 [==============================] - 0s 15ms/step - loss: 0.5729 - accuracy: 0.7887 - val_loss: 0.4765 - val_accuracy: 0.8333\n",
            "Epoch 39/75\n",
            "2/2 [==============================] - 0s 20ms/step - loss: 0.5742 - accuracy: 0.7746 - val_loss: 0.4884 - val_accuracy: 0.8333\n",
            "Epoch 40/75\n",
            "2/2 [==============================] - 0s 19ms/step - loss: 0.6049 - accuracy: 0.7887 - val_loss: 0.4752 - val_accuracy: 0.7778\n",
            "Epoch 41/75\n",
            "2/2 [==============================] - 0s 19ms/step - loss: 0.5708 - accuracy: 0.7746 - val_loss: 0.4768 - val_accuracy: 0.8333\n",
            "Epoch 42/75\n",
            "2/2 [==============================] - 0s 18ms/step - loss: 0.5799 - accuracy: 0.7887 - val_loss: 0.4824 - val_accuracy: 0.8333\n",
            "Epoch 43/75\n",
            "2/2 [==============================] - 0s 19ms/step - loss: 0.5945 - accuracy: 0.7887 - val_loss: 0.4745 - val_accuracy: 0.7778\n",
            "Epoch 44/75\n",
            "2/2 [==============================] - 0s 17ms/step - loss: 0.5693 - accuracy: 0.7746 - val_loss: 0.4776 - val_accuracy: 0.8333\n",
            "Epoch 45/75\n",
            "2/2 [==============================] - 0s 16ms/step - loss: 0.5843 - accuracy: 0.7887 - val_loss: 0.4766 - val_accuracy: 0.8333\n",
            "Epoch 46/75\n",
            "2/2 [==============================] - 0s 16ms/step - loss: 0.5860 - accuracy: 0.7887 - val_loss: 0.4721 - val_accuracy: 0.8333\n",
            "Epoch 47/75\n",
            "2/2 [==============================] - 0s 24ms/step - loss: 0.5707 - accuracy: 0.7746 - val_loss: 0.4770 - val_accuracy: 0.8333\n",
            "Epoch 48/75\n",
            "2/2 [==============================] - 0s 17ms/step - loss: 0.5872 - accuracy: 0.7887 - val_loss: 0.4729 - val_accuracy: 0.8333\n",
            "Epoch 49/75\n",
            "2/2 [==============================] - 0s 19ms/step - loss: 0.5791 - accuracy: 0.7887 - val_loss: 0.4718 - val_accuracy: 0.8333\n",
            "Epoch 50/75\n",
            "2/2 [==============================] - 0s 20ms/step - loss: 0.5741 - accuracy: 0.7887 - val_loss: 0.4758 - val_accuracy: 0.8333\n",
            "Epoch 51/75\n",
            "2/2 [==============================] - 0s 18ms/step - loss: 0.5859 - accuracy: 0.7887 - val_loss: 0.4719 - val_accuracy: 0.8333\n",
            "Epoch 52/75\n",
            "2/2 [==============================] - 0s 20ms/step - loss: 0.5747 - accuracy: 0.7887 - val_loss: 0.4737 - val_accuracy: 0.8333\n",
            "Epoch 53/75\n",
            "2/2 [==============================] - 0s 18ms/step - loss: 0.5777 - accuracy: 0.7887 - val_loss: 0.4747 - val_accuracy: 0.8333\n",
            "Epoch 54/75\n",
            "2/2 [==============================] - 0s 19ms/step - loss: 0.5815 - accuracy: 0.7887 - val_loss: 0.4713 - val_accuracy: 0.8333\n",
            "Epoch 55/75\n",
            "2/2 [==============================] - 0s 20ms/step - loss: 0.5736 - accuracy: 0.7887 - val_loss: 0.4729 - val_accuracy: 0.8333\n",
            "Epoch 56/75\n",
            "2/2 [==============================] - 0s 19ms/step - loss: 0.5805 - accuracy: 0.7887 - val_loss: 0.4708 - val_accuracy: 0.8333\n",
            "Epoch 57/75\n",
            "2/2 [==============================] - 0s 17ms/step - loss: 0.5780 - accuracy: 0.7887 - val_loss: 0.4700 - val_accuracy: 0.8333\n",
            "Epoch 58/75\n",
            "2/2 [==============================] - 0s 16ms/step - loss: 0.5761 - accuracy: 0.7887 - val_loss: 0.4713 - val_accuracy: 0.8333\n",
            "Epoch 59/75\n",
            "2/2 [==============================] - 0s 17ms/step - loss: 0.5806 - accuracy: 0.7887 - val_loss: 0.4692 - val_accuracy: 0.8333\n",
            "Epoch 60/75\n",
            "2/2 [==============================] - 0s 20ms/step - loss: 0.5757 - accuracy: 0.7887 - val_loss: 0.4701 - val_accuracy: 0.8333\n",
            "Epoch 61/75\n",
            "2/2 [==============================] - 0s 16ms/step - loss: 0.5783 - accuracy: 0.7887 - val_loss: 0.4699 - val_accuracy: 0.8333\n",
            "Epoch 62/75\n",
            "2/2 [==============================] - 0s 17ms/step - loss: 0.5781 - accuracy: 0.7887 - val_loss: 0.4693 - val_accuracy: 0.8333\n",
            "Epoch 63/75\n",
            "2/2 [==============================] - 0s 18ms/step - loss: 0.5757 - accuracy: 0.7887 - val_loss: 0.4709 - val_accuracy: 0.8333\n",
            "Epoch 64/75\n",
            "2/2 [==============================] - 0s 18ms/step - loss: 0.5785 - accuracy: 0.7887 - val_loss: 0.4705 - val_accuracy: 0.8333\n",
            "Epoch 65/75\n",
            "2/2 [==============================] - 0s 21ms/step - loss: 0.5753 - accuracy: 0.7887 - val_loss: 0.4708 - val_accuracy: 0.8333\n",
            "Epoch 66/75\n",
            "2/2 [==============================] - 0s 19ms/step - loss: 0.5766 - accuracy: 0.7887 - val_loss: 0.4696 - val_accuracy: 0.8333\n",
            "Epoch 67/75\n",
            "2/2 [==============================] - 0s 17ms/step - loss: 0.5769 - accuracy: 0.7887 - val_loss: 0.4680 - val_accuracy: 0.8333\n",
            "Epoch 68/75\n",
            "2/2 [==============================] - 0s 18ms/step - loss: 0.5752 - accuracy: 0.7887 - val_loss: 0.4684 - val_accuracy: 0.8333\n",
            "Epoch 69/75\n",
            "2/2 [==============================] - 0s 15ms/step - loss: 0.5781 - accuracy: 0.7887 - val_loss: 0.4672 - val_accuracy: 0.8333\n",
            "Epoch 70/75\n",
            "2/2 [==============================] - 0s 15ms/step - loss: 0.5760 - accuracy: 0.7887 - val_loss: 0.4673 - val_accuracy: 0.8333\n",
            "Epoch 71/75\n",
            "2/2 [==============================] - 0s 17ms/step - loss: 0.5767 - accuracy: 0.7887 - val_loss: 0.4672 - val_accuracy: 0.8333\n",
            "Epoch 72/75\n",
            "2/2 [==============================] - 0s 19ms/step - loss: 0.5771 - accuracy: 0.7887 - val_loss: 0.4666 - val_accuracy: 0.8333\n",
            "Epoch 73/75\n",
            "2/2 [==============================] - 0s 19ms/step - loss: 0.5756 - accuracy: 0.7887 - val_loss: 0.4673 - val_accuracy: 0.8333\n",
            "Epoch 74/75\n",
            "2/2 [==============================] - 0s 18ms/step - loss: 0.5771 - accuracy: 0.7887 - val_loss: 0.4668 - val_accuracy: 0.8333\n",
            "Epoch 75/75\n",
            "2/2 [==============================] - 0s 19ms/step - loss: 0.5754 - accuracy: 0.7887 - val_loss: 0.4678 - val_accuracy: 0.8333\n"
          ],
          "name": "stdout"
        }
      ]
    },
    {
      "cell_type": "code",
      "metadata": {
        "colab": {
          "base_uri": "https://localhost:8080/"
        },
        "id": "AJNzsfaqBKTM",
        "outputId": "d6ed00c6-cc5f-4ec1-c556-a9ed0f165375"
      },
      "source": [
        "#train 70-30\n",
        "model = tf.keras.Sequential([\n",
        "  feature_layer,\n",
        "  layers.Dense(128, activation='relu'),\n",
        "  layers.Dense(64, activation='relu'),\n",
        "  layers.Dense(32, activation='relu'),\n",
        "  layers.Dense(1, activation='sigmoid')\n",
        "])\n",
        "\n",
        "model.compile(optimizer='adam',\n",
        "              loss='binary_crossentropy',\n",
        "              metrics=['accuracy'])\n",
        "\n",
        "history2= model.fit(train_ds1,\n",
        "          validation_data=test_ds1,\n",
        "          epochs=75)"
      ],
      "execution_count": 16,
      "outputs": [
        {
          "output_type": "stream",
          "text": [
            "Epoch 1/75\n",
            "WARNING:tensorflow:Layers in a Sequential model should only have a single input tensor, but we receive a <class 'dict'> input: {'TE': <tf.Tensor 'ExpandDims_4:0' shape=(None, 1) dtype=float64>, 'HU': <tf.Tensor 'ExpandDims_1:0' shape=(None, 1) dtype=float64>, 'RF': <tf.Tensor 'ExpandDims_3:0' shape=(None, 1) dtype=float64>, 'WS': <tf.Tensor 'ExpandDims_5:0' shape=(None, 1) dtype=float64>, 'PD': <tf.Tensor 'ExpandDims_2:0' shape=(None, 1) dtype=float64>, 'ABJ': <tf.Tensor 'ExpandDims:0' shape=(None, 1) dtype=float64>}\n",
            "Consider rewriting this model with the Functional API.\n",
            "WARNING:tensorflow:Layers in a Sequential model should only have a single input tensor, but we receive a <class 'dict'> input: {'TE': <tf.Tensor 'ExpandDims_4:0' shape=(None, 1) dtype=float64>, 'HU': <tf.Tensor 'ExpandDims_1:0' shape=(None, 1) dtype=float64>, 'RF': <tf.Tensor 'ExpandDims_3:0' shape=(None, 1) dtype=float64>, 'WS': <tf.Tensor 'ExpandDims_5:0' shape=(None, 1) dtype=float64>, 'PD': <tf.Tensor 'ExpandDims_2:0' shape=(None, 1) dtype=float64>, 'ABJ': <tf.Tensor 'ExpandDims:0' shape=(None, 1) dtype=float64>}\n",
            "Consider rewriting this model with the Functional API.\n",
            "1/1 [==============================] - ETA: 0s - loss: 37.8223 - accuracy: 0.1935WARNING:tensorflow:Layers in a Sequential model should only have a single input tensor, but we receive a <class 'dict'> input: {'TE': <tf.Tensor 'ExpandDims_4:0' shape=(None, 1) dtype=float64>, 'HU': <tf.Tensor 'ExpandDims_1:0' shape=(None, 1) dtype=float64>, 'RF': <tf.Tensor 'ExpandDims_3:0' shape=(None, 1) dtype=float64>, 'WS': <tf.Tensor 'ExpandDims_5:0' shape=(None, 1) dtype=float64>, 'PD': <tf.Tensor 'ExpandDims_2:0' shape=(None, 1) dtype=float64>, 'ABJ': <tf.Tensor 'ExpandDims:0' shape=(None, 1) dtype=float64>}\n",
            "Consider rewriting this model with the Functional API.\n",
            "1/1 [==============================] - 1s 599ms/step - loss: 37.8223 - accuracy: 0.1935 - val_loss: 15.3152 - val_accuracy: 0.2222\n",
            "Epoch 2/75\n",
            "1/1 [==============================] - 0s 17ms/step - loss: 15.7659 - accuracy: 0.1935 - val_loss: 0.6109 - val_accuracy: 0.7778\n",
            "Epoch 3/75\n",
            "1/1 [==============================] - 0s 21ms/step - loss: 0.5267 - accuracy: 0.8065 - val_loss: 3.8000 - val_accuracy: 0.7778\n",
            "Epoch 4/75\n",
            "1/1 [==============================] - 0s 23ms/step - loss: 3.2674 - accuracy: 0.8065 - val_loss: 5.8062 - val_accuracy: 0.7778\n",
            "Epoch 5/75\n",
            "1/1 [==============================] - 0s 18ms/step - loss: 5.0119 - accuracy: 0.8065 - val_loss: 6.9001 - val_accuracy: 0.7778\n",
            "Epoch 6/75\n",
            "1/1 [==============================] - 0s 17ms/step - loss: 5.9658 - accuracy: 0.8065 - val_loss: 7.3106 - val_accuracy: 0.7778\n",
            "Epoch 7/75\n",
            "1/1 [==============================] - 0s 17ms/step - loss: 6.3244 - accuracy: 0.8065 - val_loss: 7.1791 - val_accuracy: 0.7778\n",
            "Epoch 8/75\n",
            "1/1 [==============================] - 0s 17ms/step - loss: 6.2113 - accuracy: 0.8065 - val_loss: 6.6065 - val_accuracy: 0.7778\n",
            "Epoch 9/75\n",
            "1/1 [==============================] - 0s 18ms/step - loss: 5.7148 - accuracy: 0.8065 - val_loss: 5.6685 - val_accuracy: 0.7778\n",
            "Epoch 10/75\n",
            "1/1 [==============================] - 0s 19ms/step - loss: 4.8998 - accuracy: 0.8065 - val_loss: 4.4233 - val_accuracy: 0.7778\n",
            "Epoch 11/75\n",
            "1/1 [==============================] - 0s 19ms/step - loss: 3.8182 - accuracy: 0.8065 - val_loss: 2.9170 - val_accuracy: 0.7778\n",
            "Epoch 12/75\n",
            "1/1 [==============================] - 0s 19ms/step - loss: 2.5100 - accuracy: 0.8065 - val_loss: 1.2001 - val_accuracy: 0.7778\n",
            "Epoch 13/75\n",
            "1/1 [==============================] - 0s 18ms/step - loss: 1.0207 - accuracy: 0.8065 - val_loss: 2.1804 - val_accuracy: 0.2222\n",
            "Epoch 14/75\n",
            "1/1 [==============================] - 0s 18ms/step - loss: 2.2455 - accuracy: 0.1935 - val_loss: 2.0088 - val_accuracy: 0.2222\n",
            "Epoch 15/75\n",
            "1/1 [==============================] - 0s 22ms/step - loss: 2.0696 - accuracy: 0.1935 - val_loss: 0.6688 - val_accuracy: 0.7778\n",
            "Epoch 16/75\n",
            "1/1 [==============================] - 0s 17ms/step - loss: 0.5652 - accuracy: 0.8065 - val_loss: 1.4255 - val_accuracy: 0.7778\n",
            "Epoch 17/75\n",
            "1/1 [==============================] - 0s 19ms/step - loss: 1.2062 - accuracy: 0.8065 - val_loss: 1.8873 - val_accuracy: 0.7778\n",
            "Epoch 18/75\n",
            "1/1 [==============================] - 0s 18ms/step - loss: 1.6069 - accuracy: 0.8065 - val_loss: 2.0160 - val_accuracy: 0.7778\n",
            "Epoch 19/75\n",
            "1/1 [==============================] - 0s 18ms/step - loss: 1.7187 - accuracy: 0.8065 - val_loss: 1.8438 - val_accuracy: 0.7778\n",
            "Epoch 20/75\n",
            "1/1 [==============================] - 0s 23ms/step - loss: 1.5692 - accuracy: 0.8065 - val_loss: 1.4025 - val_accuracy: 0.7778\n",
            "Epoch 21/75\n",
            "1/1 [==============================] - 0s 20ms/step - loss: 1.1866 - accuracy: 0.8065 - val_loss: 0.7613 - val_accuracy: 0.7778\n",
            "Epoch 22/75\n",
            "1/1 [==============================] - 0s 20ms/step - loss: 0.6394 - accuracy: 0.8065 - val_loss: 0.9599 - val_accuracy: 0.2222\n",
            "Epoch 23/75\n",
            "1/1 [==============================] - 0s 21ms/step - loss: 0.9693 - accuracy: 0.1935 - val_loss: 1.0784 - val_accuracy: 0.2222\n",
            "Epoch 24/75\n",
            "1/1 [==============================] - 0s 18ms/step - loss: 1.0953 - accuracy: 0.1935 - val_loss: 0.6112 - val_accuracy: 0.7778\n",
            "Epoch 25/75\n",
            "1/1 [==============================] - 0s 21ms/step - loss: 0.5234 - accuracy: 0.8065 - val_loss: 1.0072 - val_accuracy: 0.7778\n",
            "Epoch 26/75\n",
            "1/1 [==============================] - 0s 17ms/step - loss: 0.8473 - accuracy: 0.8065 - val_loss: 1.1971 - val_accuracy: 0.7778\n",
            "Epoch 27/75\n",
            "1/1 [==============================] - 0s 18ms/step - loss: 1.0113 - accuracy: 0.8065 - val_loss: 1.1085 - val_accuracy: 0.7778\n",
            "Epoch 28/75\n",
            "1/1 [==============================] - 0s 17ms/step - loss: 0.9369 - accuracy: 0.8065 - val_loss: 0.7904 - val_accuracy: 0.7778\n",
            "Epoch 29/75\n",
            "1/1 [==============================] - 0s 19ms/step - loss: 0.6666 - accuracy: 0.8065 - val_loss: 0.5815 - val_accuracy: 0.7778\n",
            "Epoch 30/75\n",
            "1/1 [==============================] - 0s 17ms/step - loss: 0.5305 - accuracy: 0.8065 - val_loss: 0.9601 - val_accuracy: 0.2593\n",
            "Epoch 31/75\n",
            "1/1 [==============================] - 0s 20ms/step - loss: 0.9408 - accuracy: 0.2258 - val_loss: 0.5701 - val_accuracy: 0.7778\n",
            "Epoch 32/75\n",
            "1/1 [==============================] - 0s 21ms/step - loss: 0.5132 - accuracy: 0.7903 - val_loss: 0.7449 - val_accuracy: 0.7778\n",
            "Epoch 33/75\n",
            "1/1 [==============================] - 0s 18ms/step - loss: 0.6279 - accuracy: 0.8065 - val_loss: 0.9107 - val_accuracy: 0.7778\n",
            "Epoch 34/75\n",
            "1/1 [==============================] - 0s 17ms/step - loss: 0.7670 - accuracy: 0.8065 - val_loss: 0.8402 - val_accuracy: 0.7778\n",
            "Epoch 35/75\n",
            "1/1 [==============================] - 0s 19ms/step - loss: 0.7072 - accuracy: 0.8065 - val_loss: 0.6130 - val_accuracy: 0.7778\n",
            "Epoch 36/75\n",
            "1/1 [==============================] - 0s 19ms/step - loss: 0.5225 - accuracy: 0.8065 - val_loss: 0.6665 - val_accuracy: 0.5185\n",
            "Epoch 37/75\n",
            "1/1 [==============================] - 0s 19ms/step - loss: 0.6263 - accuracy: 0.6774 - val_loss: 0.6746 - val_accuracy: 0.5185\n",
            "Epoch 38/75\n",
            "1/1 [==============================] - 0s 19ms/step - loss: 0.6350 - accuracy: 0.6613 - val_loss: 0.5908 - val_accuracy: 0.7778\n",
            "Epoch 39/75\n",
            "1/1 [==============================] - 0s 23ms/step - loss: 0.5070 - accuracy: 0.8065 - val_loss: 0.7421 - val_accuracy: 0.7778\n",
            "Epoch 40/75\n",
            "1/1 [==============================] - 0s 19ms/step - loss: 0.6248 - accuracy: 0.8065 - val_loss: 0.7445 - val_accuracy: 0.7778\n",
            "Epoch 41/75\n",
            "1/1 [==============================] - 0s 28ms/step - loss: 0.6268 - accuracy: 0.8065 - val_loss: 0.6031 - val_accuracy: 0.7778\n",
            "Epoch 42/75\n",
            "1/1 [==============================] - 0s 19ms/step - loss: 0.5152 - accuracy: 0.8065 - val_loss: 0.6066 - val_accuracy: 0.7407\n",
            "Epoch 43/75\n",
            "1/1 [==============================] - 0s 18ms/step - loss: 0.5577 - accuracy: 0.7903 - val_loss: 0.6274 - val_accuracy: 0.7407\n",
            "Epoch 44/75\n",
            "1/1 [==============================] - 0s 20ms/step - loss: 0.5817 - accuracy: 0.7742 - val_loss: 0.5770 - val_accuracy: 0.7778\n",
            "Epoch 45/75\n",
            "1/1 [==============================] - 0s 18ms/step - loss: 0.4984 - accuracy: 0.8065 - val_loss: 0.6737 - val_accuracy: 0.7778\n",
            "Epoch 46/75\n",
            "1/1 [==============================] - 0s 21ms/step - loss: 0.5695 - accuracy: 0.8065 - val_loss: 0.6618 - val_accuracy: 0.7778\n",
            "Epoch 47/75\n",
            "1/1 [==============================] - 0s 18ms/step - loss: 0.5600 - accuracy: 0.8065 - val_loss: 0.5700 - val_accuracy: 0.7778\n",
            "Epoch 48/75\n",
            "1/1 [==============================] - 0s 18ms/step - loss: 0.4948 - accuracy: 0.8065 - val_loss: 0.6043 - val_accuracy: 0.7407\n",
            "Epoch 49/75\n",
            "1/1 [==============================] - 0s 18ms/step - loss: 0.5547 - accuracy: 0.7903 - val_loss: 0.5751 - val_accuracy: 0.7778\n",
            "Epoch 50/75\n",
            "1/1 [==============================] - 0s 19ms/step - loss: 0.5183 - accuracy: 0.7903 - val_loss: 0.5897 - val_accuracy: 0.7778\n",
            "Epoch 51/75\n",
            "1/1 [==============================] - 0s 20ms/step - loss: 0.5064 - accuracy: 0.8065 - val_loss: 0.6393 - val_accuracy: 0.7778\n",
            "Epoch 52/75\n",
            "1/1 [==============================] - 0s 19ms/step - loss: 0.5431 - accuracy: 0.8065 - val_loss: 0.5966 - val_accuracy: 0.7778\n",
            "Epoch 53/75\n",
            "1/1 [==============================] - 0s 25ms/step - loss: 0.5112 - accuracy: 0.8065 - val_loss: 0.5642 - val_accuracy: 0.7778\n",
            "Epoch 54/75\n",
            "1/1 [==============================] - 0s 21ms/step - loss: 0.5019 - accuracy: 0.7903 - val_loss: 0.5857 - val_accuracy: 0.7778\n",
            "Epoch 55/75\n",
            "1/1 [==============================] - 0s 23ms/step - loss: 0.5317 - accuracy: 0.8065 - val_loss: 0.5630 - val_accuracy: 0.7778\n",
            "Epoch 56/75\n",
            "1/1 [==============================] - 0s 19ms/step - loss: 0.4925 - accuracy: 0.8065 - val_loss: 0.6039 - val_accuracy: 0.7778\n",
            "Epoch 57/75\n",
            "1/1 [==============================] - 0s 19ms/step - loss: 0.5163 - accuracy: 0.8065 - val_loss: 0.5999 - val_accuracy: 0.7778\n",
            "Epoch 58/75\n",
            "1/1 [==============================] - 0s 18ms/step - loss: 0.5134 - accuracy: 0.8065 - val_loss: 0.5621 - val_accuracy: 0.7778\n",
            "Epoch 59/75\n",
            "1/1 [==============================] - 0s 26ms/step - loss: 0.4922 - accuracy: 0.8065 - val_loss: 0.5737 - val_accuracy: 0.7778\n",
            "Epoch 60/75\n",
            "1/1 [==============================] - 0s 19ms/step - loss: 0.5163 - accuracy: 0.7903 - val_loss: 0.5609 - val_accuracy: 0.7778\n",
            "Epoch 61/75\n",
            "1/1 [==============================] - 0s 18ms/step - loss: 0.4953 - accuracy: 0.8065 - val_loss: 0.5822 - val_accuracy: 0.7778\n",
            "Epoch 62/75\n",
            "1/1 [==============================] - 0s 24ms/step - loss: 0.5011 - accuracy: 0.8065 - val_loss: 0.5913 - val_accuracy: 0.7778\n",
            "Epoch 63/75\n",
            "1/1 [==============================] - 0s 17ms/step - loss: 0.5072 - accuracy: 0.8065 - val_loss: 0.5640 - val_accuracy: 0.7778\n",
            "Epoch 64/75\n",
            "1/1 [==============================] - 0s 21ms/step - loss: 0.4915 - accuracy: 0.8065 - val_loss: 0.5651 - val_accuracy: 0.7778\n",
            "Epoch 65/75\n",
            "1/1 [==============================] - 0s 21ms/step - loss: 0.5041 - accuracy: 0.7903 - val_loss: 0.5604 - val_accuracy: 0.7778\n",
            "Epoch 66/75\n",
            "1/1 [==============================] - 0s 17ms/step - loss: 0.4955 - accuracy: 0.8065 - val_loss: 0.5720 - val_accuracy: 0.7778\n",
            "Epoch 67/75\n",
            "1/1 [==============================] - 0s 20ms/step - loss: 0.4950 - accuracy: 0.8065 - val_loss: 0.5815 - val_accuracy: 0.7778\n",
            "Epoch 68/75\n",
            "1/1 [==============================] - 0s 16ms/step - loss: 0.5008 - accuracy: 0.8065 - val_loss: 0.5632 - val_accuracy: 0.7778\n",
            "Epoch 69/75\n",
            "1/1 [==============================] - 0s 17ms/step - loss: 0.4908 - accuracy: 0.8065 - val_loss: 0.5612 - val_accuracy: 0.7778\n",
            "Epoch 70/75\n",
            "1/1 [==============================] - 0s 18ms/step - loss: 0.4980 - accuracy: 0.8065 - val_loss: 0.5592 - val_accuracy: 0.7778\n",
            "Epoch 71/75\n",
            "1/1 [==============================] - 0s 23ms/step - loss: 0.4932 - accuracy: 0.8065 - val_loss: 0.5681 - val_accuracy: 0.7778\n",
            "Epoch 72/75\n",
            "1/1 [==============================] - 0s 20ms/step - loss: 0.4926 - accuracy: 0.8065 - val_loss: 0.5741 - val_accuracy: 0.7778\n",
            "Epoch 73/75\n",
            "1/1 [==============================] - 0s 19ms/step - loss: 0.4960 - accuracy: 0.8065 - val_loss: 0.5611 - val_accuracy: 0.7778\n",
            "Epoch 74/75\n",
            "1/1 [==============================] - 0s 17ms/step - loss: 0.4899 - accuracy: 0.8065 - val_loss: 0.5594 - val_accuracy: 0.7778\n",
            "Epoch 75/75\n",
            "1/1 [==============================] - 0s 19ms/step - loss: 0.4947 - accuracy: 0.8065 - val_loss: 0.5585 - val_accuracy: 0.7778\n"
          ],
          "name": "stdout"
        }
      ]
    },
    {
      "cell_type": "code",
      "metadata": {
        "id": "4329BeSeSFnC",
        "outputId": "5452f18f-b1ac-4c1c-b265-dda181d884e8",
        "colab": {
          "base_uri": "https://localhost:8080/",
          "height": 573
        }
      },
      "source": [
        "import matplotlib.pyplot as plt\n",
        "\n",
        "#history 80-20\n",
        "plt.plot(history.history['accuracy'])\n",
        "plt.plot(history.history['val_accuracy'])\n",
        "plt.title('akurasi 80-20')\n",
        "plt.ylabel('accuracy')\n",
        "plt.xlabel('epoch')\n",
        "plt.legend(['train', 'test'], loc='upper left')\n",
        "plt.show()\n",
        "#loss\n",
        "plt.plot(history.history['loss'])\n",
        "plt.plot(history.history['val_loss'])\n",
        "plt.title('loss 80-20')\n",
        "plt.ylabel('loss')\n",
        "plt.xlabel('epoch')\n",
        "plt.legend(['train', 'test'], loc='upper left')\n",
        "plt.show()"
      ],
      "execution_count": 17,
      "outputs": [
        {
          "output_type": "display_data",
          "data": {
            "image/png": "[encoded data removed]",
            "text/plain": [
              "<Figure size 432x288 with 1 Axes>"
            ]
          },
          "metadata": {
            "tags": [],
            "needs_background": "light"
          }
        },
        {
          "output_type": "display_data",
          "data": {
            "image/png": "[encoded data removed]",
            "text/plain": [
              "<Figure size 432x288 with 1 Axes>"
            ]
          },
          "metadata": {
            "tags": [],
            "needs_background": "light"
          }
        }
      ]
    },
    {
      "cell_type": "code",
      "metadata": {
        "id": "HFaUtyeESRuD",
        "outputId": "640561ad-32bc-4664-ccf9-468a5f4ad1e3",
        "colab": {
          "base_uri": "https://localhost:8080/",
          "height": 573
        }
      },
      "source": [
        "#history 70-30\n",
        "plt.plot(history2.history['accuracy'])\n",
        "plt.plot(history2.history['val_accuracy'])\n",
        "plt.title('akurasi 80-20')\n",
        "plt.ylabel('accuracy')\n",
        "plt.xlabel('epoch')\n",
        "plt.legend(['train', 'test'], loc='upper left')\n",
        "plt.show()\n",
        "#loss\n",
        "plt.plot(history2.history['loss'])\n",
        "plt.plot(history2.history['val_loss'])\n",
        "plt.title('loss 80-20')\n",
        "plt.ylabel('loss')\n",
        "plt.xlabel('epoch')\n",
        "plt.legend(['train', 'test'], loc='upper left')\n",
        "plt.show()"
      ],
      "execution_count": 18,
      "outputs": [
        {
          "output_type": "display_data",
          "data": {
            "image/png": "[encoded data removed]",
            "text/plain": [
              "<Figure size 432x288 with 1 Axes>"
            ]
          },
          "metadata": {
            "tags": [],
            "needs_background": "light"
          }
        },
        {
          "output_type": "display_data",
          "data": {
            "image/png": "[encoded data removed]",
            "text/plain": [
              "<Figure size 432x288 with 1 Axes>"
            ]
          },
          "metadata": {
            "tags": [],
            "needs_background": "light"
          }
        }
      ]
    },
    {
      "cell_type": "code",
      "metadata": {
        "id": "8V-f3ku7TVB1",
        "outputId": "da8031c9-8242-4e54-a229-0fc3539582e0",
        "colab": {
          "base_uri": "https://localhost:8080/"
        }
      },
      "source": [
        "!pip install tensorflowjs\n",
        "import time\n",
        "saved_model_path = \"./{}.h5\".format(int(time.time()))\n",
        "model.save('skenario1')\n",
        "reloaded_model = tf.keras.models.load_model('skenario1')\n",
        "\n",
        "model.save(saved_model_path)"
      ],
      "execution_count": 26,
      "outputs": [
        {
          "output_type": "stream",
          "text": [
            "Requirement already satisfied: tensorflowjs in /usr/local/lib/python3.7/dist-packages (3.7.0)\n",
            "Requirement already satisfied: six<2,>=1.12.0 in /usr/local/lib/python3.7/dist-packages (from tensorflowjs) (1.15.0)\n",
            "Requirement already satisfied: tensorflow-hub<0.13,>=0.7.0; python_version >= \"3\" in /usr/local/lib/python3.7/dist-packages (from tensorflowjs) (0.12.0)\n",
            "Requirement already satisfied: tensorflow<3,>=2.1.0 in /usr/local/lib/python3.7/dist-packages (from tensorflowjs) (2.5.0)\n",
            "Requirement already satisfied: protobuf>=3.8.0 in /usr/local/lib/python3.7/dist-packages (from tensorflow-hub<0.13,>=0.7.0; python_version >= \"3\"->tensorflowjs) (3.12.4)\n",
            "Requirement already satisfied: numpy>=1.12.0 in /usr/local/lib/python3.7/dist-packages (from tensorflow-hub<0.13,>=0.7.0; python_version >= \"3\"->tensorflowjs) (1.19.5)\n",
            "Requirement already satisfied: keras-nightly~=2.5.0.dev in /usr/local/lib/python3.7/dist-packages (from tensorflow<3,>=2.1.0->tensorflowjs) (2.5.0.dev2021032900)\n",
            "Requirement already satisfied: tensorflow-estimator<2.6.0,>=2.5.0rc0 in /usr/local/lib/python3.7/dist-packages (from tensorflow<3,>=2.1.0->tensorflowjs) (2.5.0)\n",
            "Requirement already satisfied: h5py~=3.1.0 in /usr/local/lib/python3.7/dist-packages (from tensorflow<3,>=2.1.0->tensorflowjs) (3.1.0)\n",
            "Requirement already satisfied: wrapt~=1.12.1 in /usr/local/lib/python3.7/dist-packages (from tensorflow<3,>=2.1.0->tensorflowjs) (1.12.1)\n",
            "Requirement already satisfied: wheel~=0.35 in /usr/local/lib/python3.7/dist-packages (from tensorflow<3,>=2.1.0->tensorflowjs) (0.36.2)\n",
            "Requirement already satisfied: grpcio~=1.34.0 in /usr/local/lib/python3.7/dist-packages (from tensorflow<3,>=2.1.0->tensorflowjs) (1.34.1)\n",
            "Requirement already satisfied: typing-extensions~=3.7.4 in /usr/local/lib/python3.7/dist-packages (from tensorflow<3,>=2.1.0->tensorflowjs) (3.7.4.3)\n",
            "Requirement already satisfied: termcolor~=1.1.0 in /usr/local/lib/python3.7/dist-packages (from tensorflow<3,>=2.1.0->tensorflowjs) (1.1.0)\n",
            "Requirement already satisfied: astunparse~=1.6.3 in /usr/local/lib/python3.7/dist-packages (from tensorflow<3,>=2.1.0->tensorflowjs) (1.6.3)\n",
            "Requirement already satisfied: keras-preprocessing~=1.1.2 in /usr/local/lib/python3.7/dist-packages (from tensorflow<3,>=2.1.0->tensorflowjs) (1.1.2)\n",
            "Requirement already satisfied: tensorboard~=2.5 in /usr/local/lib/python3.7/dist-packages (from tensorflow<3,>=2.1.0->tensorflowjs) (2.5.0)\n",
            "Requirement already satisfied: absl-py~=0.10 in /usr/local/lib/python3.7/dist-packages (from tensorflow<3,>=2.1.0->tensorflowjs) (0.12.0)\n",
            "Requirement already satisfied: opt-einsum~=3.3.0 in /usr/local/lib/python3.7/dist-packages (from tensorflow<3,>=2.1.0->tensorflowjs) (3.3.0)\n",
            "Requirement already satisfied: flatbuffers~=1.12.0 in /usr/local/lib/python3.7/dist-packages (from tensorflow<3,>=2.1.0->tensorflowjs) (1.12)\n",
            "Requirement already satisfied: gast==0.4.0 in /usr/local/lib/python3.7/dist-packages (from tensorflow<3,>=2.1.0->tensorflowjs) (0.4.0)\n",
            "Requirement already satisfied: google-pasta~=0.2 in /usr/local/lib/python3.7/dist-packages (from tensorflow<3,>=2.1.0->tensorflowjs) (0.2.0)\n",
            "Requirement already satisfied: setuptools in /usr/local/lib/python3.7/dist-packages (from protobuf>=3.8.0->tensorflow-hub<0.13,>=0.7.0; python_version >= \"3\"->tensorflowjs) (57.0.0)\n",
            "Requirement already satisfied: cached-property; python_version < \"3.8\" in /usr/local/lib/python3.7/dist-packages (from h5py~=3.1.0->tensorflow<3,>=2.1.0->tensorflowjs) (1.5.2)\n",
            "Requirement already satisfied: requests<3,>=2.21.0 in /usr/local/lib/python3.7/dist-packages (from tensorboard~=2.5->tensorflow<3,>=2.1.0->tensorflowjs) (2.23.0)\n",
            "Requirement already satisfied: markdown>=2.6.8 in /usr/local/lib/python3.7/dist-packages (from tensorboard~=2.5->tensorflow<3,>=2.1.0->tensorflowjs) (3.3.4)\n",
            "Requirement already satisfied: google-auth-oauthlib<0.5,>=0.4.1 in /usr/local/lib/python3.7/dist-packages (from tensorboard~=2.5->tensorflow<3,>=2.1.0->tensorflowjs) (0.4.4)\n",
            "Requirement already satisfied: werkzeug>=0.11.15 in /usr/local/lib/python3.7/dist-packages (from tensorboard~=2.5->tensorflow<3,>=2.1.0->tensorflowjs) (1.0.1)\n",
            "Requirement already satisfied: google-auth<2,>=1.6.3 in /usr/local/lib/python3.7/dist-packages (from tensorboard~=2.5->tensorflow<3,>=2.1.0->tensorflowjs) (1.31.0)\n",
            "Requirement already satisfied: tensorboard-data-server<0.7.0,>=0.6.0 in /usr/local/lib/python3.7/dist-packages (from tensorboard~=2.5->tensorflow<3,>=2.1.0->tensorflowjs) (0.6.1)\n",
            "Requirement already satisfied: tensorboard-plugin-wit>=1.6.0 in /usr/local/lib/python3.7/dist-packages (from tensorboard~=2.5->tensorflow<3,>=2.1.0->tensorflowjs) (1.8.0)\n",
            "Requirement already satisfied: idna<3,>=2.5 in /usr/local/lib/python3.7/dist-packages (from requests<3,>=2.21.0->tensorboard~=2.5->tensorflow<3,>=2.1.0->tensorflowjs) (2.10)\n",
            "Requirement already satisfied: chardet<4,>=3.0.2 in /usr/local/lib/python3.7/dist-packages (from requests<3,>=2.21.0->tensorboard~=2.5->tensorflow<3,>=2.1.0->tensorflowjs) (3.0.4)\n",
            "Requirement already satisfied: certifi>=2017.4.17 in /usr/local/lib/python3.7/dist-packages (from requests<3,>=2.21.0->tensorboard~=2.5->tensorflow<3,>=2.1.0->tensorflowjs) (2021.5.30)\n",
            "Requirement already satisfied: urllib3!=1.25.0,!=1.25.1,<1.26,>=1.21.1 in /usr/local/lib/python3.7/dist-packages (from requests<3,>=2.21.0->tensorboard~=2.5->tensorflow<3,>=2.1.0->tensorflowjs) (1.24.3)\n",
            "Requirement already satisfied: importlib-metadata; python_version < \"3.8\" in /usr/local/lib/python3.7/dist-packages (from markdown>=2.6.8->tensorboard~=2.5->tensorflow<3,>=2.1.0->tensorflowjs) (4.5.0)\n",
            "Requirement already satisfied: requests-oauthlib>=0.7.0 in /usr/local/lib/python3.7/dist-packages (from google-auth-oauthlib<0.5,>=0.4.1->tensorboard~=2.5->tensorflow<3,>=2.1.0->tensorflowjs) (1.3.0)\n",
            "Requirement already satisfied: cachetools<5.0,>=2.0.0 in /usr/local/lib/python3.7/dist-packages (from google-auth<2,>=1.6.3->tensorboard~=2.5->tensorflow<3,>=2.1.0->tensorflowjs) (4.2.2)\n",
            "Requirement already satisfied: pyasn1-modules>=0.2.1 in /usr/local/lib/python3.7/dist-packages (from google-auth<2,>=1.6.3->tensorboard~=2.5->tensorflow<3,>=2.1.0->tensorflowjs) (0.2.8)\n",
            "Requirement already satisfied: rsa<5,>=3.1.4; python_version >= \"3.6\" in /usr/local/lib/python3.7/dist-packages (from google-auth<2,>=1.6.3->tensorboard~=2.5->tensorflow<3,>=2.1.0->tensorflowjs) (4.7.2)\n",
            "Requirement already satisfied: zipp>=0.5 in /usr/local/lib/python3.7/dist-packages (from importlib-metadata; python_version < \"3.8\"->markdown>=2.6.8->tensorboard~=2.5->tensorflow<3,>=2.1.0->tensorflowjs) (3.4.1)\n",
            "Requirement already satisfied: oauthlib>=3.0.0 in /usr/local/lib/python3.7/dist-packages (from requests-oauthlib>=0.7.0->google-auth-oauthlib<0.5,>=0.4.1->tensorboard~=2.5->tensorflow<3,>=2.1.0->tensorflowjs) (3.1.1)\n",
            "Requirement already satisfied: pyasn1<0.5.0,>=0.4.6 in /usr/local/lib/python3.7/dist-packages (from pyasn1-modules>=0.2.1->google-auth<2,>=1.6.3->tensorboard~=2.5->tensorflow<3,>=2.1.0->tensorflowjs) (0.4.8)\n",
            "WARNING:tensorflow:Layers in a Sequential model should only have a single input tensor, but we receive a <class 'dict'> input: {'TE': <tf.Tensor 'TE:0' shape=(None, 1) dtype=float64>, 'HU': <tf.Tensor 'HU:0' shape=(None, 1) dtype=float64>, 'RF': <tf.Tensor 'RF:0' shape=(None, 1) dtype=float64>, 'WS': <tf.Tensor 'WS:0' shape=(None, 1) dtype=float64>, 'PD': <tf.Tensor 'PD:0' shape=(None, 1) dtype=float64>, 'ABJ': <tf.Tensor 'ABJ:0' shape=(None, 1) dtype=float64>}\n",
            "Consider rewriting this model with the Functional API.\n"
          ],
          "name": "stdout"
        },
        {
          "output_type": "stream",
          "text": [
            "WARNING:tensorflow:Layers in a Sequential model should only have a single input tensor, but we receive a <class 'dict'> input: {'TE': <tf.Tensor 'TE:0' shape=(None, 1) dtype=float64>, 'HU': <tf.Tensor 'HU:0' shape=(None, 1) dtype=float64>, 'RF': <tf.Tensor 'RF:0' shape=(None, 1) dtype=float64>, 'WS': <tf.Tensor 'WS:0' shape=(None, 1) dtype=float64>, 'PD': <tf.Tensor 'PD:0' shape=(None, 1) dtype=float64>, 'ABJ': <tf.Tensor 'ABJ:0' shape=(None, 1) dtype=float64>}\n",
            "Consider rewriting this model with the Functional API.\n"
          ],
          "name": "stderr"
        },
        {
          "output_type": "stream",
          "text": [
            "WARNING:tensorflow:Layers in a Sequential model should only have a single input tensor, but we receive a <class 'dict'> input: {'TE': <tf.Tensor 'inputs_4:0' shape=(None, 1) dtype=float64>, 'HU': <tf.Tensor 'inputs_1:0' shape=(None, 1) dtype=float64>, 'RF': <tf.Tensor 'inputs_3:0' shape=(None, 1) dtype=float64>, 'WS': <tf.Tensor 'inputs_5:0' shape=(None, 1) dtype=float64>, 'PD': <tf.Tensor 'inputs_2:0' shape=(None, 1) dtype=float64>, 'ABJ': <tf.Tensor 'inputs:0' shape=(None, 1) dtype=float64>}\n",
            "Consider rewriting this model with the Functional API.\n"
          ],
          "name": "stdout"
        },
        {
          "output_type": "stream",
          "text": [
            "WARNING:tensorflow:Layers in a Sequential model should only have a single input tensor, but we receive a <class 'dict'> input: {'TE': <tf.Tensor 'inputs_4:0' shape=(None, 1) dtype=float64>, 'HU': <tf.Tensor 'inputs_1:0' shape=(None, 1) dtype=float64>, 'RF': <tf.Tensor 'inputs_3:0' shape=(None, 1) dtype=float64>, 'WS': <tf.Tensor 'inputs_5:0' shape=(None, 1) dtype=float64>, 'PD': <tf.Tensor 'inputs_2:0' shape=(None, 1) dtype=float64>, 'ABJ': <tf.Tensor 'inputs:0' shape=(None, 1) dtype=float64>}\n",
            "Consider rewriting this model with the Functional API.\n"
          ],
          "name": "stderr"
        },
        {
          "output_type": "stream",
          "text": [
            "WARNING:tensorflow:Layers in a Sequential model should only have a single input tensor, but we receive a <class 'dict'> input: {'TE': <tf.Tensor 'inputs_4:0' shape=(None, 1) dtype=float64>, 'HU': <tf.Tensor 'inputs_1:0' shape=(None, 1) dtype=float64>, 'RF': <tf.Tensor 'inputs_3:0' shape=(None, 1) dtype=float64>, 'WS': <tf.Tensor 'inputs_5:0' shape=(None, 1) dtype=float64>, 'PD': <tf.Tensor 'inputs_2:0' shape=(None, 1) dtype=float64>, 'ABJ': <tf.Tensor 'inputs:0' shape=(None, 1) dtype=float64>}\n",
            "Consider rewriting this model with the Functional API.\n"
          ],
          "name": "stdout"
        },
        {
          "output_type": "stream",
          "text": [
            "WARNING:tensorflow:Layers in a Sequential model should only have a single input tensor, but we receive a <class 'dict'> input: {'TE': <tf.Tensor 'inputs_4:0' shape=(None, 1) dtype=float64>, 'HU': <tf.Tensor 'inputs_1:0' shape=(None, 1) dtype=float64>, 'RF': <tf.Tensor 'inputs_3:0' shape=(None, 1) dtype=float64>, 'WS': <tf.Tensor 'inputs_5:0' shape=(None, 1) dtype=float64>, 'PD': <tf.Tensor 'inputs_2:0' shape=(None, 1) dtype=float64>, 'ABJ': <tf.Tensor 'inputs:0' shape=(None, 1) dtype=float64>}\n",
            "Consider rewriting this model with the Functional API.\n"
          ],
          "name": "stderr"
        },
        {
          "output_type": "stream",
          "text": [
            "WARNING:tensorflow:Layers in a Sequential model should only have a single input tensor, but we receive a <class 'dict'> input: {'TE': <tf.Tensor 'TE:0' shape=(None, 1) dtype=float64>, 'HU': <tf.Tensor 'HU:0' shape=(None, 1) dtype=float64>, 'RF': <tf.Tensor 'RF:0' shape=(None, 1) dtype=float64>, 'WS': <tf.Tensor 'WS:0' shape=(None, 1) dtype=float64>, 'PD': <tf.Tensor 'PD:0' shape=(None, 1) dtype=float64>, 'ABJ': <tf.Tensor 'ABJ:0' shape=(None, 1) dtype=float64>}\n",
            "Consider rewriting this model with the Functional API.\n"
          ],
          "name": "stdout"
        },
        {
          "output_type": "stream",
          "text": [
            "WARNING:tensorflow:Layers in a Sequential model should only have a single input tensor, but we receive a <class 'dict'> input: {'TE': <tf.Tensor 'TE:0' shape=(None, 1) dtype=float64>, 'HU': <tf.Tensor 'HU:0' shape=(None, 1) dtype=float64>, 'RF': <tf.Tensor 'RF:0' shape=(None, 1) dtype=float64>, 'WS': <tf.Tensor 'WS:0' shape=(None, 1) dtype=float64>, 'PD': <tf.Tensor 'PD:0' shape=(None, 1) dtype=float64>, 'ABJ': <tf.Tensor 'ABJ:0' shape=(None, 1) dtype=float64>}\n",
            "Consider rewriting this model with the Functional API.\n"
          ],
          "name": "stderr"
        },
        {
          "output_type": "stream",
          "text": [
            "WARNING:tensorflow:Layers in a Sequential model should only have a single input tensor, but we receive a <class 'dict'> input: {'TE': <tf.Tensor 'TE:0' shape=(None, 1) dtype=float64>, 'HU': <tf.Tensor 'HU:0' shape=(None, 1) dtype=float64>, 'RF': <tf.Tensor 'RF:0' shape=(None, 1) dtype=float64>, 'WS': <tf.Tensor 'WS:0' shape=(None, 1) dtype=float64>, 'PD': <tf.Tensor 'PD:0' shape=(None, 1) dtype=float64>, 'ABJ': <tf.Tensor 'ABJ:0' shape=(None, 1) dtype=float64>}\n",
            "Consider rewriting this model with the Functional API.\n"
          ],
          "name": "stdout"
        },
        {
          "output_type": "stream",
          "text": [
            "WARNING:tensorflow:Layers in a Sequential model should only have a single input tensor, but we receive a <class 'dict'> input: {'TE': <tf.Tensor 'TE:0' shape=(None, 1) dtype=float64>, 'HU': <tf.Tensor 'HU:0' shape=(None, 1) dtype=float64>, 'RF': <tf.Tensor 'RF:0' shape=(None, 1) dtype=float64>, 'WS': <tf.Tensor 'WS:0' shape=(None, 1) dtype=float64>, 'PD': <tf.Tensor 'PD:0' shape=(None, 1) dtype=float64>, 'ABJ': <tf.Tensor 'ABJ:0' shape=(None, 1) dtype=float64>}\n",
            "Consider rewriting this model with the Functional API.\n",
            "WARNING:absl:Function `_wrapped_model` contains input name(s) ABJ, HU, PD, RF, TE, WS with unsupported characters which will be renamed to abj, hu, pd, rf, te, ws in the SavedModel.\n"
          ],
          "name": "stderr"
        },
        {
          "output_type": "stream",
          "text": [
            "WARNING:tensorflow:Layers in a Sequential model should only have a single input tensor, but we receive a <class 'dict'> input: {'TE': <tf.Tensor 'inputs/TE:0' shape=(None, 1) dtype=float64>, 'HU': <tf.Tensor 'inputs/HU:0' shape=(None, 1) dtype=float64>, 'RF': <tf.Tensor 'inputs/RF:0' shape=(None, 1) dtype=float64>, 'WS': <tf.Tensor 'inputs/WS:0' shape=(None, 1) dtype=float64>, 'PD': <tf.Tensor 'inputs/PD:0' shape=(None, 1) dtype=float64>, 'ABJ': <tf.Tensor 'inputs/ABJ:0' shape=(None, 1) dtype=float64>}\n",
            "Consider rewriting this model with the Functional API.\n"
          ],
          "name": "stdout"
        },
        {
          "output_type": "stream",
          "text": [
            "WARNING:tensorflow:Layers in a Sequential model should only have a single input tensor, but we receive a <class 'dict'> input: {'TE': <tf.Tensor 'inputs/TE:0' shape=(None, 1) dtype=float64>, 'HU': <tf.Tensor 'inputs/HU:0' shape=(None, 1) dtype=float64>, 'RF': <tf.Tensor 'inputs/RF:0' shape=(None, 1) dtype=float64>, 'WS': <tf.Tensor 'inputs/WS:0' shape=(None, 1) dtype=float64>, 'PD': <tf.Tensor 'inputs/PD:0' shape=(None, 1) dtype=float64>, 'ABJ': <tf.Tensor 'inputs/ABJ:0' shape=(None, 1) dtype=float64>}\n",
            "Consider rewriting this model with the Functional API.\n"
          ],
          "name": "stderr"
        },
        {
          "output_type": "stream",
          "text": [
            "WARNING:tensorflow:Layers in a Sequential model should only have a single input tensor, but we receive a <class 'dict'> input: {'TE': <tf.Tensor 'inputs/TE:0' shape=(None, 1) dtype=float64>, 'HU': <tf.Tensor 'inputs/HU:0' shape=(None, 1) dtype=float64>, 'RF': <tf.Tensor 'inputs/RF:0' shape=(None, 1) dtype=float64>, 'WS': <tf.Tensor 'inputs/WS:0' shape=(None, 1) dtype=float64>, 'PD': <tf.Tensor 'inputs/PD:0' shape=(None, 1) dtype=float64>, 'ABJ': <tf.Tensor 'inputs/ABJ:0' shape=(None, 1) dtype=float64>}\n",
            "Consider rewriting this model with the Functional API.\n"
          ],
          "name": "stdout"
        },
        {
          "output_type": "stream",
          "text": [
            "WARNING:tensorflow:Layers in a Sequential model should only have a single input tensor, but we receive a <class 'dict'> input: {'TE': <tf.Tensor 'inputs/TE:0' shape=(None, 1) dtype=float64>, 'HU': <tf.Tensor 'inputs/HU:0' shape=(None, 1) dtype=float64>, 'RF': <tf.Tensor 'inputs/RF:0' shape=(None, 1) dtype=float64>, 'WS': <tf.Tensor 'inputs/WS:0' shape=(None, 1) dtype=float64>, 'PD': <tf.Tensor 'inputs/PD:0' shape=(None, 1) dtype=float64>, 'ABJ': <tf.Tensor 'inputs/ABJ:0' shape=(None, 1) dtype=float64>}\n",
            "Consider rewriting this model with the Functional API.\n"
          ],
          "name": "stderr"
        },
        {
          "output_type": "stream",
          "text": [
            "INFO:tensorflow:Assets written to: skenario1/assets\n"
          ],
          "name": "stdout"
        },
        {
          "output_type": "stream",
          "text": [
            "INFO:tensorflow:Assets written to: skenario1/assets\n"
          ],
          "name": "stderr"
        }
      ]
    },
    {
      "cell_type": "code",
      "metadata": {
        "id": "NZlx7aJjSU5s",
        "outputId": "751f2a4d-1425-4201-bf40-a32e389ccbb4",
        "colab": {
          "base_uri": "https://localhost:8080/"
        }
      },
      "source": [
        "#contoh prediksi\n",
        "\n",
        "\n",
        "sample = {\n",
        "    \"TE\" : 25,\n",
        "    \"HU\" : 82,\n",
        "    \"RF\" : 6,\n",
        "    \"WS\" : 1,\n",
        "    \"PD\" : 800,\n",
        "    \"ABJ\": 85\n",
        "}\n",
        "\n",
        "input_dict = {name: tf.convert_to_tensor([value]) for name, value in sample.items()}\n",
        "prediction = reloaded_model.predict(input_dict)\n",
        "prediction.round()\n"
      ],
      "execution_count": 40,
      "outputs": [
        {
          "output_type": "stream",
          "text": [
            "WARNING:tensorflow:Layers in a Sequential model should only have a single input tensor, but we receive a <class 'dict'> input: {'TE': <tf.Tensor 'ExpandDims_4:0' shape=(None, 1) dtype=int32>, 'HU': <tf.Tensor 'ExpandDims_1:0' shape=(None, 1) dtype=int32>, 'RF': <tf.Tensor 'ExpandDims_3:0' shape=(None, 1) dtype=int32>, 'WS': <tf.Tensor 'ExpandDims_5:0' shape=(None, 1) dtype=int32>, 'PD': <tf.Tensor 'ExpandDims_2:0' shape=(None, 1) dtype=int32>, 'ABJ': <tf.Tensor 'ExpandDims:0' shape=(None, 1) dtype=int32>}\n",
            "Consider rewriting this model with the Functional API.\n"
          ],
          "name": "stdout"
        },
        {
          "output_type": "stream",
          "text": [
            "WARNING:tensorflow:Layers in a Sequential model should only have a single input tensor, but we receive a <class 'dict'> input: {'TE': <tf.Tensor 'ExpandDims_4:0' shape=(None, 1) dtype=int32>, 'HU': <tf.Tensor 'ExpandDims_1:0' shape=(None, 1) dtype=int32>, 'RF': <tf.Tensor 'ExpandDims_3:0' shape=(None, 1) dtype=int32>, 'WS': <tf.Tensor 'ExpandDims_5:0' shape=(None, 1) dtype=int32>, 'PD': <tf.Tensor 'ExpandDims_2:0' shape=(None, 1) dtype=int32>, 'ABJ': <tf.Tensor 'ExpandDims:0' shape=(None, 1) dtype=int32>}\n",
            "Consider rewriting this model with the Functional API.\n"
          ],
          "name": "stderr"
        },
        {
          "output_type": "execute_result",
          "data": {
            "text/plain": [
              "array([[0.]], dtype=float32)"
            ]
          },
          "metadata": {
            "tags": []
          },
          "execution_count": 40
        }
      ]
    }
  ]
}