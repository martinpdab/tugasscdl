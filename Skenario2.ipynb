{
  "nbformat": 4,
  "nbformat_minor": 0,
  "metadata": {
    "colab": {
      "name": "Skenario2.ipynb",
      "provenance": [],
      "include_colab_link": true
    },
    "kernelspec": {
      "name": "python3",
      "display_name": "Python 3"
    },
    "language_info": {
      "name": "python"
    }
  },
  "cells": [
    {
      "cell_type": "markdown",
      "metadata": {
        "id": "view-in-github",
        "colab_type": "text"
      },
      "source": [
        "<a href=\"https://colab.research.google.com/github/martinpdab/tugasscdl/blob/main/Skenario2.ipynb\" target=\"_parent\"><img src=\"https://colab.research.google.com/assets/colab-badge.svg\" alt=\"Open In Colab\"/></a>"
      ]
    },
    {
      "cell_type": "code",
      "metadata": {
        "colab": {
          "base_uri": "https://localhost:8080/"
        },
        "id": "bw-vGlf27awm",
        "outputId": "4260951b-dcb1-47e0-c5e7-6fd34c991c05"
      },
      "source": [
        "!pip install sklearn"
      ],
      "execution_count": 1,
      "outputs": [
        {
          "output_type": "stream",
          "text": [
            "Requirement already satisfied: sklearn in /usr/local/lib/python3.7/dist-packages (0.0)\n",
            "Requirement already satisfied: scikit-learn in /usr/local/lib/python3.7/dist-packages (from sklearn) (0.22.2.post1)\n",
            "Requirement already satisfied: scipy>=0.17.0 in /usr/local/lib/python3.7/dist-packages (from scikit-learn->sklearn) (1.4.1)\n",
            "Requirement already satisfied: numpy>=1.11.0 in /usr/local/lib/python3.7/dist-packages (from scikit-learn->sklearn) (1.19.5)\n",
            "Requirement already satisfied: joblib>=0.11 in /usr/local/lib/python3.7/dist-packages (from scikit-learn->sklearn) (1.0.1)\n"
          ],
          "name": "stdout"
        }
      ]
    },
    {
      "cell_type": "code",
      "metadata": {
        "id": "zH5nkVBE8MQ9"
      },
      "source": [
        "import numpy as np\n",
        "import pandas as pd\n",
        "\n",
        "try:\n",
        "  # %tensorflow_version only exists in Colab.\n",
        "  %tensorflow_version 2.x\n",
        "except Exception:\n",
        "  pass\n",
        "import tensorflow as tf\n",
        "\n",
        "from tensorflow import feature_column\n",
        "from tensorflow.keras import layers\n",
        "from sklearn.model_selection import train_test_split\n",
        "from sklearn.utils import shuffle"
      ],
      "execution_count": 2,
      "outputs": []
    },
    {
      "cell_type": "code",
      "metadata": {
        "colab": {
          "base_uri": "https://localhost:8080/",
          "height": 424
        },
        "id": "G9fDchOD8UKh",
        "outputId": "dfbc3205-5974-449e-c4b0-61113647fb89"
      },
      "source": [
        "#memakai dataset\n",
        "URL = 'https://raw.githubusercontent.com/martinpdab/tugasscdl/main/data%20fix.csv' \n",
        "dataframe = pd.read_csv(URL)\n",
        "dataframe"
      ],
      "execution_count": 16,
      "outputs": [
        {
          "output_type": "execute_result",
          "data": {
            "text/html": [
              "<div>\n",
              "<style scoped>\n",
              "    .dataframe tbody tr th:only-of-type {\n",
              "        vertical-align: middle;\n",
              "    }\n",
              "\n",
              "    .dataframe tbody tr th {\n",
              "        vertical-align: top;\n",
              "    }\n",
              "\n",
              "    .dataframe thead th {\n",
              "        text-align: right;\n",
              "    }\n",
              "</style>\n",
              "<table border=\"1\" class=\"dataframe\">\n",
              "  <thead>\n",
              "    <tr style=\"text-align: right;\">\n",
              "      <th></th>\n",
              "      <th>Period</th>\n",
              "      <th>TE</th>\n",
              "      <th>HU</th>\n",
              "      <th>RF</th>\n",
              "      <th>WS</th>\n",
              "      <th>PD</th>\n",
              "      <th>ABJ</th>\n",
              "      <th>LAG0</th>\n",
              "      <th>LAG1</th>\n",
              "      <th>LAG2</th>\n",
              "      <th>LAG3</th>\n",
              "      <th>LAG4</th>\n",
              "      <th>LAG5</th>\n",
              "      <th>LAG6</th>\n",
              "      <th>LAG7</th>\n",
              "      <th>LAG8</th>\n",
              "      <th>LAG9</th>\n",
              "      <th>LAG10</th>\n",
              "      <th>LAG11</th>\n",
              "      <th>LAG12</th>\n",
              "      <th>OS</th>\n",
              "    </tr>\n",
              "  </thead>\n",
              "  <tbody>\n",
              "    <tr>\n",
              "      <th>0</th>\n",
              "      <td>Jan-10</td>\n",
              "      <td>26.02</td>\n",
              "      <td>84.74</td>\n",
              "      <td>10.52</td>\n",
              "      <td>0.84</td>\n",
              "      <td>792.86</td>\n",
              "      <td>86.96</td>\n",
              "      <td>1</td>\n",
              "      <td>4</td>\n",
              "      <td>6</td>\n",
              "      <td>4</td>\n",
              "      <td>4</td>\n",
              "      <td>1</td>\n",
              "      <td>4</td>\n",
              "      <td>3</td>\n",
              "      <td>3</td>\n",
              "      <td>5</td>\n",
              "      <td>2</td>\n",
              "      <td>1</td>\n",
              "      <td>4</td>\n",
              "      <td>0</td>\n",
              "    </tr>\n",
              "    <tr>\n",
              "      <th>1</th>\n",
              "      <td>Feb-10</td>\n",
              "      <td>26.32</td>\n",
              "      <td>84.64</td>\n",
              "      <td>12.04</td>\n",
              "      <td>0.86</td>\n",
              "      <td>793.45</td>\n",
              "      <td>86.72</td>\n",
              "      <td>3</td>\n",
              "      <td>1</td>\n",
              "      <td>4</td>\n",
              "      <td>6</td>\n",
              "      <td>4</td>\n",
              "      <td>4</td>\n",
              "      <td>1</td>\n",
              "      <td>4</td>\n",
              "      <td>3</td>\n",
              "      <td>3</td>\n",
              "      <td>5</td>\n",
              "      <td>2</td>\n",
              "      <td>1</td>\n",
              "      <td>1</td>\n",
              "    </tr>\n",
              "    <tr>\n",
              "      <th>2</th>\n",
              "      <td>Mar-10</td>\n",
              "      <td>26.39</td>\n",
              "      <td>85.00</td>\n",
              "      <td>8.65</td>\n",
              "      <td>0.55</td>\n",
              "      <td>794.04</td>\n",
              "      <td>86.50</td>\n",
              "      <td>0</td>\n",
              "      <td>3</td>\n",
              "      <td>1</td>\n",
              "      <td>4</td>\n",
              "      <td>6</td>\n",
              "      <td>4</td>\n",
              "      <td>4</td>\n",
              "      <td>1</td>\n",
              "      <td>4</td>\n",
              "      <td>3</td>\n",
              "      <td>3</td>\n",
              "      <td>5</td>\n",
              "      <td>2</td>\n",
              "      <td>0</td>\n",
              "    </tr>\n",
              "    <tr>\n",
              "      <th>3</th>\n",
              "      <td>Apr-10</td>\n",
              "      <td>26.29</td>\n",
              "      <td>86.17</td>\n",
              "      <td>10.37</td>\n",
              "      <td>0.30</td>\n",
              "      <td>794.63</td>\n",
              "      <td>86.28</td>\n",
              "      <td>1</td>\n",
              "      <td>0</td>\n",
              "      <td>3</td>\n",
              "      <td>1</td>\n",
              "      <td>4</td>\n",
              "      <td>6</td>\n",
              "      <td>4</td>\n",
              "      <td>4</td>\n",
              "      <td>1</td>\n",
              "      <td>4</td>\n",
              "      <td>3</td>\n",
              "      <td>3</td>\n",
              "      <td>5</td>\n",
              "      <td>0</td>\n",
              "    </tr>\n",
              "    <tr>\n",
              "      <th>4</th>\n",
              "      <td>May-10</td>\n",
              "      <td>26.57</td>\n",
              "      <td>85.61</td>\n",
              "      <td>7.35</td>\n",
              "      <td>0.58</td>\n",
              "      <td>795.22</td>\n",
              "      <td>86.08</td>\n",
              "      <td>0</td>\n",
              "      <td>1</td>\n",
              "      <td>0</td>\n",
              "      <td>3</td>\n",
              "      <td>1</td>\n",
              "      <td>4</td>\n",
              "      <td>6</td>\n",
              "      <td>4</td>\n",
              "      <td>4</td>\n",
              "      <td>1</td>\n",
              "      <td>4</td>\n",
              "      <td>3</td>\n",
              "      <td>3</td>\n",
              "      <td>0</td>\n",
              "    </tr>\n",
              "    <tr>\n",
              "      <th>...</th>\n",
              "      <td>...</td>\n",
              "      <td>...</td>\n",
              "      <td>...</td>\n",
              "      <td>...</td>\n",
              "      <td>...</td>\n",
              "      <td>...</td>\n",
              "      <td>...</td>\n",
              "      <td>...</td>\n",
              "      <td>...</td>\n",
              "      <td>...</td>\n",
              "      <td>...</td>\n",
              "      <td>...</td>\n",
              "      <td>...</td>\n",
              "      <td>...</td>\n",
              "      <td>...</td>\n",
              "      <td>...</td>\n",
              "      <td>...</td>\n",
              "      <td>...</td>\n",
              "      <td>...</td>\n",
              "      <td>...</td>\n",
              "      <td>...</td>\n",
              "    </tr>\n",
              "    <tr>\n",
              "      <th>103</th>\n",
              "      <td>Aug-18</td>\n",
              "      <td>24.27</td>\n",
              "      <td>76.87</td>\n",
              "      <td>0.00</td>\n",
              "      <td>1.39</td>\n",
              "      <td>846.18</td>\n",
              "      <td>96.29</td>\n",
              "      <td>1</td>\n",
              "      <td>4</td>\n",
              "      <td>3</td>\n",
              "      <td>3</td>\n",
              "      <td>5</td>\n",
              "      <td>2</td>\n",
              "      <td>1</td>\n",
              "      <td>4</td>\n",
              "      <td>1</td>\n",
              "      <td>1</td>\n",
              "      <td>1</td>\n",
              "      <td>2</td>\n",
              "      <td>3</td>\n",
              "      <td>0</td>\n",
              "    </tr>\n",
              "    <tr>\n",
              "      <th>104</th>\n",
              "      <td>Sep-18</td>\n",
              "      <td>25.50</td>\n",
              "      <td>75.73</td>\n",
              "      <td>0.59</td>\n",
              "      <td>1.03</td>\n",
              "      <td>846.59</td>\n",
              "      <td>93.34</td>\n",
              "      <td>4</td>\n",
              "      <td>1</td>\n",
              "      <td>4</td>\n",
              "      <td>3</td>\n",
              "      <td>3</td>\n",
              "      <td>5</td>\n",
              "      <td>2</td>\n",
              "      <td>1</td>\n",
              "      <td>4</td>\n",
              "      <td>1</td>\n",
              "      <td>1</td>\n",
              "      <td>1</td>\n",
              "      <td>2</td>\n",
              "      <td>1</td>\n",
              "    </tr>\n",
              "    <tr>\n",
              "      <th>105</th>\n",
              "      <td>Oct-18</td>\n",
              "      <td>26.58</td>\n",
              "      <td>74.94</td>\n",
              "      <td>0.04</td>\n",
              "      <td>1.39</td>\n",
              "      <td>847.01</td>\n",
              "      <td>96.10</td>\n",
              "      <td>4</td>\n",
              "      <td>4</td>\n",
              "      <td>1</td>\n",
              "      <td>4</td>\n",
              "      <td>3</td>\n",
              "      <td>3</td>\n",
              "      <td>5</td>\n",
              "      <td>2</td>\n",
              "      <td>1</td>\n",
              "      <td>4</td>\n",
              "      <td>1</td>\n",
              "      <td>1</td>\n",
              "      <td>1</td>\n",
              "      <td>1</td>\n",
              "    </tr>\n",
              "    <tr>\n",
              "      <th>106</th>\n",
              "      <td>Nov-18</td>\n",
              "      <td>26.49</td>\n",
              "      <td>82.28</td>\n",
              "      <td>10.53</td>\n",
              "      <td>1.00</td>\n",
              "      <td>847.42</td>\n",
              "      <td>96.38</td>\n",
              "      <td>6</td>\n",
              "      <td>4</td>\n",
              "      <td>4</td>\n",
              "      <td>1</td>\n",
              "      <td>4</td>\n",
              "      <td>3</td>\n",
              "      <td>3</td>\n",
              "      <td>5</td>\n",
              "      <td>2</td>\n",
              "      <td>1</td>\n",
              "      <td>4</td>\n",
              "      <td>1</td>\n",
              "      <td>1</td>\n",
              "      <td>1</td>\n",
              "    </tr>\n",
              "    <tr>\n",
              "      <th>107</th>\n",
              "      <td>Dec-18</td>\n",
              "      <td>26.14</td>\n",
              "      <td>85.45</td>\n",
              "      <td>10.41</td>\n",
              "      <td>0.87</td>\n",
              "      <td>847.84</td>\n",
              "      <td>95.35</td>\n",
              "      <td>4</td>\n",
              "      <td>6</td>\n",
              "      <td>4</td>\n",
              "      <td>4</td>\n",
              "      <td>1</td>\n",
              "      <td>4</td>\n",
              "      <td>3</td>\n",
              "      <td>3</td>\n",
              "      <td>5</td>\n",
              "      <td>2</td>\n",
              "      <td>1</td>\n",
              "      <td>4</td>\n",
              "      <td>1</td>\n",
              "      <td>1</td>\n",
              "    </tr>\n",
              "  </tbody>\n",
              "</table>\n",
              "<p>108 rows × 21 columns</p>\n",
              "</div>"
            ],
            "text/plain": [
              "     Period     TE     HU     RF    WS  ...  LAG9  LAG10  LAG11  LAG12  OS\n",
              "0    Jan-10  26.02  84.74  10.52  0.84  ...     5      2      1      4   0\n",
              "1    Feb-10  26.32  84.64  12.04  0.86  ...     3      5      2      1   1\n",
              "2    Mar-10  26.39  85.00   8.65  0.55  ...     3      3      5      2   0\n",
              "3    Apr-10  26.29  86.17  10.37  0.30  ...     4      3      3      5   0\n",
              "4    May-10  26.57  85.61   7.35  0.58  ...     1      4      3      3   0\n",
              "..      ...    ...    ...    ...   ...  ...   ...    ...    ...    ...  ..\n",
              "103  Aug-18  24.27  76.87   0.00  1.39  ...     1      1      2      3   0\n",
              "104  Sep-18  25.50  75.73   0.59  1.03  ...     1      1      1      2   1\n",
              "105  Oct-18  26.58  74.94   0.04  1.39  ...     4      1      1      1   1\n",
              "106  Nov-18  26.49  82.28  10.53  1.00  ...     1      4      1      1   1\n",
              "107  Dec-18  26.14  85.45  10.41  0.87  ...     2      1      4      1   1\n",
              "\n",
              "[108 rows x 21 columns]"
            ]
          },
          "metadata": {
            "tags": []
          },
          "execution_count": 16
        }
      ]
    },
    {
      "cell_type": "code",
      "metadata": {
        "colab": {
          "base_uri": "https://localhost:8080/",
          "height": 206
        },
        "id": "7-hWdVo-8ZRK",
        "outputId": "db7817a1-c35d-41f0-a3b4-33a9eb2c9b09"
      },
      "source": [
        "#mengambil kolom period, rf, dan os serta mengacak dataset\n",
        "data = dataframe[[ 'LAG0', 'LAG1', 'LAG2', 'LAG3', 'LAG4', 'LAG5', 'LAG6', 'LAG7', 'LAG8', 'LAG9', 'LAG10', 'LAG11', 'LAG12', 'OS' ]]\n",
        "data = shuffle(data)\n",
        "data.head()"
      ],
      "execution_count": 18,
      "outputs": [
        {
          "output_type": "execute_result",
          "data": {
            "text/html": [
              "<div>\n",
              "<style scoped>\n",
              "    .dataframe tbody tr th:only-of-type {\n",
              "        vertical-align: middle;\n",
              "    }\n",
              "\n",
              "    .dataframe tbody tr th {\n",
              "        vertical-align: top;\n",
              "    }\n",
              "\n",
              "    .dataframe thead th {\n",
              "        text-align: right;\n",
              "    }\n",
              "</style>\n",
              "<table border=\"1\" class=\"dataframe\">\n",
              "  <thead>\n",
              "    <tr style=\"text-align: right;\">\n",
              "      <th></th>\n",
              "      <th>LAG0</th>\n",
              "      <th>LAG1</th>\n",
              "      <th>LAG2</th>\n",
              "      <th>LAG3</th>\n",
              "      <th>LAG4</th>\n",
              "      <th>LAG5</th>\n",
              "      <th>LAG6</th>\n",
              "      <th>LAG7</th>\n",
              "      <th>LAG8</th>\n",
              "      <th>LAG9</th>\n",
              "      <th>LAG10</th>\n",
              "      <th>LAG11</th>\n",
              "      <th>LAG12</th>\n",
              "      <th>OS</th>\n",
              "    </tr>\n",
              "  </thead>\n",
              "  <tbody>\n",
              "    <tr>\n",
              "      <th>29</th>\n",
              "      <td>0</td>\n",
              "      <td>1</td>\n",
              "      <td>1</td>\n",
              "      <td>1</td>\n",
              "      <td>2</td>\n",
              "      <td>1</td>\n",
              "      <td>0</td>\n",
              "      <td>0</td>\n",
              "      <td>0</td>\n",
              "      <td>0</td>\n",
              "      <td>0</td>\n",
              "      <td>1</td>\n",
              "      <td>0</td>\n",
              "      <td>0</td>\n",
              "    </tr>\n",
              "    <tr>\n",
              "      <th>46</th>\n",
              "      <td>0</td>\n",
              "      <td>0</td>\n",
              "      <td>0</td>\n",
              "      <td>0</td>\n",
              "      <td>4</td>\n",
              "      <td>1</td>\n",
              "      <td>7</td>\n",
              "      <td>2</td>\n",
              "      <td>2</td>\n",
              "      <td>4</td>\n",
              "      <td>1</td>\n",
              "      <td>0</td>\n",
              "      <td>0</td>\n",
              "      <td>0</td>\n",
              "    </tr>\n",
              "    <tr>\n",
              "      <th>1</th>\n",
              "      <td>3</td>\n",
              "      <td>1</td>\n",
              "      <td>4</td>\n",
              "      <td>6</td>\n",
              "      <td>4</td>\n",
              "      <td>4</td>\n",
              "      <td>1</td>\n",
              "      <td>4</td>\n",
              "      <td>3</td>\n",
              "      <td>3</td>\n",
              "      <td>5</td>\n",
              "      <td>2</td>\n",
              "      <td>1</td>\n",
              "      <td>1</td>\n",
              "    </tr>\n",
              "    <tr>\n",
              "      <th>82</th>\n",
              "      <td>3</td>\n",
              "      <td>2</td>\n",
              "      <td>1</td>\n",
              "      <td>1</td>\n",
              "      <td>2</td>\n",
              "      <td>2</td>\n",
              "      <td>6</td>\n",
              "      <td>2</td>\n",
              "      <td>2</td>\n",
              "      <td>2</td>\n",
              "      <td>28</td>\n",
              "      <td>0</td>\n",
              "      <td>0</td>\n",
              "      <td>1</td>\n",
              "    </tr>\n",
              "    <tr>\n",
              "      <th>11</th>\n",
              "      <td>0</td>\n",
              "      <td>0</td>\n",
              "      <td>0</td>\n",
              "      <td>0</td>\n",
              "      <td>0</td>\n",
              "      <td>0</td>\n",
              "      <td>0</td>\n",
              "      <td>0</td>\n",
              "      <td>1</td>\n",
              "      <td>0</td>\n",
              "      <td>3</td>\n",
              "      <td>1</td>\n",
              "      <td>4</td>\n",
              "      <td>0</td>\n",
              "    </tr>\n",
              "  </tbody>\n",
              "</table>\n",
              "</div>"
            ],
            "text/plain": [
              "    LAG0  LAG1  LAG2  LAG3  LAG4  LAG5  ...  LAG8  LAG9  LAG10  LAG11  LAG12  OS\n",
              "29     0     1     1     1     2     1  ...     0     0      0      1      0   0\n",
              "46     0     0     0     0     4     1  ...     2     4      1      0      0   0\n",
              "1      3     1     4     6     4     4  ...     3     3      5      2      1   1\n",
              "82     3     2     1     1     2     2  ...     2     2     28      0      0   1\n",
              "11     0     0     0     0     0     0  ...     1     0      3      1      4   0\n",
              "\n",
              "[5 rows x 14 columns]"
            ]
          },
          "metadata": {
            "tags": []
          },
          "execution_count": 18
        }
      ]
    },
    {
      "cell_type": "code",
      "metadata": {
        "colab": {
          "base_uri": "https://localhost:8080/"
        },
        "id": "oOguaLHz9rX3",
        "outputId": "946df27e-3435-4db5-a362-205bf3fa4337"
      },
      "source": [
        "#train-test split 80-20\n",
        "train, test = train_test_split(data, test_size=0.2)\n",
        "print(len(train), 'banyak data train')\n",
        "print(len(test), 'banyak data test')\n",
        "\n",
        "#train-test split 70-30\n",
        "#train, test = train_test_split(data, test_size=0.3)\n",
        "#print(len(train), 'banyak data train')\n",
        "#print(len(test), 'banyak data test')"
      ],
      "execution_count": 19,
      "outputs": [
        {
          "output_type": "stream",
          "text": [
            "86 banyak data train\n",
            "22 banyak data test\n"
          ],
          "name": "stdout"
        }
      ]
    },
    {
      "cell_type": "code",
      "metadata": {
        "id": "hy8nz511-KGo"
      },
      "source": [
        "# A utility method to create a tf.data dataset from a Pandas Dataframe\n",
        "def df_to_dataset(data, batch_size=32):\n",
        "  data = data.copy()\n",
        "  labels = data.pop('OS')\n",
        "  ds = tf.data.Dataset.from_tensor_slices((dict(data), labels))\n",
        "  ds = ds.batch(batch_size)\n",
        "  return ds"
      ],
      "execution_count": 20,
      "outputs": []
    },
    {
      "cell_type": "code",
      "metadata": {
        "id": "tO3uJ9QG-wym"
      },
      "source": [
        "batch_size = 5 # A small batch sized is used for demonstration purposes\n",
        "train_ds = df_to_dataset(train, batch_size=batch_size)\n",
        "test_ds = df_to_dataset(test, batch_size=batch_size)"
      ],
      "execution_count": 21,
      "outputs": []
    },
    {
      "cell_type": "code",
      "metadata": {
        "colab": {
          "base_uri": "https://localhost:8080/"
        },
        "id": "Jebs-hAK_ZQI",
        "outputId": "1ae19c98-efe1-4d97-e35e-fd655c19a10f"
      },
      "source": [
        "for feature_batch, label_batch in train_ds.take(1):\n",
        "  print('Every feature:', list(feature_batch.keys()))\n",
        "  print('LAG0:', feature_batch['LAG0'])\n",
        "  print('LAG1:', feature_batch['LAG1'])\n",
        "  print('OS:', label_batch)"
      ],
      "execution_count": 22,
      "outputs": [
        {
          "output_type": "stream",
          "text": [
            "Every feature: ['LAG0', 'LAG1', 'LAG2', 'LAG3', 'LAG4', 'LAG5', 'LAG6', 'LAG7', 'LAG8', 'LAG9', 'LAG10', 'LAG11', 'LAG12']\n",
            "LAG0: tf.Tensor([0 0 1 2 1], shape=(5,), dtype=int64)\n",
            "LAG1: tf.Tensor([0 2 0 6 1], shape=(5,), dtype=int64)\n",
            "OS: tf.Tensor([0 0 0 1 0], shape=(5,), dtype=int64)\n"
          ],
          "name": "stdout"
        }
      ]
    },
    {
      "cell_type": "code",
      "metadata": {
        "colab": {
          "base_uri": "https://localhost:8080/",
          "height": 296
        },
        "id": "ohz8zXEsCx0n",
        "outputId": "618f5512-1a59-49f3-d61d-d08939914060"
      },
      "source": [
        "import seaborn as sns\n",
        "sns.boxplot(x=data['LAG0'])"
      ],
      "execution_count": 23,
      "outputs": [
        {
          "output_type": "execute_result",
          "data": {
            "text/plain": [
              "<matplotlib.axes._subplots.AxesSubplot at 0x7f638bedd4d0>"
            ]
          },
          "metadata": {
            "tags": []
          },
          "execution_count": 23
        },
        {
          "output_type": "display_data",
          "data": {
            "image/png": "[encoded data removed]",
            "text/plain": [
              "<Figure size 432x288 with 1 Axes>"
            ]
          },
          "metadata": {
            "tags": [],
            "needs_background": "light"
          }
        }
      ]
    },
    {
      "cell_type": "code",
      "metadata": {
        "id": "qwjrSVkwEeD0"
      },
      "source": [
        "feature_columns = []\n",
        "\n",
        "for header in ['LAG0', 'LAG1', 'LAG2', 'LAG3', 'LAG4', 'LAG5', 'LAG6', 'LAG7', 'LAG8', 'LAG9', 'LAG10', 'LAG11', 'LAG12']:\n",
        "  feature_columns.append(feature_column.numeric_column(header))"
      ],
      "execution_count": 24,
      "outputs": []
    },
    {
      "cell_type": "code",
      "metadata": {
        "colab": {
          "base_uri": "https://localhost:8080/"
        },
        "id": "ZxNwKqjIFfEQ",
        "outputId": "ea36bd4d-9e5a-44e1-86ff-09c540338f5f"
      },
      "source": [
        "feature_layer = tf.keras.layers.DenseFeatures(feature_columns)\n",
        "feature_layer"
      ],
      "execution_count": 25,
      "outputs": [
        {
          "output_type": "execute_result",
          "data": {
            "text/plain": [
              "<tensorflow.python.keras.feature_column.dense_features_v2.DenseFeatures at 0x7f638bece9d0>"
            ]
          },
          "metadata": {
            "tags": []
          },
          "execution_count": 25
        }
      ]
    },
    {
      "cell_type": "code",
      "metadata": {
        "id": "u6HA-YFaGYfU"
      },
      "source": [
        "batch_size = 32\n",
        "train_ds = df_to_dataset(train, batch_size=batch_size)\n",
        "test_ds = df_to_dataset(test, batch_size=batch_size)"
      ],
      "execution_count": 26,
      "outputs": []
    },
    {
      "cell_type": "code",
      "metadata": {
        "colab": {
          "base_uri": "https://localhost:8080/"
        },
        "id": "lk3oY8ViFlDo",
        "outputId": "d87e3594-f45d-4432-91de-9edbecbd0a9d"
      },
      "source": [
        "model = tf.keras.Sequential([\n",
        "  feature_layer,\n",
        "  layers.Dense(128, activation='relu'),\n",
        "  layers.Dense(128, activation='relu'),\n",
        "  layers.Dense(1, activation='sigmoid')\n",
        "])\n",
        "\n",
        "model.compile(optimizer='adam',\n",
        "              loss='binary_crossentropy',\n",
        "              metrics=['accuracy'])\n",
        "\n",
        "model.fit(train_ds,\n",
        "          validation_data=test_ds,\n",
        "          epochs=25)"
      ],
      "execution_count": 27,
      "outputs": [
        {
          "output_type": "stream",
          "text": [
            "Epoch 1/25\n",
            "WARNING:tensorflow:Layers in a Sequential model should only have a single input tensor, but we receive a <class 'dict'> input: {'LAG0': <tf.Tensor 'ExpandDims:0' shape=(None, 1) dtype=int64>, 'LAG1': <tf.Tensor 'ExpandDims_1:0' shape=(None, 1) dtype=int64>, 'LAG2': <tf.Tensor 'ExpandDims_5:0' shape=(None, 1) dtype=int64>, 'LAG3': <tf.Tensor 'ExpandDims_6:0' shape=(None, 1) dtype=int64>, 'LAG4': <tf.Tensor 'ExpandDims_7:0' shape=(None, 1) dtype=int64>, 'LAG5': <tf.Tensor 'ExpandDims_8:0' shape=(None, 1) dtype=int64>, 'LAG6': <tf.Tensor 'ExpandDims_9:0' shape=(None, 1) dtype=int64>, 'LAG7': <tf.Tensor 'ExpandDims_10:0' shape=(None, 1) dtype=int64>, 'LAG8': <tf.Tensor 'ExpandDims_11:0' shape=(None, 1) dtype=int64>, 'LAG9': <tf.Tensor 'ExpandDims_12:0' shape=(None, 1) dtype=int64>, 'LAG10': <tf.Tensor 'ExpandDims_2:0' shape=(None, 1) dtype=int64>, 'LAG11': <tf.Tensor 'ExpandDims_3:0' shape=(None, 1) dtype=int64>, 'LAG12': <tf.Tensor 'ExpandDims_4:0' shape=(None, 1) dtype=int64>}\n",
            "Consider rewriting this model with the Functional API.\n",
            "WARNING:tensorflow:Layers in a Sequential model should only have a single input tensor, but we receive a <class 'dict'> input: {'LAG0': <tf.Tensor 'ExpandDims:0' shape=(None, 1) dtype=int64>, 'LAG1': <tf.Tensor 'ExpandDims_1:0' shape=(None, 1) dtype=int64>, 'LAG2': <tf.Tensor 'ExpandDims_5:0' shape=(None, 1) dtype=int64>, 'LAG3': <tf.Tensor 'ExpandDims_6:0' shape=(None, 1) dtype=int64>, 'LAG4': <tf.Tensor 'ExpandDims_7:0' shape=(None, 1) dtype=int64>, 'LAG5': <tf.Tensor 'ExpandDims_8:0' shape=(None, 1) dtype=int64>, 'LAG6': <tf.Tensor 'ExpandDims_9:0' shape=(None, 1) dtype=int64>, 'LAG7': <tf.Tensor 'ExpandDims_10:0' shape=(None, 1) dtype=int64>, 'LAG8': <tf.Tensor 'ExpandDims_11:0' shape=(None, 1) dtype=int64>, 'LAG9': <tf.Tensor 'ExpandDims_12:0' shape=(None, 1) dtype=int64>, 'LAG10': <tf.Tensor 'ExpandDims_2:0' shape=(None, 1) dtype=int64>, 'LAG11': <tf.Tensor 'ExpandDims_3:0' shape=(None, 1) dtype=int64>, 'LAG12': <tf.Tensor 'ExpandDims_4:0' shape=(None, 1) dtype=int64>}\n",
            "Consider rewriting this model with the Functional API.\n",
            "1/3 [=========>....................] - ETA: 1s - loss: 0.6476 - accuracy: 0.7188WARNING:tensorflow:Layers in a Sequential model should only have a single input tensor, but we receive a <class 'dict'> input: {'LAG0': <tf.Tensor 'ExpandDims:0' shape=(None, 1) dtype=int64>, 'LAG1': <tf.Tensor 'ExpandDims_1:0' shape=(None, 1) dtype=int64>, 'LAG2': <tf.Tensor 'ExpandDims_5:0' shape=(None, 1) dtype=int64>, 'LAG3': <tf.Tensor 'ExpandDims_6:0' shape=(None, 1) dtype=int64>, 'LAG4': <tf.Tensor 'ExpandDims_7:0' shape=(None, 1) dtype=int64>, 'LAG5': <tf.Tensor 'ExpandDims_8:0' shape=(None, 1) dtype=int64>, 'LAG6': <tf.Tensor 'ExpandDims_9:0' shape=(None, 1) dtype=int64>, 'LAG7': <tf.Tensor 'ExpandDims_10:0' shape=(None, 1) dtype=int64>, 'LAG8': <tf.Tensor 'ExpandDims_11:0' shape=(None, 1) dtype=int64>, 'LAG9': <tf.Tensor 'ExpandDims_12:0' shape=(None, 1) dtype=int64>, 'LAG10': <tf.Tensor 'ExpandDims_2:0' shape=(None, 1) dtype=int64>, 'LAG11': <tf.Tensor 'ExpandDims_3:0' shape=(None, 1) dtype=int64>, 'LAG12': <tf.Tensor 'ExpandDims_4:0' shape=(None, 1) dtype=int64>}\n",
            "Consider rewriting this model with the Functional API.\n",
            "3/3 [==============================] - 1s 106ms/step - loss: 0.7411 - accuracy: 0.6977 - val_loss: 0.7557 - val_accuracy: 0.5909\n",
            "Epoch 2/25\n",
            "3/3 [==============================] - 0s 11ms/step - loss: 0.5789 - accuracy: 0.8372 - val_loss: 0.7979 - val_accuracy: 0.6364\n",
            "Epoch 3/25\n",
            "3/3 [==============================] - 0s 10ms/step - loss: 0.5000 - accuracy: 0.8605 - val_loss: 0.8512 - val_accuracy: 0.6364\n",
            "Epoch 4/25\n",
            "3/3 [==============================] - 0s 11ms/step - loss: 0.4470 - accuracy: 0.8605 - val_loss: 0.9134 - val_accuracy: 0.6364\n",
            "Epoch 5/25\n",
            "3/3 [==============================] - 0s 11ms/step - loss: 0.4050 - accuracy: 0.8721 - val_loss: 0.9792 - val_accuracy: 0.6364\n",
            "Epoch 6/25\n",
            "3/3 [==============================] - 0s 9ms/step - loss: 0.3699 - accuracy: 0.8837 - val_loss: 1.0374 - val_accuracy: 0.6364\n",
            "Epoch 7/25\n",
            "3/3 [==============================] - 0s 10ms/step - loss: 0.3393 - accuracy: 0.8837 - val_loss: 1.0923 - val_accuracy: 0.6818\n",
            "Epoch 8/25\n",
            "3/3 [==============================] - 0s 10ms/step - loss: 0.3119 - accuracy: 0.9186 - val_loss: 1.1436 - val_accuracy: 0.6818\n",
            "Epoch 9/25\n",
            "3/3 [==============================] - 0s 9ms/step - loss: 0.2875 - accuracy: 0.9651 - val_loss: 1.1935 - val_accuracy: 0.6818\n",
            "Epoch 10/25\n",
            "3/3 [==============================] - 0s 9ms/step - loss: 0.2654 - accuracy: 0.9651 - val_loss: 1.2435 - val_accuracy: 0.6818\n",
            "Epoch 11/25\n",
            "3/3 [==============================] - 0s 9ms/step - loss: 0.2453 - accuracy: 0.9651 - val_loss: 1.2948 - val_accuracy: 0.6818\n",
            "Epoch 12/25\n",
            "3/3 [==============================] - 0s 9ms/step - loss: 0.2266 - accuracy: 0.9651 - val_loss: 1.3493 - val_accuracy: 0.6818\n",
            "Epoch 13/25\n",
            "3/3 [==============================] - 0s 9ms/step - loss: 0.2086 - accuracy: 0.9767 - val_loss: 1.4049 - val_accuracy: 0.6818\n",
            "Epoch 14/25\n",
            "3/3 [==============================] - 0s 9ms/step - loss: 0.1920 - accuracy: 0.9884 - val_loss: 1.4650 - val_accuracy: 0.6818\n",
            "Epoch 15/25\n",
            "3/3 [==============================] - 0s 10ms/step - loss: 0.1771 - accuracy: 0.9884 - val_loss: 1.5270 - val_accuracy: 0.6818\n",
            "Epoch 16/25\n",
            "3/3 [==============================] - 0s 10ms/step - loss: 0.1634 - accuracy: 0.9884 - val_loss: 1.5886 - val_accuracy: 0.7727\n",
            "Epoch 17/25\n",
            "3/3 [==============================] - 0s 10ms/step - loss: 0.1508 - accuracy: 0.9884 - val_loss: 1.6509 - val_accuracy: 0.7727\n",
            "Epoch 18/25\n",
            "3/3 [==============================] - 0s 9ms/step - loss: 0.1392 - accuracy: 0.9884 - val_loss: 1.7152 - val_accuracy: 0.7727\n",
            "Epoch 19/25\n",
            "3/3 [==============================] - 0s 11ms/step - loss: 0.1285 - accuracy: 0.9884 - val_loss: 1.7778 - val_accuracy: 0.7727\n",
            "Epoch 20/25\n",
            "3/3 [==============================] - 0s 10ms/step - loss: 0.1187 - accuracy: 0.9884 - val_loss: 1.8376 - val_accuracy: 0.7727\n",
            "Epoch 21/25\n",
            "3/3 [==============================] - 0s 10ms/step - loss: 0.1097 - accuracy: 0.9884 - val_loss: 1.8984 - val_accuracy: 0.7727\n",
            "Epoch 22/25\n",
            "3/3 [==============================] - 0s 9ms/step - loss: 0.1013 - accuracy: 0.9884 - val_loss: 1.9621 - val_accuracy: 0.7727\n",
            "Epoch 23/25\n",
            "3/3 [==============================] - 0s 10ms/step - loss: 0.0934 - accuracy: 0.9884 - val_loss: 2.0287 - val_accuracy: 0.7727\n",
            "Epoch 24/25\n",
            "3/3 [==============================] - 0s 9ms/step - loss: 0.0860 - accuracy: 1.0000 - val_loss: 2.0948 - val_accuracy: 0.7727\n",
            "Epoch 25/25\n",
            "3/3 [==============================] - 0s 11ms/step - loss: 0.0792 - accuracy: 1.0000 - val_loss: 2.1625 - val_accuracy: 0.7727\n"
          ],
          "name": "stdout"
        },
        {
          "output_type": "execute_result",
          "data": {
            "text/plain": [
              "<tensorflow.python.keras.callbacks.History at 0x7f638beb6110>"
            ]
          },
          "metadata": {
            "tags": []
          },
          "execution_count": 27
        }
      ]
    }
  ]
}