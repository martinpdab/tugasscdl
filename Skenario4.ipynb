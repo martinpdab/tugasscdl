{
  "nbformat": 4,
  "nbformat_minor": 0,
  "metadata": {
    "colab": {
      "name": "Skenario4.ipynb",
      "provenance": [],
      "include_colab_link": true
    },
    "kernelspec": {
      "name": "python3",
      "display_name": "Python 3"
    },
    "language_info": {
      "name": "python"
    }
  },
  "cells": [
    {
      "cell_type": "markdown",
      "metadata": {
        "id": "view-in-github",
        "colab_type": "text"
      },
      "source": [
        "<a href=\"https://colab.research.google.com/github/martinpdab/tugasscdl/blob/main/Skenario4.ipynb\" target=\"_parent\"><img src=\"https://colab.research.google.com/assets/colab-badge.svg\" alt=\"Open In Colab\"/></a>"
      ]
    },
    {
      "cell_type": "code",
      "metadata": {
        "colab": {
          "base_uri": "https://localhost:8080/"
        },
        "id": "rDXlmcCcIXQc",
        "outputId": "5e53cb06-0bd4-4ba2-9a82-4fe36a68a071"
      },
      "source": [
        "!pip install sklearn"
      ],
      "execution_count": 2,
      "outputs": [
        {
          "output_type": "stream",
          "text": [
            "Requirement already satisfied: sklearn in /usr/local/lib/python3.7/dist-packages (0.0)\n",
            "Requirement already satisfied: scikit-learn in /usr/local/lib/python3.7/dist-packages (from sklearn) (0.22.2.post1)\n",
            "Requirement already satisfied: scipy>=0.17.0 in /usr/local/lib/python3.7/dist-packages (from scikit-learn->sklearn) (1.4.1)\n",
            "Requirement already satisfied: joblib>=0.11 in /usr/local/lib/python3.7/dist-packages (from scikit-learn->sklearn) (1.0.1)\n",
            "Requirement already satisfied: numpy>=1.11.0 in /usr/local/lib/python3.7/dist-packages (from scikit-learn->sklearn) (1.19.5)\n"
          ],
          "name": "stdout"
        }
      ]
    },
    {
      "cell_type": "code",
      "metadata": {
        "id": "Pl1ofmJWInct"
      },
      "source": [
        "import numpy as np\n",
        "import pandas as pd\n",
        "\n",
        "try:\n",
        "  # %tensorflow_version only exists in Colab.\n",
        "  %tensorflow_version 2.x\n",
        "except Exception:\n",
        "  pass\n",
        "import tensorflow as tf\n",
        "\n",
        "from tensorflow import feature_column\n",
        "from tensorflow.keras import layers\n",
        "from sklearn.model_selection import train_test_split\n",
        "from sklearn.utils import shuffle"
      ],
      "execution_count": 3,
      "outputs": []
    },
    {
      "cell_type": "code",
      "metadata": {
        "colab": {
          "base_uri": "https://localhost:8080/",
          "height": 424
        },
        "id": "4EgCwabWIsbL",
        "outputId": "17c3dd64-7b7d-49cc-f5a7-6db8b7936ac5"
      },
      "source": [
        "#memakai dataset\n",
        "URL = 'https://raw.githubusercontent.com/martinpdab/tugasscdl/main/data%20fix.csv' \n",
        "dataframe = pd.read_csv(URL)\n",
        "dataframe"
      ],
      "execution_count": 4,
      "outputs": [
        {
          "output_type": "execute_result",
          "data": {
            "text/html": [
              "<div>\n",
              "<style scoped>\n",
              "    .dataframe tbody tr th:only-of-type {\n",
              "        vertical-align: middle;\n",
              "    }\n",
              "\n",
              "    .dataframe tbody tr th {\n",
              "        vertical-align: top;\n",
              "    }\n",
              "\n",
              "    .dataframe thead th {\n",
              "        text-align: right;\n",
              "    }\n",
              "</style>\n",
              "<table border=\"1\" class=\"dataframe\">\n",
              "  <thead>\n",
              "    <tr style=\"text-align: right;\">\n",
              "      <th></th>\n",
              "      <th>Period</th>\n",
              "      <th>TE</th>\n",
              "      <th>HU</th>\n",
              "      <th>RF</th>\n",
              "      <th>WS</th>\n",
              "      <th>PD</th>\n",
              "      <th>ABJ</th>\n",
              "      <th>LAG0</th>\n",
              "      <th>LAG1</th>\n",
              "      <th>LAG2</th>\n",
              "      <th>LAG3</th>\n",
              "      <th>LAG4</th>\n",
              "      <th>LAG5</th>\n",
              "      <th>LAG6</th>\n",
              "      <th>LAG7</th>\n",
              "      <th>LAG8</th>\n",
              "      <th>LAG9</th>\n",
              "      <th>LAG10</th>\n",
              "      <th>LAG11</th>\n",
              "      <th>LAG12</th>\n",
              "      <th>OS</th>\n",
              "    </tr>\n",
              "  </thead>\n",
              "  <tbody>\n",
              "    <tr>\n",
              "      <th>0</th>\n",
              "      <td>Jan-10</td>\n",
              "      <td>26.02</td>\n",
              "      <td>84.74</td>\n",
              "      <td>10.52</td>\n",
              "      <td>0.84</td>\n",
              "      <td>792.86</td>\n",
              "      <td>86.96</td>\n",
              "      <td>1</td>\n",
              "      <td>4</td>\n",
              "      <td>6</td>\n",
              "      <td>4</td>\n",
              "      <td>4</td>\n",
              "      <td>1</td>\n",
              "      <td>4</td>\n",
              "      <td>3</td>\n",
              "      <td>3</td>\n",
              "      <td>5</td>\n",
              "      <td>2</td>\n",
              "      <td>1</td>\n",
              "      <td>4</td>\n",
              "      <td>0</td>\n",
              "    </tr>\n",
              "    <tr>\n",
              "      <th>1</th>\n",
              "      <td>Feb-10</td>\n",
              "      <td>26.32</td>\n",
              "      <td>84.64</td>\n",
              "      <td>12.04</td>\n",
              "      <td>0.86</td>\n",
              "      <td>793.45</td>\n",
              "      <td>86.72</td>\n",
              "      <td>3</td>\n",
              "      <td>1</td>\n",
              "      <td>4</td>\n",
              "      <td>6</td>\n",
              "      <td>4</td>\n",
              "      <td>4</td>\n",
              "      <td>1</td>\n",
              "      <td>4</td>\n",
              "      <td>3</td>\n",
              "      <td>3</td>\n",
              "      <td>5</td>\n",
              "      <td>2</td>\n",
              "      <td>1</td>\n",
              "      <td>1</td>\n",
              "    </tr>\n",
              "    <tr>\n",
              "      <th>2</th>\n",
              "      <td>Mar-10</td>\n",
              "      <td>26.39</td>\n",
              "      <td>85.00</td>\n",
              "      <td>8.65</td>\n",
              "      <td>0.55</td>\n",
              "      <td>794.04</td>\n",
              "      <td>86.50</td>\n",
              "      <td>0</td>\n",
              "      <td>3</td>\n",
              "      <td>1</td>\n",
              "      <td>4</td>\n",
              "      <td>6</td>\n",
              "      <td>4</td>\n",
              "      <td>4</td>\n",
              "      <td>1</td>\n",
              "      <td>4</td>\n",
              "      <td>3</td>\n",
              "      <td>3</td>\n",
              "      <td>5</td>\n",
              "      <td>2</td>\n",
              "      <td>0</td>\n",
              "    </tr>\n",
              "    <tr>\n",
              "      <th>3</th>\n",
              "      <td>Apr-10</td>\n",
              "      <td>26.29</td>\n",
              "      <td>86.17</td>\n",
              "      <td>10.37</td>\n",
              "      <td>0.30</td>\n",
              "      <td>794.63</td>\n",
              "      <td>86.28</td>\n",
              "      <td>1</td>\n",
              "      <td>0</td>\n",
              "      <td>3</td>\n",
              "      <td>1</td>\n",
              "      <td>4</td>\n",
              "      <td>6</td>\n",
              "      <td>4</td>\n",
              "      <td>4</td>\n",
              "      <td>1</td>\n",
              "      <td>4</td>\n",
              "      <td>3</td>\n",
              "      <td>3</td>\n",
              "      <td>5</td>\n",
              "      <td>0</td>\n",
              "    </tr>\n",
              "    <tr>\n",
              "      <th>4</th>\n",
              "      <td>May-10</td>\n",
              "      <td>26.57</td>\n",
              "      <td>85.61</td>\n",
              "      <td>7.35</td>\n",
              "      <td>0.58</td>\n",
              "      <td>795.22</td>\n",
              "      <td>86.08</td>\n",
              "      <td>0</td>\n",
              "      <td>1</td>\n",
              "      <td>0</td>\n",
              "      <td>3</td>\n",
              "      <td>1</td>\n",
              "      <td>4</td>\n",
              "      <td>6</td>\n",
              "      <td>4</td>\n",
              "      <td>4</td>\n",
              "      <td>1</td>\n",
              "      <td>4</td>\n",
              "      <td>3</td>\n",
              "      <td>3</td>\n",
              "      <td>0</td>\n",
              "    </tr>\n",
              "    <tr>\n",
              "      <th>...</th>\n",
              "      <td>...</td>\n",
              "      <td>...</td>\n",
              "      <td>...</td>\n",
              "      <td>...</td>\n",
              "      <td>...</td>\n",
              "      <td>...</td>\n",
              "      <td>...</td>\n",
              "      <td>...</td>\n",
              "      <td>...</td>\n",
              "      <td>...</td>\n",
              "      <td>...</td>\n",
              "      <td>...</td>\n",
              "      <td>...</td>\n",
              "      <td>...</td>\n",
              "      <td>...</td>\n",
              "      <td>...</td>\n",
              "      <td>...</td>\n",
              "      <td>...</td>\n",
              "      <td>...</td>\n",
              "      <td>...</td>\n",
              "      <td>...</td>\n",
              "    </tr>\n",
              "    <tr>\n",
              "      <th>103</th>\n",
              "      <td>Aug-18</td>\n",
              "      <td>24.27</td>\n",
              "      <td>76.87</td>\n",
              "      <td>0.00</td>\n",
              "      <td>1.39</td>\n",
              "      <td>846.18</td>\n",
              "      <td>96.29</td>\n",
              "      <td>1</td>\n",
              "      <td>4</td>\n",
              "      <td>3</td>\n",
              "      <td>3</td>\n",
              "      <td>5</td>\n",
              "      <td>2</td>\n",
              "      <td>1</td>\n",
              "      <td>4</td>\n",
              "      <td>1</td>\n",
              "      <td>1</td>\n",
              "      <td>1</td>\n",
              "      <td>2</td>\n",
              "      <td>3</td>\n",
              "      <td>0</td>\n",
              "    </tr>\n",
              "    <tr>\n",
              "      <th>104</th>\n",
              "      <td>Sep-18</td>\n",
              "      <td>25.50</td>\n",
              "      <td>75.73</td>\n",
              "      <td>0.59</td>\n",
              "      <td>1.03</td>\n",
              "      <td>846.59</td>\n",
              "      <td>93.34</td>\n",
              "      <td>4</td>\n",
              "      <td>1</td>\n",
              "      <td>4</td>\n",
              "      <td>3</td>\n",
              "      <td>3</td>\n",
              "      <td>5</td>\n",
              "      <td>2</td>\n",
              "      <td>1</td>\n",
              "      <td>4</td>\n",
              "      <td>1</td>\n",
              "      <td>1</td>\n",
              "      <td>1</td>\n",
              "      <td>2</td>\n",
              "      <td>1</td>\n",
              "    </tr>\n",
              "    <tr>\n",
              "      <th>105</th>\n",
              "      <td>Oct-18</td>\n",
              "      <td>26.58</td>\n",
              "      <td>74.94</td>\n",
              "      <td>0.04</td>\n",
              "      <td>1.39</td>\n",
              "      <td>847.01</td>\n",
              "      <td>96.10</td>\n",
              "      <td>4</td>\n",
              "      <td>4</td>\n",
              "      <td>1</td>\n",
              "      <td>4</td>\n",
              "      <td>3</td>\n",
              "      <td>3</td>\n",
              "      <td>5</td>\n",
              "      <td>2</td>\n",
              "      <td>1</td>\n",
              "      <td>4</td>\n",
              "      <td>1</td>\n",
              "      <td>1</td>\n",
              "      <td>1</td>\n",
              "      <td>1</td>\n",
              "    </tr>\n",
              "    <tr>\n",
              "      <th>106</th>\n",
              "      <td>Nov-18</td>\n",
              "      <td>26.49</td>\n",
              "      <td>82.28</td>\n",
              "      <td>10.53</td>\n",
              "      <td>1.00</td>\n",
              "      <td>847.42</td>\n",
              "      <td>96.38</td>\n",
              "      <td>6</td>\n",
              "      <td>4</td>\n",
              "      <td>4</td>\n",
              "      <td>1</td>\n",
              "      <td>4</td>\n",
              "      <td>3</td>\n",
              "      <td>3</td>\n",
              "      <td>5</td>\n",
              "      <td>2</td>\n",
              "      <td>1</td>\n",
              "      <td>4</td>\n",
              "      <td>1</td>\n",
              "      <td>1</td>\n",
              "      <td>1</td>\n",
              "    </tr>\n",
              "    <tr>\n",
              "      <th>107</th>\n",
              "      <td>Dec-18</td>\n",
              "      <td>26.14</td>\n",
              "      <td>85.45</td>\n",
              "      <td>10.41</td>\n",
              "      <td>0.87</td>\n",
              "      <td>847.84</td>\n",
              "      <td>95.35</td>\n",
              "      <td>4</td>\n",
              "      <td>6</td>\n",
              "      <td>4</td>\n",
              "      <td>4</td>\n",
              "      <td>1</td>\n",
              "      <td>4</td>\n",
              "      <td>3</td>\n",
              "      <td>3</td>\n",
              "      <td>5</td>\n",
              "      <td>2</td>\n",
              "      <td>1</td>\n",
              "      <td>4</td>\n",
              "      <td>1</td>\n",
              "      <td>1</td>\n",
              "    </tr>\n",
              "  </tbody>\n",
              "</table>\n",
              "<p>108 rows × 21 columns</p>\n",
              "</div>"
            ],
            "text/plain": [
              "     Period     TE     HU     RF    WS  ...  LAG9  LAG10  LAG11  LAG12  OS\n",
              "0    Jan-10  26.02  84.74  10.52  0.84  ...     5      2      1      4   0\n",
              "1    Feb-10  26.32  84.64  12.04  0.86  ...     3      5      2      1   1\n",
              "2    Mar-10  26.39  85.00   8.65  0.55  ...     3      3      5      2   0\n",
              "3    Apr-10  26.29  86.17  10.37  0.30  ...     4      3      3      5   0\n",
              "4    May-10  26.57  85.61   7.35  0.58  ...     1      4      3      3   0\n",
              "..      ...    ...    ...    ...   ...  ...   ...    ...    ...    ...  ..\n",
              "103  Aug-18  24.27  76.87   0.00  1.39  ...     1      1      2      3   0\n",
              "104  Sep-18  25.50  75.73   0.59  1.03  ...     1      1      1      2   1\n",
              "105  Oct-18  26.58  74.94   0.04  1.39  ...     4      1      1      1   1\n",
              "106  Nov-18  26.49  82.28  10.53  1.00  ...     1      4      1      1   1\n",
              "107  Dec-18  26.14  85.45  10.41  0.87  ...     2      1      4      1   1\n",
              "\n",
              "[108 rows x 21 columns]"
            ]
          },
          "metadata": {
            "tags": []
          },
          "execution_count": 4
        }
      ]
    },
    {
      "cell_type": "code",
      "metadata": {
        "colab": {
          "base_uri": "https://localhost:8080/",
          "height": 206
        },
        "id": "8g0rHlb7IuUK",
        "outputId": "18fb93ab-5b80-4bea-b0bf-038af9895071"
      },
      "source": [
        "# mengambil kolom RF, PD, OS dan mengacak dataset\n",
        "data = dataframe[['RF', 'PD', 'OS']]\n",
        "data = shuffle(data)\n",
        "data.head()"
      ],
      "execution_count": 5,
      "outputs": [
        {
          "output_type": "execute_result",
          "data": {
            "text/html": [
              "<div>\n",
              "<style scoped>\n",
              "    .dataframe tbody tr th:only-of-type {\n",
              "        vertical-align: middle;\n",
              "    }\n",
              "\n",
              "    .dataframe tbody tr th {\n",
              "        vertical-align: top;\n",
              "    }\n",
              "\n",
              "    .dataframe thead th {\n",
              "        text-align: right;\n",
              "    }\n",
              "</style>\n",
              "<table border=\"1\" class=\"dataframe\">\n",
              "  <thead>\n",
              "    <tr style=\"text-align: right;\">\n",
              "      <th></th>\n",
              "      <th>RF</th>\n",
              "      <th>PD</th>\n",
              "      <th>OS</th>\n",
              "    </tr>\n",
              "  </thead>\n",
              "  <tbody>\n",
              "    <tr>\n",
              "      <th>87</th>\n",
              "      <td>15.99</td>\n",
              "      <td>839.40</td>\n",
              "      <td>0</td>\n",
              "    </tr>\n",
              "    <tr>\n",
              "      <th>82</th>\n",
              "      <td>6.49</td>\n",
              "      <td>837.22</td>\n",
              "      <td>1</td>\n",
              "    </tr>\n",
              "    <tr>\n",
              "      <th>107</th>\n",
              "      <td>10.41</td>\n",
              "      <td>847.84</td>\n",
              "      <td>1</td>\n",
              "    </tr>\n",
              "    <tr>\n",
              "      <th>47</th>\n",
              "      <td>14.57</td>\n",
              "      <td>819.82</td>\n",
              "      <td>0</td>\n",
              "    </tr>\n",
              "    <tr>\n",
              "      <th>41</th>\n",
              "      <td>4.84</td>\n",
              "      <td>816.71</td>\n",
              "      <td>0</td>\n",
              "    </tr>\n",
              "  </tbody>\n",
              "</table>\n",
              "</div>"
            ],
            "text/plain": [
              "        RF      PD  OS\n",
              "87   15.99  839.40   0\n",
              "82    6.49  837.22   1\n",
              "107  10.41  847.84   1\n",
              "47   14.57  819.82   0\n",
              "41    4.84  816.71   0"
            ]
          },
          "metadata": {
            "tags": []
          },
          "execution_count": 5
        }
      ]
    },
    {
      "cell_type": "code",
      "metadata": {
        "id": "_PfW-dk3MDWG",
        "outputId": "88cfb019-2e1b-4a93-e08e-4313a7051c9a",
        "colab": {
          "base_uri": "https://localhost:8080/",
          "height": 296
        }
      },
      "source": [
        "import seaborn as sns\n",
        "\n",
        "#melihat outlier\n",
        "sns.boxplot(x=data['RF'])\n",
        "sns.boxplot(x=data['PD'])\n",
        "\n",
        "#RF tidak begitu jauh outliernya"
      ],
      "execution_count": 26,
      "outputs": [
        {
          "output_type": "execute_result",
          "data": {
            "text/plain": [
              "<matplotlib.axes._subplots.AxesSubplot at 0x7f1c737f7b50>"
            ]
          },
          "metadata": {
            "tags": []
          },
          "execution_count": 26
        },
        {
          "output_type": "display_data",
          "data": {
            "image/png": "[encoded data removed]",
            "text/plain": [
              "<Figure size 432x288 with 1 Axes>"
            ]
          },
          "metadata": {
            "tags": [],
            "needs_background": "light"
          }
        }
      ]
    },
    {
      "cell_type": "code",
      "metadata": {
        "colab": {
          "base_uri": "https://localhost:8080/"
        },
        "id": "Ejv8i3bnKAEd",
        "outputId": "9722d9ea-3f43-4189-80b7-af0f75bc772d"
      },
      "source": [
        "#train-test split 80-20\n",
        "train, test = train_test_split(data, test_size=0.2)\n",
        "print(len(train), 'banyak data train')\n",
        "print(len(test), 'banyak data test')\n",
        "\n",
        "#train-test split 70-30\n",
        "train1, test1 = train_test_split(data, test_size=0.3)\n",
        "print(len(train1), 'banyak data train')\n",
        "print(len(test1), 'banyak data test')"
      ],
      "execution_count": 6,
      "outputs": [
        {
          "output_type": "stream",
          "text": [
            "86 banyak data train\n",
            "22 banyak data test\n",
            "75 banyak data train\n",
            "33 banyak data test\n"
          ],
          "name": "stdout"
        }
      ]
    },
    {
      "cell_type": "code",
      "metadata": {
        "id": "vXq05qGnKEnl"
      },
      "source": [
        "#pisahkan label\n",
        "def df_to_dataset(data, batch_size=32):\n",
        "  data = data.copy()\n",
        "  labels = data.pop('OS')\n",
        "  ds = tf.data.Dataset.from_tensor_slices((dict(data), labels))\n",
        "  ds = ds.batch(batch_size)\n",
        "  return ds"
      ],
      "execution_count": 7,
      "outputs": []
    },
    {
      "cell_type": "code",
      "metadata": {
        "id": "jpWQEOXYKFsx"
      },
      "source": [
        "batch_size = 20 # A small batch sized is used for demonstration purposes\n",
        "#80-20 split\n",
        "train_ds = df_to_dataset(train, batch_size=batch_size)\n",
        "test_ds = df_to_dataset(test, batch_size=batch_size)\n",
        "\n",
        "#70-30 split\n",
        "train_ds1 = df_to_dataset(train1, batch_size=batch_size)\n",
        "test_ds1 = df_to_dataset(test1, batch_size=batch_size)"
      ],
      "execution_count": 8,
      "outputs": []
    },
    {
      "cell_type": "code",
      "metadata": {
        "colab": {
          "base_uri": "https://localhost:8080/"
        },
        "id": "wyYF8XnyKMum",
        "outputId": "357ffcd3-93ab-4e63-cd1f-be847f47bccd"
      },
      "source": [
        "for feature_batch, label_batch in train_ds.take(1):\n",
        "  print('Every feature:', list(feature_batch.keys()))\n",
        "  print('RF:', feature_batch['RF'])\n",
        "  print('PD:', feature_batch['PD'])\n",
        "  print('OS:', label_batch)"
      ],
      "execution_count": 9,
      "outputs": [
        {
          "output_type": "stream",
          "text": [
            "Every feature: ['RF', 'PD']\n",
            "RF: tf.Tensor(\n",
            "[ 9.2         3.67        4.84        6.5         0.         12.77\n",
            " 11.88        5.15       11.81        1.1        17.53       11.03\n",
            "  5.32        0.73       15.73       16.65        0.48        9.\n",
            "  9.80285714 16.17      ], shape=(20,), dtype=float64)\n",
            "PD: tf.Tensor(\n",
            "[819.3  845.35 816.71 800.56 830.72 827.54 832.31 816.19 836.77 810.05\n",
            " 798.79 821.86 824.93 802.93 838.53 827.01 810.64 842.87 821.35 834.98], shape=(20,), dtype=float64)\n",
            "OS: tf.Tensor([0 0 0 1 0 0 0 1 1 0 0 0 0 0 0 0 1 0 0 1], shape=(20,), dtype=int64)\n"
          ],
          "name": "stdout"
        }
      ]
    },
    {
      "cell_type": "code",
      "metadata": {
        "id": "r0LmfRHLKWTN"
      },
      "source": [
        "feature_columns = []\n",
        "\n",
        "for header in ['RF', 'PD']:\n",
        "  feature_columns.append(feature_column.numeric_column(header))"
      ],
      "execution_count": 10,
      "outputs": []
    },
    {
      "cell_type": "code",
      "metadata": {
        "colab": {
          "base_uri": "https://localhost:8080/"
        },
        "id": "qLLv0_BxKax0",
        "outputId": "0cd6e5ac-b5f2-4df2-9d4a-6b3acbf8c3dd"
      },
      "source": [
        "feature_layer = tf.keras.layers.DenseFeatures(feature_columns)\n",
        "feature_layer"
      ],
      "execution_count": 11,
      "outputs": [
        {
          "output_type": "execute_result",
          "data": {
            "text/plain": [
              "<tensorflow.python.keras.feature_column.dense_features_v2.DenseFeatures at 0x7f1c78c03fd0>"
            ]
          },
          "metadata": {
            "tags": []
          },
          "execution_count": 11
        }
      ]
    },
    {
      "cell_type": "code",
      "metadata": {
        "colab": {
          "base_uri": "https://localhost:8080/"
        },
        "id": "9ZJ3ATJ6KiZE",
        "outputId": "368a29c3-ba7c-43a8-d96f-54eb3cc19261"
      },
      "source": [
        "model = tf.keras.Sequential([\n",
        "  feature_layer,\n",
        "  #layers.Dense(128, activation='relu'),\n",
        "  layers.Dense(64, activation='relu'),\n",
        "  #layers.Dense(32, activation='relu'),\n",
        "  layers.Dense(1, activation='sigmoid')\n",
        "])\n",
        "\n",
        "model.compile(optimizer='adam',\n",
        "              loss='binary_crossentropy',\n",
        "              metrics=['accuracy'])\n",
        "\n",
        "history = model.fit(train_ds,\n",
        "                validation_data=test_ds,\n",
        "                epochs=75)"
      ],
      "execution_count": 16,
      "outputs": [
        {
          "output_type": "stream",
          "text": [
            "Epoch 1/75\n",
            "WARNING:tensorflow:Layers in a Sequential model should only have a single input tensor, but we receive a <class 'dict'> input: {'RF': <tf.Tensor 'ExpandDims_1:0' shape=(None, 1) dtype=float64>, 'PD': <tf.Tensor 'ExpandDims:0' shape=(None, 1) dtype=float64>}\n",
            "Consider rewriting this model with the Functional API.\n",
            "WARNING:tensorflow:Layers in a Sequential model should only have a single input tensor, but we receive a <class 'dict'> input: {'RF': <tf.Tensor 'ExpandDims_1:0' shape=(None, 1) dtype=float64>, 'PD': <tf.Tensor 'ExpandDims:0' shape=(None, 1) dtype=float64>}\n",
            "Consider rewriting this model with the Functional API.\n",
            "1/5 [=====>........................] - ETA: 1s - loss: 6.5311 - accuracy: 0.2500WARNING:tensorflow:Layers in a Sequential model should only have a single input tensor, but we receive a <class 'dict'> input: {'RF': <tf.Tensor 'ExpandDims_1:0' shape=(None, 1) dtype=float64>, 'PD': <tf.Tensor 'ExpandDims:0' shape=(None, 1) dtype=float64>}\n",
            "Consider rewriting this model with the Functional API.\n",
            "5/5 [==============================] - 1s 34ms/step - loss: 3.0752 - accuracy: 0.6163 - val_loss: 2.6720 - val_accuracy: 0.7273\n",
            "Epoch 2/75\n",
            "5/5 [==============================] - 0s 6ms/step - loss: 1.7034 - accuracy: 0.6860 - val_loss: 1.8607 - val_accuracy: 0.2727\n",
            "Epoch 3/75\n",
            "5/5 [==============================] - 0s 6ms/step - loss: 1.2131 - accuracy: 0.5233 - val_loss: 1.4500 - val_accuracy: 0.7273\n",
            "Epoch 4/75\n",
            "5/5 [==============================] - 0s 7ms/step - loss: 1.0844 - accuracy: 0.6860 - val_loss: 1.0803 - val_accuracy: 0.2727\n",
            "Epoch 5/75\n",
            "5/5 [==============================] - 0s 6ms/step - loss: 0.8279 - accuracy: 0.5116 - val_loss: 0.8408 - val_accuracy: 0.7273\n",
            "Epoch 6/75\n",
            "5/5 [==============================] - 0s 6ms/step - loss: 0.7219 - accuracy: 0.6512 - val_loss: 0.6336 - val_accuracy: 0.7273\n",
            "Epoch 7/75\n",
            "5/5 [==============================] - 0s 7ms/step - loss: 0.7175 - accuracy: 0.7326 - val_loss: 0.5977 - val_accuracy: 0.7273\n",
            "Epoch 8/75\n",
            "5/5 [==============================] - 0s 6ms/step - loss: 0.6144 - accuracy: 0.7326 - val_loss: 0.6278 - val_accuracy: 0.7273\n",
            "Epoch 9/75\n",
            "5/5 [==============================] - 0s 6ms/step - loss: 0.6650 - accuracy: 0.7326 - val_loss: 0.6377 - val_accuracy: 0.7273\n",
            "Epoch 10/75\n",
            "5/5 [==============================] - 0s 6ms/step - loss: 0.6184 - accuracy: 0.7326 - val_loss: 0.5995 - val_accuracy: 0.7273\n",
            "Epoch 11/75\n",
            "5/5 [==============================] - 0s 8ms/step - loss: 0.5860 - accuracy: 0.7326 - val_loss: 0.5951 - val_accuracy: 0.7273\n",
            "Epoch 12/75\n",
            "5/5 [==============================] - 0s 7ms/step - loss: 0.6113 - accuracy: 0.7326 - val_loss: 0.6041 - val_accuracy: 0.7273\n",
            "Epoch 13/75\n",
            "5/5 [==============================] - 0s 6ms/step - loss: 0.5989 - accuracy: 0.7326 - val_loss: 0.5936 - val_accuracy: 0.7273\n",
            "Epoch 14/75\n",
            "5/5 [==============================] - 0s 6ms/step - loss: 0.5796 - accuracy: 0.7326 - val_loss: 0.5975 - val_accuracy: 0.7273\n",
            "Epoch 15/75\n",
            "5/5 [==============================] - 0s 6ms/step - loss: 0.5888 - accuracy: 0.7326 - val_loss: 0.5973 - val_accuracy: 0.7273\n",
            "Epoch 16/75\n",
            "5/5 [==============================] - 0s 5ms/step - loss: 0.5940 - accuracy: 0.7326 - val_loss: 0.5997 - val_accuracy: 0.7273\n",
            "Epoch 17/75\n",
            "5/5 [==============================] - 0s 7ms/step - loss: 0.5860 - accuracy: 0.7326 - val_loss: 0.5996 - val_accuracy: 0.7273\n",
            "Epoch 18/75\n",
            "5/5 [==============================] - 0s 6ms/step - loss: 0.5819 - accuracy: 0.7326 - val_loss: 0.6012 - val_accuracy: 0.7273\n",
            "Epoch 19/75\n",
            "5/5 [==============================] - 0s 6ms/step - loss: 0.5865 - accuracy: 0.7326 - val_loss: 0.6029 - val_accuracy: 0.7273\n",
            "Epoch 20/75\n",
            "5/5 [==============================] - 0s 6ms/step - loss: 0.5894 - accuracy: 0.7326 - val_loss: 0.6047 - val_accuracy: 0.7273\n",
            "Epoch 21/75\n",
            "5/5 [==============================] - 0s 6ms/step - loss: 0.5878 - accuracy: 0.7326 - val_loss: 0.6056 - val_accuracy: 0.7273\n",
            "Epoch 22/75\n",
            "5/5 [==============================] - 0s 7ms/step - loss: 0.5862 - accuracy: 0.7326 - val_loss: 0.6069 - val_accuracy: 0.7273\n",
            "Epoch 23/75\n",
            "5/5 [==============================] - 0s 6ms/step - loss: 0.5875 - accuracy: 0.7326 - val_loss: 0.6082 - val_accuracy: 0.7273\n",
            "Epoch 24/75\n",
            "5/5 [==============================] - 0s 6ms/step - loss: 0.5899 - accuracy: 0.7326 - val_loss: 0.6096 - val_accuracy: 0.7273\n",
            "Epoch 25/75\n",
            "5/5 [==============================] - 0s 7ms/step - loss: 0.5911 - accuracy: 0.7326 - val_loss: 0.6108 - val_accuracy: 0.7273\n",
            "Epoch 26/75\n",
            "5/5 [==============================] - 0s 6ms/step - loss: 0.5913 - accuracy: 0.7326 - val_loss: 0.6118 - val_accuracy: 0.7273\n",
            "Epoch 27/75\n",
            "5/5 [==============================] - 0s 5ms/step - loss: 0.5917 - accuracy: 0.7326 - val_loss: 0.6127 - val_accuracy: 0.7273\n",
            "Epoch 28/75\n",
            "5/5 [==============================] - 0s 5ms/step - loss: 0.5929 - accuracy: 0.7442 - val_loss: 0.6137 - val_accuracy: 0.7273\n",
            "Epoch 29/75\n",
            "5/5 [==============================] - 0s 6ms/step - loss: 0.5943 - accuracy: 0.7442 - val_loss: 0.6146 - val_accuracy: 0.7273\n",
            "Epoch 30/75\n",
            "5/5 [==============================] - 0s 7ms/step - loss: 0.5956 - accuracy: 0.7442 - val_loss: 0.6155 - val_accuracy: 0.7273\n",
            "Epoch 31/75\n",
            "5/5 [==============================] - 0s 5ms/step - loss: 0.5966 - accuracy: 0.7442 - val_loss: 0.6163 - val_accuracy: 0.7273\n",
            "Epoch 32/75\n",
            "5/5 [==============================] - 0s 5ms/step - loss: 0.5975 - accuracy: 0.7326 - val_loss: 0.6169 - val_accuracy: 0.7273\n",
            "Epoch 33/75\n",
            "5/5 [==============================] - 0s 5ms/step - loss: 0.5985 - accuracy: 0.7326 - val_loss: 0.6176 - val_accuracy: 0.7273\n",
            "Epoch 34/75\n",
            "5/5 [==============================] - 0s 5ms/step - loss: 0.5996 - accuracy: 0.7326 - val_loss: 0.6182 - val_accuracy: 0.7273\n",
            "Epoch 35/75\n",
            "5/5 [==============================] - 0s 5ms/step - loss: 0.6007 - accuracy: 0.7326 - val_loss: 0.6188 - val_accuracy: 0.7273\n",
            "Epoch 36/75\n",
            "5/5 [==============================] - 0s 6ms/step - loss: 0.6018 - accuracy: 0.7326 - val_loss: 0.6194 - val_accuracy: 0.7273\n",
            "Epoch 37/75\n",
            "5/5 [==============================] - 0s 5ms/step - loss: 0.6028 - accuracy: 0.7326 - val_loss: 0.6199 - val_accuracy: 0.7273\n",
            "Epoch 38/75\n",
            "5/5 [==============================] - 0s 6ms/step - loss: 0.6038 - accuracy: 0.7326 - val_loss: 0.6204 - val_accuracy: 0.7273\n",
            "Epoch 39/75\n",
            "5/5 [==============================] - 0s 6ms/step - loss: 0.6047 - accuracy: 0.7326 - val_loss: 0.6209 - val_accuracy: 0.7273\n",
            "Epoch 40/75\n",
            "5/5 [==============================] - 0s 6ms/step - loss: 0.6057 - accuracy: 0.7326 - val_loss: 0.6213 - val_accuracy: 0.7273\n",
            "Epoch 41/75\n",
            "5/5 [==============================] - 0s 7ms/step - loss: 0.6066 - accuracy: 0.7209 - val_loss: 0.6217 - val_accuracy: 0.7273\n",
            "Epoch 42/75\n",
            "5/5 [==============================] - 0s 6ms/step - loss: 0.6075 - accuracy: 0.7209 - val_loss: 0.6221 - val_accuracy: 0.7273\n",
            "Epoch 43/75\n",
            "5/5 [==============================] - 0s 5ms/step - loss: 0.6083 - accuracy: 0.7209 - val_loss: 0.6225 - val_accuracy: 0.7273\n",
            "Epoch 44/75\n",
            "5/5 [==============================] - 0s 5ms/step - loss: 0.6092 - accuracy: 0.7209 - val_loss: 0.6228 - val_accuracy: 0.7273\n",
            "Epoch 45/75\n",
            "5/5 [==============================] - 0s 7ms/step - loss: 0.6099 - accuracy: 0.7209 - val_loss: 0.6232 - val_accuracy: 0.7273\n",
            "Epoch 46/75\n",
            "5/5 [==============================] - 0s 6ms/step - loss: 0.6107 - accuracy: 0.7209 - val_loss: 0.6235 - val_accuracy: 0.7273\n",
            "Epoch 47/75\n",
            "5/5 [==============================] - 0s 6ms/step - loss: 0.6114 - accuracy: 0.7209 - val_loss: 0.6238 - val_accuracy: 0.7273\n",
            "Epoch 48/75\n",
            "5/5 [==============================] - 0s 6ms/step - loss: 0.6121 - accuracy: 0.7326 - val_loss: 0.6240 - val_accuracy: 0.7273\n",
            "Epoch 49/75\n",
            "5/5 [==============================] - 0s 5ms/step - loss: 0.6128 - accuracy: 0.7326 - val_loss: 0.6243 - val_accuracy: 0.7273\n",
            "Epoch 50/75\n",
            "5/5 [==============================] - 0s 6ms/step - loss: 0.6134 - accuracy: 0.7326 - val_loss: 0.6246 - val_accuracy: 0.7273\n",
            "Epoch 51/75\n",
            "5/5 [==============================] - 0s 7ms/step - loss: 0.6140 - accuracy: 0.7326 - val_loss: 0.6248 - val_accuracy: 0.7273\n",
            "Epoch 52/75\n",
            "5/5 [==============================] - 0s 8ms/step - loss: 0.6146 - accuracy: 0.7326 - val_loss: 0.6250 - val_accuracy: 0.7273\n",
            "Epoch 53/75\n",
            "5/5 [==============================] - 0s 5ms/step - loss: 0.6151 - accuracy: 0.7326 - val_loss: 0.6252 - val_accuracy: 0.7273\n",
            "Epoch 54/75\n",
            "5/5 [==============================] - 0s 6ms/step - loss: 0.6156 - accuracy: 0.7326 - val_loss: 0.6254 - val_accuracy: 0.7273\n",
            "Epoch 55/75\n",
            "5/5 [==============================] - 0s 6ms/step - loss: 0.6161 - accuracy: 0.7326 - val_loss: 0.6256 - val_accuracy: 0.7273\n",
            "Epoch 56/75\n",
            "5/5 [==============================] - 0s 6ms/step - loss: 0.6166 - accuracy: 0.7326 - val_loss: 0.6258 - val_accuracy: 0.7273\n",
            "Epoch 57/75\n",
            "5/5 [==============================] - 0s 6ms/step - loss: 0.6171 - accuracy: 0.7209 - val_loss: 0.6260 - val_accuracy: 0.7273\n",
            "Epoch 58/75\n",
            "5/5 [==============================] - 0s 7ms/step - loss: 0.6175 - accuracy: 0.7209 - val_loss: 0.6262 - val_accuracy: 0.7273\n",
            "Epoch 59/75\n",
            "5/5 [==============================] - 0s 6ms/step - loss: 0.6179 - accuracy: 0.7209 - val_loss: 0.6263 - val_accuracy: 0.7273\n",
            "Epoch 60/75\n",
            "5/5 [==============================] - 0s 6ms/step - loss: 0.6183 - accuracy: 0.7209 - val_loss: 0.6265 - val_accuracy: 0.7273\n",
            "Epoch 61/75\n",
            "5/5 [==============================] - 0s 6ms/step - loss: 0.6186 - accuracy: 0.7209 - val_loss: 0.6266 - val_accuracy: 0.7273\n",
            "Epoch 62/75\n",
            "5/5 [==============================] - 0s 7ms/step - loss: 0.6190 - accuracy: 0.7209 - val_loss: 0.6267 - val_accuracy: 0.7273\n",
            "Epoch 63/75\n",
            "5/5 [==============================] - 0s 6ms/step - loss: 0.6193 - accuracy: 0.7209 - val_loss: 0.6268 - val_accuracy: 0.7273\n",
            "Epoch 64/75\n",
            "5/5 [==============================] - 0s 6ms/step - loss: 0.6196 - accuracy: 0.7209 - val_loss: 0.6270 - val_accuracy: 0.7273\n",
            "Epoch 65/75\n",
            "5/5 [==============================] - 0s 6ms/step - loss: 0.6199 - accuracy: 0.7209 - val_loss: 0.6271 - val_accuracy: 0.7273\n",
            "Epoch 66/75\n",
            "5/5 [==============================] - 0s 6ms/step - loss: 0.6202 - accuracy: 0.7209 - val_loss: 0.6272 - val_accuracy: 0.7273\n",
            "Epoch 67/75\n",
            "5/5 [==============================] - 0s 6ms/step - loss: 0.6205 - accuracy: 0.7209 - val_loss: 0.6273 - val_accuracy: 0.7273\n",
            "Epoch 68/75\n",
            "5/5 [==============================] - 0s 6ms/step - loss: 0.6207 - accuracy: 0.7209 - val_loss: 0.6274 - val_accuracy: 0.7273\n",
            "Epoch 69/75\n",
            "5/5 [==============================] - 0s 6ms/step - loss: 0.6210 - accuracy: 0.7209 - val_loss: 0.6275 - val_accuracy: 0.7273\n",
            "Epoch 70/75\n",
            "5/5 [==============================] - 0s 6ms/step - loss: 0.6212 - accuracy: 0.7209 - val_loss: 0.6276 - val_accuracy: 0.7273\n",
            "Epoch 71/75\n",
            "5/5 [==============================] - 0s 7ms/step - loss: 0.6214 - accuracy: 0.7209 - val_loss: 0.6276 - val_accuracy: 0.7273\n",
            "Epoch 72/75\n",
            "5/5 [==============================] - 0s 7ms/step - loss: 0.6216 - accuracy: 0.7209 - val_loss: 0.6277 - val_accuracy: 0.7273\n",
            "Epoch 73/75\n",
            "5/5 [==============================] - 0s 6ms/step - loss: 0.6218 - accuracy: 0.7209 - val_loss: 0.6278 - val_accuracy: 0.7273\n",
            "Epoch 74/75\n",
            "5/5 [==============================] - 0s 6ms/step - loss: 0.6220 - accuracy: 0.7209 - val_loss: 0.6279 - val_accuracy: 0.7273\n",
            "Epoch 75/75\n",
            "5/5 [==============================] - 0s 6ms/step - loss: 0.6222 - accuracy: 0.7209 - val_loss: 0.6279 - val_accuracy: 0.7273\n"
          ],
          "name": "stdout"
        }
      ]
    },
    {
      "cell_type": "code",
      "metadata": {
        "colab": {
          "base_uri": "https://localhost:8080/"
        },
        "id": "F06nnY-wKool",
        "outputId": "ffa35923-6ad9-4e57-f437-54299491a0bb"
      },
      "source": [
        "history2 = model.fit(train_ds1,\n",
        "                validation_data=test_ds1,\n",
        "                epochs=75)"
      ],
      "execution_count": 21,
      "outputs": [
        {
          "output_type": "stream",
          "text": [
            "Epoch 1/75\n",
            "4/4 [==============================] - 0s 9ms/step - loss: 0.6124 - accuracy: 0.6933 - val_loss: 0.5556 - val_accuracy: 0.7273\n",
            "Epoch 2/75\n",
            "4/4 [==============================] - 0s 8ms/step - loss: 0.6191 - accuracy: 0.6533 - val_loss: 0.5824 - val_accuracy: 0.7576\n",
            "Epoch 3/75\n",
            "4/4 [==============================] - 0s 8ms/step - loss: 0.6187 - accuracy: 0.6933 - val_loss: 0.5607 - val_accuracy: 0.7576\n",
            "Epoch 4/75\n",
            "4/4 [==============================] - 0s 8ms/step - loss: 0.6033 - accuracy: 0.7333 - val_loss: 0.5557 - val_accuracy: 0.7273\n",
            "Epoch 5/75\n",
            "4/4 [==============================] - 0s 9ms/step - loss: 0.5953 - accuracy: 0.7200 - val_loss: 0.5545 - val_accuracy: 0.7576\n",
            "Epoch 6/75\n",
            "4/4 [==============================] - 0s 7ms/step - loss: 0.5962 - accuracy: 0.7067 - val_loss: 0.5661 - val_accuracy: 0.7273\n",
            "Epoch 7/75\n",
            "4/4 [==============================] - 0s 7ms/step - loss: 0.5970 - accuracy: 0.7333 - val_loss: 0.5624 - val_accuracy: 0.7273\n",
            "Epoch 8/75\n",
            "4/4 [==============================] - 0s 7ms/step - loss: 0.5928 - accuracy: 0.7333 - val_loss: 0.5586 - val_accuracy: 0.7273\n",
            "Epoch 9/75\n",
            "4/4 [==============================] - 0s 7ms/step - loss: 0.5875 - accuracy: 0.7333 - val_loss: 0.5607 - val_accuracy: 0.7273\n",
            "Epoch 10/75\n",
            "4/4 [==============================] - 0s 8ms/step - loss: 0.5865 - accuracy: 0.7333 - val_loss: 0.5663 - val_accuracy: 0.7273\n",
            "Epoch 11/75\n",
            "4/4 [==============================] - 0s 8ms/step - loss: 0.5881 - accuracy: 0.7333 - val_loss: 0.5689 - val_accuracy: 0.7273\n",
            "Epoch 12/75\n",
            "4/4 [==============================] - 0s 9ms/step - loss: 0.5890 - accuracy: 0.7333 - val_loss: 0.5678 - val_accuracy: 0.7273\n",
            "Epoch 13/75\n",
            "4/4 [==============================] - 0s 7ms/step - loss: 0.5874 - accuracy: 0.7333 - val_loss: 0.5682 - val_accuracy: 0.7273\n",
            "Epoch 14/75\n",
            "4/4 [==============================] - 0s 8ms/step - loss: 0.5859 - accuracy: 0.7333 - val_loss: 0.5706 - val_accuracy: 0.7273\n",
            "Epoch 15/75\n",
            "4/4 [==============================] - 0s 8ms/step - loss: 0.5862 - accuracy: 0.7333 - val_loss: 0.5734 - val_accuracy: 0.7273\n",
            "Epoch 16/75\n",
            "4/4 [==============================] - 0s 8ms/step - loss: 0.5876 - accuracy: 0.7333 - val_loss: 0.5743 - val_accuracy: 0.7273\n",
            "Epoch 17/75\n",
            "4/4 [==============================] - 0s 8ms/step - loss: 0.5883 - accuracy: 0.7333 - val_loss: 0.5743 - val_accuracy: 0.7273\n",
            "Epoch 18/75\n",
            "4/4 [==============================] - 0s 7ms/step - loss: 0.5878 - accuracy: 0.7333 - val_loss: 0.5748 - val_accuracy: 0.7273\n",
            "Epoch 19/75\n",
            "4/4 [==============================] - 0s 11ms/step - loss: 0.5875 - accuracy: 0.7333 - val_loss: 0.5760 - val_accuracy: 0.7273\n",
            "Epoch 20/75\n",
            "4/4 [==============================] - 0s 7ms/step - loss: 0.5878 - accuracy: 0.7333 - val_loss: 0.5770 - val_accuracy: 0.7273\n",
            "Epoch 21/75\n",
            "4/4 [==============================] - 0s 7ms/step - loss: 0.5886 - accuracy: 0.7333 - val_loss: 0.5774 - val_accuracy: 0.7273\n",
            "Epoch 22/75\n",
            "4/4 [==============================] - 0s 7ms/step - loss: 0.5890 - accuracy: 0.7333 - val_loss: 0.5775 - val_accuracy: 0.7273\n",
            "Epoch 23/75\n",
            "4/4 [==============================] - 0s 7ms/step - loss: 0.5889 - accuracy: 0.7333 - val_loss: 0.5776 - val_accuracy: 0.7273\n",
            "Epoch 24/75\n",
            "4/4 [==============================] - 0s 8ms/step - loss: 0.5889 - accuracy: 0.7333 - val_loss: 0.5780 - val_accuracy: 0.7273\n",
            "Epoch 25/75\n",
            "4/4 [==============================] - 0s 10ms/step - loss: 0.5891 - accuracy: 0.7333 - val_loss: 0.5784 - val_accuracy: 0.7273\n",
            "Epoch 26/75\n",
            "4/4 [==============================] - 0s 7ms/step - loss: 0.5894 - accuracy: 0.7333 - val_loss: 0.5786 - val_accuracy: 0.7273\n",
            "Epoch 27/75\n",
            "4/4 [==============================] - 0s 7ms/step - loss: 0.5897 - accuracy: 0.7333 - val_loss: 0.5786 - val_accuracy: 0.7273\n",
            "Epoch 28/75\n",
            "4/4 [==============================] - 0s 9ms/step - loss: 0.5898 - accuracy: 0.7333 - val_loss: 0.5786 - val_accuracy: 0.7273\n",
            "Epoch 29/75\n",
            "4/4 [==============================] - 0s 7ms/step - loss: 0.5898 - accuracy: 0.7333 - val_loss: 0.5787 - val_accuracy: 0.7273\n",
            "Epoch 30/75\n",
            "4/4 [==============================] - 0s 7ms/step - loss: 0.5899 - accuracy: 0.7333 - val_loss: 0.5789 - val_accuracy: 0.7273\n",
            "Epoch 31/75\n",
            "4/4 [==============================] - 0s 7ms/step - loss: 0.5901 - accuracy: 0.7333 - val_loss: 0.5789 - val_accuracy: 0.7273\n",
            "Epoch 32/75\n",
            "4/4 [==============================] - 0s 7ms/step - loss: 0.5903 - accuracy: 0.7333 - val_loss: 0.5790 - val_accuracy: 0.7273\n",
            "Epoch 33/75\n",
            "4/4 [==============================] - 0s 7ms/step - loss: 0.5904 - accuracy: 0.7333 - val_loss: 0.5789 - val_accuracy: 0.7273\n",
            "Epoch 34/75\n",
            "4/4 [==============================] - 0s 8ms/step - loss: 0.5905 - accuracy: 0.7333 - val_loss: 0.5790 - val_accuracy: 0.7273\n",
            "Epoch 35/75\n",
            "4/4 [==============================] - 0s 9ms/step - loss: 0.5906 - accuracy: 0.7333 - val_loss: 0.5790 - val_accuracy: 0.7273\n",
            "Epoch 36/75\n",
            "4/4 [==============================] - 0s 7ms/step - loss: 0.5907 - accuracy: 0.7333 - val_loss: 0.5790 - val_accuracy: 0.7273\n",
            "Epoch 37/75\n",
            "4/4 [==============================] - 0s 7ms/step - loss: 0.5909 - accuracy: 0.7333 - val_loss: 0.5791 - val_accuracy: 0.7273\n",
            "Epoch 38/75\n",
            "4/4 [==============================] - 0s 7ms/step - loss: 0.5910 - accuracy: 0.7333 - val_loss: 0.5791 - val_accuracy: 0.7273\n",
            "Epoch 39/75\n",
            "4/4 [==============================] - 0s 8ms/step - loss: 0.5911 - accuracy: 0.7333 - val_loss: 0.5791 - val_accuracy: 0.7273\n",
            "Epoch 40/75\n",
            "4/4 [==============================] - 0s 8ms/step - loss: 0.5912 - accuracy: 0.7333 - val_loss: 0.5791 - val_accuracy: 0.7273\n",
            "Epoch 41/75\n",
            "4/4 [==============================] - 0s 8ms/step - loss: 0.5914 - accuracy: 0.7333 - val_loss: 0.5791 - val_accuracy: 0.7273\n",
            "Epoch 42/75\n",
            "4/4 [==============================] - 0s 10ms/step - loss: 0.5915 - accuracy: 0.7333 - val_loss: 0.5792 - val_accuracy: 0.7273\n",
            "Epoch 43/75\n",
            "4/4 [==============================] - 0s 8ms/step - loss: 0.5916 - accuracy: 0.7333 - val_loss: 0.5792 - val_accuracy: 0.7273\n",
            "Epoch 44/75\n",
            "4/4 [==============================] - 0s 8ms/step - loss: 0.5918 - accuracy: 0.7333 - val_loss: 0.5792 - val_accuracy: 0.7273\n",
            "Epoch 45/75\n",
            "4/4 [==============================] - 0s 10ms/step - loss: 0.5919 - accuracy: 0.7333 - val_loss: 0.5792 - val_accuracy: 0.7273\n",
            "Epoch 46/75\n",
            "4/4 [==============================] - 0s 8ms/step - loss: 0.5920 - accuracy: 0.7333 - val_loss: 0.5792 - val_accuracy: 0.7273\n",
            "Epoch 47/75\n",
            "4/4 [==============================] - 0s 8ms/step - loss: 0.5922 - accuracy: 0.7333 - val_loss: 0.5793 - val_accuracy: 0.7273\n",
            "Epoch 48/75\n",
            "4/4 [==============================] - 0s 8ms/step - loss: 0.5923 - accuracy: 0.7333 - val_loss: 0.5793 - val_accuracy: 0.7273\n",
            "Epoch 49/75\n",
            "4/4 [==============================] - 0s 9ms/step - loss: 0.5924 - accuracy: 0.7333 - val_loss: 0.5793 - val_accuracy: 0.7273\n",
            "Epoch 50/75\n",
            "4/4 [==============================] - 0s 7ms/step - loss: 0.5926 - accuracy: 0.7333 - val_loss: 0.5794 - val_accuracy: 0.7273\n",
            "Epoch 51/75\n",
            "4/4 [==============================] - 0s 7ms/step - loss: 0.5927 - accuracy: 0.7333 - val_loss: 0.5794 - val_accuracy: 0.7273\n",
            "Epoch 52/75\n",
            "4/4 [==============================] - 0s 7ms/step - loss: 0.5928 - accuracy: 0.7333 - val_loss: 0.5794 - val_accuracy: 0.7273\n",
            "Epoch 53/75\n",
            "4/4 [==============================] - 0s 8ms/step - loss: 0.5930 - accuracy: 0.7333 - val_loss: 0.5795 - val_accuracy: 0.7273\n",
            "Epoch 54/75\n",
            "4/4 [==============================] - 0s 8ms/step - loss: 0.5931 - accuracy: 0.7333 - val_loss: 0.5795 - val_accuracy: 0.7273\n",
            "Epoch 55/75\n",
            "4/4 [==============================] - 0s 8ms/step - loss: 0.5932 - accuracy: 0.7333 - val_loss: 0.5795 - val_accuracy: 0.7273\n",
            "Epoch 56/75\n",
            "4/4 [==============================] - 0s 8ms/step - loss: 0.5934 - accuracy: 0.7333 - val_loss: 0.5796 - val_accuracy: 0.7273\n",
            "Epoch 57/75\n",
            "4/4 [==============================] - 0s 7ms/step - loss: 0.5935 - accuracy: 0.7333 - val_loss: 0.5796 - val_accuracy: 0.7273\n",
            "Epoch 58/75\n",
            "4/4 [==============================] - 0s 7ms/step - loss: 0.5936 - accuracy: 0.7333 - val_loss: 0.5796 - val_accuracy: 0.7273\n",
            "Epoch 59/75\n",
            "4/4 [==============================] - 0s 9ms/step - loss: 0.5938 - accuracy: 0.7333 - val_loss: 0.5797 - val_accuracy: 0.7273\n",
            "Epoch 60/75\n",
            "4/4 [==============================] - 0s 7ms/step - loss: 0.5939 - accuracy: 0.7333 - val_loss: 0.5797 - val_accuracy: 0.7273\n",
            "Epoch 61/75\n",
            "4/4 [==============================] - 0s 7ms/step - loss: 0.5941 - accuracy: 0.7333 - val_loss: 0.5797 - val_accuracy: 0.7273\n",
            "Epoch 62/75\n",
            "4/4 [==============================] - 0s 7ms/step - loss: 0.5942 - accuracy: 0.7333 - val_loss: 0.5798 - val_accuracy: 0.7273\n",
            "Epoch 63/75\n",
            "4/4 [==============================] - 0s 8ms/step - loss: 0.5943 - accuracy: 0.7333 - val_loss: 0.5798 - val_accuracy: 0.7273\n",
            "Epoch 64/75\n",
            "4/4 [==============================] - 0s 10ms/step - loss: 0.5945 - accuracy: 0.7333 - val_loss: 0.5798 - val_accuracy: 0.7273\n",
            "Epoch 65/75\n",
            "4/4 [==============================] - 0s 8ms/step - loss: 0.5946 - accuracy: 0.7333 - val_loss: 0.5799 - val_accuracy: 0.7273\n",
            "Epoch 66/75\n",
            "4/4 [==============================] - 0s 8ms/step - loss: 0.5947 - accuracy: 0.7333 - val_loss: 0.5799 - val_accuracy: 0.7273\n",
            "Epoch 67/75\n",
            "4/4 [==============================] - 0s 7ms/step - loss: 0.5949 - accuracy: 0.7333 - val_loss: 0.5800 - val_accuracy: 0.7273\n",
            "Epoch 68/75\n",
            "4/4 [==============================] - 0s 8ms/step - loss: 0.5950 - accuracy: 0.7333 - val_loss: 0.5800 - val_accuracy: 0.7273\n",
            "Epoch 69/75\n",
            "4/4 [==============================] - 0s 8ms/step - loss: 0.5951 - accuracy: 0.7333 - val_loss: 0.5800 - val_accuracy: 0.7273\n",
            "Epoch 70/75\n",
            "4/4 [==============================] - 0s 7ms/step - loss: 0.5953 - accuracy: 0.7333 - val_loss: 0.5801 - val_accuracy: 0.7273\n",
            "Epoch 71/75\n",
            "4/4 [==============================] - 0s 8ms/step - loss: 0.5954 - accuracy: 0.7333 - val_loss: 0.5801 - val_accuracy: 0.7273\n",
            "Epoch 72/75\n",
            "4/4 [==============================] - 0s 7ms/step - loss: 0.5955 - accuracy: 0.7333 - val_loss: 0.5802 - val_accuracy: 0.7273\n",
            "Epoch 73/75\n",
            "4/4 [==============================] - 0s 9ms/step - loss: 0.5957 - accuracy: 0.7333 - val_loss: 0.5802 - val_accuracy: 0.7273\n",
            "Epoch 74/75\n",
            "4/4 [==============================] - 0s 8ms/step - loss: 0.5958 - accuracy: 0.7333 - val_loss: 0.5802 - val_accuracy: 0.7273\n",
            "Epoch 75/75\n",
            "4/4 [==============================] - 0s 8ms/step - loss: 0.5959 - accuracy: 0.7333 - val_loss: 0.5803 - val_accuracy: 0.7273\n"
          ],
          "name": "stdout"
        }
      ]
    },
    {
      "cell_type": "code",
      "metadata": {
        "colab": {
          "base_uri": "https://localhost:8080/",
          "height": 590
        },
        "id": "qQyHw_maKmQK",
        "outputId": "cb078436-4e2a-4cbb-83e3-00299371f57d"
      },
      "source": [
        "import matplotlib.pyplot as plt\n",
        "\n",
        "print(history.history.keys())\n",
        "#history 80-20\n",
        "plt.plot(history.history['accuracy'])\n",
        "plt.plot(history.history['val_accuracy'])\n",
        "plt.title('akurasi 80-20')\n",
        "plt.ylabel('accuracy')\n",
        "plt.xlabel('epoch')\n",
        "plt.legend(['train', 'test'], loc='upper left')\n",
        "plt.show()\n",
        "#loss\n",
        "plt.plot(history.history['loss'])\n",
        "plt.plot(history.history['val_loss'])\n",
        "plt.title('loss 70-30')\n",
        "plt.ylabel('loss')\n",
        "plt.xlabel('epoch')\n",
        "plt.legend(['train', 'test'], loc='upper left')\n",
        "plt.show()"
      ],
      "execution_count": 18,
      "outputs": [
        {
          "output_type": "stream",
          "text": [
            "dict_keys(['loss', 'accuracy', 'val_loss', 'val_accuracy'])\n"
          ],
          "name": "stdout"
        },
        {
          "output_type": "display_data",
          "data": {
            "image/png": "[encoded data removed]",
            "text/plain": [
              "<Figure size 432x288 with 1 Axes>"
            ]
          },
          "metadata": {
            "tags": [],
            "needs_background": "light"
          }
        },
        {
          "output_type": "display_data",
          "data": {
            "image/png": "[encoded data removed]",
            "text/plain": [
              "<Figure size 432x288 with 1 Axes>"
            ]
          },
          "metadata": {
            "tags": [],
            "needs_background": "light"
          }
        }
      ]
    },
    {
      "cell_type": "code",
      "metadata": {
        "colab": {
          "base_uri": "https://localhost:8080/",
          "height": 573
        },
        "id": "dR5YFFi2LDpL",
        "outputId": "4db62fb3-c010-411e-a842-49753e94fa55"
      },
      "source": [
        "plt.plot(history2.history['accuracy'])\n",
        "plt.plot(history2.history['val_accuracy'])\n",
        "plt.title('akurasi 70-30')\n",
        "plt.ylabel('accuracy')\n",
        "plt.xlabel('epoch')\n",
        "plt.legend(['train1', 'test1'], loc='upper left')\n",
        "plt.show()\n",
        "#loss\n",
        "plt.plot(history2.history['loss'])\n",
        "plt.plot(history2.history['val_loss'])\n",
        "plt.title('loss 70-30')\n",
        "plt.ylabel('loss')\n",
        "plt.xlabel('epoch')\n",
        "plt.legend(['train1', 'test1'], loc='upper left')\n",
        "plt.show()"
      ],
      "execution_count": 22,
      "outputs": [
        {
          "output_type": "display_data",
          "data": {
            "image/png": "[encoded data removed]",
            "text/plain": [
              "<Figure size 432x288 with 1 Axes>"
            ]
          },
          "metadata": {
            "tags": [],
            "needs_background": "light"
          }
        },
        {
          "output_type": "display_data",
          "data": {
            "image/png": "[encoded data removed]",
            "text/plain": [
              "<Figure size 432x288 with 1 Axes>"
            ]
          },
          "metadata": {
            "tags": [],
            "needs_background": "light"
          }
        }
      ]
    }
  ]
}